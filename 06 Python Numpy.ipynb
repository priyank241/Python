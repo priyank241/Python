{
 "cells": [
  {
   "cell_type": "markdown",
   "id": "da4d1ba3-b770-4ac8-ac47-5067c18fe7a3",
   "metadata": {},
   "source": [
    "# NumPy\n",
    "#### Numerical Python"
   ]
  },
  {
   "cell_type": "markdown",
   "id": "edba8219-a85f-4d10-997f-3680069939a4",
   "metadata": {},
   "source": [
    "NumPy stands for Numerical Python and is used to perform a wide variety of mathematical operations on arrays. It adds powerful data structures to Python that guarantee efficient calculations with arrays and matrices and it supplies an enormous library of high-level mathematical functions that operate on these arrays and matrices.\n"
   ]
  },
  {
   "cell_type": "code",
   "execution_count": 3,
   "id": "7f90d657-e19b-4396-aed3-e7c73d31910a",
   "metadata": {},
   "outputs": [],
   "source": [
    "import numpy as np"
   ]
  },
  {
   "cell_type": "code",
   "execution_count": 28,
   "id": "fc965710-acbc-47b3-b308-60289d1f0c74",
   "metadata": {},
   "outputs": [
    {
     "name": "stdout",
     "output_type": "stream",
     "text": [
      "[100 200 300 400]\n",
      "<class 'numpy.ndarray'>\n",
      "dimension of array is\t 1\n",
      "shape of array is\t (4,)\n"
     ]
    }
   ],
   "source": [
    "arr=np.array([100,200,300,400])  #can pass list and tuple not set as set is unordered\n",
    "print(arr) \n",
    "print(type(arr))\n",
    "print(\"dimension of array is\\t\",arr.ndim)\n",
    "print(\"shape of array is\\t\",arr.shape)\n",
    "\n",
    "# first[4]=500     #  arrays are fixed"
   ]
  },
  {
   "cell_type": "code",
   "execution_count": 30,
   "id": "bcfabffc-8f76-4f6d-8bd6-e9a24833e34f",
   "metadata": {},
   "outputs": [
    {
     "name": "stdout",
     "output_type": "stream",
     "text": [
      "['100' '3.4' 'hello' 'True']\n"
     ]
    }
   ],
   "source": [
    "# The elements of a NumPy array can also be booleans, strings, or other objects.\n",
    "\n",
    "first=np.array([100,3.4,\"hello\",True])\n",
    "print(first)"
   ]
  },
  {
   "cell_type": "markdown",
   "id": "c88fdedc-270e-4bed-9428-2ed6471537ec",
   "metadata": {},
   "source": [
    "Indexing is same as list in python"
   ]
  },
  {
   "cell_type": "code",
   "execution_count": 37,
   "id": "4878149a-1580-400d-9f40-b844038926b0",
   "metadata": {},
   "outputs": [
    {
     "data": {
      "text/plain": [
       "array([0, 1, 2, 3, 4])"
      ]
     },
     "execution_count": 37,
     "metadata": {},
     "output_type": "execute_result"
    }
   ],
   "source": [
    "arr = np.arange(5)\n",
    "arr"
   ]
  },
  {
   "cell_type": "code",
   "execution_count": 43,
   "id": "6b24401a-0a56-4374-aa12-f1d78aa95c8b",
   "metadata": {},
   "outputs": [
    {
     "name": "stdout",
     "output_type": "stream",
     "text": [
      "[[0. 0. 0. 0.]]\n",
      "\n",
      "\n",
      "[[0. 0. 0. 0.]\n",
      " [0. 0. 0. 0.]\n",
      " [0. 0. 0. 0.]]\n"
     ]
    }
   ],
   "source": [
    "# initialize one-d array with zero\n",
    "\n",
    "import numpy as np\n",
    "first=np.zeros((1,4))                             # one row , 4 columns\n",
    "\n",
    "print(first)\n",
    "print(\"\\n\")\n",
    "\n",
    "# initialize two-d array with zeros\n",
    "\n",
    "second=np.zeros((3,4))                            # 3 rows and 4 columns\n",
    "\n",
    "print(second)"
   ]
  },
  {
   "cell_type": "code",
   "execution_count": 45,
   "id": "a3aefe36-231d-4fda-9c83-a9806e10ef7b",
   "metadata": {},
   "outputs": [
    {
     "name": "stdout",
     "output_type": "stream",
     "text": [
      "[0. 0. 0. 0.]\n",
      "\n",
      "\n"
     ]
    }
   ],
   "source": [
    "first=np.zeros((4,))                             # one row , 4 columns\n",
    "\n",
    "print(first)\n",
    "print(\"\\n\")"
   ]
  },
  {
   "cell_type": "code",
   "execution_count": 47,
   "id": "f41c09ec-8b1e-4215-9945-b0af9b6eb153",
   "metadata": {},
   "outputs": [
    {
     "name": "stdout",
     "output_type": "stream",
     "text": [
      "[[10 20 30]\n",
      " [40 50 60]]\n",
      "\n",
      "\n",
      "10 \t20 \t30 \t\n",
      "\n",
      "40 \t50 \t60 \t\n",
      "\n",
      "Type of the array is <class 'numpy.ndarray'>\n",
      "\n",
      "\n",
      "dimension of array is\t 2\n",
      "\n",
      "\n",
      "shape of array is\t (2, 3)\n"
     ]
    }
   ],
   "source": [
    "import numpy as np\n",
    "\n",
    "first=np.array([[10,20,30],[40,50,60]])    #  here we've passed list of list\n",
    "print(first)\n",
    "print(\"\\n\")\n",
    "for i in range(0,first.__len__()):\n",
    "    for j in range(0,first[i].__len__()):\n",
    "        print(first[i][j],\"\\t\",end=\"\")\n",
    "    print(\"\\n\")\n",
    "\n",
    "print(\"Type of the array is\",type(first))\n",
    "print(\"\\n\")\n",
    "print(\"dimension of array is\\t\",first.ndim)\n",
    "print(\"\\n\")\n",
    "print(\"shape of array is\\t\",first.shape)\n"
   ]
  },
  {
   "cell_type": "code",
   "execution_count": 5,
   "id": "dbacdecf-92b1-4732-9642-e88029f764b2",
   "metadata": {},
   "outputs": [
    {
     "data": {
      "text/plain": [
       "array([[[1, 2, 3],\n",
       "        [4, 5, 6]]])"
      ]
     },
     "execution_count": 5,
     "metadata": {},
     "output_type": "execute_result"
    }
   ],
   "source": [
    "arr = np.array([1,2,3,4,5,6])\n",
    "arr = arr.reshape(1,2,3)\n",
    "arr"
   ]
  },
  {
   "cell_type": "code",
   "execution_count": 13,
   "id": "8dfc0ac2-0f5f-48a4-aeb8-e44996b2d19d",
   "metadata": {},
   "outputs": [
    {
     "name": "stdout",
     "output_type": "stream",
     "text": [
      "[0. 0. 0. 0.]\n",
      "\n",
      "\n",
      "[[1. 1. 1. 1.]\n",
      " [1. 1. 1. 1.]\n",
      " [1. 1. 1. 1.]]\n"
     ]
    }
   ],
   "source": [
    "# initialize one-d and 2d array  with zeros  \n",
    "\n",
    "import numpy as np\n",
    "first=np.zeros((4,))                      # one row , 4 columns\n",
    "\n",
    "print(first)\n",
    "print(\"\\n\")\n",
    "\n",
    "# initialize two-d array with ones\n",
    "\n",
    "second=np.ones((3,4))                            # 3 rows and 4 columns\n",
    "\n",
    "print(second)"
   ]
  },
  {
   "cell_type": "code",
   "execution_count": 15,
   "id": "d900b5ca-d3d1-4010-b44e-e5c224b5d68c",
   "metadata": {},
   "outputs": [
    {
     "name": "stdout",
     "output_type": "stream",
     "text": [
      "[[[2 2 2 2]\n",
      "  [2 2 2 2]\n",
      "  [2 2 2 2]]\n",
      "\n",
      " [[2 2 2 2]\n",
      "  [2 2 2 2]\n",
      "  [2 2 2 2]]]\n",
      "\n",
      "\n",
      "[[15 15]\n",
      " [15 15]\n",
      " [15 15]]\n"
     ]
    }
   ],
   "source": [
    "# initialize arrays with a specific number\n",
    "\n",
    "import numpy as np\n",
    "\n",
    "first=np.full((2,3,4),2)         # all should be initialized with 20\n",
    "print(first)\n",
    "\n",
    "print(\"\\n\")\n",
    "\n",
    "second=np.full((3,2),15)        #  3 rows, 2 columns, all should be initialized with 15\n",
    "print(second)"
   ]
  },
  {
   "cell_type": "code",
   "execution_count": 65,
   "id": "02edc7e8-b60e-4781-b50a-9b87a64afb66",
   "metadata": {},
   "outputs": [
    {
     "name": "stdout",
     "output_type": "stream",
     "text": [
      "[20 21 22 23 24]\n",
      "[10 12 14 16 18]\n"
     ]
    }
   ],
   "source": [
    "# arange to give range of numbers\n",
    "\n",
    "first=np.arange(20,25)    # here 25 is exclusive\n",
    "print(first)\n",
    "\n",
    "second=np.arange(10,20,2)       # start with 10, increment by 2 and here 20 is exclusive\n",
    "print(second)"
   ]
  },
  {
   "cell_type": "markdown",
   "id": "67e12d7c-ccf9-45e8-ab82-7d0e1163c281",
   "metadata": {},
   "source": [
    "If you only use the arange function, it will output a one-dimensional array. To make it a two-dimensional array, chain its output with the reshape function."
   ]
  },
  {
   "cell_type": "code",
   "execution_count": 70,
   "id": "f9fe5725-7a83-449e-9f65-985336a1b222",
   "metadata": {},
   "outputs": [
    {
     "data": {
      "text/plain": [
       "array([[10, 20, 30],\n",
       "       [40, 50, 60],\n",
       "       [70, 80, 90]])"
      ]
     },
     "execution_count": 70,
     "metadata": {},
     "output_type": "execute_result"
    }
   ],
   "source": [
    "first=np.arange(10,91,10).reshape(3,3)  # 3 rows,3 cols \n",
    "first"
   ]
  },
  {
   "cell_type": "code",
   "execution_count": 74,
   "id": "783a0256-c5ce-495b-9381-96e34afe6e04",
   "metadata": {},
   "outputs": [
    {
     "name": "stdout",
     "output_type": "stream",
     "text": [
      "['hello' 'hello' 'hello' 'hello']\n",
      "\n",
      "\n",
      "['A' 'B' 'C' 'D' 'E' 'F']\n",
      "\n",
      "\n",
      "[['A' 'A']\n",
      " ['A' 'A']\n",
      " ['A' 'A']]\n"
     ]
    }
   ],
   "source": [
    "import numpy as np\n",
    "first=np.full((4),\"hello\")\n",
    "print(first)\n",
    "print(\"\\n\")\n",
    "second=np.array(['A','B','C','D','E','F'])\n",
    "print(second)\n",
    "print(\"\\n\")\n",
    "third=np.full((3,2),'A')\n",
    "print(third)"
   ]
  },
  {
   "cell_type": "code",
   "execution_count": 84,
   "id": "f253d857-1cee-4c8c-a419-91eff1886bd2",
   "metadata": {},
   "outputs": [
    {
     "name": "stdout",
     "output_type": "stream",
     "text": [
      "[91 91 85 12  3 66 35 34 95 19] \n",
      "\n",
      "[[83 41 73 32]\n",
      " [63 84 49 81]\n",
      " [53 33 96 57]]\n"
     ]
    }
   ],
   "source": [
    "# initialize numpy array with random numbers\n",
    "\n",
    "first=np.random.randint(1,100,10)   # range for random numbers is 1 to 100 and 10 is how many random numbers to be generated \n",
    "#(inclusive,exclusive,howmany)\n",
    "\n",
    "print(first,'\\n')\n",
    "\n",
    "second=np.random.randint(1,100,12).reshape(3,4)\n",
    "print(second)"
   ]
  },
  {
   "cell_type": "markdown",
   "id": "50f15c27-eb3f-42a5-97a7-e320ccf2d72c",
   "metadata": {},
   "source": [
    "randint() function generates new set of random numbers everytime. If we want to fix the generation of random numbers,\n",
    "we should use \"seed()\" function by passing any number as an argument."
   ]
  },
  {
   "cell_type": "code",
   "execution_count": 31,
   "id": "3cd3425e-9f19-43de-95e7-bb25ffe07eb6",
   "metadata": {},
   "outputs": [
    {
     "name": "stdout",
     "output_type": "stream",
     "text": [
      "[55 76 74 91 56 21 50 23 10 57 98 39]\n"
     ]
    }
   ],
   "source": [
    "np.random.seed(69)    # this can be any number  , try commenting this\n",
    "\n",
    "first=np.random.randint(1,100,12)\n",
    "print(first)     # no matter how many times we execute the code, it will display same set of numbers"
   ]
  },
  {
   "cell_type": "code",
   "execution_count": 33,
   "id": "32e97d5d-d54c-486d-859b-17854a34bbc9",
   "metadata": {},
   "outputs": [
    {
     "name": "stdout",
     "output_type": "stream",
     "text": [
      "[100 200 300 400 500 600]\n",
      "(6,)\n",
      "let's check with double dimension array\n",
      "[[10 20 30]\n",
      " [40 50 60]]\n",
      "(2, 3)\n",
      "Let's convert one-d array's shapes\n",
      "[[100 200 300]\n",
      " [400 500 600]]\n",
      "Let's convert two-d array's shape\n",
      "[[10 20]\n",
      " [30 40]\n",
      " [50 60]]\n",
      "2\n",
      "(3, 2)\n"
     ]
    }
   ],
   "source": [
    "# checking the shape of numpy array\n",
    "\n",
    "import numpy as np\n",
    "first=np.array([100,200,300,400,500,600])\n",
    "print(first)\n",
    "print(first.shape)\n",
    "\n",
    "print(\"let's check with double dimension array\")\n",
    "second=np.array([[10,20,30],[40,50,60]])\n",
    "print(second)\n",
    "print(second.shape)\n",
    "\n",
    "print(\"Let's convert one-d array's shapes\")\n",
    "first.shape=(2,3)\n",
    "print(first)\n",
    "print(\"Let's convert two-d array's shape\")\n",
    "second.shape=(3,2)\n",
    "print(second)\n",
    "print(second.ndim)\n",
    "print(second.shape)"
   ]
  },
  {
   "cell_type": "markdown",
   "id": "76e46493-2f80-4112-8f09-7c360272afc1",
   "metadata": {},
   "source": [
    "#### shape= vs reshape\n",
    "shape reshapes same array\n",
    "reshape returns new array"
   ]
  },
  {
   "cell_type": "code",
   "execution_count": null,
   "id": "bdabd884-a017-4843-959b-5d2aba01ac5d",
   "metadata": {},
   "outputs": [],
   "source": []
  },
  {
   "cell_type": "code",
   "execution_count": 37,
   "id": "1dad405b-19fd-48cb-8638-4c798076819a",
   "metadata": {},
   "outputs": [
    {
     "name": "stdout",
     "output_type": "stream",
     "text": [
      "[[ 4  5  8]\n",
      " [12 15  1]]\n",
      "[[11 15  4]\n",
      " [ 8  9  7]]\n",
      "[ 4  8 15]\n"
     ]
    }
   ],
   "source": [
    "first=np.array([4,5,8,12,15])\n",
    "second=np.array([11,15,4,8,9])\n",
    "third=np.intersect1d(first,second)\n",
    "print(third)"
   ]
  },
  {
   "cell_type": "code",
   "execution_count": 135,
   "id": "9ac78768-72e3-49a5-9e61-5708b02eb62a",
   "metadata": {},
   "outputs": [
    {
     "name": "stdout",
     "output_type": "stream",
     "text": [
      "[15 32]\n",
      "\n",
      "\n",
      "[ 1  2  9 11]\n"
     ]
    }
   ],
   "source": [
    "import numpy as np\n",
    "first=np.array([4,25,8,32,15])\n",
    "second=np.array([11,25,1,2,4,8,9])\n",
    "third=np.setdiff1d(first,second)      #  unique elements inside \"first\"  array\n",
    "print(third)\n",
    "print(\"\\n\")\n",
    "fourth=np.setdiff1d(second,first)     # unique elements inside \"second\" array\n",
    "print(fourth)\n"
   ]
  },
  {
   "cell_type": "code",
   "execution_count": 138,
   "id": "04e2e66b-4234-4e07-9b32-3973bf738ce0",
   "metadata": {},
   "outputs": [
    {
     "name": "stdout",
     "output_type": "stream",
     "text": [
      "[10 20 30 40]\n",
      "None\n",
      "[10 20 30 40]\n"
     ]
    }
   ],
   "source": [
    "# save and load numpy array\n",
    "\n",
    "\n",
    "first=np.array([10,20,30,40])\n",
    "print(first)                    #  array will be printed\n",
    "np.save(\"myarray\",first)\n",
    "first=None\n",
    "print(first)                    # None, no need to worry, we can load the saved array\n",
    "second=np.load(\"myarray.npy\")   # extension \"npy\" mandatory\n",
    "print(second)"
   ]
  },
  {
   "cell_type": "code",
   "execution_count": 142,
   "id": "740ead60-7919-48db-bf13-c1f0fb758b69",
   "metadata": {},
   "outputs": [
    {
     "data": {
      "text/plain": [
       "array([[[ 1,  2,  3,  4],\n",
       "        [ 5,  6,  7,  8],\n",
       "        [ 9, 10, 11, 12]],\n",
       "\n",
       "       [[13, 14, 15, 16],\n",
       "        [17, 18, 19, 20],\n",
       "        [21, 22, 23, 24]]])"
      ]
     },
     "execution_count": 142,
     "metadata": {},
     "output_type": "execute_result"
    }
   ],
   "source": [
    "arr = np.arange(1,25).reshape(2,3,4)\n",
    "arr"
   ]
  },
  {
   "attachments": {
    "13d0cb57-a425-4785-8e06-2cd678872ff5.png": {
     "image/png": "[encoded data removed]"
    }
   },
   "cell_type": "markdown",
   "id": "9b4a4d5c-f54b-42b9-8611-d8e55e297467",
   "metadata": {},
   "source": [
    "![image.png](attachment:13d0cb57-a425-4785-8e06-2cd678872ff5.png)"
   ]
  },
  {
   "cell_type": "code",
   "execution_count": 149,
   "id": "3169c85d-fc0b-49d1-8ab3-2c25586f061f",
   "metadata": {},
   "outputs": [
    {
     "name": "stdout",
     "output_type": "stream",
     "text": [
      "[[10 20 30]\n",
      " [40 50 60]\n",
      " [70 80 90]]\n",
      "entire sum\n",
      "450\n",
      "axis 0 sum\n",
      "[120 150 180]\n",
      "axis 1 sum\n",
      "[ 60 150 240]\n"
     ]
    }
   ],
   "source": [
    "myar=np.array([[10,20,30],[40,50,60],[70,80,90]])\n",
    "print(myar)\n",
    "print(\"entire sum\")\n",
    "print(np.sum(myar))\n",
    "\n",
    "print(\"axis 0 sum\")\n",
    "print(np.sum(myar,axis=0))  # chopping something from top to bottom\n",
    "\n",
    "print(\"axis 1 sum\")\n",
    "print(np.sum(myar,axis=1))  # chopping something from left to right"
   ]
  },
  {
   "cell_type": "code",
   "execution_count": 169,
   "id": "50577986-c67f-456f-8c65-2880171a8129",
   "metadata": {},
   "outputs": [
    {
     "name": "stdout",
     "output_type": "stream",
     "text": [
      "[[[10 11 12]\n",
      "  [13 14 15]\n",
      "  [16 17 18]]\n",
      "\n",
      " [[19 20 21]\n",
      "  [22 23 24]\n",
      "  [25 26 27]]]\n",
      "\n",
      " 333\n",
      "\n",
      " [[29 31 33]\n",
      " [35 37 39]\n",
      " [41 43 45]]\n",
      "\n",
      "with axis 1\n",
      "[[39 42 45]\n",
      " [66 69 72]]\n",
      "\n",
      "with axis 2\n",
      "[[33 42 51]\n",
      " [60 69 78]]\n"
     ]
    }
   ],
   "source": [
    "myar=np.array([10,11,12,13,14,15,16,17,18,19,20,21,22,23,24,25,26,27])\n",
    "\n",
    "myar.shape=(2,3,3)\n",
    "print(myar)\n",
    "\n",
    "print('\\n',np.sum(myar))\n",
    "print('\\n',np.sum(myar,axis=0)) # put 2nd two d array after first 2d array and then sum\n",
    "print('\\nwith axis 1')\n",
    "print(np.sum(myar,axis=1)) # it's like axis=0 in 2d array , chopping something from top to bottom within each 2d array\n",
    "\n",
    "print('\\nwith axis 2')\n",
    "print(np.sum(myar,axis=2)) # it's like axis=1 in 2d array, chopping something from left to right within each 2d array"
   ]
  },
  {
   "cell_type": "markdown",
   "id": "6e0ee4de-0ac8-44e2-b042-2974896ff31b",
   "metadata": {},
   "source": [
    "### Stack"
   ]
  },
  {
   "cell_type": "code",
   "execution_count": 186,
   "id": "89722e14-74b5-41b4-bb3a-2258b63ae5ba",
   "metadata": {},
   "outputs": [
    {
     "name": "stdout",
     "output_type": "stream",
     "text": [
      "Let's print horizontal stack\n",
      "[10 20 30 40 50 60]\n"
     ]
    }
   ],
   "source": [
    "arr1= np.array([10,20,30])\n",
    "arr2=np.array([40,50,60])\n",
    "\n",
    "hstack1=np.hstack((arr1,arr2))\n",
    "print(\"Let's print horizontal stack\")\n",
    "print(hstack1)"
   ]
  },
  {
   "cell_type": "code",
   "execution_count": 188,
   "id": "673c3d79-b167-4838-a3d9-39023ffeeeae",
   "metadata": {},
   "outputs": [
    {
     "name": "stdout",
     "output_type": "stream",
     "text": [
      "Let's print vertical stack\n",
      "[[10 20 30]\n",
      " [40 50 60]]\n"
     ]
    }
   ],
   "source": [
    "vstack1=np.vstack((arr1,arr2))\n",
    "print(\"Let's print vertical stack\")\n",
    "print(vstack1)"
   ]
  },
  {
   "cell_type": "code",
   "execution_count": 190,
   "id": "a6168be3-a768-47ea-b2cf-195024667d91",
   "metadata": {},
   "outputs": [
    {
     "name": "stdout",
     "output_type": "stream",
     "text": [
      "Let's print d stack\n",
      "[[[10 40]\n",
      "  [20 50]\n",
      "  [30 60]]]\n",
      "(1, 3, 2)\n"
     ]
    }
   ],
   "source": [
    "dstack1=np.dstack((arr1,arr2))\n",
    "print(\"Let's print d stack\")\n",
    "print(dstack1)\n",
    "print(dstack1.shape)"
   ]
  },
  {
   "cell_type": "code",
   "execution_count": 192,
   "id": "a53f9c62-9837-4d72-8ebe-ea07a443843d",
   "metadata": {},
   "outputs": [
    {
     "name": "stdout",
     "output_type": "stream",
     "text": [
      "let's print axis-0 stack\n",
      "[[10 20 30]\n",
      " [40 50 60]]\n"
     ]
    }
   ],
   "source": [
    "zerostack=np.stack((arr1,arr2),axis=0)  #  top to bottom\n",
    "print(\"let's print axis-0 stack\")\n",
    "print(zerostack)"
   ]
  },
  {
   "cell_type": "code",
   "execution_count": 194,
   "id": "eb3f2183-22b9-4d99-ae0e-a86b572d9231",
   "metadata": {},
   "outputs": [
    {
     "name": "stdout",
     "output_type": "stream",
     "text": [
      "let's print axis-1 stack\n",
      "[[10 40]\n",
      " [20 50]\n",
      " [30 60]]\n"
     ]
    }
   ],
   "source": [
    "onestack=np.stack((arr1,arr2),axis=1)  #  left to right\n",
    "print(\"let's print axis-1 stack\")\n",
    "print(onestack)"
   ]
  },
  {
   "cell_type": "code",
   "execution_count": 196,
   "id": "67b16911-32ba-4471-a842-eabfadcaa77a",
   "metadata": {},
   "outputs": [
    {
     "name": "stdout",
     "output_type": "stream",
     "text": [
      "Let's print horizontal stack\n",
      "[[ 10  20  30  70  80  90]\n",
      " [ 40  50  60 100 110 120]]\n"
     ]
    }
   ],
   "source": [
    "arr1= np.array([[10,20,30],[40,50,60]])\n",
    "arr2=np.array([[70,80,90],[100,110,120]])\n",
    "\n",
    "hstack1=np.hstack((arr1,arr2))\n",
    "print(\"Let's print horizontal stack\")\n",
    "print(hstack1)"
   ]
  },
  {
   "cell_type": "code",
   "execution_count": 198,
   "id": "7b3af261-2977-4181-8194-7dacae69232f",
   "metadata": {},
   "outputs": [
    {
     "name": "stdout",
     "output_type": "stream",
     "text": [
      "Let's print vertical stack\n",
      "[[ 10  20  30]\n",
      " [ 40  50  60]\n",
      " [ 70  80  90]\n",
      " [100 110 120]]\n"
     ]
    }
   ],
   "source": [
    "vstack1=np.vstack((arr1,arr2))\n",
    "print(\"Let's print vertical stack\")\n",
    "print(vstack1)"
   ]
  },
  {
   "cell_type": "code",
   "execution_count": 200,
   "id": "3aa70988-15f8-4c37-ac1b-291a67a445da",
   "metadata": {},
   "outputs": [
    {
     "name": "stdout",
     "output_type": "stream",
     "text": [
      "Let's print d stack\n",
      "[[[ 10  70]\n",
      "  [ 20  80]\n",
      "  [ 30  90]]\n",
      "\n",
      " [[ 40 100]\n",
      "  [ 50 110]\n",
      "  [ 60 120]]]\n"
     ]
    }
   ],
   "source": [
    "dstack1=np.dstack((arr1,arr2))\n",
    "print(\"Let's print d stack\")\n",
    "print(dstack1)"
   ]
  },
  {
   "cell_type": "code",
   "execution_count": 202,
   "id": "7eb55d87-32b7-49c1-848a-e813200c29d8",
   "metadata": {},
   "outputs": [
    {
     "name": "stdout",
     "output_type": "stream",
     "text": [
      "let's print axis-0 stack\n",
      "[[[ 10  20  30]\n",
      "  [ 40  50  60]]\n",
      "\n",
      " [[ 70  80  90]\n",
      "  [100 110 120]]]\n"
     ]
    }
   ],
   "source": [
    "zerostack=np.stack((arr1,arr2),axis=0)\n",
    "print(\"let's print axis-0 stack\")\n",
    "print(zerostack)"
   ]
  },
  {
   "cell_type": "code",
   "execution_count": 204,
   "id": "b8bb1223-b765-476d-bef2-8acd116c15b8",
   "metadata": {},
   "outputs": [
    {
     "name": "stdout",
     "output_type": "stream",
     "text": [
      "let's print axis-1 stack\n",
      "[[[ 10  20  30]\n",
      "  [ 70  80  90]]\n",
      "\n",
      " [[ 40  50  60]\n",
      "  [100 110 120]]]\n"
     ]
    }
   ],
   "source": [
    "onestack=np.stack((arr1,arr2),axis=1)\n",
    "print(\"let's print axis-1 stack\")\n",
    "print(onestack)"
   ]
  },
  {
   "cell_type": "code",
   "execution_count": 206,
   "id": "897ba881-9c47-4c8f-9505-25f9a497a713",
   "metadata": {},
   "outputs": [
    {
     "name": "stdout",
     "output_type": "stream",
     "text": [
      "let's print axis-2 stack\n",
      "[[[ 10  70]\n",
      "  [ 20  80]\n",
      "  [ 30  90]]\n",
      "\n",
      " [[ 40 100]\n",
      "  [ 50 110]\n",
      "  [ 60 120]]]\n"
     ]
    }
   ],
   "source": [
    "\n",
    "twostack=np.stack((arr1,arr2),axis=2)\n",
    "print(\"let's print axis-2 stack\")\n",
    "print(twostack)"
   ]
  },
  {
   "cell_type": "code",
   "execution_count": 208,
   "id": "fd31e8ea-22aa-4e46-8865-60cf9a85d472",
   "metadata": {},
   "outputs": [
    {
     "name": "stdout",
     "output_type": "stream",
     "text": [
      "[1 2 3 4 5 6]\n"
     ]
    }
   ],
   "source": [
    "arr1=np.array([1,2,3])\n",
    "arr2=np.array([4,5,6])\n",
    "arr3=np.concatenate((arr1,arr2)) #  it will make one single array containing arr1 and arr2 values\n",
    "print(arr3)    #  [1 2 3 4 5 6]"
   ]
  },
  {
   "cell_type": "code",
   "execution_count": 210,
   "id": "1566c590-87d5-4fc9-92b8-5ab90597e446",
   "metadata": {},
   "outputs": [
    {
     "name": "stdout",
     "output_type": "stream",
     "text": [
      "output of concat\n",
      "[[ 1  2  3]\n",
      " [ 4  5  6]\n",
      " [ 7  8  9]\n",
      " [10 11 12]]\n",
      "dimension of new array after concat function is\t 2\n",
      "shape of new array after concat function is\t (4, 3)\n",
      "\n",
      "\n",
      "output of stack\n",
      "[[[ 1  2  3]\n",
      "  [ 4  5  6]]\n",
      "\n",
      " [[ 7  8  9]\n",
      "  [10 11 12]]]\n",
      "dimension of new array after stack function is\t 3\n",
      "shape of new array after stack function is\t (2, 2, 3)\n"
     ]
    }
   ],
   "source": [
    "# concate and stack 2d arrays with axis=0\n",
    "# axis=0 means from top to bottom\n",
    "\n",
    "import numpy as np\n",
    "arr1=np.array([[1,2,3],[4,5,6]])\n",
    "arr2=np.array([[7,8,9],[10,11,12]])\n",
    "arr3=np.concatenate((arr1,arr2),axis=0) #  keep arr1 and arr2 one below other,and create 2d array\n",
    "print(\"output of concat\")\n",
    "print(arr3)    \n",
    "\n",
    "\"\"\"\n",
    "[[ 1  2  3]\n",
    " [ 4  5  6]\n",
    " [ 7  8  9]\n",
    " [10 11 12]]\n",
    "\n",
    "\"\"\"\n",
    "print(\"dimension of new array after concat function is\\t\",arr3.ndim)\n",
    "print(\"shape of new array after concat function is\\t\",arr3.shape)\n",
    "print()\n",
    "print()\n",
    "print(\"output of stack\")\n",
    "arr4=np.stack((arr1,arr2),axis=0)    #  keep arr1 and arr2 one below other,and create 3d array\n",
    "print(arr4)\n",
    "\n",
    "\"\"\"\n",
    "[[[ 1  2  3]\n",
    "  [ 4  5  6]]\n",
    "\n",
    " [[ 7  8  9]\n",
    "  [10 11 12]]]\n",
    "\n",
    "\"\"\"\n",
    "print(\"dimension of new array after stack function is\\t\",arr4.ndim)\n",
    "print(\"shape of new array after stack function is\\t\",arr4.shape)\n"
   ]
  },
  {
   "cell_type": "code",
   "execution_count": 214,
   "id": "20354cc8-37c4-410a-9530-111975b2e654",
   "metadata": {},
   "outputs": [
    {
     "name": "stdout",
     "output_type": "stream",
     "text": [
      "[50 70 90]\n",
      "\n",
      "\n",
      "[ 60 150]\n"
     ]
    }
   ],
   "source": [
    "# axis-0 for top to bottom sum\n",
    "# axis-1 for left to right sum\n",
    "\n",
    "import numpy as np\n",
    "\n",
    "first=np.array([10,20,30])\n",
    "second=np.array([40,50,60])\n",
    "third=np.sum((first,second),axis=0)     # top to bottom\n",
    "# [50 70 90]\n",
    "print(third)\n",
    "print(\"\\n\")\n",
    "fourth=np.sum((first,second),axis=1)    # left to right\n",
    "# [ 60 150]\n",
    "print(fourth)"
   ]
  },
  {
   "cell_type": "code",
   "execution_count": 216,
   "id": "c8807fb0-8ea1-49bb-96e0-d90b58105b86",
   "metadata": {},
   "outputs": [
    {
     "name": "stdout",
     "output_type": "stream",
     "text": [
      "[10 14 34]\n",
      "[10 13 16 19]\n"
     ]
    }
   ],
   "source": [
    "# axis=0  top to bottom sum\n",
    "# axis=1  left to right sum\n",
    "\n",
    "import numpy as k\n",
    "arr=k.array([[1,2,3,4],\n",
    "             [2,3,4,5],\n",
    "             [7,8,9,10]])\n",
    "arr1=k.sum(arr,axis=1)   # left to right sum\n",
    "# 1+2+3+4   2+3+4+5   7+8+9+10\n",
    "print(arr1)\n",
    "\n",
    "arr2=k.sum(arr,axis=0)  # top to bottom sum\n",
    "# 1+2+7     2+3+8     3+4+9     4+5+10\n",
    "print(arr2)"
   ]
  },
  {
   "cell_type": "code",
   "execution_count": 220,
   "id": "2683c532-3e53-4dd8-9803-fdcef291ed4a",
   "metadata": {},
   "outputs": [
    {
     "name": "stdout",
     "output_type": "stream",
     "text": [
      "[[ 80 100 120]\n",
      " [140 160 180]]\n",
      "\n",
      "\n",
      "[[ 50  70  90]\n",
      " [170 190 210]]\n",
      "\n",
      "[[ 60 150]\n",
      " [240 330]]\n"
     ]
    }
   ],
   "source": [
    "import numpy as np\n",
    "\n",
    "fourth=np.array([[10,20,30],[40,50,60]])\n",
    "fifth=np.array([[70,80,90],[100,110,120]])\n",
    "sixth=np.sum((fourth,fifth),axis=0)\n",
    "\"\"\"\n",
    "in case of 3d array axis 0 means no.of 2d arrays\n",
    "here we have 2 2d arrays , so in axis 0 what happens\n",
    "is second 2d array is placed behind 1st 2d array and sum is performed\n",
    "on each and every element i.e. 10 is added to 70, 20 is added to 80 and so on....\n",
    "\"\"\"\n",
    "print(sixth)\n",
    "\"\"\" [[ 80 100 120] \n",
    "     [140 160 180]] \"\"\"\n",
    "print(\"\\n\")\n",
    "eighth=np.sum((fourth,fifth),axis=1)\n",
    "\"\"\"\n",
    "in 3d array axis 1 is similar to axis 0 of 2d array i.e. top to bottom\n",
    "so each 2d arrays sum will be calculated based of top to bottom pattern\n",
    "it means 10 is added to 40, 20 is added to 50 and so..on\n",
    "\"\"\"\n",
    "print(eighth)\n",
    "\"\"\" [[ 50  70  90] \n",
    " [170 190 210]] \"\"\"\n",
    "print()\n",
    "ninth=np.sum((fourth,fifth),axis=2)\n",
    "\"\"\"\n",
    "in 3d array axis 2 means axis 1 of 2d array i.e. left to right\n",
    "so each 2d arrays sum will be calculated on left to right pattern\n",
    "it means 10+20+30   40+50+60   70+80+90   100+110+120 \n",
    "\"\"\"\n",
    "print(ninth) "
   ]
  },
  {
   "cell_type": "code",
   "execution_count": 224,
   "id": "9c3d4ad8-ba4b-4415-b210-ddd6e4aa958e",
   "metadata": {},
   "outputs": [
    {
     "name": "stdout",
     "output_type": "stream",
     "text": [
      "Let's try with 3 arrays\n",
      "output of axis=0\n",
      "**************\n",
      "[[ 85 109 131]\n",
      " [155 177 198]]\n",
      "output of axis=1\n",
      "*************\n",
      "[[ 50  70  90]\n",
      " [170 190 210]\n",
      " [ 20  26  29]]\n",
      "output of axis=2\n",
      "************\n",
      "[[ 60 150]\n",
      " [240 330]\n",
      " [ 25  50]]\n"
     ]
    }
   ],
   "source": [
    "import numpy as np\n",
    "print(\"Let's try with 3 arrays\")\n",
    "a=np.array([[10,20,30],[40,50,60]])\n",
    "b=np.array([[70,80,90],[100,110,120]])\n",
    "c=np.array([[5,9,11],[15,17,18]])\n",
    "print(\"output of axis=0\")\n",
    "print(\"**************\")\n",
    "d=np.sum((a,b,c),axis=0)      \n",
    "print(d)\n",
    "\"\"\" [[ 85 109 131]  \n",
    " [155 177 198]] \"\"\" \n",
    "print(\"output of axis=1\")\n",
    "print(\"*************\")\n",
    "e=np.sum((a,b,c),axis=1)\n",
    "print(e)\n",
    "\"\"\" [[ 50  70  90]  \n",
    " [170 190 210]  \n",
    " [ 20  26  29]] \"\"\"\n",
    "print(\"output of axis=2\")\n",
    "print(\"************\")\n",
    "f=np.sum((a,b,c),axis=2)\n",
    "print(f)"
   ]
  },
  {
   "cell_type": "markdown",
   "id": "8f31f1e3-66c2-4893-89ef-e542fb9ab619",
   "metadata": {},
   "source": [
    "## Sort"
   ]
  },
  {
   "cell_type": "code",
   "execution_count": 2,
   "id": "82bfa177-d3cf-40c0-b91a-c71a61998b75",
   "metadata": {},
   "outputs": [
    {
     "name": "stdout",
     "output_type": "stream",
     "text": [
      "Array before sorting [12 15 10  1]\n",
      "Array after sorting [ 1 10 12 15]\n"
     ]
    }
   ],
   "source": [
    "import numpy as np\n",
    " \n",
    "a = np.array([12, 15, 10, 1])\n",
    "print(\"Array before sorting\",a)\n",
    "a.sort()\n",
    "print(\"Array after sorting\",a)"
   ]
  },
  {
   "cell_type": "code",
   "execution_count": 4,
   "id": "d8625f2a-2d15-4b1b-bcf5-26d1590a2b6b",
   "metadata": {},
   "outputs": [
    {
     "name": "stdout",
     "output_type": "stream",
     "text": [
      "\n",
      "Along None axis : \n",
      " [12 18 25 30]\n"
     ]
    }
   ],
   "source": [
    "a = np.array([[12, 25], [30, 18]])\n",
    "arr1 = np.sort(a, axis=None)\n",
    "print(\"\\nAlong None axis : \\n\", arr1)"
   ]
  },
  {
   "cell_type": "code",
   "execution_count": 10,
   "id": "f5aced1f-925c-408e-b9b7-b642e0d56db6",
   "metadata": {},
   "outputs": [
    {
     "name": "stdout",
     "output_type": "stream",
     "text": [
      "[[12 25 34]\n",
      " [30 18  9]]\n",
      "Along 0 axis : \n",
      " [[12 18  9]\n",
      " [30 25 34]]\n"
     ]
    }
   ],
   "source": [
    "# sort along the first axis\n",
    "a = np.array([[12, 25, 34], [30, 18,9]])\n",
    "print(a)\n",
    "arr1 = np.sort(a, axis=0) # top to bottom\n",
    "# 12 will be compared with 30, 25 will be compared with 18\n",
    "print(\"Along 0 axis : \\n\", arr1)"
   ]
  },
  {
   "cell_type": "code",
   "execution_count": 16,
   "id": "143b3702-1450-4cca-8331-8f919204b736",
   "metadata": {},
   "outputs": [
    {
     "name": "stdout",
     "output_type": "stream",
     "text": [
      "[[12 25 34]\n",
      " [30 18  9]]\n",
      "\n",
      "Along 1 axis : \n",
      " [[12 25 34]\n",
      " [ 9 18 30]]\n"
     ]
    }
   ],
   "source": [
    "a = np.array([[12, 25, 34], [30, 18,9]])\n",
    "print(a)\n",
    "arr1 = np.sort(a, axis=1) # left to right\n",
    "# 12 will be compared to 25, 30 will be compared to 18\n",
    "print(\"\\nAlong 1 axis : \\n\", arr1)\n"
   ]
  },
  {
   "cell_type": "code",
   "execution_count": 22,
   "id": "f81c641a-b52f-43f1-a6cd-06be2871690b",
   "metadata": {},
   "outputs": [
    {
     "name": "stdout",
     "output_type": "stream",
     "text": [
      "Reverse order top to bottom\n",
      "\n",
      "[[30 25 34]\n",
      " [12 18  9]]\n"
     ]
    }
   ],
   "source": [
    "print(\"Reverse order top to bottom\\n\")\n",
    "arr1 = -np.sort(-a, axis=0)\n",
    "print(arr1)"
   ]
  },
  {
   "cell_type": "code",
   "execution_count": 26,
   "id": "f4e50c18-ad0c-42b3-9cb0-9ac469e006ca",
   "metadata": {},
   "outputs": [
    {
     "name": "stdout",
     "output_type": "stream",
     "text": [
      "Reverse order left to right\n",
      "\n",
      "[[34 25 12]\n",
      " [30 18  9]]\n"
     ]
    }
   ],
   "source": [
    "print(\"Reverse order left to right\\n\")\n",
    "arr1 = -np.sort(-a, axis=1)\n",
    "print(arr1)"
   ]
  },
  {
   "cell_type": "code",
   "execution_count": 47,
   "id": "debabaf0-0efc-415c-9a83-76e19ec728b3",
   "metadata": {},
   "outputs": [
    {
     "name": "stdout",
     "output_type": "stream",
     "text": [
      "[[[ 10  20  30]\n",
      "  [  4  50   6]]\n",
      "\n",
      " [[ 70   8  90]\n",
      "  [ 65 110  12]]]\n",
      "Ascending order 3d array axis 0\n",
      "[[[ 10   8  30]\n",
      "  [  4  50   6]]\n",
      "\n",
      " [[ 70  20  90]\n",
      "  [ 65 110  12]]]\n"
     ]
    }
   ],
   "source": [
    "arr1 = np.array([[[10, 20, 30], [4, 50, 6]], [[70, 8, 90], [65, 110, 12]]])\n",
    "print(arr1)\n",
    "print(\"Ascending order 3d array axis 0\")\n",
    "arr1 = np.sort(arr1, axis=0)\n",
    "print(arr1)"
   ]
  },
  {
   "cell_type": "markdown",
   "id": "158ad140-5131-440c-955f-a3f83f81a2fe",
   "metadata": {},
   "source": [
    "in above example in 3d array axis 0 means no. of 2d arrays. Since we have 2 2d arrays\n",
    "each and every element of 1st 2d array will be compared with 2nd 2d array\n",
    "\n",
    "10 will be compared with 70, 20 will be with 8, 30 will be with 90\n",
    "4 will be with 65, 50 will be with 110, 6 will be with 12"
   ]
  },
  {
   "cell_type": "code",
   "execution_count": 49,
   "id": "dee5d9b6-8b4f-40d3-8651-36ac6f97c5f2",
   "metadata": {},
   "outputs": [
    {
     "name": "stdout",
     "output_type": "stream",
     "text": [
      "[[[ 10   8  30]\n",
      "  [  4  50   6]]\n",
      "\n",
      " [[ 70  20  90]\n",
      "  [ 65 110  12]]]\n",
      "Ascending order 3d array axis 1\n",
      "[[[  4   8   6]\n",
      "  [ 10  50  30]]\n",
      "\n",
      " [[ 65  20  12]\n",
      "  [ 70 110  90]]]\n"
     ]
    }
   ],
   "source": [
    "print(arr1)\n",
    "print(\"Ascending order 3d array axis 1\")\n",
    "arr1 = np.sort(arr1, axis=1)\n",
    "print(arr1)"
   ]
  },
  {
   "cell_type": "code",
   "execution_count": 51,
   "id": "18c2c1cb-2202-4e64-9326-33ec63bc0273",
   "metadata": {},
   "outputs": [
    {
     "name": "stdout",
     "output_type": "stream",
     "text": [
      "[[[ 10  20  30]\n",
      "  [  4  50   6]]\n",
      "\n",
      " [[ 70   8  90]\n",
      "  [ 65 110  12]]]\n",
      "Ascending order 3d array axis 2\n",
      "[[[ 10  20  30]\n",
      "  [  4   6  50]]\n",
      "\n",
      " [[  8  70  90]\n",
      "  [ 12  65 110]]]\n"
     ]
    }
   ],
   "source": [
    "arr1 = np.array([[[10, 20, 30], [4, 50, 6]], [[70, 8, 90], [65, 110, 12]]])\n",
    "print(arr1)\n",
    "\n",
    "print(\"Ascending order 3d array axis 2\")\n",
    "arr1 = np.sort(arr1, axis=2)\n",
    "print(arr1)"
   ]
  },
  {
   "cell_type": "code",
   "execution_count": 53,
   "id": "18be4559-aa45-472b-a4c9-fccf19a0c9d9",
   "metadata": {},
   "outputs": [
    {
     "name": "stdout",
     "output_type": "stream",
     "text": [
      "[[[ 10  20  30]\n",
      "  [  4  50   6]]\n",
      "\n",
      " [[ 70   8  90]\n",
      "  [ 65 110  12]]]\n",
      "Reverse order 3d array axis 0\n",
      "\n",
      "[[[ 70  20  90]\n",
      "  [ 65 110  12]]\n",
      "\n",
      " [[ 10   8  30]\n",
      "  [  4  50   6]]]\n"
     ]
    }
   ],
   "source": [
    "arr1 = np.array([[[10, 20, 30], [4, 50, 6]], [[70, 8, 90], [65, 110, 12]]])\n",
    "print(arr1)\n",
    "print(\"Reverse order 3d array axis 0\\n\")\n",
    "arr1 = -np.sort(-arr1, axis=0)\n",
    "print(arr1)"
   ]
  },
  {
   "cell_type": "code",
   "execution_count": 49,
   "id": "99d986c5-002d-47d9-a30b-b4612b834d54",
   "metadata": {},
   "outputs": [
    {
     "name": "stdout",
     "output_type": "stream",
     "text": [
      "[[[ 10  20  30]\n",
      "  [  4  50   6]]\n",
      "\n",
      " [[ 70   8  90]\n",
      "  [ 65 110  12]]]\n",
      "Reverse order 3d array axis 1\n",
      "\n",
      "[[[ 10  50  30]\n",
      "  [  4  20   6]]\n",
      "\n",
      " [[ 70 110  90]\n",
      "  [ 65   8  12]]]\n"
     ]
    }
   ],
   "source": [
    "arr1 = np.array([[[10, 20, 30], [4, 50, 6]], [[70, 8, 90], [65, 110, 12]]])\n",
    "print(arr1)\n",
    "\n",
    "print(\"Reverse order 3d array axis 1\\n\")\n",
    "arr1 = -np.sort(-arr1, axis=1)\n",
    "print(arr1)"
   ]
  },
  {
   "cell_type": "code",
   "execution_count": 51,
   "id": "19b199bb-56ad-449e-bc5d-43a3e6925ca4",
   "metadata": {},
   "outputs": [
    {
     "name": "stdout",
     "output_type": "stream",
     "text": [
      "[[[ 10  20  30]\n",
      "  [  4  50   6]]\n",
      "\n",
      " [[ 70   8  90]\n",
      "  [ 65 110  12]]]\n",
      "Reverse order 3d array axis 2\n",
      "\n",
      "[[[ 30  20  10]\n",
      "  [ 50   6   4]]\n",
      "\n",
      " [[ 90  70   8]\n",
      "  [110  65  12]]]\n"
     ]
    }
   ],
   "source": [
    "arr1 = np.array([[[10, 20, 30], [4, 50, 6]], [[70, 8, 90], [65, 110, 12]]])\n",
    "print(arr1)\n",
    "\n",
    "print(\"Reverse order 3d array axis 2\\n\")\n",
    "arr1 = -np.sort(-arr1, axis=2)\n",
    "print(arr1)"
   ]
  },
  {
   "cell_type": "markdown",
   "id": "324644e6-8f28-4a7c-9366-ac33b2b094e3",
   "metadata": {},
   "source": [
    "## Indexing and Slicing 1-D array"
   ]
  },
  {
   "cell_type": "code",
   "execution_count": 54,
   "id": "923728eb-5d79-46c4-ad13-4edaae866d6f",
   "metadata": {},
   "outputs": [
    {
     "name": "stdout",
     "output_type": "stream",
     "text": [
      "10 \t 20 \t 30 \t 40\n",
      "\n",
      "\n",
      "40 \t 30 \t 20 \t 10\n"
     ]
    }
   ],
   "source": [
    "from numpy import *\n",
    "\n",
    "first=array([10,20,30,40])\n",
    "# indexing from left to right\n",
    "\n",
    "print(first[0],\"\\t\",first[1],\"\\t\",first[2],\"\\t\",first[3])\n",
    "\n",
    "# indexing from right to left\n",
    "\n",
    "print(\"\\n\")\n",
    "print(first[-1],\"\\t\",first[-2],\"\\t\",first[-3],\"\\t\",first[-4])"
   ]
  },
  {
   "cell_type": "code",
   "execution_count": 60,
   "id": "455edaaf-bb89-48cd-81ef-c2d7c6fbc21d",
   "metadata": {},
   "outputs": [
    {
     "name": "stdout",
     "output_type": "stream",
     "text": [
      "[10 20 30 40 50 60]\n",
      "[10 20 30 40]\n",
      "[30 40 50]\n",
      "[60 50 40 30 20 10]\n"
     ]
    }
   ],
   "source": [
    "from numpy import *\n",
    "\n",
    "first=array([10,20,30,40,50,60])\n",
    "print(first)\n",
    "seventh=first[:-2]     # start from zero and go till second last,   second last is exclusive\n",
    "print(seventh)\n",
    "eighth=first[-4:-1]    # start from -4 i.e. number 30  and go till last , last is exclusive\n",
    "print(eighth)\n",
    "eighth=first[::-1]    # start from -4 i.e. number 30  and go till last , last is exclusive\n",
    "print(eighth)"
   ]
  },
  {
   "cell_type": "markdown",
   "id": "c389e94b-b411-4710-b390-538024b1d768",
   "metadata": {},
   "source": [
    "## Indexing and Slicing 2-D array"
   ]
  },
  {
   "cell_type": "code",
   "execution_count": 68,
   "id": "4f645d3d-46a6-4f5d-9a4e-37b9cb0f3575",
   "metadata": {},
   "outputs": [
    {
     "name": "stdout",
     "output_type": "stream",
     "text": [
      "[[10 20 30]\n",
      " [40 50 60]\n",
      " [70 80 90]]\n",
      "from left to right\n",
      "10\n",
      "90\n",
      "from right to left\n",
      "90\n",
      "80\n",
      "70\n",
      "60\n",
      "50\n",
      "40\n",
      "30\n",
      "20\n",
      "10\n"
     ]
    }
   ],
   "source": [
    "from numpy import *\n",
    "\n",
    "first=array([[10,20,30],[40,50,60],[70,80,90]])\n",
    "print(first)\n",
    "print(\"from left to right\")\n",
    "print(first[0][0])\n",
    "\n",
    "print(first[2][2])\n",
    "print(\"from right to left\")\n",
    "print(first[-1][-1])\n",
    "print(first[-1][-2])\n",
    "print(first[-1][-3])\n",
    "print(first[-2][-1])\n",
    "print(first[-2][-2])\n",
    "print(first[-2][-3])\n",
    "print(first[-3][-1])\n",
    "print(first[-3][-2])\n",
    "print(first[-3][-3])"
   ]
  },
  {
   "cell_type": "code",
   "execution_count": 74,
   "id": "1a3fbed0-8168-47b5-8c41-e02d88cd6e31",
   "metadata": {},
   "outputs": [
    {
     "name": "stdout",
     "output_type": "stream",
     "text": [
      "[[10 20 30]\n",
      " [40 50 60]\n",
      " [70 80 90]] \n",
      "\n",
      "[[10 20 30]\n",
      " [40 50 60]]\n",
      "[[20 30]\n",
      " [50 60]]\n"
     ]
    }
   ],
   "source": [
    "from numpy import *\n",
    "\n",
    "first=array([[10,20,30],[40,50,60],[70,80,90]])\n",
    "print(first,'\\n')\n",
    "# slicing syntax\n",
    "#  arrayname [row range,col range]\n",
    "\n",
    "second=first[:2]     # start from 0th row and go till 2nd row,   2 is exclusive  this is only for row as you haven't given column\n",
    "\n",
    "print(second)\n",
    "\n",
    "third=first[:2,1:]  #  row 0 to 1    column 1 to 2  , 3 is exclusive\n",
    "print(third)"
   ]
  },
  {
   "cell_type": "code",
   "execution_count": 76,
   "id": "25e36054-e831-4fa8-913d-61fcb2c685a1",
   "metadata": {},
   "outputs": [
    {
     "name": "stdout",
     "output_type": "stream",
     "text": [
      "array created is\n",
      "[[452 341 498 362 134]\n",
      " [475 137 340 361 192]\n",
      " [ 49 366  86 317 434]\n",
      " [116 459 156 109 270]\n",
      " [394  62 144 350 355]\n",
      " [316  19 271 103 350]]\n",
      "from the 2nd row\n",
      "[[ 49 366  86 317 434]\n",
      " [116 459 156 109 270]\n",
      " [394  62 144 350 355]\n",
      " [316  19 271 103 350]]\n",
      "\n",
      "\n",
      "[317 109 350 103]\n",
      "\n",
      "\n",
      "[[ 86 317 434]\n",
      " [156 109 270]\n",
      " [144 350 355]\n",
      " [271 103 350]]\n",
      "\n",
      "\n",
      "[[459]\n",
      " [ 62]\n",
      " [ 19]]\n",
      "\n",
      "\n",
      "[[340 361]\n",
      " [ 86 317]\n",
      " [156 109]]\n",
      "\n",
      "\n",
      "[[459 156 109]]\n"
     ]
    }
   ],
   "source": [
    "from numpy import *\n",
    "\n",
    "random.seed(8)\n",
    "first=random.randint(1,500,30).reshape(6,5)\n",
    "print(\"array created is\")\n",
    "print(first)\n",
    "print(\"from the 2nd row\")\n",
    "print(first[2:])            #  from 2nd row\n",
    "print(\"\\n\")\n",
    "print(first[2:,3])          #  from 2nd row and only 3rd column\n",
    "print(\"\\n\")\n",
    "print(first[2:,2:])         #  from 2nd row and from 2nd column\n",
    "# let's extract  459  62  and 19\n",
    "print(\"\\n\")\n",
    "print(first[3:,1:2])\n",
    "# let's extract 340 361 86 317 156 and 109\n",
    "print(\"\\n\")\n",
    "print(first[1:4,2:4])\n",
    "print(\"\\n\")\n",
    "# let's extract  459  156  and 109\n",
    "print(first[3:4,1:4])"
   ]
  },
  {
   "cell_type": "markdown",
   "id": "0ad5ad5d-4579-49c9-a828-75455b72f3cc",
   "metadata": {},
   "source": [
    "## Filtering Numpy array\n",
    "1) Using mask [ based on multiple conditions]\n",
    "\n",
    "2) Iterative method\n",
    "\n",
    "3) Using lambda"
   ]
  },
  {
   "cell_type": "code",
   "execution_count": 80,
   "id": "f77e6a6c-f99a-4bb3-918d-8205cfb5c60d",
   "metadata": {},
   "outputs": [
    {
     "name": "stdout",
     "output_type": "stream",
     "text": [
      "[ 5  8  9 11 12 16]\n",
      "[ 5  9 12]\n"
     ]
    }
   ],
   "source": [
    "import numpy as np\n",
    "\n",
    "arr = np.array([5,8,9,11,12,16])\n",
    "print(arr)\n",
    "print(arr[[True,False,True,False,True,False]])"
   ]
  },
  {
   "cell_type": "code",
   "execution_count": 84,
   "id": "caf2ca72-2e63-4fa0-8c54-943b6d7e1387",
   "metadata": {},
   "outputs": [
    {
     "name": "stdout",
     "output_type": "stream",
     "text": [
      "[ 5  8  9 11 12 16]\n",
      "[False  True False False  True  True]\n",
      "[ 8 12 16]\n",
      "[ 9 11 12]\n",
      "[ 9 11 12]\n",
      "[ True False False False  True False]\n",
      "*****************\n",
      "[ 5 12]\n"
     ]
    }
   ],
   "source": [
    "import numpy as np\n",
    "\n",
    "arr = np.array([5,8,9,11,12,16])\n",
    "print(arr)\n",
    "\n",
    "print(arr%4==0)  #  it prints  [False  True False False  True  True]\n",
    "\n",
    "print(arr[(arr%4==0)]) # it's like arr[[False  True False False  True  True]]\n",
    "\n",
    "print(arr[(arr>=9) & (arr<=15)])\n",
    "\n",
    "print(arr[(arr%3==0) | (arr%11==0)])\n",
    "\n",
    "#filter for values that are equal to 2, 3, 5, or 12\n",
    "print(np.isin(arr,[2, 3, 5, 12]))\n",
    "print(\"*****************\")\n",
    "\n",
    "print(arr[np.isin(arr,[2, 3, 5, 12])])"
   ]
  },
  {
   "cell_type": "markdown",
   "id": "1ed915ff-15a2-484b-b31a-f8095cec768f",
   "metadata": {},
   "source": [
    "### Mask"
   ]
  },
  {
   "cell_type": "code",
   "execution_count": 89,
   "id": "a915f80a-7da4-4603-bf80-5f9ac30be5aa",
   "metadata": {},
   "outputs": [
    {
     "name": "stdout",
     "output_type": "stream",
     "text": [
      "Original array\n",
      "[10 11 12 13 14 15 16 17 18 19 20 21 22 23 24 25 26 27 28 29 30 31 32 33\n",
      " 34 35 36 37 38 39 40 41 42 43 44 45 46 47 48 49]\n",
      "New array\n",
      "[24 26 28 30 32 34 36 38 40 42 44 46 48]\n"
     ]
    }
   ],
   "source": [
    "# Using mask\n",
    "\n",
    "import numpy as np\n",
    " \n",
    "# making a numpy array\n",
    "array1 = np.array([num for num in range(10, 50)])\n",
    " \n",
    "print(\"Original array\")\n",
    "print(array1)\n",
    " \n",
    "# defining mask based on two conditions:\n",
    "# array element must be greater than 22\n",
    "# and must be a divisible by 2\n",
    "mask = (array1 > 22) & (array1 % 2 == 0)\n",
    " \n",
    "# making new array on conditions\n",
    "array2 = array1[mask]\n",
    "print(\"New array\")\n",
    "print(array2)"
   ]
  },
  {
   "cell_type": "code",
   "execution_count": 91,
   "id": "e227d16f-0863-4354-8a58-e85e985a356f",
   "metadata": {},
   "outputs": [
    {
     "name": "stdout",
     "output_type": "stream",
     "text": [
      "Original array\n",
      "[11 12 13 14 15 16 17 18 19 20 21 22 23 24 25 26 27 28 29 30 31 32 33 34\n",
      " 35 36 37 38 39]\n",
      "New array\n",
      "[16 18 20 22 24 26 28 30 32 34 36 38]\n"
     ]
    }
   ],
   "source": [
    "# Using iterative method\n",
    "\n",
    "import numpy as np\n",
    " \n",
    "# making a numpy array\n",
    "array1 = np.array([x for x in range(11, 40)])\n",
    " \n",
    "print(\"Original array\")\n",
    "print(array1)\n",
    " \n",
    "# making a blank list\n",
    "mylist = []\n",
    " \n",
    "for x in array1:\n",
    "    # applying two conditions: number is divisible by 2 and is greater than 15\n",
    "    if x % 2 == 0 and x > 15:\n",
    "       mylist.append(x)\n",
    " \n",
    "# Converting new list into numpy array\n",
    "array2 = np.array(mylist)\n",
    "print(\"New array\")\n",
    "print(array2)"
   ]
  },
  {
   "cell_type": "code",
   "execution_count": 97,
   "id": "31c7c209-8a61-457e-ae69-a3d40a6011e4",
   "metadata": {},
   "outputs": [
    {
     "name": "stdout",
     "output_type": "stream",
     "text": [
      "Original array\n",
      "[ 1  2  3  4  5  6  7  8  9 10 11 12 13 14 15 16 17 18 19 20 21 22 23 24\n",
      " 25 26 27 28 29 30]\n",
      "New array\n",
      "[18 21 24 27]\n",
      "Using list comprehension for numpy filtering\n",
      "[ 5 10 15 20 25 30]\n"
     ]
    }
   ],
   "source": [
    "# Using Lambda\n",
    "\n",
    "import numpy as np\n",
    " \n",
    "# making a numpy array\n",
    "array1 = np.array([num for num in range(1,31)])\n",
    " \n",
    "print(\"Original array\")\n",
    "print(array1)\n",
    " \n",
    "# using lambda to apply condition\n",
    "mylist = list(filter(lambda x: x > 15 and x % 3 == 0 and x % 10 != 0, array1))\n",
    " \n",
    "# Converting new list into numpy array\n",
    "array2 = np.array(mylist)\n",
    "print(\"New array\")\n",
    "print(array2)\n",
    "print(\"Using list comprehension for numpy filtering\")\n",
    "mylist1=[x for x in array1 if x%5==0]\n",
    "array2=np.array(mylist1)\n",
    "print(array2)"
   ]
  },
  {
   "cell_type": "code",
   "execution_count": 101,
   "id": "216212f7-9bf7-47ef-b3c1-7e816c73a272",
   "metadata": {},
   "outputs": [
    {
     "name": "stdout",
     "output_type": "stream",
     "text": [
      "original array is\n",
      "\n",
      "[[ 0  1  2  3]\n",
      " [ 4  5  6  7]\n",
      " [ 8  9 10 11]]\n",
      "Filter values from array: [ 6  7  8  9 10 11]\n",
      "[0 3 6 9]\n"
     ]
    }
   ],
   "source": [
    "import numpy as np\n",
    "\n",
    "array1= np.arange(12).reshape(3,4)\n",
    "print(\"original array is\\n\")\n",
    "print(array1)\n",
    "result = array1[array1 > 5]\n",
    "print(\"Filter values from array:\",result)\n",
    "result1=array1[(array1<10) & (array1%3==0)]\n",
    "print(result1)"
   ]
  },
  {
   "cell_type": "code",
   "execution_count": 103,
   "id": "68511162-f8f2-4312-8d6f-de6ebbc5adb9",
   "metadata": {},
   "outputs": [
    {
     "name": "stdout",
     "output_type": "stream",
     "text": [
      "[[ 0  1  2  3]\n",
      " [ 4  5  6  7]\n",
      " [ 8  9 10 11]]\n",
      "[[0 1]\n",
      " [4 5]\n",
      " [8 9]]\n"
     ]
    }
   ],
   "source": [
    "a = np.arange(12).reshape((3, 4))\n",
    "print(a)\n",
    "print(a[:, np.all(a < 10, axis = 0)])"
   ]
  },
  {
   "cell_type": "markdown",
   "id": "c1fbc783-b3e4-47fa-94fa-e20f9ce65102",
   "metadata": {},
   "source": [
    "np.all() method return True if all the values fulfills the condition. \n",
    "This return value maps with the original array to give the filtered values\n"
   ]
  },
  {
   "cell_type": "code",
   "execution_count": 61,
   "id": "defca6c4-e6d3-4fa7-a574-aaaa27282a57",
   "metadata": {},
   "outputs": [
    {
     "name": "stdout",
     "output_type": "stream",
     "text": [
      "[[ 0  1  2  3]\n",
      " [ 4  5  6  7]\n",
      " [ 8  9 10 11]]\n",
      "[[0]\n",
      " [4]\n",
      " [8]]\n"
     ]
    }
   ],
   "source": [
    "a = np.arange(12).reshape((3, 4))\n",
    "print(a)\n",
    "print(a[:,np.all(a < 9, axis = 0)])"
   ]
  },
  {
   "cell_type": "code",
   "execution_count": 59,
   "id": "d72a6e3e-0daf-46b1-b8d1-5acfd1f3c864",
   "metadata": {},
   "outputs": [
    {
     "name": "stdout",
     "output_type": "stream",
     "text": [
      "[[ 0  1  2  3]\n",
      " [ 4  5  6  7]\n",
      " [ 8  9 10 11]]\n",
      "[[ 2  3]\n",
      " [ 6  7]\n",
      " [10 11]]\n"
     ]
    }
   ],
   "source": [
    "a = np.arange(12).reshape((3, 4))\n",
    "print(a)\n",
    "print(a[:,np.any(a > 9, axis = 0)])"
   ]
  },
  {
   "cell_type": "code",
   "execution_count": 122,
   "id": "b2a6151a-101d-4911-863f-4738813f17aa",
   "metadata": {},
   "outputs": [
    {
     "name": "stdout",
     "output_type": "stream",
     "text": [
      "selected rows\n",
      "[[ 5  6  7]\n",
      " [ 9 10 11]]\n"
     ]
    }
   ],
   "source": [
    "print(\"selected rows\")\n",
    "print(a[1:3,np.any(a > 8, axis = 0)])"
   ]
  },
  {
   "cell_type": "markdown",
   "id": "442152b2-53f0-4c0c-b8af-cf6262ac94d5",
   "metadata": {},
   "source": [
    "### Mutable"
   ]
  },
  {
   "cell_type": "code",
   "execution_count": 63,
   "id": "258e3bdf-3559-428b-b212-ae15509396bd",
   "metadata": {},
   "outputs": [
    {
     "name": "stdout",
     "output_type": "stream",
     "text": [
      "[10 20 30] \t 2900788067184\n",
      "[34 21 31] \t 2900788574224\n",
      "[[11 15  4]\n",
      " [ 8  9  7]] \t 2900747072880\n"
     ]
    }
   ],
   "source": [
    "# numpy array elements are mutable but numpy as an object is immutable\n",
    "# first+1  creates a new numpy object in which changes can be seen\n",
    "\n",
    "import numpy as np\n",
    "first=np.array([10,20,30])\n",
    "print(first,\"\\t\",id(first))\n",
    "first=first+1      #  this is like immutable\n",
    "first[0]=34         #  array elements can be changed\n",
    "print(first,\"\\t\",id(first))\n",
    "print(second,\"\\t\",id(second))\n"
   ]
  },
  {
   "cell_type": "code",
   "execution_count": 129,
   "id": "d0d840be-f3fc-4d80-9a4b-7a92fa5fc0f1",
   "metadata": {},
   "outputs": [
    {
     "name": "stdout",
     "output_type": "stream",
     "text": [
      "[10 20 30] \t 1418449153328\n",
      "[10 20 30] \t 1418449153328\n",
      "[11 21 31] \t 1418505273040\n"
     ]
    }
   ],
   "source": [
    "# how to make numpy array read only\n",
    "import numpy as np\n",
    "\n",
    "\n",
    "first=np.array([10,20,30])\n",
    "first.flags.writeable = False\n",
    "print(first,\"\\t\",id(first))\n",
    "second=first+1      #  no problem here\n",
    "# first[0]=34         # ValueError: assignment destination is read-only\n",
    "print(first,\"\\t\",id(first))\n",
    "print(second,\"\\t\",id(second))"
   ]
  },
  {
   "cell_type": "code",
   "execution_count": 17,
   "id": "eaef995e-c77f-42f4-a6a8-ea3e15e792bb",
   "metadata": {},
   "outputs": [
    {
     "name": "stdout",
     "output_type": "stream",
     "text": [
      "[[ 0  1  2  3]\n",
      " [ 4  5  6  7]\n",
      " [ 8  9 10 11]]\n",
      "\n"
     ]
    },
    {
     "ename": "IndexError",
     "evalue": "boolean index did not match indexed array along dimension 0; dimension is 3 but corresponding boolean dimension is 4",
     "output_type": "error",
     "traceback": [
      "\u001b[1;31m---------------------------------------------------------------------------\u001b[0m",
      "\u001b[1;31mIndexError\u001b[0m                                Traceback (most recent call last)",
      "Cell \u001b[1;32mIn[17], line 5\u001b[0m\n\u001b[0;32m      3\u001b[0m \u001b[38;5;28mprint\u001b[39m(a)\n\u001b[0;32m      4\u001b[0m \u001b[38;5;28mprint\u001b[39m()\n\u001b[1;32m----> 5\u001b[0m \u001b[38;5;28mprint\u001b[39m(a[np\u001b[38;5;241m.\u001b[39mall(a \u001b[38;5;241m>\u001b[39m \u001b[38;5;241m3\u001b[39m, axis \u001b[38;5;241m=\u001b[39m \u001b[38;5;241m0\u001b[39m),:])\n",
      "\u001b[1;31mIndexError\u001b[0m: boolean index did not match indexed array along dimension 0; dimension is 3 but corresponding boolean dimension is 4"
     ]
    }
   ],
   "source": [
    "import numpy as np\n",
    "a = np.arange(12).reshape((3, 4))\n",
    "print(a)\n",
    "print()\n",
    "print(a[np.all(a > 3, axis = 1),:])"
   ]
  },
  {
   "cell_type": "code",
   "execution_count": null,
   "id": "2b4aa302-fc78-425a-b75c-b1708be0e1fb",
   "metadata": {},
   "outputs": [],
   "source": []
  }
 ],
 "metadata": {
  "kernelspec": {
   "display_name": "Python 3 (ipykernel)",
   "language": "python",
   "name": "python3"
  },
  "language_info": {
   "codemirror_mode": {
    "name": "ipython",
    "version": 3
   },
   "file_extension": ".py",
   "mimetype": "text/x-python",
   "name": "python",
   "nbconvert_exporter": "python",
   "pygments_lexer": "ipython3",
   "version": "3.12.4"
  }
 },
 "nbformat": 4,
 "nbformat_minor": 5
}
