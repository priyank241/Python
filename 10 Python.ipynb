{
 "cells": [
  {
   "cell_type": "markdown",
   "id": "fee7c5ca-7fe9-4ae3-b450-3b5af07e694a",
   "metadata": {},
   "source": [
    "# Pickle"
   ]
  },
  {
   "cell_type": "code",
   "execution_count": 2,
   "id": "cfe7af7d-0d67-424e-bfca-03a18da8e7ad",
   "metadata": {},
   "outputs": [
    {
     "name": "stdout",
     "output_type": "stream",
     "text": [
      "After creating object\n",
      "Rohit\t25\n",
      "After storing object and after making s1 None\n",
      "None\n",
      "Not to worry, we've stored object inside the filesystem, so it can be retrieved\n",
      "Rohit\t25\n"
     ]
    }
   ],
   "source": [
    "import pickle\n",
    "\n",
    "class Student:\n",
    "    def __init__(self,name,age):\n",
    "        self.name=name\n",
    "        self.age=age\n",
    "    def __str__(self):\n",
    "        return \"\"+self.name+\"\\t\"+str(self.age)\n",
    "\n",
    "s1=Student(\"Rohit\",25)\n",
    "print(\"After creating object\")\n",
    "print(s1)\n",
    "\n",
    "# pickling or serialization\n",
    "pickle.dump(s1,open(\"mystudent.pkl\",\"wb\"))\n",
    "\n",
    "s1=None\n",
    "print(\"After storing object and after making s1 None\")\n",
    "print(s1)\n",
    "\n",
    "print(\"Not to worry, we've stored object inside the filesystem, so it can be retrieved\")\n",
    "\n",
    "# unpickling or deserialization\n",
    "temp=pickle.load(open(\"mystudent.pkl\",\"rb\"))\n",
    "print(temp)"
   ]
  },
  {
   "cell_type": "code",
   "execution_count": 6,
   "id": "fac85289-e200-4725-9b31-ba46235685d6",
   "metadata": {},
   "outputs": [
    {
     "name": "stdout",
     "output_type": "stream",
     "text": [
      "displaying dataframe which just has been read\n",
      "   Unnamed: 0  proid    proname  price\n",
      "0           0      1       Soap    120\n",
      "1           1      2    Perfume    400\n",
      "2           2      3        Deo    250\n",
      "3           3      4  Body_Wash    180\n"
     ]
    }
   ],
   "source": [
    "# Pickling Unpickling\n",
    "# Pickling means storing an entire object inside the file system ( a.k.a.  Serialization)\n",
    "# Unpickling meand retrieving an entire object from the file system ( a.k.a.  Deserialization)\n",
    "\n",
    "import pickle\n",
    "import pandas as pd\n",
    "\n",
    "\n",
    "df=pd.read_csv(\"prod.csv\")\n",
    "\n",
    "# serialization or pickling\n",
    "pickle.dump(df,open(\"myplayer.pkl\",\"wb\"))\n",
    "\n",
    "# deserialization or unpickling\n",
    "mydf=pickle.load(open(\"myplayer.pkl\",\"rb\"))\n",
    "print(\"displaying dataframe which just has been read\")\n",
    "print(mydf.head())"
   ]
  },
  {
   "cell_type": "markdown",
   "id": "ee8b528f-b1d1-453e-85d7-6dc7a22b335f",
   "metadata": {},
   "source": [
    "# PDF"
   ]
  },
  {
   "cell_type": "code",
   "execution_count": 9,
   "id": "815bc5ef-476a-43ee-9910-4c6f9fca1d96",
   "metadata": {},
   "outputs": [
    {
     "name": "stdout",
     "output_type": "stream",
     "text": [
      "Collecting fpdf\n",
      "  Downloading fpdf-1.7.2.tar.gz (39 kB)\n",
      "  Preparing metadata (setup.py): started\n",
      "  Preparing metadata (setup.py): finished with status 'done'\n",
      "Building wheels for collected packages: fpdf\n",
      "  Building wheel for fpdf (setup.py): started\n",
      "  Building wheel for fpdf (setup.py): finished with status 'done'\n",
      "  Created wheel for fpdf: filename=fpdf-1.7.2-py2.py3-none-any.whl size=40713 sha256=9208cc69e2e534ac0401b3c1cc361e8569d6b7c8f53421ef27361575791dad72\n",
      "  Stored in directory: c:\\users\\priya\\appdata\\local\\pip\\cache\\wheels\\6e\\62\\11\\dc73d78e40a218ad52e7451f30166e94491be013a7850b5d75\n",
      "Successfully built fpdf\n",
      "Installing collected packages: fpdf\n",
      "Successfully installed fpdf-1.7.2\n",
      "Note: you may need to restart the kernel to use updated packages.\n"
     ]
    }
   ],
   "source": [
    "pip install fpdf"
   ]
  },
  {
   "cell_type": "code",
   "execution_count": 1,
   "id": "a8dd57c2-adea-4a13-9d2a-eeb96911e053",
   "metadata": {},
   "outputs": [
    {
     "data": {
      "text/plain": [
       "''"
      ]
     },
     "execution_count": 1,
     "metadata": {},
     "output_type": "execute_result"
    }
   ],
   "source": [
    "from fpdf import FPDF\n",
    "\n",
    "ref=FPDF()\n",
    "ref.add_page()\n",
    "ref.set_font(\"Arial\",size=20)\n",
    "ref.cell(200,100,\"Welcome to PDF world\",align=\"L\")\n",
    "\n",
    "ref.output(\"pythonpdf.pdf\")"
   ]
  },
  {
   "cell_type": "markdown",
   "id": "b18504c6-4981-404a-b80b-5e1167f17b1c",
   "metadata": {},
   "source": [
    "# Whatsapp"
   ]
  },
  {
   "cell_type": "code",
   "execution_count": 4,
   "id": "d5294ae6-87b3-49d4-ab09-bea492049047",
   "metadata": {},
   "outputs": [
    {
     "name": "stdout",
     "output_type": "stream",
     "text": [
      "Collecting pywhatkit\n",
      "  Downloading pywhatkit-5.4-py3-none-any.whl.metadata (5.5 kB)\n",
      "Requirement already satisfied: Pillow in c:\\users\\priya\\anaconda3\\lib\\site-packages (from pywhatkit) (10.3.0)\n",
      "Collecting pyautogui (from pywhatkit)\n",
      "  Downloading PyAutoGUI-0.9.54.tar.gz (61 kB)\n",
      "     ---------------------------------------- 0.0/61.2 kB ? eta -:--:--\n",
      "     ---------------------------------------- 61.2/61.2 kB 3.2 MB/s eta 0:00:00\n",
      "  Installing build dependencies: started\n",
      "  Installing build dependencies: finished with status 'done'\n",
      "  Getting requirements to build wheel: started\n",
      "  Getting requirements to build wheel: finished with status 'done'\n",
      "  Preparing metadata (pyproject.toml): started\n",
      "  Preparing metadata (pyproject.toml): finished with status 'done'\n",
      "Requirement already satisfied: requests in c:\\users\\priya\\anaconda3\\lib\\site-packages (from pywhatkit) (2.32.2)\n",
      "Collecting wikipedia (from pywhatkit)\n",
      "  Downloading wikipedia-1.4.0.tar.gz (27 kB)\n",
      "  Preparing metadata (setup.py): started\n",
      "  Preparing metadata (setup.py): finished with status 'done'\n",
      "Requirement already satisfied: Flask in c:\\users\\priya\\anaconda3\\lib\\site-packages (from pywhatkit) (3.0.3)\n",
      "Requirement already satisfied: Werkzeug>=3.0.0 in c:\\users\\priya\\anaconda3\\lib\\site-packages (from Flask->pywhatkit) (3.0.3)\n",
      "Requirement already satisfied: Jinja2>=3.1.2 in c:\\users\\priya\\anaconda3\\lib\\site-packages (from Flask->pywhatkit) (3.1.4)\n",
      "Requirement already satisfied: itsdangerous>=2.1.2 in c:\\users\\priya\\anaconda3\\lib\\site-packages (from Flask->pywhatkit) (2.2.0)\n",
      "Requirement already satisfied: click>=8.1.3 in c:\\users\\priya\\anaconda3\\lib\\site-packages (from Flask->pywhatkit) (8.1.7)\n",
      "Requirement already satisfied: blinker>=1.6.2 in c:\\users\\priya\\anaconda3\\lib\\site-packages (from Flask->pywhatkit) (1.6.2)\n",
      "Collecting pymsgbox (from pyautogui->pywhatkit)\n",
      "  Downloading PyMsgBox-1.0.9.tar.gz (18 kB)\n",
      "  Installing build dependencies: started\n",
      "  Installing build dependencies: finished with status 'done'\n",
      "  Getting requirements to build wheel: started\n",
      "  Getting requirements to build wheel: finished with status 'done'\n",
      "  Preparing metadata (pyproject.toml): started\n",
      "  Preparing metadata (pyproject.toml): finished with status 'done'\n",
      "Collecting pytweening>=1.0.4 (from pyautogui->pywhatkit)\n",
      "  Downloading pytweening-1.2.0.tar.gz (171 kB)\n",
      "     ---------------------------------------- 0.0/171.2 kB ? eta -:--:--\n",
      "     -------------------------------------- 171.2/171.2 kB 5.2 MB/s eta 0:00:00\n",
      "  Preparing metadata (setup.py): started\n",
      "  Preparing metadata (setup.py): finished with status 'done'\n",
      "Collecting pyscreeze>=0.1.21 (from pyautogui->pywhatkit)\n",
      "  Downloading pyscreeze-1.0.1.tar.gz (27 kB)\n",
      "  Installing build dependencies: started\n",
      "  Installing build dependencies: finished with status 'done'\n",
      "  Getting requirements to build wheel: started\n",
      "  Getting requirements to build wheel: finished with status 'done'\n",
      "  Preparing metadata (pyproject.toml): started\n",
      "  Preparing metadata (pyproject.toml): finished with status 'done'\n",
      "Collecting pygetwindow>=0.0.5 (from pyautogui->pywhatkit)\n",
      "  Downloading PyGetWindow-0.0.9.tar.gz (9.7 kB)\n",
      "  Preparing metadata (setup.py): started\n",
      "  Preparing metadata (setup.py): finished with status 'done'\n",
      "Collecting mouseinfo (from pyautogui->pywhatkit)\n",
      "  Downloading MouseInfo-0.1.3.tar.gz (10 kB)\n",
      "  Preparing metadata (setup.py): started\n",
      "  Preparing metadata (setup.py): finished with status 'done'\n",
      "Requirement already satisfied: charset-normalizer<4,>=2 in c:\\users\\priya\\anaconda3\\lib\\site-packages (from requests->pywhatkit) (2.0.4)\n",
      "Requirement already satisfied: idna<4,>=2.5 in c:\\users\\priya\\anaconda3\\lib\\site-packages (from requests->pywhatkit) (3.7)\n",
      "Requirement already satisfied: urllib3<3,>=1.21.1 in c:\\users\\priya\\anaconda3\\lib\\site-packages (from requests->pywhatkit) (2.2.2)\n",
      "Requirement already satisfied: certifi>=2017.4.17 in c:\\users\\priya\\anaconda3\\lib\\site-packages (from requests->pywhatkit) (2024.8.30)\n",
      "Requirement already satisfied: beautifulsoup4 in c:\\users\\priya\\anaconda3\\lib\\site-packages (from wikipedia->pywhatkit) (4.12.3)\n",
      "Requirement already satisfied: colorama in c:\\users\\priya\\anaconda3\\lib\\site-packages (from click>=8.1.3->Flask->pywhatkit) (0.4.6)\n",
      "Requirement already satisfied: MarkupSafe>=2.0 in c:\\users\\priya\\anaconda3\\lib\\site-packages (from Jinja2>=3.1.2->Flask->pywhatkit) (2.1.3)\n",
      "Collecting pyrect (from pygetwindow>=0.0.5->pyautogui->pywhatkit)\n",
      "  Downloading PyRect-0.2.0.tar.gz (17 kB)\n",
      "  Preparing metadata (setup.py): started\n",
      "  Preparing metadata (setup.py): finished with status 'done'\n",
      "Requirement already satisfied: soupsieve>1.2 in c:\\users\\priya\\anaconda3\\lib\\site-packages (from beautifulsoup4->wikipedia->pywhatkit) (2.5)\n",
      "Collecting pyperclip (from mouseinfo->pyautogui->pywhatkit)\n",
      "  Downloading pyperclip-1.9.0.tar.gz (20 kB)\n",
      "  Preparing metadata (setup.py): started\n",
      "  Preparing metadata (setup.py): finished with status 'done'\n",
      "Downloading pywhatkit-5.4-py3-none-any.whl (15 kB)\n",
      "Building wheels for collected packages: pyautogui, wikipedia, pygetwindow, pyscreeze, pytweening, mouseinfo, pymsgbox, pyperclip, pyrect\n",
      "  Building wheel for pyautogui (pyproject.toml): started\n",
      "  Building wheel for pyautogui (pyproject.toml): finished with status 'done'\n",
      "  Created wheel for pyautogui: filename=PyAutoGUI-0.9.54-py3-none-any.whl size=37598 sha256=c7db275584985dba76e89a8936bcaf5468e9e8e00c37dd13ba3d55ab55497b9e\n",
      "  Stored in directory: c:\\users\\priya\\appdata\\local\\pip\\cache\\wheels\\d9\\d6\\47\\04075995b093ecc87c212c9a3dbd34e59456c6fe504d65c3e4\n",
      "  Building wheel for wikipedia (setup.py): started\n",
      "  Building wheel for wikipedia (setup.py): finished with status 'done'\n",
      "  Created wheel for wikipedia: filename=wikipedia-1.4.0-py3-none-any.whl size=11706 sha256=688369388aa2f9a10a83d131e70a519e8ad6501c4c5feae1db120a843d06edf8\n",
      "  Stored in directory: c:\\users\\priya\\appdata\\local\\pip\\cache\\wheels\\63\\47\\7c\\a9688349aa74d228ce0a9023229c6c0ac52ca2a40fe87679b8\n",
      "  Building wheel for pygetwindow (setup.py): started\n",
      "  Building wheel for pygetwindow (setup.py): finished with status 'done'\n",
      "  Created wheel for pygetwindow: filename=PyGetWindow-0.0.9-py3-none-any.whl size=11080 sha256=5a31c1f9de28b7a54520aa9aa9bd4a851ff53ec98f0edafc36f328d63ee5c7c0\n",
      "  Stored in directory: c:\\users\\priya\\appdata\\local\\pip\\cache\\wheels\\b3\\39\\81\\34dd7a2eca5f885f1f6e2796761970daf66a2d98ac1904f5f4\n",
      "  Building wheel for pyscreeze (pyproject.toml): started\n",
      "  Building wheel for pyscreeze (pyproject.toml): finished with status 'done'\n",
      "  Created wheel for pyscreeze: filename=PyScreeze-1.0.1-py3-none-any.whl size=14380 sha256=a5fcfc13211a038dda36650c91089dcfdff286471593b79078f08259acb996b9\n",
      "  Stored in directory: c:\\users\\priya\\appdata\\local\\pip\\cache\\wheels\\cd\\3a\\c2\\7f2839239a069aa3c9564f6777cbb29d733720ef673f104f0d\n",
      "  Building wheel for pytweening (setup.py): started\n",
      "  Building wheel for pytweening (setup.py): finished with status 'done'\n",
      "  Created wheel for pytweening: filename=pytweening-1.2.0-py3-none-any.whl size=8031 sha256=01e80b8ed115b9d4e3766e640ae3b7481b034db8750761a4a5129c9d80e68059\n",
      "  Stored in directory: c:\\users\\priya\\appdata\\local\\pip\\cache\\wheels\\23\\d5\\13\\4e9bdadbfe3c78e47c675e7410c0eed2fbb63c5ea6cf1b40e7\n",
      "  Building wheel for mouseinfo (setup.py): started\n",
      "  Building wheel for mouseinfo (setup.py): finished with status 'done'\n",
      "  Created wheel for mouseinfo: filename=MouseInfo-0.1.3-py3-none-any.whl size=10903 sha256=58838cf8b3a9396c7bd3e04eff53e9ade6af0d8053aadbdb28f65446eec84f4b\n",
      "  Stored in directory: c:\\users\\priya\\appdata\\local\\pip\\cache\\wheels\\b1\\9b\\f3\\08650eb7f00af32f07789f3c6a101e0d7fc762b9891ae843bb\n",
      "  Building wheel for pymsgbox (pyproject.toml): started\n",
      "  Building wheel for pymsgbox (pyproject.toml): finished with status 'done'\n",
      "  Created wheel for pymsgbox: filename=PyMsgBox-1.0.9-py3-none-any.whl size=7417 sha256=8930d414d4cbe1ce76604db33d983018b53063f545f92d4ee701c2994bb1410b\n",
      "  Stored in directory: c:\\users\\priya\\appdata\\local\\pip\\cache\\wheels\\55\\e7\\aa\\239163543708d1e15c3d9a1b89dbfe3954b0929a6df2951b83\n",
      "  Building wheel for pyperclip (setup.py): started\n",
      "  Building wheel for pyperclip (setup.py): finished with status 'done'\n",
      "  Created wheel for pyperclip: filename=pyperclip-1.9.0-py3-none-any.whl size=11020 sha256=9a1f3d464f8a5ebec63303d04abad94d76306dfc3d5627636c89787bd8a5014e\n",
      "  Stored in directory: c:\\users\\priya\\appdata\\local\\pip\\cache\\wheels\\e0\\e8\\fc\\8ab8aa326e33bc066ccd5f3ca9646eab4299881af933f94f09\n",
      "  Building wheel for pyrect (setup.py): started\n",
      "  Building wheel for pyrect (setup.py): finished with status 'done'\n",
      "  Created wheel for pyrect: filename=PyRect-0.2.0-py2.py3-none-any.whl size=11205 sha256=40c84fb256e9a925ee0630265a21e6e37cf0e2f3870172b09fdd32c5955cda3b\n",
      "  Stored in directory: c:\\users\\priya\\appdata\\local\\pip\\cache\\wheels\\0b\\1e\\d7\\0c74bd8f60b39c14d84e307398786002aa7ddc905927cc03c5\n",
      "Successfully built pyautogui wikipedia pygetwindow pyscreeze pytweening mouseinfo pymsgbox pyperclip pyrect\n",
      "Installing collected packages: pytweening, pyscreeze, pyrect, pyperclip, pymsgbox, pygetwindow, mouseinfo, wikipedia, pyautogui, pywhatkit\n",
      "Successfully installed mouseinfo-0.1.3 pyautogui-0.9.54 pygetwindow-0.0.9 pymsgbox-1.0.9 pyperclip-1.9.0 pyrect-0.2.0 pyscreeze-1.0.1 pytweening-1.2.0 pywhatkit-5.4 wikipedia-1.4.0\n",
      "Note: you may need to restart the kernel to use updated packages.\n"
     ]
    }
   ],
   "source": [
    "pip install pywhatkit"
   ]
  },
  {
   "cell_type": "code",
   "execution_count": null,
   "id": "2de65a24-a420-434e-91cd-d920418c2cfb",
   "metadata": {},
   "outputs": [],
   "source": [
    "import pywhatkit\n",
    "\n",
    "# here 7,52 is time on which you want whatsapp message to go to the receiver\n",
    "\n",
    "pywhatkit.sendwhatmsg('+917796445481','Good Morning Yzvya',10,)"
   ]
  },
  {
   "cell_type": "markdown",
   "id": "2718bc4c-ec62-4f49-9b44-b810d2e691c0",
   "metadata": {},
   "source": [
    "# Tkinter\n",
    "#### Tkinter is a standard Python GUI library which gives us an object oriented interface to the Tk GUI toolkit.\r\n"
   ]
  },
  {
   "cell_type": "code",
   "execution_count": 2,
   "id": "d553e9e0-f8ad-4a25-89b2-95029c2a4cf5",
   "metadata": {},
   "outputs": [
    {
     "name": "stdout",
     "output_type": "stream",
     "text": [
      "Collecting tk\n",
      "  Downloading tk-0.1.0-py3-none-any.whl.metadata (693 bytes)\n",
      "Downloading tk-0.1.0-py3-none-any.whl (3.9 kB)\n",
      "Installing collected packages: tk\n",
      "Successfully installed tk-0.1.0\n",
      "Note: you may need to restart the kernel to use updated packages.\n"
     ]
    }
   ],
   "source": [
    "pip install tk"
   ]
  },
  {
   "cell_type": "markdown",
   "id": "cdfb7065-543d-4ef4-bb7d-3101948cbef4",
   "metadata": {},
   "source": [
    "window.mainloop() tells Python to run the Tkinter event loop. This method listens for events, such as button clicks or keypresses, and blocks any code that comes after it from running until you close the window where you called the method."
   ]
  },
  {
   "cell_type": "code",
   "execution_count": 28,
   "id": "b30da738-d1f2-420b-815a-8567f89e72d6",
   "metadata": {},
   "outputs": [
    {
     "name": "stdout",
     "output_type": "stream",
     "text": [
      "Done\n"
     ]
    }
   ],
   "source": [
    "import tkinter\n",
    "\n",
    "mywindow=tkinter.Tk()\n",
    "mywindow.title(\"My Window\")\n",
    "mywindow.geometry(\"400x200\")\n",
    "mybutton=tkinter.Button(mywindow,text=\"ok\",command=mywindow.destroy,height=3,width=5).pack(side='bottom')\n",
    "mywindow.mainloop()\n",
    "print('Done')"
   ]
  },
  {
   "cell_type": "code",
   "execution_count": 34,
   "id": "c859ee47-d758-401b-adc8-9b3afc1cc3ea",
   "metadata": {},
   "outputs": [],
   "source": [
    "from tkinter import *\n",
    "import tkinter.font as font\n",
    "\n",
    "gui = Tk(className='Python Examples - Button')\n",
    "gui.geometry(\"500x200\")\n",
    "\n",
    "# define font\n",
    "myFont = font.Font(family='Helvetica')\n",
    "\n",
    "# create button\n",
    "button = Button(gui, text='My Button',command=gui.destroy, bg='black', fg='red',font=myFont)\n",
    "# apply font to the button label\n",
    "#button['font'] = myFont\n",
    "# add button to gui window\n",
    "button.pack()\n",
    "\n",
    "gui.mainloop() "
   ]
  },
  {
   "cell_type": "code",
   "execution_count": 40,
   "id": "5a679f47-d56d-4a7d-b36d-e063c605187c",
   "metadata": {},
   "outputs": [],
   "source": [
    "from tkinter import *\n",
    "import tkinter.font as font\n",
    "\n",
    "def myfun():\n",
    "    text=button['text']\n",
    "    if(text==\"ok\"):\n",
    "        button['text']=\"cancel\"\n",
    "    else:\n",
    "        button['text']=\"ok\"\n",
    "\n",
    "\n",
    "gui = Tk(className='Python Examples - Button')\n",
    "gui.geometry(\"500x200\")\n",
    "\n",
    "# define font\n",
    "myFont = font.Font(family='Helvetica')\n",
    "\n",
    "# create button\n",
    "button = Button(gui, text='ok', bg='black', fg='red',font=myFont,command=myfun)\n",
    "# apply font to the button label\n",
    "#button['font'] = myFont\n",
    "# add button to gui window\n",
    "button.pack()\n",
    "\n",
    "gui.mainloop() "
   ]
  },
  {
   "cell_type": "code",
   "execution_count": 38,
   "id": "4bf3eba1-5c2f-4c22-9a0b-7813aa12dd48",
   "metadata": {},
   "outputs": [],
   "source": [
    "from tkinter import *\n",
    "import tkinter.font as font\n",
    "\n",
    "def myfun():\n",
    "    text=button['text']\n",
    "    if(text==\"Hello\"):\n",
    "        button['text']=\"Bye\"\n",
    "        gui.destroy()\n",
    "    \n",
    "\n",
    "\n",
    "gui = Tk(className='Python Examples - Button')\n",
    "gui.geometry(\"500x200\")\n",
    "\n",
    "# define font\n",
    "myFont = font.Font(family='Helvetica')\n",
    "\n",
    "# create button\n",
    "button = Button(gui, text='Hello', bg='black', fg='red',font=myFont,command=myfun)\n",
    "# apply font to the button label\n",
    "#button['font'] = myFont\n",
    "# add button to gui window\n",
    "button.pack()\n",
    "\n",
    "gui.mainloop() "
   ]
  },
  {
   "cell_type": "code",
   "execution_count": 42,
   "id": "be09e693-f8f1-4a89-a616-fdb9cb23cb47",
   "metadata": {},
   "outputs": [],
   "source": [
    "# Change Button Background Color during Mouse Click\n",
    "\n",
    "from tkinter import *\n",
    "import tkinter.font as font\n",
    "\n",
    "gui = Tk(className='Python Examples - Button')\n",
    "gui.geometry(\"500x200\")\n",
    "\n",
    "# define font\n",
    "myFont = font.Font(family='Helvetica')\n",
    "\n",
    "# create button\n",
    "button = Button(gui, text='ok', bg='green', activebackground='red',font=myFont)\n",
    "# apply font to the button label\n",
    "#button['font'] = myFont\n",
    "# add button to gui window\n",
    "button.pack()\n",
    "\n",
    "gui.mainloop() "
   ]
  },
  {
   "cell_type": "code",
   "execution_count": 48,
   "id": "39d5d327-a76f-4cc5-a5d0-d2d3ea60d1c7",
   "metadata": {},
   "outputs": [],
   "source": [
    "from tkinter import *\n",
    "\n",
    "\n",
    "def printDetails() :\n",
    "    usernameText = usernameEntry.get()\n",
    "    finaltext=\"user entered :\"+usernameText\n",
    "    displaylabel['text']=finaltext\n",
    "    \n",
    "\n",
    "#window\n",
    "tkWindow = Tk()  \n",
    "tkWindow.geometry('400x150')  \n",
    "tkWindow.title('Python Examples')\n",
    "\n",
    "#label\n",
    "usernameLabel = Label(tkWindow, text=\"Enter your name\")\n",
    "#entry for user input\n",
    "usernameEntry = Entry(tkWindow)\n",
    "\n",
    "displaylabel=Label(tkWindow,text=\"\")\n",
    "\n",
    "\n",
    "#submit button\n",
    "submitButton = Button(tkWindow, text=\"Submit\", command=printDetails)\n",
    "Buttonb = Button(tkWindow, text=\"Bye\", command=tkWindow.destroy)\n",
    "\n",
    "#place label, entry, and button in grid\n",
    "usernameLabel.grid(row=0, column=0)\n",
    "usernameEntry.grid(row=0, column=1) \n",
    "submitButton .grid(row=1, column=1)  \n",
    "displaylabel.grid(row=6,column=1)\n",
    "Buttonb.grid(row=8,column=1)\n",
    "\n",
    "#main loop\n",
    "tkWindow.mainloop()"
   ]
  },
  {
   "cell_type": "code",
   "execution_count": 52,
   "id": "f0ff3463-841a-4388-947e-86682bc05dbf",
   "metadata": {},
   "outputs": [],
   "source": [
    "\n",
    "from tkinter import *\n",
    "from functools import partial\n",
    "import tkinter.font as font\n",
    "\n",
    "def validateLogin():\n",
    "    myFont = font.Font(family='Helvetica',size=20)\n",
    "    if(usernameEntry.get()==\"scott\" and passwordEntry.get()==\"tiger\"):\n",
    "        resultlabel.config(fg=\"green\",font=myFont)\n",
    "        resultlabel[\"text\"]=\"Valid User\"\n",
    "    else:\n",
    "        resultlabel.config(fg=\"red\",font=myFont)\n",
    "        resultlabel[\"text\"]=\"Invalid User\"\n",
    "\t\n",
    "\n",
    "#window\n",
    "tkWindow = Tk()  \n",
    "tkWindow.geometry('400x150')  \n",
    "tkWindow.title('Tkinter Login Form - pythonexamples.org')\n",
    "\n",
    "#username label and text entry box\n",
    "usernameLabel = Label(tkWindow, text=\"User Name\")\n",
    "usernameLabel.grid(row=0, column=0)\n",
    "\n",
    "usernameEntry = Entry(tkWindow)\n",
    "usernameEntry.grid(row=0, column=1)   \n",
    "\n",
    "#password label and password entry box\n",
    "passwordLabel = Label(tkWindow,text=\"Password\")\n",
    "passwordLabel.grid(row=1, column=0)  \n",
    "\n",
    "passwordEntry = Entry(tkWindow, show='*')\n",
    "passwordEntry.grid(row=1, column=1)  \n",
    "\n",
    "resultlabel=Label(tkWindow)\n",
    "resultlabel.grid(row=6,column=0)\n",
    "\n",
    "\n",
    "#login button\n",
    "loginButton = Button(tkWindow, text=\"Login\", command=validateLogin)\n",
    "loginButton.grid(row=4, column=0)  \n",
    "\n",
    "\n",
    "\n",
    "tkWindow.mainloop()"
   ]
  },
  {
   "cell_type": "code",
   "execution_count": 70,
   "id": "bb6cf2be-7933-4054-b206-9a14115c7ba1",
   "metadata": {},
   "outputs": [
    {
     "name": "stdout",
     "output_type": "stream",
     "text": [
      "1\n",
      "2\n",
      "Fizz\n",
      "4\n",
      "Buzz\n",
      "Fizz\n",
      "7\n",
      "8\n",
      "Fizz\n",
      "Buzz\n",
      "11\n",
      "Fizz\n",
      "13\n",
      "14\n",
      "Fizzbuzz\n",
      "16\n",
      "17\n",
      "Fizz\n",
      "19\n",
      "Buzz\n",
      "Fizz\n",
      "22\n",
      "23\n",
      "Fizz\n",
      "Buzz\n",
      "26\n",
      "Fizz\n",
      "28\n",
      "29\n",
      "Fizzbuzz\n",
      "31\n",
      "32\n",
      "Fizz\n",
      "34\n",
      "Buzz\n",
      "Fizz\n",
      "37\n",
      "38\n",
      "Fizz\n",
      "Buzz\n",
      "41\n",
      "Fizz\n",
      "43\n",
      "44\n",
      "Fizzbuzz\n",
      "46\n",
      "47\n",
      "Fizz\n",
      "49\n",
      "Buzz\n",
      "Fizz\n",
      "52\n",
      "53\n",
      "Fizz\n",
      "Buzz\n",
      "56\n",
      "Fizz\n",
      "58\n",
      "59\n",
      "Fizzbuzz\n",
      "61\n",
      "62\n",
      "Fizz\n",
      "64\n",
      "Buzz\n",
      "Fizz\n",
      "67\n",
      "68\n",
      "Fizz\n",
      "Buzz\n",
      "71\n",
      "Fizz\n",
      "73\n",
      "74\n",
      "Fizzbuzz\n",
      "76\n",
      "77\n",
      "Fizz\n",
      "79\n",
      "Buzz\n",
      "Fizz\n",
      "82\n",
      "83\n",
      "Fizz\n",
      "Buzz\n",
      "86\n",
      "Fizz\n",
      "88\n",
      "89\n",
      "Fizzbuzz\n",
      "91\n",
      "92\n",
      "Fizz\n",
      "94\n",
      "Buzz\n",
      "Fizz\n",
      "97\n",
      "98\n",
      "Fizz\n"
     ]
    }
   ],
   "source": [
    "for i in range(1,100):\n",
    "    if i % 3 == 0 and  i % 5 == 0 :\n",
    "        print('Fizzbuzz')\n",
    "    elif i % 5 == 0 :\n",
    "        print('Buzz')\n",
    "    elif i % 3 == 0 :\n",
    "        print('Fizz')\n",
    "    else:\n",
    "        print(i)"
   ]
  },
  {
   "cell_type": "code",
   "execution_count": 1,
   "id": "904cd519-749e-4397-8fc8-6f5ea3ebcb2a",
   "metadata": {},
   "outputs": [
    {
     "name": "stdout",
     "output_type": "stream",
     "text": [
      "9.1.0\n"
     ]
    }
   ],
   "source": [
    "import mysql.connector\n",
    "\n",
    "print(mysql.connector.__version__)\n"
   ]
  },
  {
   "cell_type": "code",
   "execution_count": 3,
   "id": "83ad0750-d3e2-4b93-b350-a351499ca0ce",
   "metadata": {},
   "outputs": [
    {
     "name": "stdout",
     "output_type": "stream",
     "text": [
      "Found existing installation: mysql-connector-python 9.1.0\n",
      "Uninstalling mysql-connector-python-9.1.0:\n",
      "  Successfully uninstalled mysql-connector-python-9.1.0\n"
     ]
    },
    {
     "name": "stderr",
     "output_type": "stream",
     "text": [
      "WARNING: Failed to remove contents in a temporary directory 'C:\\Users\\priya\\AppData\\Local\\Temp\\pip-uninstall-k0je9pvq'.\n",
      "You can safely remove it manually.\n"
     ]
    }
   ],
   "source": [
    "!pip uninstall mysql-connector-python -y\n"
   ]
  },
  {
   "cell_type": "code",
   "execution_count": 5,
   "id": "227f4179-7314-43db-b37e-acd387b8b9e9",
   "metadata": {},
   "outputs": [
    {
     "name": "stdout",
     "output_type": "stream",
     "text": [
      "Collecting mysql-connector-python==8.0.25\n",
      "  Downloading mysql_connector_python-8.0.25-py2.py3-none-any.whl.metadata (1.7 kB)\n",
      "Requirement already satisfied: protobuf>=3.0.0 in c:\\users\\priya\\anaconda3\\lib\\site-packages (from mysql-connector-python==8.0.25) (3.20.3)\n",
      "Downloading mysql_connector_python-8.0.25-py2.py3-none-any.whl (319 kB)\n",
      "   ---------------------------------------- 0.0/319.9 kB ? eta -:--:--\n",
      "   - -------------------------------------- 10.2/319.9 kB ? eta -:--:--\n",
      "   ----------- ---------------------------- 92.2/319.9 kB 1.7 MB/s eta 0:00:01\n",
      "   ---------------------------------------- 319.9/319.9 kB 4.0 MB/s eta 0:00:00\n",
      "Installing collected packages: mysql-connector-python\n",
      "Successfully installed mysql-connector-python-8.0.25\n"
     ]
    }
   ],
   "source": [
    "!pip install mysql-connector-python==8.0.25\n"
   ]
  },
  {
   "cell_type": "code",
   "execution_count": 1,
   "id": "ee366fe8-f255-4b7b-8af1-2795cfb4ba70",
   "metadata": {},
   "outputs": [
    {
     "name": "stdout",
     "output_type": "stream",
     "text": [
      "8.0.25\n"
     ]
    }
   ],
   "source": [
    "import mysql.connector\n",
    "print(mysql.connector.__version__)\n"
   ]
  },
  {
   "cell_type": "code",
   "execution_count": 3,
   "id": "f320deed-da1b-4504-b030-91493b6cd5dd",
   "metadata": {},
   "outputs": [
    {
     "name": "stdout",
     "output_type": "stream",
     "text": [
      "(1, 'Accounts', 'Delhi')\n",
      "(2, 'Sales', 'Mumbai')\n",
      "(3, 'Management', 'Banglore')\n",
      "(4, 'Rnd', 'Nashik')\n",
      "(5, 'Warehouse', 'Nagpur')\n",
      "(6, 'Marketing', 'Pune')\n",
      "(7, 'Board', 'Mumbai')\n",
      "(8, 'Placement', 'NaviMumbai')\n"
     ]
    }
   ],
   "source": [
    "import mysql.connector as m\n",
    "mydatabase=m.connect(host=\"localhost\",user=\"root\",password=\"root1234\",database=\"pythondb1\")\n",
    "cursor=mydatabase.cursor()\n",
    "query=\"select * from dept\"\n",
    "cursor.execute(query)\n",
    "result=cursor.fetchall()     # here we get tuples equivalent to the number of records\n",
    "for record in result:\n",
    "    print(record)\n"
   ]
  },
  {
   "cell_type": "code",
   "execution_count": null,
   "id": "e375727f-5bc4-42c5-8f03-7cbbc6a28fcb",
   "metadata": {},
   "outputs": [],
   "source": []
  }
 ],
 "metadata": {
  "kernelspec": {
   "display_name": "Python 3 (ipykernel)",
   "language": "python",
   "name": "python3"
  },
  "language_info": {
   "codemirror_mode": {
    "name": "ipython",
    "version": 3
   },
   "file_extension": ".py",
   "mimetype": "text/x-python",
   "name": "python",
   "nbconvert_exporter": "python",
   "pygments_lexer": "ipython3",
   "version": "3.12.4"
  }
 },
 "nbformat": 4,
 "nbformat_minor": 5
}
