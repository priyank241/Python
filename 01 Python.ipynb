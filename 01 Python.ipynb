{
 "cells": [
  {
   "cell_type": "markdown",
   "id": "8a687ddd-0fa3-449c-920a-a4e36789f634",
   "metadata": {},
   "source": [
    "# Python"
   ]
  },
  {
   "cell_type": "markdown",
   "id": "d91916d6-4091-4b39-a2ff-e1444e1d7139",
   "metadata": {},
   "source": [
    "##### compiler+interpreter "
   ]
  },
  {
   "cell_type": "code",
   "execution_count": 10,
   "id": "64696c79-4cb1-4bac-979c-52e19a18cd02",
   "metadata": {},
   "outputs": [
    {
     "name": "stdout",
     "output_type": "stream",
     "text": [
      "hello\n",
      "welcome\n",
      "it is positive\n",
      "Done\n",
      "thank you\n"
     ]
    }
   ],
   "source": [
    "# As python doesn't use curly braces for defining the scope, it is mandatory that we must follow indentation\n",
    "print(\"hello\");         \n",
    "print(\"welcome\");  \n",
    "num=12  \n",
    "if(num>0):\n",
    "    print(\"it is positive\")        #    Indentation is must here\n",
    "elif(num<0):\n",
    "    print(\"it is negative\")\n",
    "else:\n",
    "    print(\"it is zero\")\n",
    "print(\"Done\")\n",
    "print(\"thank you\")\n",
    "    "
   ]
  },
  {
   "cell_type": "code",
   "execution_count": 12,
   "id": "1e403367-070f-49c8-b8d0-28a9c89bbbb6",
   "metadata": {},
   "outputs": [
    {
     "name": "stdout",
     "output_type": "stream",
     "text": [
      "100   <class 'int'>\n"
     ]
    }
   ],
   "source": [
    "x=100\n",
    "print(x,' ',type(x))"
   ]
  },
  {
   "cell_type": "code",
   "execution_count": 16,
   "id": "9136b91c-ed22-492a-96d2-a9997dfee206",
   "metadata": {},
   "outputs": [
    {
     "name": "stdout",
     "output_type": "stream",
     "text": [
      "True   <class 'bool'>\n"
     ]
    }
   ],
   "source": [
    "x=True\n",
    "print(x,' ',type(x))"
   ]
  },
  {
   "cell_type": "code",
   "execution_count": 18,
   "id": "99dedc92-b15a-4e89-8818-3ec8166ed80f",
   "metadata": {},
   "outputs": [
    {
     "name": "stdout",
     "output_type": "stream",
     "text": [
      "9.11   <class 'float'>\n"
     ]
    }
   ],
   "source": [
    "x=9.11\n",
    "print(x,' ',type(x))"
   ]
  },
  {
   "cell_type": "code",
   "execution_count": 9,
   "id": "43a12c31-c1bd-4bf4-b6ce-e976099eb769",
   "metadata": {},
   "outputs": [
    {
     "name": "stdin",
     "output_type": "stream",
     "text": [
      "Enter boolean \n"
     ]
    },
    {
     "name": "stdout",
     "output_type": "stream",
     "text": [
      "False   <class 'bool'>\n"
     ]
    }
   ],
   "source": [
    "x=bool(input('Enter boolean'))\n",
    "print(x,' ',type(x))"
   ]
  },
  {
   "cell_type": "code",
   "execution_count": 11,
   "id": "d9ca1613-f704-4bf4-b528-241371e97740",
   "metadata": {},
   "outputs": [
    {
     "data": {
      "text/plain": [
       "True"
      ]
     },
     "execution_count": 11,
     "metadata": {},
     "output_type": "execute_result"
    }
   ],
   "source": [
    "x=-1 #if x=0 then False\n",
    "a=bool(x)\n",
    "a"
   ]
  },
  {
   "cell_type": "code",
   "execution_count": 36,
   "id": "0583cb7d-885c-4722-943c-367c9c9035de",
   "metadata": {},
   "outputs": [
    {
     "data": {
      "text/plain": [
       "5.0"
      ]
     },
     "execution_count": 36,
     "metadata": {},
     "output_type": "execute_result"
    }
   ],
   "source": [
    "x=5\n",
    "a=float(x)\n",
    "a"
   ]
  },
  {
   "cell_type": "code",
   "execution_count": 42,
   "id": "5d9365e7-ef2f-48f4-b571-6dfe143908d1",
   "metadata": {},
   "outputs": [
    {
     "name": "stdout",
     "output_type": "stream",
     "text": [
      "1   <class 'int'>\n"
     ]
    }
   ],
   "source": [
    "x=True\n",
    "a = int(x)\n",
    "print(a,' ',type(a))"
   ]
  },
  {
   "cell_type": "code",
   "execution_count": 44,
   "id": "56af87c3-9506-4d0c-b01a-2ec9d44230c1",
   "metadata": {},
   "outputs": [
    {
     "name": "stdout",
     "output_type": "stream",
     "text": [
      "A    65\n"
     ]
    }
   ],
   "source": [
    "ch='A'\n",
    "print(ch,'  ',ord(ch))"
   ]
  },
  {
   "cell_type": "code",
   "execution_count": 50,
   "id": "95015f4f-97b1-4438-be5b-288e5cc5456e",
   "metadata": {},
   "outputs": [
    {
     "name": "stdout",
     "output_type": "stream",
     "text": [
      "d\n"
     ]
    }
   ],
   "source": [
    "num=100\n",
    "print(chr(num))"
   ]
  },
  {
   "cell_type": "code",
   "execution_count": 54,
   "id": "1a0f8d68-a542-4429-873e-35b767ce358a",
   "metadata": {},
   "outputs": [
    {
     "name": "stdout",
     "output_type": "stream",
     "text": [
      "<class 'str'>   <class 'str'>\n"
     ]
    }
   ],
   "source": [
    "print(type('A'),' ',type('abc'))"
   ]
  },
  {
   "cell_type": "code",
   "execution_count": 23,
   "id": "9b9156f2-6d28-45a1-b73c-0328deeb1a72",
   "metadata": {},
   "outputs": [
    {
     "name": "stdout",
     "output_type": "stream",
     "text": [
      "Number is  100\n"
     ]
    }
   ],
   "source": [
    "num=100\n",
    "print('Number is ',num) #not to concat with + only concat with , for different datatpyes"
   ]
  },
  {
   "cell_type": "code",
   "execution_count": 64,
   "id": "00928c97-761b-43c0-9c65-9d5a31929ee5",
   "metadata": {},
   "outputs": [
    {
     "name": "stdout",
     "output_type": "stream",
     "text": [
      "Number is 100\n"
     ]
    }
   ],
   "source": [
    "print('Number is '+str(num))"
   ]
  },
  {
   "cell_type": "code",
   "execution_count": 66,
   "id": "88b8928c-cfa6-437a-b671-044d13a5f7db",
   "metadata": {},
   "outputs": [
    {
     "data": {
      "text/plain": [
       "int"
      ]
     },
     "execution_count": 66,
     "metadata": {},
     "output_type": "execute_result"
    }
   ],
   "source": [
    "a = int('345')\n",
    "type(a)"
   ]
  },
  {
   "cell_type": "code",
   "execution_count": 72,
   "id": "b4611396-0927-48b9-8772-57f73184281e",
   "metadata": {},
   "outputs": [
    {
     "ename": "ValueError",
     "evalue": "invalid literal for int() with base 10: 'abc'",
     "output_type": "error",
     "traceback": [
      "\u001b[1;31m---------------------------------------------------------------------------\u001b[0m",
      "\u001b[1;31mValueError\u001b[0m                                Traceback (most recent call last)",
      "Cell \u001b[1;32mIn[72], line 1\u001b[0m\n\u001b[1;32m----> 1\u001b[0m a \u001b[38;5;241m=\u001b[39m \u001b[38;5;28mint\u001b[39m(\u001b[38;5;124m\"\u001b[39m\u001b[38;5;124mabc\u001b[39m\u001b[38;5;124m\"\u001b[39m)\n",
      "\u001b[1;31mValueError\u001b[0m: invalid literal for int() with base 10: 'abc'"
     ]
    }
   ],
   "source": [
    "a = int(\"abc\") #raises value error"
   ]
  },
  {
   "cell_type": "code",
   "execution_count": 74,
   "id": "7841493e-302a-4c03-a737-2a871a69f519",
   "metadata": {},
   "outputs": [
    {
     "ename": "TypeError",
     "evalue": "int() argument must be a string, a bytes-like object or a real number, not 'list'",
     "output_type": "error",
     "traceback": [
      "\u001b[1;31m---------------------------------------------------------------------------\u001b[0m",
      "\u001b[1;31mTypeError\u001b[0m                                 Traceback (most recent call last)",
      "Cell \u001b[1;32mIn[74], line 1\u001b[0m\n\u001b[1;32m----> 1\u001b[0m a \u001b[38;5;241m=\u001b[39m \u001b[38;5;28mint\u001b[39m([\u001b[38;5;241m1\u001b[39m,\u001b[38;5;241m2\u001b[39m,\u001b[38;5;241m3\u001b[39m])\n",
      "\u001b[1;31mTypeError\u001b[0m: int() argument must be a string, a bytes-like object or a real number, not 'list'"
     ]
    }
   ],
   "source": [
    "a = int([1,2,3])"
   ]
  },
  {
   "cell_type": "code",
   "execution_count": 92,
   "id": "1ef1e92b-4dc7-4a58-8c82-3c9ba44495a8",
   "metadata": {},
   "outputs": [
    {
     "name": "stdout",
     "output_type": "stream",
     "text": [
      "(6+5j)   <class 'complex'>\n",
      "(2.4+3j)   <class 'complex'>\n"
     ]
    }
   ],
   "source": [
    "var = 6 + 5j\n",
    "print(var, ' ',type(var))\n",
    "var2 = 2.4 + 3j\n",
    "print(var2, ' ',type(var))"
   ]
  },
  {
   "cell_type": "code",
   "execution_count": 94,
   "id": "272e1ccf-0417-4729-b85a-8b56ea5073c2",
   "metadata": {},
   "outputs": [
    {
     "data": {
      "text/plain": [
       "(3.6+2j)"
      ]
     },
     "execution_count": 94,
     "metadata": {},
     "output_type": "execute_result"
    }
   ],
   "source": [
    "var-var2"
   ]
  },
  {
   "cell_type": "code",
   "execution_count": 100,
   "id": "b9f825e2-b6b4-4ca4-ada0-05334f57a005",
   "metadata": {},
   "outputs": [
    {
     "name": "stdout",
     "output_type": "stream",
     "text": [
      "6.0\n",
      "5.0\n"
     ]
    }
   ],
   "source": [
    "print(var.real) #to get real and imaginary parts\n",
    "print(var.imag)"
   ]
  },
  {
   "cell_type": "code",
   "execution_count": 118,
   "id": "f593275e-9f7a-4391-b828-e65fe34a6f50",
   "metadata": {},
   "outputs": [
    {
     "name": "stdout",
     "output_type": "stream",
     "text": [
      "(5+7.8j) \n",
      " 5.0 \n",
      " 7.8 \n",
      " <class 'complex'>\n"
     ]
    }
   ],
   "source": [
    "var3 = complex(5,7.8)\n",
    "print(var3,'\\n',var3.real,'\\n',var3.imag,'\\n',type(var3))"
   ]
  },
  {
   "cell_type": "code",
   "execution_count": null,
   "id": "43f3b098-4c70-4ace-94a2-e6a44e6cbb69",
   "metadata": {},
   "outputs": [],
   "source": [
    "#single line commet\n",
    "\"\"\"\n",
    "multi \n",
    "line comments\n",
    "\"\"\""
   ]
  },
  {
   "cell_type": "code",
   "execution_count": 116,
   "id": "4ad71a48-17bd-4dc1-8a71-163157185def",
   "metadata": {},
   "outputs": [
    {
     "name": "stdout",
     "output_type": "stream",
     "text": [
      "(7.8+0j) \n",
      " 7.8 \n",
      " 0.0 \n",
      " <class 'complex'>\n"
     ]
    }
   ],
   "source": [
    "var3 = complex(7.8)\n",
    "print(var3,'\\n',var3.real,'\\n',var3.imag,'\\n',type(var3))"
   ]
  },
  {
   "cell_type": "code",
   "execution_count": 27,
   "id": "c3386c59-27b3-4b4f-886b-4f7a3d803246",
   "metadata": {},
   "outputs": [
    {
     "name": "stdout",
     "output_type": "stream",
     "text": [
      "(7+0j) \n",
      " 7.0 \n",
      " 0.0 \n",
      " <class 'complex'>\n"
     ]
    }
   ],
   "source": [
    "var3 = complex(\"7\")\n",
    "print(var3,'\\n',var3.real,'\\n',var3.imag,'\\n',type(var3))"
   ]
  },
  {
   "cell_type": "markdown",
   "id": "99b3b786-2eb8-4c88-bc02-c65684de5b7f",
   "metadata": {},
   "source": [
    "## Operators"
   ]
  },
  {
   "cell_type": "markdown",
   "id": "71911dd2-00f0-41ce-a6e4-8a5f80f3c428",
   "metadata": {},
   "source": [
    "#### Arithmetic"
   ]
  },
  {
   "cell_type": "code",
   "execution_count": 126,
   "id": "d6f10190-ef78-473a-a79d-a0d68a5987d4",
   "metadata": {},
   "outputs": [
    {
     "name": "stdout",
     "output_type": "stream",
     "text": [
      "Addition is 85\n",
      "Subtraction is 45\n",
      "Multiplication is 1300\n",
      "Division is 3.25\n",
      "Remainder is 5\n",
      "Floor Division is 3\n"
     ]
    }
   ],
   "source": [
    "a=65\n",
    "b=20\n",
    "print(\"Addition is\", a+b)\n",
    "print(\"Subtraction is\", a-b)\n",
    "print(\"Multiplication is\", a*b)\n",
    "print(\"Division is\", a/b)\n",
    "print(\"Remainder is\", a%b)\n",
    "print(\"Floor Division is\", a//b)"
   ]
  },
  {
   "cell_type": "markdown",
   "id": "cf16e63b-e8b1-4454-abd0-6eca53d87afb",
   "metadata": {},
   "source": [
    "#### Assignment"
   ]
  },
  {
   "cell_type": "code",
   "execution_count": 133,
   "id": "f1d5022e-dddc-481f-a154-f0d799d6e84e",
   "metadata": {},
   "outputs": [
    {
     "name": "stdout",
     "output_type": "stream",
     "text": [
      "2\n",
      "4\n",
      "2\n",
      "4\n",
      "2.0\n",
      "0.0\n",
      "0.0\n"
     ]
    }
   ],
   "source": [
    "a=6\n",
    "b=2\n",
    "a=b\n",
    "print(a)#a2\n",
    "a+=b\n",
    "print(a)\n",
    "a-=b\n",
    "print(a)\n",
    "a*=b\n",
    "print(a)\n",
    "a/=b\n",
    "print(a)\n",
    "a%=b\n",
    "print(a)\n",
    "a//=b\n",
    "print(a)"
   ]
  },
  {
   "cell_type": "markdown",
   "id": "3df14f7f-ad67-4332-9a9f-560725a5ccd5",
   "metadata": {},
   "source": [
    "#### Logical"
   ]
  },
  {
   "cell_type": "code",
   "execution_count": 136,
   "id": "e9131af4-fcf4-4039-bdcf-da3b2ef2c124",
   "metadata": {},
   "outputs": [
    {
     "name": "stdout",
     "output_type": "stream",
     "text": [
      "either a is greater than 10 or b is less than 5\n",
      "False\n",
      "True\n"
     ]
    }
   ],
   "source": [
    "a=6\n",
    "b=2\n",
    "\n",
    "if a>10 and b<5:\n",
    "    print(\"a is greater than 10 and b is less than 3\")\n",
    "if a>10 or b<5:\n",
    "    print(\"either a is greater than 10 or b is less than 5\")\n",
    "print(not a>b)\n",
    "print(not a<b)"
   ]
  },
  {
   "cell_type": "markdown",
   "id": "1704dc4a-2f79-47e0-b0d1-466b3250f78b",
   "metadata": {},
   "source": [
    "#### Comparison"
   ]
  },
  {
   "cell_type": "code",
   "execution_count": 139,
   "id": "4cfd1ea7-e016-4343-9559-454096775959",
   "metadata": {},
   "outputs": [
    {
     "name": "stdout",
     "output_type": "stream",
     "text": [
      "a is not equal to b\n",
      "a is greater than b\n",
      "a is greater than equal to b\n"
     ]
    }
   ],
   "source": [
    "a=65\n",
    "b=20\n",
    "\n",
    "if a==b:\n",
    "    print(\"a and b are equal\")\n",
    "if a!=b:\n",
    "    print(\"a is not equal to b\")\n",
    "if a>b:\n",
    "    print(\"a is greater than b\")\n",
    "if a<b:\n",
    "    print(\"a is less than b\")\n",
    "if a>=b:\n",
    "    print(\"a is greater than equal to b\")\n",
    "if a<=b:\n",
    "    print(\"a is less than equal to b\")"
   ]
  },
  {
   "cell_type": "markdown",
   "id": "8717538a-a209-42ec-8bbb-a5d85dedb6f1",
   "metadata": {},
   "source": [
    "#### Identity"
   ]
  },
  {
   "cell_type": "code",
   "execution_count": 148,
   "id": "2b9b0239-85ed-45f8-8cf7-8ef80485b17d",
   "metadata": {},
   "outputs": [
    {
     "name": "stdout",
     "output_type": "stream",
     "text": [
      "False\n",
      "True\n",
      "True\n",
      "False\n",
      "True\n",
      "100\n",
      "140732373943832\n",
      "140732373943832\n",
      "True\n",
      "True\n"
     ]
    }
   ],
   "source": [
    "\"\"\"\n",
    "In Python, to write an empty class pass statement is used.\n",
    " pass is a special statement in Python that does nothing.\n",
    "It only works as a dummy statement.\n",
    "However, objects of an empty class can also be created.\n",
    "\"\"\"\n",
    "\n",
    "class MyClass:\n",
    "    pass\n",
    "\n",
    "\n",
    "m1=MyClass()\n",
    "m2=MyClass()\n",
    "print(m1 is m2)#false\n",
    "print(m1 is not m2)#true\n",
    "\n",
    "m2=m1\n",
    "print(m1 is m2) #true\n",
    "print(m1 is not m2)#false\n",
    "print(m1 == m2)#true\n",
    "# one more example\n",
    "\n",
    "k=100\n",
    "print(k)\n",
    "print(id(k))#get address of object where k refers to\n",
    "s=100 #no new object is created s will refer to same object that is reffered by k   no pool concept object is in heap\n",
    "print(id(s))\n",
    "\n",
    "print(k==s)\n",
    "print(k is s)\n"
   ]
  },
  {
   "cell_type": "markdown",
   "id": "8d639a5d-0fc4-4547-8848-62b2d0fe2e4a",
   "metadata": {},
   "source": [
    "#### Membership"
   ]
  },
  {
   "cell_type": "code",
   "execution_count": 160,
   "id": "08611a2a-5af4-4766-9c38-4734ad8bc325",
   "metadata": {},
   "outputs": [
    {
     "name": "stdout",
     "output_type": "stream",
     "text": [
      "True\n",
      "False\n",
      "False\n",
      "True\n",
      "False\n",
      "False\n",
      "True\n"
     ]
    }
   ],
   "source": [
    "#in is the memebership operator most often used with list,dictionary\n",
    "# with list\n",
    "list1 = [1, 2, 3, 4, 5, 6, 7]\n",
    "print(4 in list1)#true\n",
    "print(4 not in list1)#false\n",
    "\n",
    "# with dictionary\n",
    "dict = {1:\"first\",2:\"second\"}\n",
    "print(3 in dict)\n",
    "print(2 in dict) #will only check keys not values\n",
    "\n",
    "# with tuple\n",
    "tup1 = ('physics', 'chemistry', 1997, 2000)\n",
    "print('hello' in tup1)\n",
    "print('chemistry' not in tup1)\n",
    "print(1997 in tup1)"
   ]
  },
  {
   "cell_type": "code",
   "execution_count": 164,
   "id": "23759892-3ad1-4df1-9efa-42f295af4714",
   "metadata": {},
   "outputs": [
    {
     "name": "stdout",
     "output_type": "stream",
     "text": [
      "6\n",
      "4\n",
      "8\n"
     ]
    }
   ],
   "source": [
    "print(2*3) #multiplication\n",
    "print(2**2) #square\n",
    "print((2**3)) #cube"
   ]
  },
  {
   "cell_type": "markdown",
   "id": "fa707e15-9acf-4caf-b631-8d31b352d0c0",
   "metadata": {},
   "source": [
    "### Input"
   ]
  },
  {
   "cell_type": "code",
   "execution_count": 173,
   "id": "7339d19f-da22-48cf-bd54-bc74d93ed058",
   "metadata": {},
   "outputs": [
    {
     "name": "stdin",
     "output_type": "stream",
     "text": [
      "Enter your name:  Priyank\n"
     ]
    },
    {
     "name": "stdout",
     "output_type": "stream",
     "text": [
      "Hello, Priyank\n"
     ]
    }
   ],
   "source": [
    "a = input(\"Enter your name: \")#by default input values is string\n",
    "print(\"Hello, \"+a)"
   ]
  },
  {
   "cell_type": "code",
   "execution_count": 171,
   "id": "2917a1dd-5cac-4e53-bac7-5d616090019e",
   "metadata": {},
   "outputs": [
    {
     "name": "stdin",
     "output_type": "stream",
     "text": [
      "Enter you age:  22\n"
     ]
    },
    {
     "name": "stdout",
     "output_type": "stream",
     "text": [
      "You are  22\n"
     ]
    }
   ],
   "source": [
    "a = int(input(\"Enter you age: \"))\n",
    "print(\"You are \",a)"
   ]
  },
  {
   "cell_type": "markdown",
   "id": "6f9c8adb-d03e-4cab-b4ee-815236adc8e4",
   "metadata": {},
   "source": [
    "### If Else"
   ]
  },
  {
   "cell_type": "code",
   "execution_count": 178,
   "id": "585cd062-9b3b-4105-8448-687283434a0f",
   "metadata": {},
   "outputs": [
    {
     "name": "stdout",
     "output_type": "stream",
     "text": [
      "Postive even\n"
     ]
    }
   ],
   "source": [
    "a = 2 \n",
    "if a>0:\n",
    "    if(a%2==0):\n",
    "        print(\"Postive even\")#nested if\n",
    "    else:\n",
    "        print(\"Positve odd\")\n",
    "elif a==0:\n",
    "    print(\"Zero\")\n",
    "else:\n",
    "    print(\"Negative\")"
   ]
  },
  {
   "cell_type": "markdown",
   "id": "5e9073ae-5094-4772-9ccc-0c1be7027950",
   "metadata": {},
   "source": [
    "#### Switch Case"
   ]
  },
  {
   "cell_type": "code",
   "execution_count": 185,
   "id": "253f54b7-9c12-413d-8f81-051f99c768d8",
   "metadata": {},
   "outputs": [
    {
     "name": "stdout",
     "output_type": "stream",
     "text": [
      "It is not 5 and 7\n"
     ]
    }
   ],
   "source": [
    "a=3\n",
    "match a:\n",
    "    case 5:\n",
    "        print(\"It is 5\")\n",
    "    case 7:\n",
    "        print(\"It is 7\")\n",
    "    case _:                  #default\n",
    "        print(\"It is not 5 and 7\")\n",
    "#can work with float values ,string and boolean"
   ]
  },
  {
   "cell_type": "code",
   "execution_count": 189,
   "id": "1e97b38e-3ea4-4dd4-b869-78d61d39ec18",
   "metadata": {},
   "outputs": [
    {
     "name": "stdin",
     "output_type": "stream",
     "text": [
      "Enter a character a\n"
     ]
    },
    {
     "name": "stdout",
     "output_type": "stream",
     "text": [
      "character: a\n",
      "Vowel\n"
     ]
    }
   ],
   "source": [
    "lst = ['a','e','i','o','u']\n",
    "ch = input('Enter a character')\n",
    "print(\"character: \"+ch)\n",
    "if (ch in lst):\n",
    "    print(\"Vowel\")\n",
    "else:\n",
    "    print(\"Not a Vowel\")"
   ]
  },
  {
   "cell_type": "code",
   "execution_count": 197,
   "id": "08e8957c-d8b5-4296-9ab2-c725760d508e",
   "metadata": {},
   "outputs": [
    {
     "name": "stdout",
     "output_type": "stream",
     "text": [
      "2 3\n",
      "3 2\n"
     ]
    }
   ],
   "source": [
    "#Swapping without 3rd variable\n",
    "a = 2\n",
    "b = 3\n",
    "print(a,b)\n",
    "a = a + b\n",
    "b = a - b\n",
    "a = a - b\n",
    "print(a,b)"
   ]
  },
  {
   "cell_type": "markdown",
   "id": "d2adae6d-098d-43db-b6b4-6d1b71289f2c",
   "metadata": {},
   "source": [
    "#### but, Python op in chat"
   ]
  },
  {
   "cell_type": "code",
   "execution_count": 202,
   "id": "49d8fc3a-82e4-4400-88b0-f58bbe80adc7",
   "metadata": {},
   "outputs": [
    {
     "name": "stdout",
     "output_type": "stream",
     "text": [
      "2 3\n",
      "3 2\n"
     ]
    }
   ],
   "source": [
    "a = 2\n",
    "b = 3\n",
    "print(a,b)\n",
    "a ,b = b, a\n",
    "print(a,b)"
   ]
  },
  {
   "cell_type": "markdown",
   "id": "8980582f-98e3-4f96-8ca0-2f15ffafdf76",
   "metadata": {},
   "source": [
    "## Loops"
   ]
  },
  {
   "cell_type": "code",
   "execution_count": 205,
   "id": "bb4b987d-dfbb-43b8-a221-acae7cd9892a",
   "metadata": {},
   "outputs": [
    {
     "name": "stdout",
     "output_type": "stream",
     "text": [
      "1\n",
      "2\n",
      "3\n",
      "4\n",
      "5\n",
      "6\n",
      "7\n",
      "8\n",
      "9\n"
     ]
    }
   ],
   "source": [
    "i=1\n",
    "while(i<10):\n",
    "    print(i)\n",
    "    i+=1"
   ]
  },
  {
   "cell_type": "code",
   "execution_count": 209,
   "id": "1967e76b-254b-48ad-b806-811ef2f02eac",
   "metadata": {},
   "outputs": [
    {
     "name": "stdout",
     "output_type": "stream",
     "text": [
      "1\n",
      "2\n",
      "3\n",
      "4\n",
      "5\n"
     ]
    }
   ],
   "source": [
    "i=1\n",
    "while(1):               #infinite loop\n",
    "    if(i==6):\n",
    "        break\n",
    "    print(i)\n",
    "    i+=1"
   ]
  },
  {
   "cell_type": "code",
   "execution_count": 211,
   "id": "dd7e691a-a0ff-48ac-b0c6-48e588b142bb",
   "metadata": {},
   "outputs": [
    {
     "name": "stdout",
     "output_type": "stream",
     "text": [
      "1\n",
      "2\n",
      "3\n",
      "4\n",
      "5\n",
      "6\n",
      "7\n",
      "8\n",
      "9\n"
     ]
    }
   ],
   "source": [
    "for i in range(1,10):\n",
    "    print(i)"
   ]
  },
  {
   "cell_type": "code",
   "execution_count": 213,
   "id": "5ec20945-f242-490f-9df8-26c62fa7fc3a",
   "metadata": {},
   "outputs": [
    {
     "data": {
      "text/plain": [
       "range"
      ]
     },
     "execution_count": 213,
     "metadata": {},
     "output_type": "execute_result"
    }
   ],
   "source": [
    "type(range(1,10))"
   ]
  },
  {
   "cell_type": "code",
   "execution_count": 221,
   "id": "d9930ea8-be5b-40a5-820a-77631c055886",
   "metadata": {},
   "outputs": [
    {
     "name": "stdout",
     "output_type": "stream",
     "text": [
      "1\n",
      "2\n",
      "3\n",
      "4\n",
      "5\n",
      "7\n",
      "8\n",
      "9\n"
     ]
    }
   ],
   "source": [
    "for i in range(1,10):\n",
    "    if i==6:\n",
    "        continue\n",
    "    print(i)"
   ]
  },
  {
   "cell_type": "code",
   "execution_count": 233,
   "id": "7f7ce591-3bab-4cc4-b99f-17509da305a3",
   "metadata": {},
   "outputs": [
    {
     "name": "stdout",
     "output_type": "stream",
     "text": [
      "1 2 3 \n",
      "1 2 3 \n",
      "1 2 3 \n"
     ]
    }
   ],
   "source": [
    "for i in range(1,4):\n",
    "    for j in range(1,4):\n",
    "        print(j,end=' ')\n",
    "    print()"
   ]
  },
  {
   "cell_type": "markdown",
   "id": "9459eec9-56a9-45be-b201-17d1647fea8f",
   "metadata": {},
   "source": [
    "#### Ternary Operator"
   ]
  },
  {
   "cell_type": "code",
   "execution_count": 244,
   "id": "79c6612a-0927-437d-a8ac-bf41cd966362",
   "metadata": {},
   "outputs": [
    {
     "name": "stdout",
     "output_type": "stream",
     "text": [
      "+ve\n"
     ]
    }
   ],
   "source": [
    "i=1  #used in list comprehension\n",
    "print(\"+ve\") if (i>0) else print(\"zero or -ve\")"
   ]
  },
  {
   "cell_type": "code",
   "execution_count": 246,
   "id": "2dcfea83-0cfb-446e-887f-9352c1907e7f",
   "metadata": {},
   "outputs": [
    {
     "name": "stdout",
     "output_type": "stream",
     "text": [
      "+ve\n"
     ]
    }
   ],
   "source": [
    "print(\"+ve\") if i> 0 else print(\"zero\") if i==0 else print(\"-ve\")  #nested"
   ]
  },
  {
   "cell_type": "code",
   "execution_count": 248,
   "id": "6b656c32-960c-4663-8312-e4baf034101e",
   "metadata": {},
   "outputs": [
    {
     "name": "stdout",
     "output_type": "stream",
     "text": [
      "Jan\n",
      "Feb\n",
      "Mar\n",
      "April\n",
      "May\n",
      "June\n"
     ]
    }
   ],
   "source": [
    "#use a for loop over a collection\n",
    "Months = [\"Jan\",\"Feb\",\"Mar\",\"April\",\"May\",\"June\"]\n",
    "for m in  (Months):\n",
    "    print(m)"
   ]
  },
  {
   "cell_type": "code",
   "execution_count": 250,
   "id": "11966bc8-9ca3-4b7d-b989-0867c1eb50f6",
   "metadata": {},
   "outputs": [
    {
     "name": "stdout",
     "output_type": "stream",
     "text": [
      "0 Jan\n",
      "1 Feb\n",
      "2 Mar\n",
      "3 April\n",
      "4 May\n",
      "5 June\n"
     ]
    }
   ],
   "source": [
    "#use a for loop over a collection\n",
    "Months = [\"Jan\",\"Feb\",\"Mar\",\"April\",\"May\",\"June\"]\n",
    "for i, m in enumerate (Months):\n",
    "\t\tprint(i,m)"
   ]
  },
  {
   "cell_type": "code",
   "execution_count": 252,
   "id": "ec6bde8e-4492-4896-8921-1bcbf7b4cc29",
   "metadata": {},
   "outputs": [
    {
     "name": "stdout",
     "output_type": "stream",
     "text": [
      "0   2\n",
      "1   3\n",
      "2   5\n",
      "3   7\n",
      "4   11\n"
     ]
    }
   ],
   "source": [
    "lst = [2,3,5,7,11]\n",
    "for i, n in enumerate(lst):\n",
    "    print(i,' ',n)"
   ]
  },
  {
   "cell_type": "code",
   "execution_count": 260,
   "id": "bbb9d447-c718-4da1-ac8d-abbb3784d4bc",
   "metadata": {},
   "outputs": [
    {
     "name": "stdin",
     "output_type": "stream",
     "text": [
      "Enter a number:  1\n"
     ]
    },
    {
     "name": "stdout",
     "output_type": "stream",
     "text": [
      "4\n"
     ]
    },
    {
     "name": "stdin",
     "output_type": "stream",
     "text": [
      "Enter a number:  2\n"
     ]
    },
    {
     "name": "stdout",
     "output_type": "stream",
     "text": [
      "4\n"
     ]
    },
    {
     "name": "stdin",
     "output_type": "stream",
     "text": [
      "Enter a number:  0\n"
     ]
    },
    {
     "name": "stdout",
     "output_type": "stream",
     "text": [
      "Exiting...\n"
     ]
    }
   ],
   "source": [
    "while True:\n",
    "    n = int(input(\"Enter a number: \"))\n",
    "    if (n==0):\n",
    "        print(\"Exiting...\")\n",
    "        break\n",
    "    print(i)"
   ]
  },
  {
   "cell_type": "code",
   "execution_count": 264,
   "id": "9df2744f-23e9-4e77-a175-012e2acd32f3",
   "metadata": {},
   "outputs": [
    {
     "name": "stdout",
     "output_type": "stream",
     "text": [
      "55\n"
     ]
    }
   ],
   "source": [
    "sum = 0\n",
    "for i in range(1,11):\n",
    "    sum+=i\n",
    "print(sum)"
   ]
  },
  {
   "cell_type": "code",
   "execution_count": 276,
   "id": "d11739f7-a6dc-418f-ba57-724da080da83",
   "metadata": {},
   "outputs": [
    {
     "name": "stdout",
     "output_type": "stream",
     "text": [
      "A\n",
      "B\n",
      "C\n",
      "D\n",
      "E\n"
     ]
    }
   ],
   "source": [
    "for i in range(ord('A'),ord('E')+1):  #printing characters using for loop\n",
    "    print(chr(i))"
   ]
  },
  {
   "cell_type": "code",
   "execution_count": 296,
   "id": "2e898a53-8f3a-45a2-909e-caac2daaa177",
   "metadata": {},
   "outputs": [
    {
     "name": "stdout",
     "output_type": "stream",
     "text": [
      "1\n",
      "2\n",
      "3\n",
      "4\n",
      "5\n",
      "6\n"
     ]
    }
   ],
   "source": [
    "i = 1\n",
    "for _ in iter(int,True):   #infine for loop\n",
    "    if i == 7:\n",
    "        break\n",
    "    print(i)\n",
    "    i+=1"
   ]
  },
  {
   "cell_type": "code",
   "execution_count": 282,
   "id": "b0bca7c4-6b2e-4d15-894b-5309b7d8e4f2",
   "metadata": {},
   "outputs": [
    {
     "name": "stdout",
     "output_type": "stream",
     "text": [
      "0\n",
      "1\n",
      "2\n",
      "3\n",
      "4\n"
     ]
    }
   ],
   "source": [
    "for i in range(5): #defualt start value 0\n",
    "    print(i)"
   ]
  },
  {
   "cell_type": "code",
   "execution_count": 290,
   "id": "ae69c9f8-eadc-42c3-be4b-9d0846faa791",
   "metadata": {},
   "outputs": [
    {
     "name": "stdout",
     "output_type": "stream",
     "text": [
      "0\n",
      "2\n",
      "4\n",
      "6\n",
      "8\n",
      "10\n"
     ]
    }
   ],
   "source": [
    "for i in range(0,11,2): #step =2\n",
    "    print(i)"
   ]
  },
  {
   "cell_type": "code",
   "execution_count": 294,
   "id": "ba57e9b4-d286-4a32-9e70-46fa746e6dd3",
   "metadata": {},
   "outputs": [
    {
     "name": "stdout",
     "output_type": "stream",
     "text": [
      "10\n",
      "9\n",
      "8\n",
      "7\n",
      "6\n",
      "5\n",
      "4\n",
      "3\n",
      "2\n"
     ]
    }
   ],
   "source": [
    "for i in range(10,1,-1): #step = -1\n",
    "    print(i)"
   ]
  },
  {
   "cell_type": "markdown",
   "id": "dadca3a2-5d61-4485-a29e-a1a5ff5e0489",
   "metadata": {},
   "source": [
    "#### Else with For and While loop"
   ]
  },
  {
   "cell_type": "code",
   "execution_count": 303,
   "id": "4d48b9ba-e736-40b0-b6af-62a79771cde8",
   "metadata": {},
   "outputs": [
    {
     "name": "stdout",
     "output_type": "stream",
     "text": [
      "0\n",
      "1\n"
     ]
    }
   ],
   "source": [
    "for i in range(0,5):\n",
    "    if i==2:\n",
    "        break\n",
    "    print(i)\n",
    "else:\n",
    "    print(\"Done\")"
   ]
  },
  {
   "cell_type": "code",
   "execution_count": 309,
   "id": "c0442d1f-b9ae-4f1b-ac6b-4cd1b66e8776",
   "metadata": {},
   "outputs": [
    {
     "name": "stdout",
     "output_type": "stream",
     "text": [
      "0\n",
      "1\n",
      "2\n",
      "3\n",
      "4\n",
      "Done\n"
     ]
    }
   ],
   "source": [
    "for i in range(0,5):\n",
    "    if i==10:\n",
    "        break\n",
    "    print(i)\n",
    "else:\n",
    "    print(\"Done\")  #without break when for loop is done then else is executed"
   ]
  },
  {
   "cell_type": "code",
   "execution_count": 321,
   "id": "64e25a0c-96cf-41e5-8589-9c70cc8c2579",
   "metadata": {},
   "outputs": [
    {
     "name": "stdout",
     "output_type": "stream",
     "text": [
      "5\n"
     ]
    }
   ],
   "source": [
    "nums = [1,2,3,4,5]\n",
    "for i in nums:\n",
    "    if(i%5==0):\n",
    "        print(i)\n",
    "        break\n",
    "else:\n",
    "    print(\"Not found\")"
   ]
  },
  {
   "cell_type": "code",
   "execution_count": 325,
   "id": "9c7f28fb-3073-42c6-9812-c130a8c3d2cc",
   "metadata": {},
   "outputs": [
    {
     "name": "stdout",
     "output_type": "stream",
     "text": [
      "Not found\n"
     ]
    }
   ],
   "source": [
    "nums = [1,2,3,4,9]\n",
    "for i in nums:\n",
    "    if(i%5==0):\n",
    "        print(i)\n",
    "        break\n",
    "else:\n",
    "    print(\"Not found\")"
   ]
  },
  {
   "cell_type": "code",
   "execution_count": 327,
   "id": "b5857f6a-843b-43bd-8874-64e7caa8f379",
   "metadata": {},
   "outputs": [
    {
     "name": "stdout",
     "output_type": "stream",
     "text": [
      "CPython\n"
     ]
    }
   ],
   "source": [
    "import platform\n",
    "print(platform.python_implementation())"
   ]
  },
  {
   "cell_type": "code",
   "execution_count": 331,
   "id": "4dd97bc6-7d78-41aa-9596-d2a57041f857",
   "metadata": {},
   "outputs": [
    {
     "name": "stdout",
     "output_type": "stream",
     "text": [
      "3.12.4\n"
     ]
    }
   ],
   "source": [
    "import platform\n",
    "print(platform.python_version())"
   ]
  },
  {
   "cell_type": "markdown",
   "id": "f37ccf7e-d242-4390-8a46-1adfa326dc4c",
   "metadata": {},
   "source": [
    "Pip preferred installter python"
   ]
  },
  {
   "cell_type": "markdown",
   "id": "81960c22-936c-4a37-850f-77af81b685b9",
   "metadata": {},
   "source": [
    "main function is not used in python because interpreter executes from top of line unless it encounters def keyword"
   ]
  },
  {
   "cell_type": "code",
   "execution_count": 347,
   "id": "f855f0e8-39c6-4ec9-89f1-a2dc9b3bb74d",
   "metadata": {},
   "outputs": [
    {
     "name": "stdout",
     "output_type": "stream",
     "text": [
      "1 2 3 \n",
      "1 2 3 \n",
      "1 2 3 \n"
     ]
    }
   ],
   "source": [
    "for i in range(1,4):\n",
    "    for j in range(1,4):\n",
    "        print(j,end=' ')\n",
    "    print()"
   ]
  },
  {
   "cell_type": "code",
   "execution_count": null,
   "id": "7c8e8613-3a8d-48cd-8e57-f217f2b4fa3d",
   "metadata": {},
   "outputs": [],
   "source": []
  }
 ],
 "metadata": {
  "kernelspec": {
   "display_name": "Python 3 (ipykernel)",
   "language": "python",
   "name": "python3"
  },
  "language_info": {
   "codemirror_mode": {
    "name": "ipython",
    "version": 3
   },
   "file_extension": ".py",
   "mimetype": "text/x-python",
   "name": "python",
   "nbconvert_exporter": "python",
   "pygments_lexer": "ipython3",
   "version": "3.12.4"
  }
 },
 "nbformat": 4,
 "nbformat_minor": 5
}
