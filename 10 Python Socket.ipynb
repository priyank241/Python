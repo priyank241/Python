{
 "cells": [
  {
   "cell_type": "markdown",
   "id": "01a2442d-dd8e-490b-8688-014b88456f04",
   "metadata": {},
   "source": [
    "# Socket Programming"
   ]
  },
  {
   "cell_type": "markdown",
   "id": "c44b0f18-2ec9-493d-86c5-31f342430c39",
   "metadata": {},
   "source": [
    "##### bind() method  binds the server to a specific IP and port so that it can listen to incoming requests on that IP and port.\n",
    "##### listen() method puts the server into listen mode\n",
    "##### accept() method allows server to wait for client to send the request\n",
    "\n",
    "##### The process of converting string objects to byte objects is called encoding and the inverse is called decoding. \n",
    "\n",
    "##### The bytes() method takes in an object (a string in our case), the required encoding method, and convert it into a byte object. "
   ]
  },
  {
   "cell_type": "code",
   "execution_count": 1,
   "id": "89580ba5-9c16-4061-810b-699bc2105ae5",
   "metadata": {},
   "outputs": [
    {
     "name": "stdout",
     "output_type": "stream",
     "text": [
      "socket created\n",
      "waiting for the client\n",
      "client is\t <socket.socket fd=1060, family=2, type=1, proto=0, laddr=('127.0.0.1', 5000), raddr=('127.0.0.1', 64320)>\n",
      "address is\t ('127.0.0.1', 64320)\n",
      "connected with\t ('127.0.0.1', 64320) Priyank\n"
     ]
    }
   ],
   "source": [
    "import socket\n",
    "with socket.socket() as s:\n",
    "    print(\"socket created\")\n",
    "    s.bind((\"localhost\",5000))\n",
    "    s.listen()\n",
    "    print(\"waiting for the client\")\n",
    "\n",
    "    client,address=s.accept()  # returns tuple[socket, _RetAddress] \n",
    "    print(\"client is\\t\",client)\n",
    "    print(\"address is\\t\",address)\n",
    "    # converts byte string received from client\n",
    "    # into string format\n",
    "    name=client.recv(1024).decode()\n",
    "    print(\"connected with\\t\",address,name)\n",
    "\n",
    "    # converting the string into bytes using the\n",
    "    # UTF-8 encoding.\n",
    "    client.send(bytes(f\"{name} welcome to the server side\",'utf-8'))\n"
   ]
  },
  {
   "cell_type": "markdown",
   "id": "ef243865-44e3-433c-b87b-7fea14ec09ed",
   "metadata": {},
   "source": [
    "#### Example 2"
   ]
  },
  {
   "cell_type": "code",
   "execution_count": null,
   "id": "70881fb9-cc0e-4963-8c53-0d488853be1e",
   "metadata": {},
   "outputs": [
    {
     "name": "stdout",
     "output_type": "stream",
     "text": [
      "socket created\n",
      "waiting for the client\n",
      "connected with\t ('192.168.0.199', 50409) Ram\n",
      "message from client\t hi\n"
     ]
    },
    {
     "name": "stdin",
     "output_type": "stream",
     "text": [
      "enter a message to client hello\n"
     ]
    },
    {
     "name": "stdout",
     "output_type": "stream",
     "text": [
      "message from client\t Ram lovr\\es you\n"
     ]
    },
    {
     "name": "stdin",
     "output_type": "stream",
     "text": [
      "enter a message to client Love u too bro\n"
     ]
    },
    {
     "name": "stdout",
     "output_type": "stream",
     "text": [
      "message from client\t loves**\n"
     ]
    },
    {
     "name": "stdin",
     "output_type": "stream",
     "text": [
      "enter a message to client I am not gay\n"
     ]
    }
   ],
   "source": [
    "import socket\n",
    "with socket.socket() as s:\n",
    "    print(\"socket created\")\n",
    "    s.bind((\"192.168.0.229\",5000))\n",
    "    s.listen()\n",
    "    print(\"waiting for the client\")\n",
    "\n",
    "    client,address=s.accept()  # returns tuple[socket, _RetAddress] \n",
    "    name=client.recv(1024).decode()\n",
    "    print(\"connected with\\t\",address,name)\n",
    "    client.send(bytes(\"welcome to the server side\",'utf-8'))\n",
    "    while True:\n",
    "        message=client.recv(1024).decode()\n",
    "        print(\"message from client\\t\",message)\n",
    "        message1=input(\"enter a message to client\")\n",
    "        client.send(bytes(message1,'utf-8'))"
   ]
  },
  {
   "cell_type": "code",
   "execution_count": null,
   "id": "eeadd721-bac5-4ce3-b932-c6d7bfe9fdbc",
   "metadata": {},
   "outputs": [],
   "source": []
  }
 ],
 "metadata": {
  "kernelspec": {
   "display_name": "Python 3 (ipykernel)",
   "language": "python",
   "name": "python3"
  },
  "language_info": {
   "codemirror_mode": {
    "name": "ipython",
    "version": 3
   },
   "file_extension": ".py",
   "mimetype": "text/x-python",
   "name": "python",
   "nbconvert_exporter": "python",
   "pygments_lexer": "ipython3",
   "version": "3.12.4"
  }
 },
 "nbformat": 4,
 "nbformat_minor": 5
}
