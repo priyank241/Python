{
 "cells": [
  {
   "cell_type": "markdown",
   "id": "f29afa10-86f7-4529-beef-ab79971c5cfb",
   "metadata": {},
   "source": [
    "# Functions"
   ]
  },
  {
   "cell_type": "markdown",
   "id": "267a2dfe-1cf1-432b-9181-a1cbae29cf3e",
   "metadata": {},
   "source": [
    "#### 1) define 3 functions \"add()\",\"modify()\" and \"delete()\" with just a print message.\n",
    "now accept input from user as a number. if the number entered is 1, call \"add()\"\n",
    "if it is 2, call \"modify()\" if it is 3, call \"delete()\" [ hint: use \"match... case\" ]"
   ]
  },
  {
   "cell_type": "code",
   "execution_count": 7,
   "id": "8e16a2b2-3165-438e-84df-1332af1028ca",
   "metadata": {},
   "outputs": [
    {
     "name": "stdin",
     "output_type": "stream",
     "text": [
      "Enter input 2\n"
     ]
    },
    {
     "name": "stdout",
     "output_type": "stream",
     "text": [
      "in modify\n"
     ]
    }
   ],
   "source": [
    "def add():\n",
    "    print('in add')\n",
    "\n",
    "def modify():\n",
    "    print('in modify')\n",
    "\n",
    "def delete():\n",
    "    print('in delete')\n",
    "\n",
    "inp = int(input('Enter input'))\n",
    "\n",
    "match inp:\n",
    "    case 1:\n",
    "        add()\n",
    "    case 2:\n",
    "        modify()\n",
    "    case 3:\n",
    "        delete()\n",
    "    case _:\n",
    "        print('Incorrect choice')\n",
    "\n"
   ]
  },
  {
   "cell_type": "markdown",
   "id": "b7e237a5-f3d6-459c-90bd-a3c359f11a34",
   "metadata": {},
   "source": [
    "#### 2) define a function which accepts a number and return its square."
   ]
  },
  {
   "cell_type": "code",
   "execution_count": 10,
   "id": "c9ea936e-ca01-46b2-9e60-b7f4936e0421",
   "metadata": {},
   "outputs": [
    {
     "data": {
      "text/plain": [
       "64"
      ]
     },
     "execution_count": 10,
     "metadata": {},
     "output_type": "execute_result"
    }
   ],
   "source": [
    "def square(n):\n",
    "    return n**2\n",
    "\n",
    "square(8)"
   ]
  },
  {
   "cell_type": "markdown",
   "id": "23da2bd0-1ff9-44d3-a9bd-ad0ac0901dd1",
   "metadata": {},
   "source": [
    "#### 3) define a function which accepts character,int,string and display them."
   ]
  },
  {
   "cell_type": "code",
   "execution_count": 13,
   "id": "70855b3c-c91d-4f28-bbe8-52231457e092",
   "metadata": {},
   "outputs": [
    {
     "name": "stdout",
     "output_type": "stream",
     "text": [
      "a 1 Hello\n"
     ]
    }
   ],
   "source": [
    "def accept(chr,inte,str):\n",
    "    print(chr,inte,str)\n",
    "\n",
    "accept('a',1,'Hello')"
   ]
  },
  {
   "cell_type": "markdown",
   "id": "a12a8d68-1044-4af1-8ee4-9962b0713a57",
   "metadata": {},
   "source": [
    "#### 4) define \"myfun1()\" with a print statement. now define \"myfun2()\" which should invoke \"myfun1()\" function. invoke myfun2()"
   ]
  },
  {
   "cell_type": "code",
   "execution_count": 21,
   "id": "7c6cd5f7-34fe-4a43-b9bd-432a45603788",
   "metadata": {},
   "outputs": [
    {
     "name": "stdout",
     "output_type": "stream",
     "text": [
      "in myfun1\n"
     ]
    }
   ],
   "source": [
    "def myfun1():\n",
    "    print('in myfun1')\n",
    "\n",
    "def myfun2():\n",
    "    myfun1()\n",
    "\n",
    "myfun2()"
   ]
  },
  {
   "cell_type": "markdown",
   "id": "12049bd1-d9b6-4672-bd17-d1beab19b548",
   "metadata": {},
   "source": [
    "#### 5) define a function to accept a number. This function should return 1 if a number passed is more than 0 return -1 if a number passed is less than 0 , else it should return 0."
   ]
  },
  {
   "cell_type": "code",
   "execution_count": 25,
   "id": "decc40d7-90d3-42cf-938f-214c2806d038",
   "metadata": {},
   "outputs": [
    {
     "data": {
      "text/plain": [
       "1"
      ]
     },
     "execution_count": 25,
     "metadata": {},
     "output_type": "execute_result"
    }
   ],
   "source": [
    "def accept(n):\n",
    "    if n>0:\n",
    "        return 1\n",
    "    elif n<0:\n",
    "        return -1\n",
    "    else:\n",
    "        return 0\n",
    "\n",
    "accept(8)"
   ]
  },
  {
   "cell_type": "markdown",
   "id": "08bdc995-2cc5-4a74-94af-151c209bc05d",
   "metadata": {},
   "source": [
    "#### 6) define a function which accepts a character and return toggle of it. "
   ]
  },
  {
   "cell_type": "code",
   "execution_count": 28,
   "id": "bc606c45-fd9e-4d4f-b623-202d7983d962",
   "metadata": {},
   "outputs": [
    {
     "data": {
      "text/plain": [
       "'A'"
      ]
     },
     "execution_count": 28,
     "metadata": {},
     "output_type": "execute_result"
    }
   ],
   "source": [
    "def toggle(ch):\n",
    "    return ch.swapcase()\n",
    "\n",
    "toggle('a')"
   ]
  },
  {
   "cell_type": "markdown",
   "id": "1bd9c0eb-4831-4346-9d36-73168dd91708",
   "metadata": {},
   "source": [
    "#### 7) define a function which accepts a string , toggle and return it."
   ]
  },
  {
   "cell_type": "code",
   "execution_count": 31,
   "id": "f51f046c-09a4-4748-a049-d99b0871f190",
   "metadata": {},
   "outputs": [
    {
     "data": {
      "text/plain": [
       "'HELLO'"
      ]
     },
     "execution_count": 31,
     "metadata": {},
     "output_type": "execute_result"
    }
   ],
   "source": [
    "def toggle(str):\n",
    "    return str.swapcase()\n",
    "\n",
    "toggle('hello')"
   ]
  },
  {
   "cell_type": "markdown",
   "id": "4f80b137-90ce-4847-ad55-f3a2b87008fa",
   "metadata": {},
   "source": [
    "#### 8) write a function to accept minimum 3 characters and maximum 5 characters. "
   ]
  },
  {
   "cell_type": "code",
   "execution_count": 40,
   "id": "36e437ff-6dac-4806-81ea-28fde2089941",
   "metadata": {},
   "outputs": [
    {
     "name": "stdout",
     "output_type": "stream",
     "text": [
      "1   2   3   4   5\n",
      "9   10   6   7   8\n"
     ]
    }
   ],
   "source": [
    "def func(c,d,e,a=1,b=2):\n",
    "    print(a,' ',b,' ',c,' ',d,' ',e)\n",
    "\n",
    "func(3,4,5)\n",
    "func(6,7,8,9,10)\n"
   ]
  },
  {
   "cell_type": "markdown",
   "id": "5c88ca1a-e2e3-4e93-b6b1-b86b68bc7590",
   "metadata": {},
   "source": [
    "#### 9) define a function in such a way that it can accept n number of values and print their sum. [ variable number of arguments]"
   ]
  },
  {
   "cell_type": "code",
   "execution_count": 47,
   "id": "cc16f9ba-71d1-4d67-8609-98e50da03b99",
   "metadata": {},
   "outputs": [
    {
     "name": "stdout",
     "output_type": "stream",
     "text": [
      "15\n"
     ]
    }
   ],
   "source": [
    "def nsum(*vars):\n",
    "    sum = 0\n",
    "    for i in range(len(vars)):\n",
    "        sum+=vars[i]\n",
    "    print(sum)\n",
    "\n",
    "nsum(1,2,3,4,5)"
   ]
  },
  {
   "cell_type": "markdown",
   "id": "12537e58-abcb-4a19-82b9-df073034b8c6",
   "metadata": {},
   "source": [
    "#### 1) Create 3 functions \"show1()\",\"show2()\" and \"show3()\" now define a function \"caller\" in such a way that it can accept any function as an argument and invoke the same. invoke caller function by passing show1,show2 and show3"
   ]
  },
  {
   "cell_type": "code",
   "execution_count": 5,
   "id": "e3c62635-1985-43b6-9f68-9f6daf7585aa",
   "metadata": {},
   "outputs": [
    {
     "name": "stdout",
     "output_type": "stream",
     "text": [
      "show1\n",
      "show2\n",
      "show3\n"
     ]
    }
   ],
   "source": [
    "def show1():\n",
    "    print('show1')\n",
    "\n",
    "def show2():\n",
    "    print('show2')\n",
    "\n",
    "def show3():\n",
    "    print('show3')\n",
    "\n",
    "def caller(func):\n",
    "    func()\n",
    "\n",
    "caller(show1)\n",
    "caller(show2)\n",
    "caller(show3)"
   ]
  },
  {
   "cell_type": "markdown",
   "id": "ce4831b2-7b00-49aa-a6e8-fea5809c4e4f",
   "metadata": {},
   "source": [
    "#### 2) define nested function and show how will you invoke it.\n"
   ]
  },
  {
   "cell_type": "code",
   "execution_count": 8,
   "id": "6cf6e8b6-3ccf-4568-9cf9-7175c5f43f51",
   "metadata": {},
   "outputs": [
    {
     "name": "stdout",
     "output_type": "stream",
     "text": [
      "In outer\n",
      "In inner\n"
     ]
    }
   ],
   "source": [
    "def outer():\n",
    "    print('In outer')\n",
    "    def inner():\n",
    "        print('In inner')\n",
    "\n",
    "    inner()\n",
    "\n",
    "outer()"
   ]
  },
  {
   "cell_type": "code",
   "execution_count": 10,
   "id": "a230c44a-e35b-45c8-a926-555d07a34500",
   "metadata": {},
   "outputs": [
    {
     "name": "stdout",
     "output_type": "stream",
     "text": [
      "In outer\n",
      "In inner\n"
     ]
    }
   ],
   "source": [
    "def outer():\n",
    "    print('In outer')\n",
    "    def inner():\n",
    "        print('In inner')\n",
    "\n",
    "    return inner\n",
    "\n",
    "outer()()"
   ]
  },
  {
   "cell_type": "code",
   "execution_count": null,
   "id": "8f6eb71d-3661-4e15-b6fb-48a403ec5668",
   "metadata": {},
   "outputs": [],
   "source": []
  }
 ],
 "metadata": {
  "kernelspec": {
   "display_name": "Python 3 (ipykernel)",
   "language": "python",
   "name": "python3"
  },
  "language_info": {
   "codemirror_mode": {
    "name": "ipython",
    "version": 3
   },
   "file_extension": ".py",
   "mimetype": "text/x-python",
   "name": "python",
   "nbconvert_exporter": "python",
   "pygments_lexer": "ipython3",
   "version": "3.12.4"
  }
 },
 "nbformat": 4,
 "nbformat_minor": 5
}
