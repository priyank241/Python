{
 "cells": [
  {
   "cell_type": "markdown",
   "id": "2f21dc72-a597-4256-82c7-a562c06a5ce2",
   "metadata": {},
   "source": [
    "## Lambda"
   ]
  },
  {
   "cell_type": "markdown",
   "id": "3065fc78-9c9e-4f07-81ea-440aac37fefb",
   "metadata": {},
   "source": [
    "#### 1) write a function to accept a number and return its square using\n",
    "\ta) normal function\n",
    "\tb) lambda\n"
   ]
  },
  {
   "cell_type": "code",
   "execution_count": 5,
   "id": "46e7b881-f427-4b80-b473-e26a450f9b72",
   "metadata": {},
   "outputs": [
    {
     "data": {
      "text/plain": [
       "25"
      ]
     },
     "execution_count": 5,
     "metadata": {},
     "output_type": "execute_result"
    }
   ],
   "source": [
    "def square(n):\n",
    "    return n*n\n",
    "\n",
    "square(5)"
   ]
  },
  {
   "cell_type": "code",
   "execution_count": 7,
   "id": "5ac2cd53-b6ba-4edb-875d-4136074b00c9",
   "metadata": {},
   "outputs": [
    {
     "data": {
      "text/plain": [
       "16"
      ]
     },
     "execution_count": 7,
     "metadata": {},
     "output_type": "execute_result"
    }
   ],
   "source": [
    "sq = lambda x:x**2\n",
    "sq(4)"
   ]
  },
  {
   "cell_type": "markdown",
   "id": "94a5bd0e-de1a-4d23-a88f-b91afe6c9977",
   "metadata": {},
   "source": [
    "#### 2) write a function to display \"Hello World\" using\n",
    "\ta) normal function\n",
    "\tb) lambda"
   ]
  },
  {
   "cell_type": "code",
   "execution_count": 22,
   "id": "f0b94caf-a1db-4e3c-ba4e-648d3cecfbe2",
   "metadata": {},
   "outputs": [
    {
     "name": "stdout",
     "output_type": "stream",
     "text": [
      "Hello world\n"
     ]
    }
   ],
   "source": [
    "def hello():\n",
    "    print('Hello world')\n",
    "\n",
    "hello()"
   ]
  },
  {
   "cell_type": "code",
   "execution_count": 24,
   "id": "baf86d2c-8670-465e-959e-e500541cb7af",
   "metadata": {},
   "outputs": [
    {
     "name": "stdout",
     "output_type": "stream",
     "text": [
      "Hello World\n"
     ]
    }
   ],
   "source": [
    "hi = lambda:print('Hello World')\n",
    "hi()"
   ]
  },
  {
   "cell_type": "markdown",
   "id": "023f7dbb-9519-456c-8eb8-8b921b16426e",
   "metadata": {},
   "source": [
    "#### 3) write a function with 2 arguments , second argument should be \"default argument\" and display them. Using\n",
    "\ta) normal function \n",
    "\tb) lambda"
   ]
  },
  {
   "cell_type": "code",
   "execution_count": 27,
   "id": "5d7e5d2f-caa2-40ef-bac4-ee0f30386992",
   "metadata": {},
   "outputs": [
    {
     "name": "stdout",
     "output_type": "stream",
     "text": [
      "1 10\n"
     ]
    }
   ],
   "source": [
    "def func(a,b=10):\n",
    "    print(a,b)\n",
    "\n",
    "func(1)"
   ]
  },
  {
   "cell_type": "code",
   "execution_count": 29,
   "id": "19e369d7-96de-4825-bb47-c7d62736517b",
   "metadata": {},
   "outputs": [
    {
     "name": "stdout",
     "output_type": "stream",
     "text": [
      "2 10\n"
     ]
    }
   ],
   "source": [
    "fun = lambda a,b=10:print(a,b)\n",
    "fun(2)"
   ]
  },
  {
   "cell_type": "markdown",
   "id": "93ba49a0-0223-4966-b0e6-2323d04a951f",
   "metadata": {},
   "source": [
    "#### 4) write a function with variable no. of arguments and display them. Using\n",
    "\ta) normal function\n",
    "\tb) lambda"
   ]
  },
  {
   "cell_type": "code",
   "execution_count": 34,
   "id": "5670d67e-b9b3-4459-a4bd-3a4210060a1d",
   "metadata": {},
   "outputs": [
    {
     "name": "stdout",
     "output_type": "stream",
     "text": [
      "(2, 4, 6, 8, 10)\n"
     ]
    }
   ],
   "source": [
    "def func(*vargs):\n",
    "    print(vargs)\n",
    "\n",
    "func(2,4,6,8,10)"
   ]
  },
  {
   "cell_type": "code",
   "execution_count": 44,
   "id": "1b5c45f4-0d23-4afb-87b2-9dfd8ddfbc90",
   "metadata": {},
   "outputs": [
    {
     "name": "stdout",
     "output_type": "stream",
     "text": [
      "(2, 4, 6, 8, 10)\n"
     ]
    }
   ],
   "source": [
    "f = lambda *vargs:print(vargs)\n",
    "f(2,4,6,8,10)"
   ]
  },
  {
   "cell_type": "code",
   "execution_count": null,
   "id": "a185c91e-9f9b-4b43-aedc-425729b24fa8",
   "metadata": {},
   "outputs": [],
   "source": []
  }
 ],
 "metadata": {
  "kernelspec": {
   "display_name": "Python 3 (ipykernel)",
   "language": "python",
   "name": "python3"
  },
  "language_info": {
   "codemirror_mode": {
    "name": "ipython",
    "version": 3
   },
   "file_extension": ".py",
   "mimetype": "text/x-python",
   "name": "python",
   "nbconvert_exporter": "python",
   "pygments_lexer": "ipython3",
   "version": "3.12.4"
  }
 },
 "nbformat": 4,
 "nbformat_minor": 5
}
