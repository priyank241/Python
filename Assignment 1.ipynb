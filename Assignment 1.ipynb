{
 "cells": [
  {
   "cell_type": "markdown",
   "id": "2183d437-5b08-4599-9640-d427f9da1575",
   "metadata": {},
   "source": [
    "### 1)\taccept a number and display its table."
   ]
  },
  {
   "cell_type": "code",
   "execution_count": 6,
   "id": "0a5a53a8-c687-4b34-8ed9-00207c50258c",
   "metadata": {},
   "outputs": [
    {
     "name": "stdin",
     "output_type": "stream",
     "text": [
      "Enter a number:  5\n"
     ]
    },
    {
     "name": "stdout",
     "output_type": "stream",
     "text": [
      "5  *  1  =  5\n",
      "5  *  2  =  10\n",
      "5  *  3  =  15\n",
      "5  *  4  =  20\n",
      "5  *  5  =  25\n",
      "5  *  6  =  30\n",
      "5  *  7  =  35\n",
      "5  *  8  =  40\n",
      "5  *  9  =  45\n",
      "5  *  10  =  50\n"
     ]
    }
   ],
   "source": [
    "n = int(input('Enter a number: '))\n",
    "for i in range(1,11):\n",
    "    print(n,' * ',i,' = ',n*i)"
   ]
  },
  {
   "cell_type": "markdown",
   "id": "608de912-eff6-4d26-9406-fc76533a5c83",
   "metadata": {},
   "source": [
    "### 2)\tusing switch ….case   display whether accepted character is vowel or not."
   ]
  },
  {
   "cell_type": "code",
   "execution_count": 17,
   "id": "586976b7-852c-4d3c-b9ee-5f8c921ec679",
   "metadata": {},
   "outputs": [
    {
     "name": "stdin",
     "output_type": "stream",
     "text": [
      "Enter a character A\n"
     ]
    },
    {
     "name": "stdout",
     "output_type": "stream",
     "text": [
      "Vowel\n"
     ]
    }
   ],
   "source": [
    "ch = input('Enter a character')\n",
    "ch = ch.lower()\n",
    "match ch:\n",
    "    case 'a':\n",
    "        print('Vowel')\n",
    "    case 'e':\n",
    "        print('Vowel')\n",
    "    case 'i':\n",
    "        print('Vowel')\n",
    "    case 'o':\n",
    "        print('Vowel')\n",
    "    case 'u':\n",
    "        print('Vowel')\n",
    "    case _:\n",
    "        print('Not a vowel')"
   ]
  },
  {
   "cell_type": "markdown",
   "id": "0f7e71d2-af5e-4b72-8de5-47a4af0b892f",
   "metadata": {},
   "source": [
    "### 3)\tDisplay numbers  1 to 10 using  While loop"
   ]
  },
  {
   "cell_type": "code",
   "execution_count": 20,
   "id": "b09bd2a1-7e36-4feb-93f3-37de0901394e",
   "metadata": {},
   "outputs": [
    {
     "name": "stdout",
     "output_type": "stream",
     "text": [
      "1\n",
      "2\n",
      "3\n",
      "4\n",
      "5\n",
      "6\n",
      "7\n",
      "8\n",
      "9\n",
      "10\n"
     ]
    }
   ],
   "source": [
    "i=1\n",
    "while(i<=10):\n",
    "    print(i)\n",
    "    i+=1"
   ]
  },
  {
   "cell_type": "markdown",
   "id": "24c988c9-ea19-4639-ad59-46f10652c2e2",
   "metadata": {},
   "source": [
    "### 4)\tDisplay numbers from 3 to 30 except number 24  using while loop."
   ]
  },
  {
   "cell_type": "code",
   "execution_count": 23,
   "id": "719ac2d1-c458-4d11-9e5f-b6c6b022273c",
   "metadata": {},
   "outputs": [
    {
     "name": "stdout",
     "output_type": "stream",
     "text": [
      "3\n",
      "4\n",
      "5\n",
      "6\n",
      "7\n",
      "8\n",
      "9\n",
      "10\n",
      "11\n",
      "12\n",
      "13\n",
      "14\n",
      "15\n",
      "16\n",
      "17\n",
      "18\n",
      "19\n",
      "20\n",
      "21\n",
      "22\n",
      "23\n",
      "25\n",
      "26\n",
      "27\n",
      "28\n",
      "29\n",
      "30\n"
     ]
    }
   ],
   "source": [
    "i=3\n",
    "while (i<=30):\n",
    "    if(i == 24):\n",
    "        i+=1\n",
    "        continue\n",
    "    print(i)\n",
    "    i+=1"
   ]
  },
  {
   "cell_type": "markdown",
   "id": "875d885f-a9a2-4b72-9935-35effc631c34",
   "metadata": {},
   "source": [
    "### 5)\taccept marks from the user. Using if…….elif….  Else,  display whether result is  fail, pass, second class , first class, Distinction etc."
   ]
  },
  {
   "cell_type": "code",
   "execution_count": 40,
   "id": "2ece6d14-99fa-469d-93e2-0aeecbdaf890",
   "metadata": {},
   "outputs": [
    {
     "name": "stdin",
     "output_type": "stream",
     "text": [
      "Enter marks:  98\n"
     ]
    },
    {
     "name": "stdout",
     "output_type": "stream",
     "text": [
      "Distinction\n"
     ]
    }
   ],
   "source": [
    "marks = int(input('Enter marks: '))\n",
    "if marks>=75:\n",
    "    print('Distinction')\n",
    "elif marks>=60:\n",
    "    print('First class')\n",
    "elif marks>=45:\n",
    "    print('Second class')\n",
    "elif marks>=35:\n",
    "    print('Pass')\n",
    "else:\n",
    "    print('Fail')"
   ]
  },
  {
   "cell_type": "markdown",
   "id": "80a90fee-a016-48b9-b32b-ee5b9e9156d7",
   "metadata": {},
   "source": [
    "### 6) print the total of first 10 numbers."
   ]
  },
  {
   "cell_type": "code",
   "execution_count": 30,
   "id": "7d292937-23a1-449c-8dbb-433af10e8dda",
   "metadata": {},
   "outputs": [
    {
     "name": "stdout",
     "output_type": "stream",
     "text": [
      "Sum of first 10 numbers:  55\n"
     ]
    }
   ],
   "source": [
    "sum = 0\n",
    "for i in range(1,11):\n",
    "    sum += i\n",
    "print('Sum of first 10 numbers: ',sum)"
   ]
  },
  {
   "cell_type": "markdown",
   "id": "e9e84c55-c20e-44eb-849e-07d4a054f7bc",
   "metadata": {},
   "source": [
    "#### 7) accept numbers till user enters 0 and display the total of all the numbers entered."
   ]
  },
  {
   "cell_type": "code",
   "execution_count": 37,
   "id": "0f58b525-2b64-4276-bcaa-709b3fcbf543",
   "metadata": {},
   "outputs": [
    {
     "name": "stdin",
     "output_type": "stream",
     "text": [
      "Enter a number: 0 to exit 1\n",
      "Enter a number: 0 to exit 2\n",
      "Enter a number: 0 to exit 3\n",
      "Enter a number: 0 to exit 0\n"
     ]
    },
    {
     "name": "stdout",
     "output_type": "stream",
     "text": [
      "6\n"
     ]
    }
   ],
   "source": [
    "sum = 0\n",
    "while(True):\n",
    "    n = int(input('Enter a number: 0 to exit'))\n",
    "    if(n == 0):\n",
    "        break\n",
    "    sum += n\n",
    "print(sum)"
   ]
  },
  {
   "cell_type": "markdown",
   "id": "d3118050-27e2-4802-afa2-73b8b84643d6",
   "metadata": {},
   "source": [
    "### 8) accept a character and display whether it is upper case or lower case or not an alphabet."
   ]
  },
  {
   "cell_type": "code",
   "execution_count": 56,
   "id": "2562aef9-6094-4726-97f8-da86c2960f8b",
   "metadata": {},
   "outputs": [
    {
     "name": "stdin",
     "output_type": "stream",
     "text": [
      "Enter a character: P\n"
     ]
    },
    {
     "name": "stdout",
     "output_type": "stream",
     "text": [
      "Lowercase\n"
     ]
    }
   ],
   "source": [
    "ch = input('Enter a character:')\n",
    "ascii = ord(ch)\n",
    "if(ascii >= 97 and ascii<= 122):\n",
    "    print('Lowercase')\n",
    "elif(ascii >= 65 and ascii<= 90):\n",
    "    print('Lowercase')\n",
    "else:\n",
    "    print('Not an alphabet')"
   ]
  },
  {
   "cell_type": "markdown",
   "id": "9e8b4c31-6535-4c79-bf19-8c926f8fcb87",
   "metadata": {},
   "source": [
    "### 9) display fibonicii series of 10 numbers"
   ]
  },
  {
   "cell_type": "code",
   "execution_count": 59,
   "id": "373ed34f-2bb6-4b63-893d-100a6da60246",
   "metadata": {},
   "outputs": [
    {
     "name": "stdout",
     "output_type": "stream",
     "text": [
      "1\n",
      "2\n",
      "3\n",
      "5\n",
      "8\n",
      "13\n",
      "21\n",
      "34\n",
      "55\n",
      "89\n"
     ]
    }
   ],
   "source": [
    "a = 0\n",
    "b = 1\n",
    "for i in range(0,10):\n",
    "    c = a + b\n",
    "    print(c)\n",
    "    a = b\n",
    "    b = c"
   ]
  },
  {
   "cell_type": "markdown",
   "id": "eaad6d6b-a96e-4629-b8eb-48edef39a63d",
   "metadata": {},
   "source": [
    "### 10) display prime numbers from 3 to 30"
   ]
  },
  {
   "cell_type": "code",
   "execution_count": 98,
   "id": "c0461e16-1b5e-4d02-9ece-99abcc2ab18d",
   "metadata": {},
   "outputs": [
    {
     "name": "stdout",
     "output_type": "stream",
     "text": [
      "3\n",
      "5\n",
      "7\n",
      "11\n",
      "13\n",
      "17\n",
      "19\n",
      "23\n",
      "29\n"
     ]
    }
   ],
   "source": [
    "def prime(n):\n",
    "    for i in range(2,n//2+1):\n",
    "        if(n%i==0):\n",
    "            return False\n",
    "    return True\n",
    "for i in range(3,31):\n",
    "    if(prime(i)):\n",
    "        print(i)"
   ]
  },
  {
   "cell_type": "markdown",
   "id": "37645adb-1b1e-468e-95e4-10df8cb457fb",
   "metadata": {},
   "source": [
    "### 11) accept a number and display whether it is prime or not"
   ]
  },
  {
   "cell_type": "code",
   "execution_count": 105,
   "id": "8af7f9e6-dd3d-4e5a-b081-b303027e9fe3",
   "metadata": {},
   "outputs": [
    {
     "name": "stdin",
     "output_type": "stream",
     "text": [
      "Enter a number:  2\n"
     ]
    },
    {
     "name": "stdout",
     "output_type": "stream",
     "text": [
      "2 is a prime number.\n"
     ]
    }
   ],
   "source": [
    "n = int(input('Enter a number: '))\n",
    "def prime(n):\n",
    "    if (n<=1):\n",
    "        return False\n",
    "    if n==2:\n",
    "        return True\n",
    "    for i in range(2,n//2+1):\n",
    "        if(n%i==0):\n",
    "            return False\n",
    "    return True\n",
    "if(prime(n)):\n",
    "    print(n, 'is a prime number.')\n",
    "else:\n",
    "    print(n, 'is not a prime number.')"
   ]
  },
  {
   "cell_type": "markdown",
   "id": "9d3160f7-7024-4369-a7b8-9deb6e30dd91",
   "metadata": {},
   "source": [
    "### 12) Pattern"
   ]
  },
  {
   "cell_type": "code",
   "execution_count": 108,
   "id": "a388fe4e-2b9e-4bfc-b3e0-ea78179d39b3",
   "metadata": {},
   "outputs": [
    {
     "name": "stdout",
     "output_type": "stream",
     "text": [
      "* \n",
      "* * \n",
      "* * * \n",
      "* * * * \n",
      "* * * * * \n"
     ]
    }
   ],
   "source": [
    "for i in range(1,6):\n",
    "    for j in range(1,i+1):\n",
    "        print('*',end=' ')\n",
    "    print()"
   ]
  },
  {
   "cell_type": "markdown",
   "id": "35d198e7-55e1-4f40-91f1-945fdffc0b68",
   "metadata": {},
   "source": [
    "#### 13) Pattern"
   ]
  },
  {
   "cell_type": "code",
   "execution_count": 127,
   "id": "041e9768-5ecd-4669-ac89-d16c1e8e5138",
   "metadata": {},
   "outputs": [
    {
     "name": "stdout",
     "output_type": "stream",
     "text": [
      "* * * * * \n",
      "* * * * \n",
      "* * * \n",
      "* * \n",
      "* \n"
     ]
    }
   ],
   "source": [
    "for i in range(5,0,-1):\n",
    "    for j in range(1,i+1):\n",
    "        print('*',end=' ')\n",
    "    print('')"
   ]
  },
  {
   "cell_type": "markdown",
   "id": "59fdd08b-7a3d-48b7-9b9b-4ac3f0d9de68",
   "metadata": {},
   "source": [
    "### 14) Pattern"
   ]
  },
  {
   "cell_type": "code",
   "execution_count": 143,
   "id": "480f897c-63dd-4786-8204-dd2593be2113",
   "metadata": {},
   "outputs": [
    {
     "name": "stdout",
     "output_type": "stream",
     "text": [
      "          * \n",
      "        * * \n",
      "      * * * \n",
      "    * * * * \n",
      "  * * * * * \n"
     ]
    }
   ],
   "source": [
    "for i in range(1,6):\n",
    "    for k in range(6,i,-1):\n",
    "        print(' ',end=' ')\n",
    "    for j in range(1,i+1):\n",
    "        print('*',end=' ')\n",
    "    print()"
   ]
  },
  {
   "cell_type": "markdown",
   "id": "445910be-3841-4a80-873f-49108c0443f8",
   "metadata": {},
   "source": [
    "### 15) Pattern"
   ]
  },
  {
   "cell_type": "code",
   "execution_count": 156,
   "id": "dd45397f-7b28-4dce-9008-b890b506d968",
   "metadata": {},
   "outputs": [
    {
     "name": "stdout",
     "output_type": "stream",
     "text": [
      "        * \n",
      "      * * * \n",
      "    * * * * * \n",
      "  * * * * * * * \n"
     ]
    }
   ],
   "source": [
    "for i in range(1,5):\n",
    "    for k in range(5,i,-1):\n",
    "        print(' ',end=' ')\n",
    "    for j in range(1,2*i):\n",
    "        print('*',end=' ')\n",
    "    print()"
   ]
  },
  {
   "cell_type": "markdown",
   "id": "6993d494-806a-4e12-93c0-c45e0a7f96ab",
   "metadata": {},
   "source": [
    "### 16) Pattern"
   ]
  },
  {
   "cell_type": "code",
   "execution_count": 181,
   "id": "66f7e8d5-51a8-4f7e-822a-2b87314f3d5c",
   "metadata": {},
   "outputs": [
    {
     "name": "stdout",
     "output_type": "stream",
     "text": [
      "* * * * * \n",
      " * * * * \n",
      "  * * * \n",
      "   * * \n",
      "    * \n"
     ]
    }
   ],
   "source": [
    "for i in range(5,0,-1):\n",
    "    for k in range(5,i,-1):\n",
    "        print(' ',end='')\n",
    "    for j in range(1,i+1):\n",
    "        print('* ',end='')\n",
    "    print()"
   ]
  },
  {
   "cell_type": "markdown",
   "id": "53a69e59-5eca-431b-9dbb-115229966265",
   "metadata": {},
   "source": [
    "### 17) Pattern"
   ]
  },
  {
   "cell_type": "code",
   "execution_count": 194,
   "id": "683c2741-d368-46fb-8564-5477616d02df",
   "metadata": {},
   "outputs": [
    {
     "name": "stdout",
     "output_type": "stream",
     "text": [
      "    * \n",
      "   * * \n",
      "  * * * \n",
      " * * * * \n",
      "* * * * * \n",
      " * * * * \n",
      "  * * * \n",
      "   * * \n",
      "    * \n"
     ]
    }
   ],
   "source": [
    "for i in range(1,5):\n",
    "    for k in range(5,i,-1):\n",
    "        print(' ',end='')\n",
    "    for j in range(1,i+1):\n",
    "        print('*',end=' ')\n",
    "    print()\n",
    "for i in range(5,0,-1):\n",
    "    for k in range(5,i,-1):\n",
    "        print(' ',end='')\n",
    "    for j in range(1,i+1):\n",
    "        print('* ',end='')\n",
    "    print()"
   ]
  },
  {
   "cell_type": "code",
   "execution_count": null,
   "id": "62178651-ea46-477c-af6a-e320430fe76e",
   "metadata": {},
   "outputs": [],
   "source": []
  }
 ],
 "metadata": {
  "kernelspec": {
   "display_name": "Python 3 (ipykernel)",
   "language": "python",
   "name": "python3"
  },
  "language_info": {
   "codemirror_mode": {
    "name": "ipython",
    "version": 3
   },
   "file_extension": ".py",
   "mimetype": "text/x-python",
   "name": "python",
   "nbconvert_exporter": "python",
   "pygments_lexer": "ipython3",
   "version": "3.12.4"
  }
 },
 "nbformat": 4,
 "nbformat_minor": 5
}
