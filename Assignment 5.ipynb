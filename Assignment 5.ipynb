{
 "cells": [
  {
   "cell_type": "markdown",
   "id": "465a626c-2fe1-4570-847c-d68ef8dfa7f2",
   "metadata": {},
   "source": [
    "#### InstanceOf assignment 1"
   ]
  },
  {
   "cell_type": "code",
   "execution_count": 17,
   "id": "a0d59f47-bd49-4cc1-ad91-3477f43620fa",
   "metadata": {},
   "outputs": [
    {
     "name": "stdout",
     "output_type": "stream",
     "text": [
      "MSC IT starts..\n",
      "MSCIT ends\n",
      "\n",
      "Dbda starts..\n",
      "DBDA orientation\n",
      "Dbda ends\n",
      "\n",
      "Basic starts..\n",
      "Basic ends\n"
     ]
    }
   ],
   "source": [
    "class Course:\n",
    "    def start(self):\n",
    "        pass\n",
    "    def end(self):\n",
    "        pass\n",
    "\n",
    "class Mscit(Course):\n",
    "    def start(self):\n",
    "        print('MSC IT starts..')\n",
    "\n",
    "    def end(self):\n",
    "        print('MSCIT ends')\n",
    "\n",
    "class Basic(Course):\n",
    "    def start(self):\n",
    "        print('\\nBasic starts..')\n",
    "\n",
    "    def end(self):\n",
    "        print('Basic ends')\n",
    "\n",
    "class Dbda(Course):\n",
    "    def start(self):\n",
    "        print('\\nDbda starts..')\n",
    "\n",
    "    def orientation(self):\n",
    "        print('DBDA orientation')\n",
    "    \n",
    "    def end(self):\n",
    "        print('Dbda ends')\n",
    "\n",
    "def perform(c):\n",
    "    c.start()\n",
    "    if isinstance(c,Dbda):\n",
    "        c.orientation()\n",
    "    c.end()\n",
    "\n",
    "perform(Mscit())\n",
    "perform(Dbda())\n",
    "perform(Basic())"
   ]
  },
  {
   "cell_type": "markdown",
   "id": "b7dd37e1-d9ab-4bbe-b650-b471d314b8c7",
   "metadata": {},
   "source": [
    "#### InstanceOf assignment 2"
   ]
  },
  {
   "cell_type": "code",
   "execution_count": 27,
   "id": "85a45fd5-3c22-40b0-b605-a6bec78da943",
   "metadata": {},
   "outputs": [
    {
     "name": "stdout",
     "output_type": "stream",
     "text": [
      "Meow\n",
      "Bark..\n",
      "Roars\n",
      "Hunting\n"
     ]
    }
   ],
   "source": [
    "from abc import ABC,abstractmethod\n",
    "\n",
    "class Animal(ABC):\n",
    "    @abstractmethod\n",
    "    def makeSound(self):\n",
    "        pass\n",
    "\n",
    "class Cat(Animal):\n",
    "    def makeSound(self):\n",
    "        print('Meow')\n",
    "\n",
    "class Dog(Animal):\n",
    "    def makeSound(self):\n",
    "        print('Bark..')\n",
    "\n",
    "class Tiger(Animal):\n",
    "    def makeSound(self):\n",
    "        print('Roars')\n",
    "\n",
    "    def hunting(self):\n",
    "        print('Hunting')\n",
    "\n",
    "def perform(animal):\n",
    "    animal.makeSound()\n",
    "    if isinstance(animal,Tiger):\n",
    "        animal.hunting()\n",
    "\n",
    "perform(Cat())\n",
    "perform(Dog())\n",
    "perform(Tiger())"
   ]
  },
  {
   "cell_type": "markdown",
   "id": "fdb063ec-4e4f-42a9-92b9-782d7d1badbd",
   "metadata": {},
   "source": [
    "### Questions"
   ]
  },
  {
   "cell_type": "markdown",
   "id": "5e4931ef-34e0-4166-abe0-8aeef3a207a0",
   "metadata": {},
   "source": [
    "#### 1) Create a multi-level inheritance , override default constructors in the child classes , instantiate the child class and show how will u invoke parent class constructor from child class ?"
   ]
  },
  {
   "cell_type": "code",
   "execution_count": 39,
   "id": "a15ec41e-5459-4a75-a266-1655506529f0",
   "metadata": {},
   "outputs": [
    {
     "name": "stdout",
     "output_type": "stream",
     "text": [
      "In GP init\n",
      "In P init\n",
      "In C init\n"
     ]
    }
   ],
   "source": [
    "class GP:\n",
    "    def __init__(self):\n",
    "        print('In GP init')\n",
    "\n",
    "class P(GP):\n",
    "    def __init__(self):\n",
    "        super().__init__()\n",
    "        print('In P init')\n",
    "\n",
    "class C(P):\n",
    "    def __init__(self):\n",
    "        super().__init__()\n",
    "        print('In C init')\n",
    "\n",
    "child = C()"
   ]
  },
  {
   "cell_type": "markdown",
   "id": "1b3e2e11-7a31-4549-a0e9-8fd2ab29da0f",
   "metadata": {},
   "source": [
    "#### 2) create a class \"Vehicle\", define a method \"public void start()\" in it. From this class derive a class FourWheeler. How will u override \"start()\" method of parent class ?"
   ]
  },
  {
   "cell_type": "code",
   "execution_count": 46,
   "id": "d5ab3a65-b29b-4408-a2aa-f847a7e1c996",
   "metadata": {},
   "outputs": [
    {
     "name": "stdout",
     "output_type": "stream",
     "text": [
      "FourWheeler starts\n"
     ]
    }
   ],
   "source": [
    "class Vehicle:\n",
    "    def start(self):\n",
    "        print('Vehicle starts')\n",
    "\n",
    "class FourWheeler(Vehicle):\n",
    "    def start(self):\n",
    "        print('FourWheeler starts')\n",
    "\n",
    "fv = FourWheeler()\n",
    "fv.start()\n",
    "    "
   ]
  },
  {
   "cell_type": "markdown",
   "id": "6be66abd-836f-42f1-9db0-5c77530c22bb",
   "metadata": {},
   "source": [
    "#### 3) Go for Hierarchical inheritance, create instances of child class and observe constructor invocation.\n"
   ]
  },
  {
   "cell_type": "code",
   "execution_count": 49,
   "id": "f23c5bfe-e056-4f20-985c-f74b89a28733",
   "metadata": {},
   "outputs": [
    {
     "name": "stdout",
     "output_type": "stream",
     "text": [
      "In Parent init\n",
      "In Child1 init\n",
      "\n",
      "In Parent init\n",
      "In Child2 init\n",
      "\n"
     ]
    }
   ],
   "source": [
    "class Parent:\n",
    "    def __init__(self):\n",
    "        print('In Parent init')\n",
    "\n",
    "class Child1(Parent):\n",
    "    def __init__(self):\n",
    "        super().__init__()\n",
    "        print('In Child1 init\\n')\n",
    "\n",
    "class Child2(Parent):\n",
    "    def __init__(self):\n",
    "        super().__init__()\n",
    "        print('In Child2 init\\n')\n",
    "\n",
    "child = Child1()\n",
    "child = Child2()"
   ]
  },
  {
   "cell_type": "markdown",
   "id": "d23332f2-8be6-44a9-8621-d97f9d1c30a4",
   "metadata": {},
   "source": [
    "#### 4) Create a class \"Top1\" with \"disp1()\" method.\n",
    "From this class Derive \"Bottom1\", \"Bottom2\" and \"Bottom3\" classes ,override the \"disp1()\".\n",
    "create a function \"perform\" which can take argument as object of any child class.\n",
    "Now show how will u achieve dynamic polymorphism.\n"
   ]
  },
  {
   "cell_type": "code",
   "execution_count": 54,
   "id": "7aae7bf5-db2f-4301-8bf5-b99051b1ef82",
   "metadata": {},
   "outputs": [
    {
     "name": "stdout",
     "output_type": "stream",
     "text": [
      "In bottom1\n",
      "In bottom2\n",
      "In bottom3\n"
     ]
    }
   ],
   "source": [
    "class Top1:\n",
    "    def disp1(self):\n",
    "        pass\n",
    "\n",
    "class Bottom1(Top1):\n",
    "    def disp1(self):\n",
    "        print('In bottom1')\n",
    "\n",
    "class Bottom2(Top1):\n",
    "    def disp1(self):\n",
    "        print('In bottom2')\n",
    "\n",
    "class Bottom3(Top1):\n",
    "    def disp1(self):\n",
    "        print('In bottom3')\n",
    "\n",
    "def perform(t):\n",
    "    t.disp1()\n",
    "\n",
    "perform(Bottom1())\n",
    "perform(Bottom2())\n",
    "perform(Bottom3())"
   ]
  },
  {
   "cell_type": "markdown",
   "id": "1c588ec9-f54e-4d9f-b0b6-7d9ef102bcc7",
   "metadata": {},
   "source": [
    "#### 5) create Base class and Sub class with parameterized constructors. Show how will you invoke Base class parameterized constructor from Sub class.\n"
   ]
  },
  {
   "cell_type": "code",
   "execution_count": 57,
   "id": "dee75678-1850-4aa1-95f2-39771d802238",
   "metadata": {},
   "outputs": [
    {
     "name": "stdout",
     "output_type": "stream",
     "text": [
      "10 100\n"
     ]
    }
   ],
   "source": [
    "class Base:\n",
    "    def __init__(self,num1):\n",
    "        self.num1=num1\n",
    "\n",
    "class Sub(Base):\n",
    "    def __init__(self,num1,num2):\n",
    "        super().__init__(num1)\n",
    "        self.num2=num2\n",
    "\n",
    "    def disp(self):\n",
    "        print(self.num1,self.num2)\n",
    "\n",
    "s = Sub(10,100)\n",
    "s.disp()"
   ]
  },
  {
   "cell_type": "markdown",
   "id": "b1c9540d-dfbc-4dc9-a391-c607a4734680",
   "metadata": {},
   "source": [
    "## String"
   ]
  },
  {
   "cell_type": "markdown",
   "id": "ece6c813-6381-4f0f-a08e-225c9e028c3f",
   "metadata": {},
   "source": [
    "#### 1) Write a Python program to get a string from a given string where all occurrences of its first char  have been changed to '$', except the first char itself. \n",
    "-  Sample String : 'restart'\n",
    "-  Expected Result : 'resta$t'"
   ]
  },
  {
   "cell_type": "code",
   "execution_count": 15,
   "id": "6590d6ea-de77-4843-9f2e-059be5343ff1",
   "metadata": {},
   "outputs": [
    {
     "name": "stdin",
     "output_type": "stream",
     "text": [
      "Enter string r\n"
     ]
    },
    {
     "data": {
      "text/plain": [
       "'resta$t'"
      ]
     },
     "execution_count": 15,
     "metadata": {},
     "output_type": "execute_result"
    }
   ],
   "source": [
    "sstr = 'restart'\n",
    "char = input('Enter string')\n",
    "sans = ''\n",
    "for i in sstr:\n",
    "    if i == char:\n",
    "        if char in sans:\n",
    "            sans+='$'\n",
    "        else:\n",
    "            sans+=char\n",
    "    else:\n",
    "        sans+=i\n",
    "\n",
    "sans"
   ]
  },
  {
   "cell_type": "markdown",
   "id": "1dfc3163-2081-40e3-b5f8-bb271ab9b58f",
   "metadata": {},
   "source": [
    "#### 2) Write a Python program to add 'ing' at the end of a given string (length should be at least 3).If the given string already ends with 'ing' then add 'ly' instead. If the string length of the given string is less than 3, leave it unchanged. \n",
    "Sample String : 'abc'\n",
    "Expected Result : 'abcing'\n",
    "Sample String : 'string'\n",
    "Expected Result : 'stringly'"
   ]
  },
  {
   "cell_type": "code",
   "execution_count": 22,
   "id": "9a311589-9141-4484-af0f-8e6c0cf862c8",
   "metadata": {},
   "outputs": [
    {
     "name": "stdin",
     "output_type": "stream",
     "text": [
      "Enter a string 12\n"
     ]
    },
    {
     "data": {
      "text/plain": [
       "'12'"
      ]
     },
     "execution_count": 22,
     "metadata": {},
     "output_type": "execute_result"
    }
   ],
   "source": [
    "sstr = input('Enter a string')\n",
    "if len(sstr)<3:\n",
    "    ans = sstr\n",
    "\n",
    "elif sstr[-3:]=='ing':\n",
    "    ans=sstr+'ly'\n",
    "else:\n",
    "    ans = sstr + 'ing'\n",
    "\n",
    "ans"
   ]
  },
  {
   "cell_type": "markdown",
   "id": "538c6900-3ef9-4ce0-80d1-73faeaafd446",
   "metadata": {},
   "source": [
    "#### 3) Write a Python program to calculate the length of a string."
   ]
  },
  {
   "cell_type": "code",
   "execution_count": 25,
   "id": "37817fb5-d9d4-4130-a5cf-4d7fb4a2da64",
   "metadata": {},
   "outputs": [
    {
     "name": "stdin",
     "output_type": "stream",
     "text": [
      "Enter a string abcd\n"
     ]
    },
    {
     "data": {
      "text/plain": [
       "4"
      ]
     },
     "execution_count": 25,
     "metadata": {},
     "output_type": "execute_result"
    }
   ],
   "source": [
    "sstr = input('Enter a string')\n",
    "count = 0\n",
    "for i in sstr:\n",
    "    count+=1\n",
    "count"
   ]
  },
  {
   "cell_type": "markdown",
   "id": "55d61fdb-8577-4543-83e9-2cad16a1b04e",
   "metadata": {},
   "source": [
    "#### 4) Write a Python program to count the number of characters (character frequency) in a string. \n",
    "Sample String : google.com'"
   ]
  },
  {
   "cell_type": "code",
   "execution_count": 28,
   "id": "69d56851-3c05-4da5-b941-cdb198c1b321",
   "metadata": {},
   "outputs": [
    {
     "name": "stdin",
     "output_type": "stream",
     "text": [
      "Enter a string google.com\n"
     ]
    },
    {
     "data": {
      "text/plain": [
       "{'g': 2, 'o': 3, 'l': 1, 'e': 1, '.': 1, 'c': 1, 'm': 1}"
      ]
     },
     "execution_count": 28,
     "metadata": {},
     "output_type": "execute_result"
    }
   ],
   "source": [
    "sstr = input('Enter a string')\n",
    "count = dict()\n",
    "for i in sstr:\n",
    "    if i in count.keys():\n",
    "        count[i]+=1\n",
    "    else:\n",
    "        count[i]=1\n",
    "count"
   ]
  },
  {
   "cell_type": "markdown",
   "id": "15ed5601-5d68-42c5-91d3-6c9cca2bedc0",
   "metadata": {},
   "source": [
    "#### 5) Write a Python program to get a string made of the first 2 and the last 2 chars from a given a string. If the string length is less than 2, return the same string instead of the empty string\n"
   ]
  },
  {
   "cell_type": "code",
   "execution_count": 31,
   "id": "0c100ef1-8c47-4ffb-a665-b5f1fde2e5d5",
   "metadata": {},
   "outputs": [
    {
     "name": "stdin",
     "output_type": "stream",
     "text": [
      "Enter a string abcdef\n"
     ]
    },
    {
     "data": {
      "text/plain": [
       "'abef'"
      ]
     },
     "execution_count": 31,
     "metadata": {},
     "output_type": "execute_result"
    }
   ],
   "source": [
    "sstr = input('Enter a string')\n",
    "if len(sstr)<2:\n",
    "    ans = sstr\n",
    "else:\n",
    "    ans = sstr[:2]+sstr[-2:]\n",
    "    \n",
    "ans"
   ]
  },
  {
   "cell_type": "markdown",
   "id": "6baafdac-e9f6-424c-a250-570ff3847dd9",
   "metadata": {},
   "source": [
    "#### 6) Write a Python program to get a single string from two given strings, separated by a space and swap the first two characters of each string. \n",
    "Sample String : 'abc', 'xyz'\n",
    "Expected Result : 'xyc abz'"
   ]
  },
  {
   "cell_type": "code",
   "execution_count": 40,
   "id": "4f2efd2d-b628-43a2-9b2b-31c6ba54e392",
   "metadata": {},
   "outputs": [
    {
     "name": "stdin",
     "output_type": "stream",
     "text": [
      "Enter string 1 abc\n",
      "Enter string 2 xyz\n"
     ]
    },
    {
     "data": {
      "text/plain": [
       "'xyc abz'"
      ]
     },
     "execution_count": 40,
     "metadata": {},
     "output_type": "execute_result"
    }
   ],
   "source": [
    "str1 = input('Enter string 1')\n",
    "str2 = input('Enter string 2')\n",
    "ans = str2[:2]+str1[2:]+' '+str1[:2]+str2[2:]\n",
    "ans"
   ]
  },
  {
   "cell_type": "markdown",
   "id": "05c29ff4-0e06-42ea-9cea-f024415abbf8",
   "metadata": {},
   "source": [
    "## Other assignments"
   ]
  },
  {
   "cell_type": "markdown",
   "id": "2f317f4e-011b-404f-aad5-4f07aec8da4f",
   "metadata": {},
   "source": [
    "#### 1) Accept a number from the user check if it is special number or not? "
   ]
  },
  {
   "cell_type": "code",
   "execution_count": 52,
   "id": "68f7f7db-da57-4030-a26d-b331cfbe022d",
   "metadata": {},
   "outputs": [
    {
     "name": "stdout",
     "output_type": "stream",
     "text": [
      "Special\n"
     ]
    }
   ],
   "source": [
    "def fact(n):\n",
    "    fact = 1\n",
    "    while n>0:\n",
    "        fact *= n\n",
    "        n -=1\n",
    "    return fact\n",
    "\n",
    "def isSpecial(n):\n",
    "    og = n\n",
    "    sum = 0\n",
    "    while n > 0:\n",
    "        r = n % 10\n",
    "        sum = sum + fact(r)\n",
    "        n = n//10\n",
    "    if og == sum:\n",
    "        print('Special')\n",
    "    else:\n",
    "        print('Not Special')\n",
    "        \n",
    "isSpecial(145)        "
   ]
  },
  {
   "cell_type": "markdown",
   "id": "fc3117b3-53d7-41e0-884a-1a376c652b15",
   "metadata": {},
   "source": [
    "#### 2) accept a number (maximum 5 digit number) and  calculate sum of its digits."
   ]
  },
  {
   "cell_type": "code",
   "execution_count": 59,
   "id": "950e5d2a-a2a7-41ec-a6a8-e1276b49de7b",
   "metadata": {},
   "outputs": [
    {
     "name": "stdin",
     "output_type": "stream",
     "text": [
      "Enter a number:  123\n"
     ]
    },
    {
     "name": "stdout",
     "output_type": "stream",
     "text": [
      "6\n"
     ]
    }
   ],
   "source": [
    "n = int(input('Enter a number: '))\n",
    "\n",
    "def sumOfDigits(n):\n",
    "    sum = 0\n",
    "    while n > 0:\n",
    "        r = n % 10\n",
    "        sum = sum + (r)\n",
    "        n = n//10\n",
    "    print(sum)\n",
    "        \n",
    "sumOfDigits(n)  "
   ]
  },
  {
   "cell_type": "markdown",
   "id": "28cd45bd-56b6-4e8d-9d9d-e34c7a10e2bb",
   "metadata": {},
   "source": [
    "#### 3)  Print 4 digit armstrong numbers"
   ]
  },
  {
   "cell_type": "code",
   "execution_count": 68,
   "id": "8736682d-73b4-4098-bff7-9a62d4034d36",
   "metadata": {},
   "outputs": [
    {
     "name": "stdout",
     "output_type": "stream",
     "text": [
      "1634\n",
      "8208\n",
      "9474\n"
     ]
    }
   ],
   "source": [
    "def armstrong(n):\n",
    "    og = n\n",
    "    sum = 0\n",
    "    while n > 0:\n",
    "        r = n % 10\n",
    "        sum = sum + (r**4)\n",
    "        n = n//10\n",
    "    if og == sum:\n",
    "        return True\n",
    "    else:\n",
    "        return False\n",
    "\n",
    "for i in range(1000,10000):\n",
    "    if armstrong(i):\n",
    "        print(i)"
   ]
  },
  {
   "cell_type": "markdown",
   "id": "d3514a04-940c-4824-9586-ab8a72da2a0e",
   "metadata": {},
   "source": [
    "#### 4) accept principle amt, rate of interest and no. of years and calculate simple interest.\n"
   ]
  },
  {
   "cell_type": "code",
   "execution_count": 73,
   "id": "fbd8a595-7ca8-4fc8-86e8-7d9e983f1556",
   "metadata": {},
   "outputs": [
    {
     "name": "stdin",
     "output_type": "stream",
     "text": [
      "Enter amount 1000\n",
      "Enter rate of interest 2\n",
      "Enter no. of years 3\n"
     ]
    },
    {
     "name": "stdout",
     "output_type": "stream",
     "text": [
      "60.0\n"
     ]
    }
   ],
   "source": [
    "principle_amt = int(input('Enter amount'))\n",
    "rate = int(input('Enter rate of interest'))\n",
    "years = int(input('Enter no. of years'))\n",
    "interest = (principle_amt*rate*years)/100\n",
    "print(interest)"
   ]
  },
  {
   "cell_type": "code",
   "execution_count": null,
   "id": "c96d17a5-aca1-4c32-8ed7-c2e8dba3a9d3",
   "metadata": {},
   "outputs": [],
   "source": []
  }
 ],
 "metadata": {
  "kernelspec": {
   "display_name": "Python 3 (ipykernel)",
   "language": "python",
   "name": "python3"
  },
  "language_info": {
   "codemirror_mode": {
    "name": "ipython",
    "version": 3
   },
   "file_extension": ".py",
   "mimetype": "text/x-python",
   "name": "python",
   "nbconvert_exporter": "python",
   "pygments_lexer": "ipython3",
   "version": "3.12.4"
  }
 },
 "nbformat": 4,
 "nbformat_minor": 5
}
