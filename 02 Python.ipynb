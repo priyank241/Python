{
 "cells": [
  {
   "cell_type": "markdown",
   "id": "9407b54d-d22e-4136-8414-8f91fdced074",
   "metadata": {},
   "source": [
    "# Collections"
   ]
  },
  {
   "cell_type": "markdown",
   "id": "a40e1e94-48a1-4547-aa68-988c4d879d7b",
   "metadata": {},
   "source": [
    "1. List - ordered, allows duplicates mutable\n",
    "2. Tuple - ordered,allows duplicates, immuatble\n",
    "3. Set - unordered unindexed,no duplicates  (cannot change variables but can change set object)\n",
    "4. Dictionary - ordered mutable, key values pairs,no duplicates keys"
   ]
  },
  {
   "cell_type": "markdown",
   "id": "d1fbc123-a172-4c18-8852-d96fa74d9e51",
   "metadata": {},
   "source": [
    "### Array"
   ]
  },
  {
   "cell_type": "code",
   "execution_count": 1,
   "id": "eb90041a-4a73-41de-b24f-843343004832",
   "metadata": {},
   "outputs": [
    {
     "name": "stdout",
     "output_type": "stream",
     "text": [
      "array('i', [1, 2, 3]) \t 2331189708016\n",
      "array('i', [1, 2, 3, 30]) \t 2331189708016\n",
      "array('i', [1, 22, 3, 30]) \t 2331189708016\n"
     ]
    }
   ],
   "source": [
    "import array as ar\n",
    "\n",
    "a = ar.array('i',[1,2,3])   #  array    similar datatypes only, \n",
    "print(a,\"\\t\",id(a))\n",
    "a.append(30)   # array references are mutable\n",
    "print(a,\"\\t\",id(a))\n",
    "a[1]=22    # array elements are mutable\n",
    "print(a,\"\\t\",id(a))"
   ]
  },
  {
   "cell_type": "markdown",
   "id": "3e156c18-fd35-42ed-a13c-dfef1b4bb374",
   "metadata": {},
   "source": [
    "### String"
   ]
  },
  {
   "cell_type": "code",
   "execution_count": 6,
   "id": "bb9dfc7b-8b0b-40bf-ac24-50d444fcf1b3",
   "metadata": {},
   "outputs": [
    {
     "name": "stdout",
     "output_type": "stream",
     "text": [
      "Hello\n",
      "hELLO\n",
      "Hello\n"
     ]
    }
   ],
   "source": [
    "mystring = \"Hello\"      #  string  \n",
    "print(mystring)\n",
    "# mystring[0]='G'    #  Error     string is immutable\n",
    "print(mystring.swapcase())  # string is immutable\n",
    "print(mystring)"
   ]
  },
  {
   "cell_type": "markdown",
   "id": "9be9a9fb-9713-453b-8924-c0b6f3862490",
   "metadata": {},
   "source": [
    "## List"
   ]
  },
  {
   "cell_type": "code",
   "execution_count": 15,
   "id": "1502ab1c-e51c-4fb2-a02f-810a61069b8c",
   "metadata": {},
   "outputs": [
    {
     "name": "stdout",
     "output_type": "stream",
     "text": [
      "[10, 20, 30, 40, 30]\n",
      "[10, 100, 30, 40, 30]\n",
      "[10, 100, 30, 40, 30, 400]\n",
      "[10, 100, 30, 40, 30, 400, 500]\n",
      "[10, 100, 30, 40, 30, 400]\n"
     ]
    }
   ],
   "source": [
    "mylist=[10,20,30,40,30]    #  list   can have duplicates\n",
    "print(mylist)\n",
    "mylist[1]=100   # list is mutable\n",
    "print(mylist)\n",
    "mylist.append(400) # list is mutable\n",
    "print(mylist)\n",
    "mylist.append(500)\n",
    "print(mylist)\n",
    "mylist.pop(-1)\n",
    "print(mylist)"
   ]
  },
  {
   "cell_type": "markdown",
   "id": "8f9f7f5e-22a8-47d1-885f-2899100d056b",
   "metadata": {},
   "source": [
    "## Tuple"
   ]
  },
  {
   "cell_type": "code",
   "execution_count": 24,
   "id": "5b536a4a-f8a2-49a7-b0af-f3eb6892432d",
   "metadata": {},
   "outputs": [
    {
     "name": "stdout",
     "output_type": "stream",
     "text": [
      "(100, 200, 300, 400, 300)\n",
      "(100, 200, 300, 400, 300) \t 2331189711776\n",
      "(100, 200, 300, 400, 300)\n",
      "(100, 200, 300, 400, 300) \t 2331189711776\n",
      "(100, 200, 300, 400, 300, 70, 80, 90) \t 2331213646640\n",
      "100\n"
     ]
    }
   ],
   "source": [
    "mytuple=(100,200,300,400,300)   # tuple    can have duplicates\n",
    "print(mytuple)\n",
    "#mytuple[1]=700  # Error:  tuple is immutable\n",
    "print(mytuple,\"\\t\",id(mytuple))\n",
    "mytuple1=mytuple.__add__((70,80,90))  # it'll be a different object altogether\n",
    "print(mytuple)\n",
    "print(mytuple,\"\\t\",id(mytuple))  # will not change\n",
    "print(mytuple1,\"\\t\",id(mytuple1))\n",
    "print(mytuple[0])"
   ]
  },
  {
   "cell_type": "markdown",
   "id": "5d407a51-000b-4ab9-a549-c83bd6faed15",
   "metadata": {},
   "source": [
    "## Set"
   ]
  },
  {
   "cell_type": "code",
   "execution_count": 33,
   "id": "b592b0b7-8e25-4d9a-80ba-54af9dd15e92",
   "metadata": {},
   "outputs": [
    {
     "name": "stdout",
     "output_type": "stream",
     "text": [
      "{40, 10, 20, 30}\n",
      "2331257553184\n",
      "{40, 10, 45, 20, 30}\n",
      "2331257553184\n"
     ]
    }
   ],
   "source": [
    "myset={10,20,30,40,20}     # set     can't have duplicates\n",
    "print(myset)\n",
    "print(id(myset))\n",
    "#myset[1]=56   # Error:  set is immutable for its elements\n",
    "myset.add(45)  # set as an object is mutable\n",
    "print(myset)\n",
    "print(id(myset))\n",
    "# myset[0] #'set' object is not subscriptable"
   ]
  },
  {
   "cell_type": "markdown",
   "id": "e56011e2-31ed-481a-84ff-6926464fdec8",
   "metadata": {},
   "source": [
    "## Dictionary"
   ]
  },
  {
   "cell_type": "code",
   "execution_count": 38,
   "id": "9d49d58b-f77d-44ea-9a30-96d123ddb2b5",
   "metadata": {},
   "outputs": [
    {
     "name": "stdout",
     "output_type": "stream",
     "text": [
      "{'abc': 100, 'xyz': 330, 'pqr': 600}\n",
      "{'abc': 100, 'xyz': 330, 'pqr': 670}\n",
      "{'abc': 100, 'xyz': 330, 'pqr': 670, 'aaa': 333}\n"
     ]
    }
   ],
   "source": [
    "mydictionary={'abc':100,'xyz':300,'pqr':600,'xyz':330}  \n",
    "# dictionary   can't have duplicate keys\n",
    "print(mydictionary)\n",
    "\n",
    "mydictionary['pqr']=670    # key 'pqr' value gets chanaged here\n",
    "print(mydictionary)\n",
    "\n",
    "mydictionary.update({'aaa':333})  # dictionary is mutable\n",
    "print(mydictionary)"
   ]
  },
  {
   "cell_type": "markdown",
   "id": "5177616b-b270-4d9b-bf98-dd1f21a11850",
   "metadata": {},
   "source": [
    "### Deep Dive"
   ]
  },
  {
   "cell_type": "markdown",
   "id": "09005c5f-e400-4e83-816c-a4ee08ece39c",
   "metadata": {},
   "source": [
    "## List"
   ]
  },
  {
   "cell_type": "code",
   "execution_count": 130,
   "id": "819ceee1-e9df-4004-b814-d1419d889e22",
   "metadata": {},
   "outputs": [
    {
     "name": "stdout",
     "output_type": "stream",
     "text": [
      "<class 'list'>\n"
     ]
    }
   ],
   "source": [
    "lst = [1,2,3,4,5]\n",
    "print(type(lst))"
   ]
  },
  {
   "cell_type": "code",
   "execution_count": 132,
   "id": "98cd73fa-1e00-4a75-8ce4-a4ebdbf4bbe8",
   "metadata": {},
   "outputs": [
    {
     "data": {
      "text/plain": [
       "[1, 2, 3, 4, 5, 6]"
      ]
     },
     "execution_count": 132,
     "metadata": {},
     "output_type": "execute_result"
    }
   ],
   "source": [
    "lst.append(6)\n",
    "lst"
   ]
  },
  {
   "cell_type": "code",
   "execution_count": 134,
   "id": "2a925aed-d337-4ebd-824e-ec18c32553d2",
   "metadata": {},
   "outputs": [
    {
     "data": {
      "text/plain": [
       "[1, 2, 0, 4, 5, 6]"
      ]
     },
     "execution_count": 134,
     "metadata": {},
     "output_type": "execute_result"
    }
   ],
   "source": [
    "lst[2] = 0\n",
    "lst"
   ]
  },
  {
   "cell_type": "code",
   "execution_count": 136,
   "id": "37fbdaeb-b059-4b78-835e-725889cb8d1e",
   "metadata": {},
   "outputs": [
    {
     "data": {
      "text/plain": [
       "6"
      ]
     },
     "execution_count": 136,
     "metadata": {},
     "output_type": "execute_result"
    }
   ],
   "source": [
    "len(lst)"
   ]
  },
  {
   "cell_type": "markdown",
   "id": "4f62d901-358e-4fb1-aa17-44e83f5c1c7c",
   "metadata": {},
   "source": [
    "##### list can have multiple datatypes in the same type"
   ]
  },
  {
   "cell_type": "code",
   "execution_count": 70,
   "id": "23d82c78-e98d-48ef-9ca0-7a5e0f5baa94",
   "metadata": {},
   "outputs": [],
   "source": [
    "lsst = [1,1.4,'a',\"Hello\"]"
   ]
  },
  {
   "cell_type": "code",
   "execution_count": 74,
   "id": "6025a6b8-f25c-4ee0-b5f0-077216512e4a",
   "metadata": {},
   "outputs": [
    {
     "data": {
      "text/plain": [
       "'Hello'"
      ]
     },
     "execution_count": 74,
     "metadata": {},
     "output_type": "execute_result"
    }
   ],
   "source": [
    "lsst[3]"
   ]
  },
  {
   "cell_type": "code",
   "execution_count": 104,
   "id": "da429996-ae21-4808-878e-29a985778d00",
   "metadata": {},
   "outputs": [
    {
     "data": {
      "text/plain": [
       "4"
      ]
     },
     "execution_count": 104,
     "metadata": {},
     "output_type": "execute_result"
    }
   ],
   "source": [
    "nest_lst = [[1,2,3,4],[5,6,7],[8,9],[10]] #list of list\n",
    "len(nest_lst)"
   ]
  },
  {
   "cell_type": "code",
   "execution_count": 106,
   "id": "088cc666-af99-4846-8d48-22f3c47487bc",
   "metadata": {},
   "outputs": [
    {
     "data": {
      "text/plain": [
       "[1, 2, 3, 4]"
      ]
     },
     "execution_count": 106,
     "metadata": {},
     "output_type": "execute_result"
    }
   ],
   "source": [
    "nest_lst[0]"
   ]
  },
  {
   "cell_type": "code",
   "execution_count": 108,
   "id": "c7c8620d-89cf-4b7e-8860-4a8f4c438c65",
   "metadata": {},
   "outputs": [
    {
     "data": {
      "text/plain": [
       "7"
      ]
     },
     "execution_count": 108,
     "metadata": {},
     "output_type": "execute_result"
    }
   ],
   "source": [
    "nest_lst[1][2]"
   ]
  },
  {
   "cell_type": "code",
   "execution_count": 110,
   "id": "b88b113d-cc36-4577-af83-726f293d32b2",
   "metadata": {},
   "outputs": [
    {
     "name": "stdout",
     "output_type": "stream",
     "text": [
      "1 2 3 4 \n",
      "5 6 7 \n",
      "8 9 \n",
      "10 \n"
     ]
    }
   ],
   "source": [
    "for i in range(len(nest_lst)):\n",
    "    for j in range(len(nest_lst[i])):\n",
    "        print(nest_lst[i][j],end=' ')\n",
    "    print()"
   ]
  },
  {
   "cell_type": "code",
   "execution_count": 138,
   "id": "0c727c76-bf4a-449b-9d7e-e83deac857fe",
   "metadata": {},
   "outputs": [
    {
     "data": {
      "text/plain": [
       "[1, 2, 0, 4, 5, 6]"
      ]
     },
     "execution_count": 138,
     "metadata": {},
     "output_type": "execute_result"
    }
   ],
   "source": [
    "lst"
   ]
  },
  {
   "cell_type": "code",
   "execution_count": 140,
   "id": "6de363da-5c2b-41eb-a2c2-f9565876d555",
   "metadata": {},
   "outputs": [],
   "source": [
    "lst.insert(6,7)"
   ]
  },
  {
   "cell_type": "code",
   "execution_count": 142,
   "id": "d26b4fd3-76c8-4905-acd9-1741a8e66847",
   "metadata": {},
   "outputs": [
    {
     "data": {
      "text/plain": [
       "[1, 2, 0, 4, 5, 6, 7]"
      ]
     },
     "execution_count": 142,
     "metadata": {},
     "output_type": "execute_result"
    }
   ],
   "source": [
    "lst"
   ]
  },
  {
   "cell_type": "code",
   "execution_count": 144,
   "id": "be654d50-005f-478d-9485-b2fff90fa5ac",
   "metadata": {},
   "outputs": [],
   "source": [
    "lst.insert(9,4)"
   ]
  },
  {
   "cell_type": "code",
   "execution_count": 146,
   "id": "5733c7b0-423e-4a9e-89d2-92fae34b84ee",
   "metadata": {},
   "outputs": [
    {
     "data": {
      "text/plain": [
       "[1, 2, 0, 4, 5, 6, 7, 4]"
      ]
     },
     "execution_count": 146,
     "metadata": {},
     "output_type": "execute_result"
    }
   ],
   "source": [
    "lst"
   ]
  },
  {
   "cell_type": "code",
   "execution_count": 148,
   "id": "ca1162f9-61de-4f6b-a724-d4caa0062941",
   "metadata": {},
   "outputs": [],
   "source": [
    "lst.insert(2,3)  #inserts 3 at index 2 "
   ]
  },
  {
   "cell_type": "code",
   "execution_count": 150,
   "id": "41356770-69ac-4244-a0c8-d9d06d0878d1",
   "metadata": {},
   "outputs": [
    {
     "data": {
      "text/plain": [
       "[1, 2, 3, 0, 4, 5, 6, 7, 4]"
      ]
     },
     "execution_count": 150,
     "metadata": {},
     "output_type": "execute_result"
    }
   ],
   "source": [
    "lst"
   ]
  },
  {
   "cell_type": "code",
   "execution_count": 152,
   "id": "00655a25-3451-4996-8e29-d4967b827931",
   "metadata": {},
   "outputs": [
    {
     "data": {
      "text/plain": [
       "[1, 2, 3, 4, 5, 6, 7, 4]"
      ]
     },
     "execution_count": 152,
     "metadata": {},
     "output_type": "execute_result"
    }
   ],
   "source": [
    "lst.remove(0)  #removes first occ of value\n",
    "lst"
   ]
  },
  {
   "cell_type": "code",
   "execution_count": 160,
   "id": "02edfde7-9de1-4464-bb37-fe134ede8121",
   "metadata": {},
   "outputs": [],
   "source": [
    "lst.extend([8,9,10])  #add multiple values at same time using some collection e.g: list,tuple,set"
   ]
  },
  {
   "cell_type": "code",
   "execution_count": 162,
   "id": "d8059cc7-f0c1-4c7f-a40a-0eb4c148480b",
   "metadata": {},
   "outputs": [
    {
     "data": {
      "text/plain": [
       "[1, 2, 3, 4, 5, 6, 7, 4, 8, 9, 10, 8, 9, 10]"
      ]
     },
     "execution_count": 162,
     "metadata": {},
     "output_type": "execute_result"
    }
   ],
   "source": [
    "lst"
   ]
  },
  {
   "cell_type": "code",
   "execution_count": 166,
   "id": "af4cbe16-2c4e-4083-a4a8-b5a3a2251812",
   "metadata": {},
   "outputs": [],
   "source": [
    "lst.extend((11,12))"
   ]
  },
  {
   "cell_type": "code",
   "execution_count": 168,
   "id": "98857311-1d0b-41c7-9bd2-e1575067a9a8",
   "metadata": {},
   "outputs": [
    {
     "data": {
      "text/plain": [
       "[1, 2, 3, 4, 5, 6, 7, 4, 8, 9, 10, 8, 9, 10, 11, 12]"
      ]
     },
     "execution_count": 168,
     "metadata": {},
     "output_type": "execute_result"
    }
   ],
   "source": [
    "lst"
   ]
  },
  {
   "cell_type": "code",
   "execution_count": 170,
   "id": "7adbc870-5c46-48a9-b8c2-a9c1db8ba008",
   "metadata": {},
   "outputs": [],
   "source": [
    "lst.extend({13,13,14})"
   ]
  },
  {
   "cell_type": "code",
   "execution_count": 172,
   "id": "b06fb671-8bc3-40d0-bd49-b49c42d34b09",
   "metadata": {},
   "outputs": [
    {
     "data": {
      "text/plain": [
       "[1, 2, 3, 4, 5, 6, 7, 4, 8, 9, 10, 8, 9, 10, 11, 12, 13, 14]"
      ]
     },
     "execution_count": 172,
     "metadata": {},
     "output_type": "execute_result"
    }
   ],
   "source": [
    "lst"
   ]
  },
  {
   "cell_type": "markdown",
   "id": "503cf06d-2813-4f3a-9d74-619f55a1d5b7",
   "metadata": {},
   "source": [
    "###### Reverse indexing (Negative)"
   ]
  },
  {
   "cell_type": "code",
   "execution_count": 193,
   "id": "f2018d16-2e78-4d09-b6f7-db79753047e2",
   "metadata": {},
   "outputs": [
    {
     "name": "stdout",
     "output_type": "stream",
     "text": [
      "5\n",
      "4\n",
      "3\n",
      "2\n",
      "1\n"
     ]
    }
   ],
   "source": [
    "lst = [1,2,3,4,5]\n",
    "for i in range(-1,-6,-1):\n",
    "    print(lst[i])"
   ]
  },
  {
   "cell_type": "code",
   "execution_count": 195,
   "id": "a1f19447-db4f-42fd-b852-fd79be16104f",
   "metadata": {},
   "outputs": [
    {
     "data": {
      "text/plain": [
       "[1, 2, 3, 4]"
      ]
     },
     "execution_count": 195,
     "metadata": {},
     "output_type": "execute_result"
    }
   ],
   "source": [
    "lst.pop()  #removes element at index given by default removes last element\n",
    "#pop method is not overloaded because it takes default argument index=-1\n",
    "\n",
    "lst  "
   ]
  },
  {
   "cell_type": "code",
   "execution_count": 197,
   "id": "b3988e6d-0aa0-4285-a6a1-0dc04e202f55",
   "metadata": {},
   "outputs": [
    {
     "data": {
      "text/plain": [
       "3"
      ]
     },
     "execution_count": 197,
     "metadata": {},
     "output_type": "execute_result"
    }
   ],
   "source": [
    "lst.pop(-2)  #also returns value that is removed"
   ]
  },
  {
   "cell_type": "code",
   "execution_count": 199,
   "id": "a983b057-8823-4416-b6ca-2db03d55d9da",
   "metadata": {},
   "outputs": [
    {
     "data": {
      "text/plain": [
       "[1, 2, 4]"
      ]
     },
     "execution_count": 199,
     "metadata": {},
     "output_type": "execute_result"
    }
   ],
   "source": [
    "lst"
   ]
  },
  {
   "cell_type": "markdown",
   "id": "6cf168ab-01d8-4f98-915e-6669cc093136",
   "metadata": {},
   "source": [
    "#### Slicing"
   ]
  },
  {
   "cell_type": "code",
   "execution_count": 202,
   "id": "f87568cf-1084-4dfc-82f5-43c7c8f36899",
   "metadata": {},
   "outputs": [],
   "source": [
    "lst = [0,1,2,3,4,5,6,7,8,9]"
   ]
  },
  {
   "cell_type": "code",
   "execution_count": 204,
   "id": "bff38da1-2a20-4e57-8dc4-51911f96b8aa",
   "metadata": {},
   "outputs": [
    {
     "data": {
      "text/plain": [
       "[0, 1, 2, 3, 4, 5, 6, 7, 8, 9]"
      ]
     },
     "execution_count": 204,
     "metadata": {},
     "output_type": "execute_result"
    }
   ],
   "source": [
    "lst[:]"
   ]
  },
  {
   "cell_type": "code",
   "execution_count": 206,
   "id": "1233e77c-1778-4a09-80ef-e3433d125d25",
   "metadata": {},
   "outputs": [
    {
     "data": {
      "text/plain": [
       "[5, 6, 7, 8, 9]"
      ]
     },
     "execution_count": 206,
     "metadata": {},
     "output_type": "execute_result"
    }
   ],
   "source": [
    "lst[5:]"
   ]
  },
  {
   "cell_type": "code",
   "execution_count": 208,
   "id": "3d408e99-b555-4c4b-83fa-63979c827685",
   "metadata": {},
   "outputs": [
    {
     "data": {
      "text/plain": [
       "[0, 1, 2, 3, 4]"
      ]
     },
     "execution_count": 208,
     "metadata": {},
     "output_type": "execute_result"
    }
   ],
   "source": [
    "lst[:5]"
   ]
  },
  {
   "cell_type": "code",
   "execution_count": 220,
   "id": "70a14e26-02a3-45d2-8551-4d45d3da09f8",
   "metadata": {},
   "outputs": [
    {
     "data": {
      "text/plain": [
       "[1, 3, 5]"
      ]
     },
     "execution_count": 220,
     "metadata": {},
     "output_type": "execute_result"
    }
   ],
   "source": [
    "lst[1:6:2]  #[start:end:step]"
   ]
  },
  {
   "cell_type": "code",
   "execution_count": 222,
   "id": "5a5ca8c7-475f-4076-867a-ab8a72a74bdb",
   "metadata": {},
   "outputs": [
    {
     "data": {
      "text/plain": [
       "[9, 8, 7, 6, 5, 4, 3, 2, 1, 0]"
      ]
     },
     "execution_count": 222,
     "metadata": {},
     "output_type": "execute_result"
    }
   ],
   "source": [
    "lst[::-1]   #no start and end so whole list but in reverse"
   ]
  },
  {
   "cell_type": "code",
   "execution_count": 226,
   "id": "d012e100-18a2-451b-b558-eeeb8abd9cbe",
   "metadata": {},
   "outputs": [
    {
     "data": {
      "text/plain": [
       "[0, 1, 2, 3, 4, 5, 6, 7, 8]"
      ]
     },
     "execution_count": 226,
     "metadata": {},
     "output_type": "execute_result"
    }
   ],
   "source": [
    "lst[:-1]   #first till second last"
   ]
  },
  {
   "cell_type": "code",
   "execution_count": 232,
   "id": "89691f60-dee7-4651-9787-4dcc0ef74c70",
   "metadata": {},
   "outputs": [
    {
     "data": {
      "text/plain": [
       "[5, 6, 7, 8, 9]"
      ]
     },
     "execution_count": 232,
     "metadata": {},
     "output_type": "execute_result"
    }
   ],
   "source": [
    "lst[-5:]"
   ]
  },
  {
   "cell_type": "code",
   "execution_count": 234,
   "id": "d75eb024-4f66-42ef-9ab4-5c872f3b1799",
   "metadata": {},
   "outputs": [
    {
     "data": {
      "text/plain": [
       "[9, 7, 5, 3, 1]"
      ]
     },
     "execution_count": 234,
     "metadata": {},
     "output_type": "execute_result"
    }
   ],
   "source": [
    "lst[::-2]"
   ]
  },
  {
   "cell_type": "markdown",
   "id": "5ec467f7-4715-4061-a29a-dcad00b6b491",
   "metadata": {},
   "source": [
    "## List comprehension"
   ]
  },
  {
   "cell_type": "code",
   "execution_count": 239,
   "id": "68967946-68de-46fc-a0fc-667d8481bacd",
   "metadata": {},
   "outputs": [],
   "source": [
    "lst = [i for i in range(1,11) if i%2==0]"
   ]
  },
  {
   "cell_type": "code",
   "execution_count": 241,
   "id": "6872c2ec-2de9-40b1-a630-d71b885fb4f5",
   "metadata": {},
   "outputs": [
    {
     "data": {
      "text/plain": [
       "[2, 4, 6, 8, 10]"
      ]
     },
     "execution_count": 241,
     "metadata": {},
     "output_type": "execute_result"
    }
   ],
   "source": [
    "lst"
   ]
  },
  {
   "cell_type": "code",
   "execution_count": 269,
   "id": "575b172e-9389-4fb2-a7bd-aa1f445e710f",
   "metadata": {},
   "outputs": [],
   "source": [
    "def prime(n):\n",
    "    if n<2:\n",
    "        return False\n",
    "    if n==2:\n",
    "        return True\n",
    "    for i in range(2,n//2+1):\n",
    "        if(n%i==0):\n",
    "            return False\n",
    "    return True"
   ]
  },
  {
   "cell_type": "code",
   "execution_count": 271,
   "id": "1f8bae94-3ec8-4be3-b6f9-4ab048bf8669",
   "metadata": {},
   "outputs": [
    {
     "data": {
      "text/plain": [
       "True"
      ]
     },
     "execution_count": 271,
     "metadata": {},
     "output_type": "execute_result"
    }
   ],
   "source": [
    "prime(2)"
   ]
  },
  {
   "cell_type": "code",
   "execution_count": 289,
   "id": "939fd01c-78ab-4914-98be-206ac3d1c8d6",
   "metadata": {},
   "outputs": [],
   "source": [
    "lst = [i for i in range(1,30) if prime(i)]"
   ]
  },
  {
   "cell_type": "code",
   "execution_count": 291,
   "id": "4aa4f2c9-a689-436a-8996-93a089708e7f",
   "metadata": {},
   "outputs": [
    {
     "data": {
      "text/plain": [
       "[2, 3, 5, 7, 11, 13, 17, 19, 23, 29]"
      ]
     },
     "execution_count": 291,
     "metadata": {},
     "output_type": "execute_result"
    }
   ],
   "source": [
    "lst"
   ]
  },
  {
   "cell_type": "code",
   "execution_count": 293,
   "id": "0073963d-78d0-4ee0-bb64-2cf4c53b9ccc",
   "metadata": {},
   "outputs": [],
   "source": [
    "lst = [i if prime(i) else i**2 for i in range(1,10)] "
   ]
  },
  {
   "cell_type": "code",
   "execution_count": 295,
   "id": "1781f24b-a5b4-438d-8120-f7350292aaac",
   "metadata": {},
   "outputs": [
    {
     "data": {
      "text/plain": [
       "[1, 2, 3, 16, 5, 36, 7, 64, 81]"
      ]
     },
     "execution_count": 295,
     "metadata": {},
     "output_type": "execute_result"
    }
   ],
   "source": [
    "lst"
   ]
  },
  {
   "cell_type": "markdown",
   "id": "7fbf5b57-7f64-45f9-810b-141a4fa3b6db",
   "metadata": {},
   "source": [
    "#### Sort"
   ]
  },
  {
   "cell_type": "code",
   "execution_count": 298,
   "id": "5a48a5b1-98e6-45d5-9b22-d5b3e9cc40c4",
   "metadata": {},
   "outputs": [
    {
     "data": {
      "text/plain": [
       "[10, 9, 8, 7, 6, 5, 4, 3, 2, 1]"
      ]
     },
     "execution_count": 298,
     "metadata": {},
     "output_type": "execute_result"
    }
   ],
   "source": [
    "lst = [i for i in range(10,0,-1)]\n",
    "lst"
   ]
  },
  {
   "cell_type": "code",
   "execution_count": 306,
   "id": "4f57cd9b-e454-4e7a-be51-c9399c487cd3",
   "metadata": {},
   "outputs": [
    {
     "data": {
      "text/plain": [
       "[1, 2, 3, 4, 5, 6, 7, 8, 9, 10]"
      ]
     },
     "execution_count": 306,
     "metadata": {},
     "output_type": "execute_result"
    }
   ],
   "source": [
    "lst.sort()\n",
    "lst"
   ]
  },
  {
   "cell_type": "markdown",
   "id": "b73537c8-6ff6-4203-965f-4cd735d23168",
   "metadata": {},
   "source": [
    "### Searching in list"
   ]
  },
  {
   "cell_type": "code",
   "execution_count": 309,
   "id": "d8a8efc0-1904-47c6-a14d-c5793f8cc84d",
   "metadata": {},
   "outputs": [
    {
     "data": {
      "text/plain": [
       "[1, 2, 3, 4, 5, 6, 7, 8, 9, 10]"
      ]
     },
     "execution_count": 309,
     "metadata": {},
     "output_type": "execute_result"
    }
   ],
   "source": [
    "lst"
   ]
  },
  {
   "cell_type": "code",
   "execution_count": 311,
   "id": "f8ffe5a4-b174-4740-8e64-7092831c4165",
   "metadata": {},
   "outputs": [
    {
     "name": "stdout",
     "output_type": "stream",
     "text": [
      "yes\n"
     ]
    }
   ],
   "source": [
    "if 4 in lst:\n",
    "    print('yes')"
   ]
  },
  {
   "cell_type": "code",
   "execution_count": 315,
   "id": "bbf195fd-6970-43ca-9ead-b31324a71755",
   "metadata": {},
   "outputs": [
    {
     "name": "stdout",
     "output_type": "stream",
     "text": [
      "No\n"
     ]
    }
   ],
   "source": [
    "if 11 in lst:\n",
    "    print('Yes')\n",
    "else:\n",
    "    print('No')"
   ]
  },
  {
   "cell_type": "code",
   "execution_count": 317,
   "id": "896849cc-af42-4c98-9014-62915db9fdbb",
   "metadata": {},
   "outputs": [
    {
     "name": "stdin",
     "output_type": "stream",
     "text": [
      "Enter number to be searched in list:  3\n"
     ]
    },
    {
     "name": "stdout",
     "output_type": "stream",
     "text": [
      "Found element at index 2\n"
     ]
    }
   ],
   "source": [
    "val = int(input('Enter number to be searched in list: '))\n",
    "if val in lst:\n",
    "    print('Found element at index',lst.index(val))\n",
    "else:\n",
    "    print('Not found')"
   ]
  },
  {
   "cell_type": "code",
   "execution_count": null,
   "id": "5023fb9c-b152-42fa-91ab-8a978ff943b2",
   "metadata": {},
   "outputs": [],
   "source": [
    "lst.index(11)  #value error 11 is not in list"
   ]
  },
  {
   "cell_type": "code",
   "execution_count": 321,
   "id": "8e07ff5f-31c9-4a91-97c3-2d0707a4544b",
   "metadata": {},
   "outputs": [],
   "source": [
    "x = [1,2,3,4]\n",
    "y = [5,6,7,8]\n",
    "x += y"
   ]
  },
  {
   "cell_type": "code",
   "execution_count": 323,
   "id": "2e24c2d9-5b03-4cf4-a1e9-73550f52c03c",
   "metadata": {},
   "outputs": [
    {
     "data": {
      "text/plain": [
       "[1, 2, 3, 4, 5, 6, 7, 8]"
      ]
     },
     "execution_count": 323,
     "metadata": {},
     "output_type": "execute_result"
    }
   ],
   "source": [
    "x"
   ]
  },
  {
   "cell_type": "code",
   "execution_count": 329,
   "id": "05d415de-2922-4054-9ccb-b147d8975b5e",
   "metadata": {},
   "outputs": [],
   "source": [
    "x = [1,2,3,4]\n",
    "y = [5,6,7,8]\n",
    "\n",
    "x[:0] = y  #append at start of list"
   ]
  },
  {
   "cell_type": "code",
   "execution_count": 331,
   "id": "223d4133-8342-4776-8f1f-f8fe0da5feb9",
   "metadata": {},
   "outputs": [
    {
     "data": {
      "text/plain": [
       "[5, 6, 7, 8, 1, 2, 3, 4]"
      ]
     },
     "execution_count": 331,
     "metadata": {},
     "output_type": "execute_result"
    }
   ],
   "source": [
    "x"
   ]
  },
  {
   "cell_type": "code",
   "execution_count": 341,
   "id": "9a4e36a6-f5e6-4862-8896-7c586f9d373f",
   "metadata": {},
   "outputs": [],
   "source": [
    "x = [1,2,3,4]\n",
    "y = [5,6,7,8]\n",
    "\n",
    "x[2:] = y  #append from 2nd index of list"
   ]
  },
  {
   "cell_type": "code",
   "execution_count": 343,
   "id": "f1f41431-e8d3-4a7f-8e6d-c3febb9fc2dc",
   "metadata": {},
   "outputs": [
    {
     "data": {
      "text/plain": [
       "[1, 2, 5, 6, 7, 8]"
      ]
     },
     "execution_count": 343,
     "metadata": {},
     "output_type": "execute_result"
    }
   ],
   "source": [
    "x"
   ]
  },
  {
   "cell_type": "code",
   "execution_count": 345,
   "id": "3425690d-d9d9-452b-9161-8c613ff2fc7c",
   "metadata": {},
   "outputs": [],
   "source": [
    "x = [1,2,3,4]\n",
    "y = [5,6,7,8]\n",
    "x += y[:1]"
   ]
  },
  {
   "cell_type": "code",
   "execution_count": 347,
   "id": "1f29a9af-f6d5-46fc-b5e9-fc77ca2dc199",
   "metadata": {},
   "outputs": [
    {
     "data": {
      "text/plain": [
       "[1, 2, 3, 4, 5]"
      ]
     },
     "execution_count": 347,
     "metadata": {},
     "output_type": "execute_result"
    }
   ],
   "source": [
    "x"
   ]
  },
  {
   "cell_type": "markdown",
   "id": "b51c9eca-ad7a-49ca-8b4d-07a3606c1f05",
   "metadata": {},
   "source": [
    "##### How to iterate more than one list at same time"
   ]
  },
  {
   "cell_type": "code",
   "execution_count": 350,
   "id": "5eab7bb9-88b7-4ea8-ba39-4c1e87c442ef",
   "metadata": {},
   "outputs": [
    {
     "name": "stdout",
     "output_type": "stream",
     "text": [
      "1 a\n",
      "2 b\n",
      "3 c\n",
      "4 d\n",
      "5 e\n"
     ]
    }
   ],
   "source": [
    "lst1 = [1,2,3,4,5]\n",
    "lst2 = ['a','b','c','d','e']\n",
    "\n",
    "for i,j in zip(lst1,lst2):\n",
    "    print(i,j)"
   ]
  },
  {
   "cell_type": "markdown",
   "id": "3c81fbfb-9439-43f9-ab12-3c3f1aa18d32",
   "metadata": {},
   "source": [
    "Most important point here is that both list should be of same length"
   ]
  },
  {
   "cell_type": "code",
   "execution_count": 353,
   "id": "f9a1b51a-021f-402e-a67a-61aaa3d7f8e7",
   "metadata": {},
   "outputs": [
    {
     "name": "stdout",
     "output_type": "stream",
     "text": [
      "1 a l\n",
      "2 b m\n",
      "3 c n\n",
      "4 d o\n",
      "5 e p\n"
     ]
    }
   ],
   "source": [
    "lst1 = [1,2,3,4,5]\n",
    "lst2 = ['a','b','c','d','e']\n",
    "lst3 = ['l','m','n','o','p']\n",
    "\n",
    "for i,j,k in zip(lst1,lst2,lst3):\n",
    "    print(i,j,k)"
   ]
  },
  {
   "cell_type": "markdown",
   "id": "f954f5f9-a4f4-4b80-9417-e65bd6ea33fc",
   "metadata": {},
   "source": [
    "### Queue"
   ]
  },
  {
   "cell_type": "code",
   "execution_count": 366,
   "id": "e1fc15a9-4cfc-424e-a990-abb09fb3a69e",
   "metadata": {},
   "outputs": [
    {
     "name": "stdout",
     "output_type": "stream",
     "text": [
      "['a', 'b', 'c']\n",
      "['b', 'c']\n"
     ]
    }
   ],
   "source": [
    "queue = []\n",
    "\n",
    "queue.append('a')\n",
    "queue.append('b')\n",
    "queue.append('c')\n",
    "print(queue)\n",
    "queue.pop(0)\n",
    "print(queue)"
   ]
  },
  {
   "cell_type": "markdown",
   "id": "8ecc4026-820e-4612-b6d6-b0bf61f365dc",
   "metadata": {},
   "source": [
    "### Stack"
   ]
  },
  {
   "cell_type": "code",
   "execution_count": 369,
   "id": "c24a701e-31aa-456a-91d8-8945a2871006",
   "metadata": {},
   "outputs": [
    {
     "name": "stdout",
     "output_type": "stream",
     "text": [
      "['a', 'b', 'c']\n",
      "['a', 'b']\n"
     ]
    }
   ],
   "source": [
    "stack = []\n",
    "\n",
    "stack.append('a')\n",
    "stack.append('b')\n",
    "stack.append('c')\n",
    "print(stack)\n",
    "stack.pop()\n",
    "print(stack)"
   ]
  },
  {
   "cell_type": "markdown",
   "id": "71aebdc2-2cf3-4104-b1c8-4d0848b840a4",
   "metadata": {},
   "source": [
    "#### How to accept multiple values at same time"
   ]
  },
  {
   "cell_type": "code",
   "execution_count": 372,
   "id": "7932a882-45de-49ba-9e49-5a87500e92e2",
   "metadata": {},
   "outputs": [
    {
     "name": "stdin",
     "output_type": "stream",
     "text": [
      "Enter 5 elements 1 2 3 4 5\n"
     ]
    }
   ],
   "source": [
    "a,b,c,d,e = input('Enter 5 elements').split()"
   ]
  },
  {
   "cell_type": "code",
   "execution_count": 374,
   "id": "03e428a0-d015-41ce-8448-9a6b288de926",
   "metadata": {},
   "outputs": [
    {
     "name": "stdout",
     "output_type": "stream",
     "text": [
      "1 2 3 4 5\n"
     ]
    }
   ],
   "source": [
    "print(a,b,c,d,e)"
   ]
  },
  {
   "cell_type": "code",
   "execution_count": 376,
   "id": "17a23fae-2d2b-481d-87ed-f9635d65f58c",
   "metadata": {},
   "outputs": [
    {
     "data": {
      "text/plain": [
       "str"
      ]
     },
     "execution_count": 376,
     "metadata": {},
     "output_type": "execute_result"
    }
   ],
   "source": [
    "type(a)"
   ]
  },
  {
   "cell_type": "markdown",
   "id": "4c5712e9-c366-482a-833e-07d5b0b0c48e",
   "metadata": {},
   "source": [
    "###### for interger"
   ]
  },
  {
   "cell_type": "code",
   "execution_count": 379,
   "id": "d2eba179-3cb8-4cc8-87be-ff9e865b24e3",
   "metadata": {},
   "outputs": [
    {
     "name": "stdin",
     "output_type": "stream",
     "text": [
      "Enter 5 elements 1 2 3 4 5\n"
     ]
    }
   ],
   "source": [
    "a,b,c,d,e = [int(x) for x in input('Enter 5 elements').split()]"
   ]
  },
  {
   "cell_type": "code",
   "execution_count": 387,
   "id": "f9f87582-11cf-42ee-8857-9b7a2f8f638b",
   "metadata": {},
   "outputs": [
    {
     "name": "stdout",
     "output_type": "stream",
     "text": [
      "1 : <class 'int'>\n",
      "5 : <class 'int'>\n"
     ]
    }
   ],
   "source": [
    "print(a,':',type(a))\n",
    "print(e,':',type(e))"
   ]
  },
  {
   "cell_type": "code",
   "execution_count": 389,
   "id": "e0669f89-5c97-4a15-9900-8fa60853e263",
   "metadata": {},
   "outputs": [
    {
     "name": "stdin",
     "output_type": "stream",
     "text": [
      "Enter numbers:  1 2 3 4 5 6 7 8 9 10\n"
     ]
    },
    {
     "name": "stdout",
     "output_type": "stream",
     "text": [
      "[1, 2, 3, 4, 5, 6, 7, 8, 9, 10]\n"
     ]
    }
   ],
   "source": [
    "lst = [int(x) for x in input('Enter numbers: ').split()]\n",
    "print(lst)"
   ]
  },
  {
   "cell_type": "markdown",
   "id": "9708b99e-94fb-471f-b2b0-572d4051dd33",
   "metadata": {},
   "source": [
    "## String"
   ]
  },
  {
   "cell_type": "code",
   "execution_count": 392,
   "id": "c97cbf69-5b2f-407d-af6b-f4b070b21647",
   "metadata": {},
   "outputs": [],
   "source": [
    "str = \"Hello\"\n",
    "str = 'hello'\n",
    "str = '''hello'''"
   ]
  },
  {
   "cell_type": "code",
   "execution_count": 394,
   "id": "1f659a81-b6f3-4d48-b2a9-20770c386525",
   "metadata": {},
   "outputs": [
    {
     "name": "stdout",
     "output_type": "stream",
     "text": [
      "hello\n"
     ]
    }
   ],
   "source": [
    "print(str)"
   ]
  },
  {
   "cell_type": "code",
   "execution_count": 396,
   "id": "f95a8dcf-d37f-4b47-b4fa-e128a6302e06",
   "metadata": {},
   "outputs": [
    {
     "data": {
      "text/plain": [
       "'hello'"
      ]
     },
     "execution_count": 396,
     "metadata": {},
     "output_type": "execute_result"
    }
   ],
   "source": [
    "str[:]"
   ]
  },
  {
   "cell_type": "code",
   "execution_count": null,
   "id": "ec5bb1a8-ebcb-4889-9bf9-43f92389aa11",
   "metadata": {},
   "outputs": [],
   "source": [
    "str[0] = 's' #not possible"
   ]
  },
  {
   "cell_type": "code",
   "execution_count": 402,
   "id": "49ba74fb-ea48-41f5-89d9-4e838447b0bf",
   "metadata": {},
   "outputs": [
    {
     "name": "stdin",
     "output_type": "stream",
     "text": [
      "Enter your name Priyank\n"
     ]
    },
    {
     "name": "stdout",
     "output_type": "stream",
     "text": [
      "Hello, Priyank\n"
     ]
    }
   ],
   "source": [
    "name = input('Enter your name')\n",
    "print('Hello,',name)"
   ]
  },
  {
   "cell_type": "code",
   "execution_count": 404,
   "id": "727334c9-52ef-4ec0-8c08-e11aee0b9b23",
   "metadata": {},
   "outputs": [
    {
     "data": {
      "text/plain": [
       "'Priyank'"
      ]
     },
     "execution_count": 404,
     "metadata": {},
     "output_type": "execute_result"
    }
   ],
   "source": [
    "name[:]"
   ]
  },
  {
   "cell_type": "code",
   "execution_count": 406,
   "id": "97e6d83b-6714-474e-bb43-593df4ce525a",
   "metadata": {},
   "outputs": [
    {
     "data": {
      "text/plain": [
       "'knayirP'"
      ]
     },
     "execution_count": 406,
     "metadata": {},
     "output_type": "execute_result"
    }
   ],
   "source": [
    "name[::-1]"
   ]
  },
  {
   "cell_type": "code",
   "execution_count": 408,
   "id": "bed8fca7-496e-4d85-afcb-c40d3c64019b",
   "metadata": {},
   "outputs": [
    {
     "data": {
      "text/plain": [
       "'mput'"
      ]
     },
     "execution_count": 408,
     "metadata": {},
     "output_type": "execute_result"
    }
   ],
   "source": [
    "str = \"Computers\"\n",
    "str[2:6]"
   ]
  },
  {
   "cell_type": "code",
   "execution_count": 411,
   "id": "025ac0bb-d9d2-4678-9ce3-750b5b21e05c",
   "metadata": {},
   "outputs": [
    {
     "data": {
      "text/plain": [
       "'ute'"
      ]
     },
     "execution_count": 411,
     "metadata": {},
     "output_type": "execute_result"
    }
   ],
   "source": [
    "str[4:-2]"
   ]
  },
  {
   "cell_type": "code",
   "execution_count": 413,
   "id": "dff35b5c-663e-42f7-b9da-c72531ef59e7",
   "metadata": {},
   "outputs": [],
   "source": [
    "str = 'Learning python is very simple'\n",
    "lst = str.split()"
   ]
  },
  {
   "cell_type": "code",
   "execution_count": 415,
   "id": "79574d70-04d7-4bb5-9955-8f2946fc22a8",
   "metadata": {},
   "outputs": [
    {
     "data": {
      "text/plain": [
       "['Learning', 'python', 'is', 'very', 'simple']"
      ]
     },
     "execution_count": 415,
     "metadata": {},
     "output_type": "execute_result"
    }
   ],
   "source": [
    "lst"
   ]
  },
  {
   "cell_type": "code",
   "execution_count": 417,
   "id": "3b46d346-fdc1-4131-afc6-292c915a4078",
   "metadata": {},
   "outputs": [],
   "source": [
    "def palindrome(str):\n",
    "    return str==str[::-1]"
   ]
  },
  {
   "cell_type": "code",
   "execution_count": 423,
   "id": "71e4cf3e-971b-4d9e-8e75-36e2d96b6660",
   "metadata": {},
   "outputs": [
    {
     "data": {
      "text/plain": [
       "True"
      ]
     },
     "execution_count": 423,
     "metadata": {},
     "output_type": "execute_result"
    }
   ],
   "source": [
    "palindrome('madam')"
   ]
  },
  {
   "cell_type": "markdown",
   "id": "8323fe42-4b13-4f38-8e44-a9ecdbd09f9e",
   "metadata": {},
   "source": [
    "### String functions"
   ]
  },
  {
   "cell_type": "code",
   "execution_count": 437,
   "id": "a29ba93a-0cf8-4aa9-8ae2-75c64e818459",
   "metadata": {},
   "outputs": [
    {
     "data": {
      "text/plain": [
       "True"
      ]
     },
     "execution_count": 437,
     "metadata": {},
     "output_type": "execute_result"
    }
   ],
   "source": [
    "str = 'hello'\n",
    "str.isalpha()"
   ]
  },
  {
   "cell_type": "code",
   "execution_count": 439,
   "id": "c525d0cf-8b23-47f3-92f4-85cd0e3601e0",
   "metadata": {},
   "outputs": [
    {
     "data": {
      "text/plain": [
       "True"
      ]
     },
     "execution_count": 439,
     "metadata": {},
     "output_type": "execute_result"
    }
   ],
   "source": [
    "str = 'hello'\n",
    "str.isalnum()"
   ]
  },
  {
   "cell_type": "code",
   "execution_count": 441,
   "id": "6cab997b-e99a-4be0-975b-8050f33286a0",
   "metadata": {},
   "outputs": [
    {
     "data": {
      "text/plain": [
       "False"
      ]
     },
     "execution_count": 441,
     "metadata": {},
     "output_type": "execute_result"
    }
   ],
   "source": [
    "str = 'hello0'\n",
    "str.isalpha()"
   ]
  },
  {
   "cell_type": "code",
   "execution_count": 443,
   "id": "51c5be73-6ee7-4ab4-a1d1-aee04849a2e0",
   "metadata": {},
   "outputs": [
    {
     "data": {
      "text/plain": [
       "True"
      ]
     },
     "execution_count": 443,
     "metadata": {},
     "output_type": "execute_result"
    }
   ],
   "source": [
    "str.isalnum()"
   ]
  },
  {
   "cell_type": "code",
   "execution_count": 445,
   "id": "54edd794-2f6e-43e6-952d-50cf6ddc46de",
   "metadata": {},
   "outputs": [
    {
     "data": {
      "text/plain": [
       "False"
      ]
     },
     "execution_count": 445,
     "metadata": {},
     "output_type": "execute_result"
    }
   ],
   "source": [
    "str.isdigit()"
   ]
  },
  {
   "cell_type": "code",
   "execution_count": 447,
   "id": "d4910180-afb2-4dd4-8203-292cf1d2b2a8",
   "metadata": {},
   "outputs": [
    {
     "data": {
      "text/plain": [
       "True"
      ]
     },
     "execution_count": 447,
     "metadata": {},
     "output_type": "execute_result"
    }
   ],
   "source": [
    "str = '12'\n",
    "str.isdigit()"
   ]
  },
  {
   "cell_type": "code",
   "execution_count": 449,
   "id": "3b380311-77c6-46af-b1f0-39efaaa5c3c9",
   "metadata": {},
   "outputs": [
    {
     "data": {
      "text/plain": [
       "'Hello'"
      ]
     },
     "execution_count": 449,
     "metadata": {},
     "output_type": "execute_result"
    }
   ],
   "source": [
    "str = 'hello'\n",
    "str.capitalize()"
   ]
  },
  {
   "cell_type": "code",
   "execution_count": 451,
   "id": "d11d8dbd-6e99-4989-85c8-f813aea0b224",
   "metadata": {},
   "outputs": [
    {
     "data": {
      "text/plain": [
       "'HELLO'"
      ]
     },
     "execution_count": 451,
     "metadata": {},
     "output_type": "execute_result"
    }
   ],
   "source": [
    "str.upper()"
   ]
  },
  {
   "cell_type": "code",
   "execution_count": 455,
   "id": "3efef619-3114-4b2e-a636-9d4c8da4557a",
   "metadata": {},
   "outputs": [
    {
     "data": {
      "text/plain": [
       "'hello'"
      ]
     },
     "execution_count": 455,
     "metadata": {},
     "output_type": "execute_result"
    }
   ],
   "source": [
    "str = 'HELLO'\n",
    "str.lower()"
   ]
  },
  {
   "cell_type": "code",
   "execution_count": 457,
   "id": "e5a46aad-728a-4eeb-a538-1d2197decf94",
   "metadata": {},
   "outputs": [
    {
     "data": {
      "text/plain": [
       "False"
      ]
     },
     "execution_count": 457,
     "metadata": {},
     "output_type": "execute_result"
    }
   ],
   "source": [
    "'Hello'=='hello'"
   ]
  },
  {
   "cell_type": "code",
   "execution_count": 459,
   "id": "b28e4890-13b0-47d6-a504-e84016d33bf3",
   "metadata": {},
   "outputs": [
    {
     "data": {
      "text/plain": [
       "True"
      ]
     },
     "execution_count": 459,
     "metadata": {},
     "output_type": "execute_result"
    }
   ],
   "source": [
    "'Hello'.casefold()=='hello'.casefold()"
   ]
  },
  {
   "cell_type": "code",
   "execution_count": 463,
   "id": "b16728ba-360b-42ec-b651-62d5de613870",
   "metadata": {},
   "outputs": [
    {
     "data": {
      "text/plain": [
       "'abc'"
      ]
     },
     "execution_count": 463,
     "metadata": {},
     "output_type": "execute_result"
    }
   ],
   "source": [
    "str = 'abcdef'\n",
    "s1 = slice(3)\n",
    "str[s1]"
   ]
  },
  {
   "cell_type": "code",
   "execution_count": 467,
   "id": "2e066e2b-d1be-483b-b7cd-5a47635acfa4",
   "metadata": {},
   "outputs": [
    {
     "data": {
      "text/plain": [
       "'abc'"
      ]
     },
     "execution_count": 467,
     "metadata": {},
     "output_type": "execute_result"
    }
   ],
   "source": [
    "str[:3]"
   ]
  },
  {
   "cell_type": "code",
   "execution_count": 469,
   "id": "0f687830-77e0-42ee-8337-d2fc46310d8e",
   "metadata": {},
   "outputs": [
    {
     "data": {
      "text/plain": [
       "'cd'"
      ]
     },
     "execution_count": 469,
     "metadata": {},
     "output_type": "execute_result"
    }
   ],
   "source": [
    "str = 'abcdefghi'\n",
    "s1 = slice(2,4)\n",
    "str[s1]"
   ]
  },
  {
   "cell_type": "code",
   "execution_count": 471,
   "id": "105ae0f7-6652-4175-9351-cb5f04b0c0a1",
   "metadata": {},
   "outputs": [
    {
     "data": {
      "text/plain": [
       "'abcd'"
      ]
     },
     "execution_count": 471,
     "metadata": {},
     "output_type": "execute_result"
    }
   ],
   "source": [
    "str = 'abcdef'\n",
    "s1 = slice(-2)\n",
    "str[s1]"
   ]
  },
  {
   "cell_type": "code",
   "execution_count": 475,
   "id": "80e15d75-6a7f-4c47-9af9-ed2d626bb4a0",
   "metadata": {},
   "outputs": [
    {
     "data": {
      "text/plain": [
       "'fed'"
      ]
     },
     "execution_count": 475,
     "metadata": {},
     "output_type": "execute_result"
    }
   ],
   "source": [
    "str = 'abcdef'\n",
    "s1 = slice(-1,2,-1)\n",
    "str[s1]"
   ]
  },
  {
   "cell_type": "code",
   "execution_count": 477,
   "id": "b9c53a46-39dd-4dfb-b3cc-52bb880764f0",
   "metadata": {},
   "outputs": [
    {
     "data": {
      "text/plain": [
       "'fd'"
      ]
     },
     "execution_count": 477,
     "metadata": {},
     "output_type": "execute_result"
    }
   ],
   "source": [
    "str = 'abcdef'\n",
    "s1 = slice(-1,1,-2)\n",
    "str[s1]"
   ]
  },
  {
   "cell_type": "markdown",
   "id": "36d72f64-77a6-4ff5-95b6-490b97e08e20",
   "metadata": {},
   "source": [
    "## Set"
   ]
  },
  {
   "cell_type": "code",
   "execution_count": 3,
   "id": "d1761d61-f50c-4043-a313-d81528a7493c",
   "metadata": {},
   "outputs": [
    {
     "name": "stdout",
     "output_type": "stream",
     "text": [
      "{10, 20, 30}\n"
     ]
    }
   ],
   "source": [
    "set1 = {10,20,20,30}\n",
    "set2 = {30,30,40,50,50}\n",
    "print(set1)"
   ]
  },
  {
   "cell_type": "code",
   "execution_count": 5,
   "id": "e1ec9439-93b6-4da8-948d-c8f94ee537ed",
   "metadata": {},
   "outputs": [
    {
     "data": {
      "text/plain": [
       "{30, 40, 50}"
      ]
     },
     "execution_count": 5,
     "metadata": {},
     "output_type": "execute_result"
    }
   ],
   "source": [
    "set2"
   ]
  },
  {
   "cell_type": "code",
   "execution_count": 7,
   "id": "859a1d76-7144-45b5-aa5a-e588919ab760",
   "metadata": {},
   "outputs": [
    {
     "data": {
      "text/plain": [
       "{10, 20, 30, 40, 50}"
      ]
     },
     "execution_count": 7,
     "metadata": {},
     "output_type": "execute_result"
    }
   ],
   "source": [
    "set.union(set1,set2)"
   ]
  },
  {
   "cell_type": "code",
   "execution_count": 13,
   "id": "cfb59ee4-b62d-4df4-947c-06c2bf8d1350",
   "metadata": {},
   "outputs": [
    {
     "data": {
      "text/plain": [
       "{1, 2, 3, 4, 5}"
      ]
     },
     "execution_count": 13,
     "metadata": {},
     "output_type": "execute_result"
    }
   ],
   "source": [
    "set3 = set([1,2,2,2,2,3,4,4,4,5,5])  #removes duplicates from list and creates new set\n",
    "set3"
   ]
  },
  {
   "cell_type": "code",
   "execution_count": 16,
   "id": "0c690ea5-06e8-49cf-a190-5feae80da97f",
   "metadata": {},
   "outputs": [],
   "source": [
    "myt = (1,2,2,2,2,4,4,4)\n",
    "setts = set(myt)"
   ]
  },
  {
   "cell_type": "code",
   "execution_count": 18,
   "id": "1a3b2c23-61aa-45db-b0f5-9bb1a9bed40a",
   "metadata": {},
   "outputs": [
    {
     "data": {
      "text/plain": [
       "{1, 2, 4}"
      ]
     },
     "execution_count": 18,
     "metadata": {},
     "output_type": "execute_result"
    }
   ],
   "source": [
    "setts"
   ]
  },
  {
   "cell_type": "code",
   "execution_count": 20,
   "id": "c4e0233e-b10a-4aed-9934-aa60ecaa00b2",
   "metadata": {},
   "outputs": [
    {
     "data": {
      "text/plain": [
       "{10, 20, 30}"
      ]
     },
     "execution_count": 20,
     "metadata": {},
     "output_type": "execute_result"
    }
   ],
   "source": [
    "set1"
   ]
  },
  {
   "cell_type": "code",
   "execution_count": 22,
   "id": "18c0ebc4-7478-41a0-9025-f98b40be88ee",
   "metadata": {},
   "outputs": [
    {
     "data": {
      "text/plain": [
       "{10, 20, 30, 40, 50}"
      ]
     },
     "execution_count": 22,
     "metadata": {},
     "output_type": "execute_result"
    }
   ],
   "source": [
    "set1.update((40,40,50,50,50))\n",
    "set1"
   ]
  },
  {
   "cell_type": "code",
   "execution_count": 24,
   "id": "83f2f01f-2b05-4eda-a172-4e9e15f0016f",
   "metadata": {},
   "outputs": [],
   "source": [
    "set1.update(['a','b'],('h','w'))"
   ]
  },
  {
   "cell_type": "code",
   "execution_count": 26,
   "id": "80cdf7d7-489f-4a18-8fde-ac71c903ded4",
   "metadata": {},
   "outputs": [
    {
     "data": {
      "text/plain": [
       "{10, 20, 30, 40, 50, 'a', 'b', 'h', 'w'}"
      ]
     },
     "execution_count": 26,
     "metadata": {},
     "output_type": "execute_result"
    }
   ],
   "source": [
    "set1"
   ]
  },
  {
   "cell_type": "markdown",
   "id": "b9266685-cf31-48bb-8703-fd80a8c69954",
   "metadata": {},
   "source": [
    " - Using remove() method or discard() method\n",
    "Elements can be removed from the Set by using built-in remove() function\n",
    "but a KeyError arises if element doesn’t exist in the set.\n",
    "\n",
    "- To remove elements from a set without KeyError, use discard(),\n",
    "if the element doesn’t exist in the set, it remains unchanged."
   ]
  },
  {
   "cell_type": "code",
   "execution_count": 32,
   "id": "0428c589-4bcc-4eec-b91e-caea7fb3d335",
   "metadata": {},
   "outputs": [
    {
     "name": "stdout",
     "output_type": "stream",
     "text": [
      "{1, 2, 3, 4, 5, 6, 7}\n",
      "{1, 2, 4, 5, 6, 7}\n",
      "{1, 2, 4, 5, 6, 7}\n",
      "{1, 4, 5, 6, 7}\n",
      "{1, 4, 5, 6, 7}\n"
     ]
    }
   ],
   "source": [
    "myset = {1,2,3,4,5,6,7}\n",
    "print(myset)\n",
    "\n",
    "myset.remove(3)\n",
    "print(myset)\n",
    "# myset.remove(10)    # error  KeyError: 10\n",
    "print(myset)\n",
    "myset.discard(2)\n",
    "print(myset)\n",
    "myset.discard(13)   # no error\n",
    "print(myset)"
   ]
  },
  {
   "cell_type": "markdown",
   "id": "2fd83be2-aaea-4a0c-a693-013611af10ba",
   "metadata": {},
   "source": [
    "## Tuple"
   ]
  },
  {
   "cell_type": "code",
   "execution_count": 36,
   "id": "9163edbf-0396-40d4-a7a6-155476778cd0",
   "metadata": {},
   "outputs": [
    {
     "name": "stdout",
     "output_type": "stream",
     "text": [
      "(1, 'hello', 4.6, True)\n"
     ]
    }
   ],
   "source": [
    "myt = (1,\"hello\",4.6,True)\n",
    "print(myt)"
   ]
  },
  {
   "cell_type": "code",
   "execution_count": 42,
   "id": "9dfbef5d-540d-4cc5-898c-82a698750a05",
   "metadata": {},
   "outputs": [
    {
     "data": {
      "text/plain": [
       "4.6"
      ]
     },
     "execution_count": 42,
     "metadata": {},
     "output_type": "execute_result"
    }
   ],
   "source": [
    "myt[2]"
   ]
  },
  {
   "cell_type": "code",
   "execution_count": null,
   "id": "ed657514-6d44-4eca-8878-39c1e53b1a5c",
   "metadata": {},
   "outputs": [],
   "source": [
    "myt[0] = 22 #cannot change value of element is tuple as tuple is immuatable"
   ]
  },
  {
   "cell_type": "code",
   "execution_count": 52,
   "id": "a3b02d4d-414c-4f9d-b1b4-ab0801dfd3d6",
   "metadata": {},
   "outputs": [
    {
     "name": "stdout",
     "output_type": "stream",
     "text": [
      "i, n, t, e, r, n, a, t, i, o, n, a, l, i, z, a, t, i, o, n, "
     ]
    }
   ],
   "source": [
    "myt = tuple(\"internationalization\")\n",
    "for i in myt:\n",
    "    print(i,end=\", \")"
   ]
  },
  {
   "cell_type": "code",
   "execution_count": 72,
   "id": "4a757ba6-0752-4a8d-93d5-a8ae20328287",
   "metadata": {},
   "outputs": [
    {
     "name": "stdout",
     "output_type": "stream",
     "text": [
      "b, D, a, c, "
     ]
    }
   ],
   "source": [
    "mylst = list(\"bDac\")\n",
    "for i in mylst:\n",
    "    print(i,end=\", \")"
   ]
  },
  {
   "cell_type": "code",
   "execution_count": 76,
   "id": "9d31e03f-c703-49c1-935e-1817b9c01d55",
   "metadata": {},
   "outputs": [
    {
     "data": {
      "text/plain": [
       "['D', 'a', 'b', 'c']"
      ]
     },
     "execution_count": 76,
     "metadata": {},
     "output_type": "execute_result"
    }
   ],
   "source": [
    "sorted(mylst)#becuase of ASCII values"
   ]
  },
  {
   "cell_type": "code",
   "execution_count": 78,
   "id": "a5cac075-d795-4bfa-b8f7-ad998438552e",
   "metadata": {},
   "outputs": [
    {
     "data": {
      "text/plain": [
       "list"
      ]
     },
     "execution_count": 78,
     "metadata": {},
     "output_type": "execute_result"
    }
   ],
   "source": [
    "type(sorted(mylst))"
   ]
  },
  {
   "cell_type": "markdown",
   "id": "30b19414-a453-4e12-a4d9-4be756132450",
   "metadata": {},
   "source": [
    "## Dictionary"
   ]
  },
  {
   "cell_type": "code",
   "execution_count": 81,
   "id": "c8d01d95-52b6-4124-aa3f-b251a88e54a0",
   "metadata": {},
   "outputs": [],
   "source": [
    "myd = {1:\"Priyank\",2:\"Pratik\",3:\"Ram\"}"
   ]
  },
  {
   "cell_type": "code",
   "execution_count": 83,
   "id": "12be37d9-b6fa-427b-a0e4-463a2e7040f9",
   "metadata": {},
   "outputs": [
    {
     "data": {
      "text/plain": [
       "'Priyank'"
      ]
     },
     "execution_count": 83,
     "metadata": {},
     "output_type": "execute_result"
    }
   ],
   "source": [
    "myd[1]"
   ]
  },
  {
   "cell_type": "code",
   "execution_count": 91,
   "id": "b13c3f5e-d891-4194-b431-16662cd7f544",
   "metadata": {},
   "outputs": [
    {
     "name": "stdout",
     "output_type": "stream",
     "text": [
      "{1: 'Priyank', 2: 'Pratik', 3: 'Ram'}\n"
     ]
    },
    {
     "data": {
      "text/plain": [
       "dict_keys([1, 2, 3])"
      ]
     },
     "execution_count": 91,
     "metadata": {},
     "output_type": "execute_result"
    }
   ],
   "source": [
    "print(myd)\n",
    "myd.keys()"
   ]
  },
  {
   "cell_type": "code",
   "execution_count": 95,
   "id": "fb4d5961-1777-4e23-883e-328a154c94d8",
   "metadata": {},
   "outputs": [
    {
     "data": {
      "text/plain": [
       "dict_values(['Priyank', 'Pratik', 'Ram'])"
      ]
     },
     "execution_count": 95,
     "metadata": {},
     "output_type": "execute_result"
    }
   ],
   "source": [
    "myd.values()"
   ]
  },
  {
   "cell_type": "code",
   "execution_count": 3,
   "id": "44ab3ba4-d8c5-433d-b080-dc586ce2a525",
   "metadata": {},
   "outputs": [],
   "source": [
    "mydict = {1:'Amar',2:'Sachin',3:{'A':100,'B':200,'C':300},4:'Vishal'}"
   ]
  },
  {
   "cell_type": "code",
   "execution_count": 99,
   "id": "6306d337-ded0-4d32-bb9a-920ae25861c3",
   "metadata": {},
   "outputs": [
    {
     "data": {
      "text/plain": [
       "{'A': 100, 'B': 200, 'C': 300}"
      ]
     },
     "execution_count": 99,
     "metadata": {},
     "output_type": "execute_result"
    }
   ],
   "source": [
    "mydict[3]"
   ]
  },
  {
   "cell_type": "code",
   "execution_count": 101,
   "id": "448af4f7-55ef-47a3-81d4-fd8ac05a156b",
   "metadata": {},
   "outputs": [
    {
     "data": {
      "text/plain": [
       "100"
      ]
     },
     "execution_count": 101,
     "metadata": {},
     "output_type": "execute_result"
    }
   ],
   "source": [
    "mydict[3]['A']"
   ]
  },
  {
   "cell_type": "code",
   "execution_count": 103,
   "id": "a29ea9b0-5f3a-414d-84f4-354b899ba172",
   "metadata": {},
   "outputs": [],
   "source": [
    "mydict[3]='Boom'"
   ]
  },
  {
   "cell_type": "code",
   "execution_count": 105,
   "id": "65ba7b4c-e52f-4904-9219-e67a63ed0a97",
   "metadata": {},
   "outputs": [
    {
     "data": {
      "text/plain": [
       "{1: 'Amar', 2: 'Sachin', 3: 'Boom', 4: 'Vishal'}"
      ]
     },
     "execution_count": 105,
     "metadata": {},
     "output_type": "execute_result"
    }
   ],
   "source": [
    "mydict"
   ]
  },
  {
   "cell_type": "code",
   "execution_count": 1,
   "id": "8f36c0bd-25da-4a3f-8181-0cc6843a9b1e",
   "metadata": {},
   "outputs": [
    {
     "ename": "NameError",
     "evalue": "name 'mydict' is not defined",
     "output_type": "error",
     "traceback": [
      "\u001b[1;31m---------------------------------------------------------------------------\u001b[0m",
      "\u001b[1;31mNameError\u001b[0m                                 Traceback (most recent call last)",
      "Cell \u001b[1;32mIn[1], line 1\u001b[0m\n\u001b[1;32m----> 1\u001b[0m \u001b[38;5;28;01mfor\u001b[39;00m i,j \u001b[38;5;129;01min\u001b[39;00m mydict\u001b[38;5;241m.\u001b[39mitems():\n\u001b[0;32m      2\u001b[0m     \u001b[38;5;28mprint\u001b[39m(i,\u001b[38;5;124m'\u001b[39m\u001b[38;5;124m = \u001b[39m\u001b[38;5;124m'\u001b[39m,j)\n",
      "\u001b[1;31mNameError\u001b[0m: name 'mydict' is not defined"
     ]
    }
   ],
   "source": [
    "for i,j in mydict.items():\n",
    "    print(i,' = ',j)"
   ]
  },
  {
   "cell_type": "code",
   "execution_count": null,
   "id": "a33f6c03-3a37-44cc-8b63-f23c4fa9d5ed",
   "metadata": {},
   "outputs": [],
   "source": []
  },
  {
   "cell_type": "code",
   "execution_count": 111,
   "id": "c7985273-7ba2-4f09-86a9-a8bbe1b5eec9",
   "metadata": {},
   "outputs": [],
   "source": [
    "mydict[5] = \"Rohit\""
   ]
  },
  {
   "cell_type": "code",
   "execution_count": 113,
   "id": "1d0c9065-d1ee-4c8c-b71f-da67ec88ea25",
   "metadata": {},
   "outputs": [
    {
     "data": {
      "text/plain": [
       "{1: 'Amar', 2: 'Sachin', 3: 'Boom', 4: 'Vishal', 5: 'Rohit'}"
      ]
     },
     "execution_count": 113,
     "metadata": {},
     "output_type": "execute_result"
    }
   ],
   "source": [
    "mydict"
   ]
  },
  {
   "cell_type": "code",
   "execution_count": 115,
   "id": "74a0fb8a-4272-4ef2-9101-b5598fde814f",
   "metadata": {},
   "outputs": [],
   "source": [
    "dct = {1:100,5:500,2:300,3:400,4:200}"
   ]
  },
  {
   "cell_type": "code",
   "execution_count": 117,
   "id": "f1e55704-bc3a-4cb9-a5a6-4967603b5099",
   "metadata": {},
   "outputs": [
    {
     "data": {
      "text/plain": [
       "{1: 100, 5: 500, 2: 300, 3: 400, 4: 200}"
      ]
     },
     "execution_count": 117,
     "metadata": {},
     "output_type": "execute_result"
    }
   ],
   "source": [
    "dct"
   ]
  },
  {
   "cell_type": "code",
   "execution_count": 121,
   "id": "ca928a54-0864-4296-99e4-2569986ff9f4",
   "metadata": {},
   "outputs": [
    {
     "data": {
      "text/plain": [
       "[1, 2, 3, 4, 5]"
      ]
     },
     "execution_count": 121,
     "metadata": {},
     "output_type": "execute_result"
    }
   ],
   "source": [
    "lst = sorted(dct)\n",
    "lst"
   ]
  },
  {
   "cell_type": "code",
   "execution_count": 125,
   "id": "e4483368-6364-4011-872d-2a55a32e7471",
   "metadata": {},
   "outputs": [
    {
     "data": {
      "text/plain": [
       "[100, 200, 300, 400, 500]"
      ]
     },
     "execution_count": 125,
     "metadata": {},
     "output_type": "execute_result"
    }
   ],
   "source": [
    "lst = sorted(dct.values())\n",
    "lst"
   ]
  },
  {
   "cell_type": "code",
   "execution_count": 127,
   "id": "cc96e1d0-7efe-45eb-9401-dd7bcd326259",
   "metadata": {},
   "outputs": [],
   "source": [
    "dct = {x:x**2 for x in range(11)}"
   ]
  },
  {
   "cell_type": "code",
   "execution_count": 129,
   "id": "7a8e8245-40f6-48ca-bba0-6518e22f2ae7",
   "metadata": {},
   "outputs": [
    {
     "data": {
      "text/plain": [
       "{0: 0, 1: 1, 2: 4, 3: 9, 4: 16, 5: 25, 6: 36, 7: 49, 8: 64, 9: 81, 10: 100}"
      ]
     },
     "execution_count": 129,
     "metadata": {},
     "output_type": "execute_result"
    }
   ],
   "source": [
    "dct"
   ]
  },
  {
   "cell_type": "code",
   "execution_count": 131,
   "id": "cfd22105-ac5e-46b1-8c0d-9e5e7bae010d",
   "metadata": {},
   "outputs": [],
   "source": [
    "lst = [1,2,3,4,5]\n",
    "lst2 = [6,7,8,9,10]"
   ]
  },
  {
   "cell_type": "code",
   "execution_count": 137,
   "id": "8afb7395-ac09-427a-a818-5727946f54f5",
   "metadata": {},
   "outputs": [],
   "source": [
    "dct = {x:y**2 for x,y in zip(lst,lst2)}"
   ]
  },
  {
   "cell_type": "code",
   "execution_count": 139,
   "id": "42b00c08-e315-4333-b1bc-a5ea4606d66b",
   "metadata": {},
   "outputs": [
    {
     "data": {
      "text/plain": [
       "{1: 36, 2: 49, 3: 64, 4: 81, 5: 100}"
      ]
     },
     "execution_count": 139,
     "metadata": {},
     "output_type": "execute_result"
    }
   ],
   "source": [
    "dct"
   ]
  },
  {
   "cell_type": "code",
   "execution_count": 145,
   "id": "f6cbede7-ef09-4d46-93e5-2ca2f11f6d08",
   "metadata": {},
   "outputs": [],
   "source": [
    "dct = {x:(x**2 if x%2==0 else x**3) for x in range(10)}"
   ]
  },
  {
   "cell_type": "code",
   "execution_count": 147,
   "id": "da42ef0b-0783-4fb5-8c0d-d9d1b0cb2af4",
   "metadata": {},
   "outputs": [
    {
     "data": {
      "text/plain": [
       "{0: 0, 1: 1, 2: 4, 3: 27, 4: 16, 5: 125, 6: 36, 7: 343, 8: 64, 9: 729}"
      ]
     },
     "execution_count": 147,
     "metadata": {},
     "output_type": "execute_result"
    }
   ],
   "source": [
    "dct"
   ]
  },
  {
   "cell_type": "code",
   "execution_count": null,
   "id": "fc22734d-4524-4598-a76b-b6c517c0a4f7",
   "metadata": {},
   "outputs": [],
   "source": []
  }
 ],
 "metadata": {
  "kernelspec": {
   "display_name": "Python 3 (ipykernel)",
   "language": "python",
   "name": "python3"
  },
  "language_info": {
   "codemirror_mode": {
    "name": "ipython",
    "version": 3
   },
   "file_extension": ".py",
   "mimetype": "text/x-python",
   "name": "python",
   "nbconvert_exporter": "python",
   "pygments_lexer": "ipython3",
   "version": "3.12.4"
  }
 },
 "nbformat": 4,
 "nbformat_minor": 5
}
