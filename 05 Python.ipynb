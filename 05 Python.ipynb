{
 "cells": [
  {
   "cell_type": "markdown",
   "id": "f63698d8-53c2-4994-9caf-a88d1c12459f",
   "metadata": {},
   "source": [
    "# RegEx\n",
    "## Regular Expressions"
   ]
  },
  {
   "cell_type": "markdown",
   "id": "d4d1022b-e6b3-488c-9dc2-02cc61e59daa",
   "metadata": {},
   "source": [
    "Both re.search() and re.match() returns only the first occurrence of a substring in the string and ignore others.\n",
    "re.match() only works if the match is found at the beginning of the string."
   ]
  },
  {
   "cell_type": "code",
   "execution_count": 11,
   "id": "578a873e-fc36-4f93-aa72-321899e55677",
   "metadata": {},
   "outputs": [
    {
     "name": "stdout",
     "output_type": "stream",
     "text": [
      "<re.Match object; span=(0, 3), match='123'>\n",
      "<re.Match object; span=(0, 3), match='123'>\n",
      "\n",
      " None\n",
      "<re.Match object; span=(3, 6), match='123'>\n"
     ]
    }
   ],
   "source": [
    "import re\n",
    " \n",
    "\n",
    "mystring1=\"123abc123\"\n",
    "print(re.match(\"123\",mystring1))\n",
    "print(re.search(\"123\",mystring1))\n",
    "\n",
    "mystring2=\"abc123\"\n",
    "print('\\n',re.match(\"123\",mystring2))  #  None\n",
    "print(re.search(\"123\",mystring2))"
   ]
  },
  {
   "cell_type": "code",
   "execution_count": 15,
   "id": "96b6cfcc-e3c3-4462-94d4-68d2a2338f2d",
   "metadata": {},
   "outputs": [
    {
     "name": "stdout",
     "output_type": "stream",
     "text": [
      "None\n",
      "<re.Match object; span=(3, 6), match='123'>\n",
      "['123', '123']\n"
     ]
    }
   ],
   "source": [
    "mystring1=\"abc123xyz123\"\n",
    "print(re.match(\"123\",mystring1))\n",
    "print(re.search(\"123\",mystring1))\n",
    "print(re.findall(\"123\",mystring1))"
   ]
  },
  {
   "cell_type": "code",
   "execution_count": 22,
   "id": "29b6ae22-c833-4a9f-bcdc-71cd8f5a625c",
   "metadata": {},
   "outputs": [
    {
     "name": "stdout",
     "output_type": "stream",
     "text": [
      "<re.Match object; span=(0, 5), match='Vidya'>\n",
      "None\n",
      "<re.Match object; span=(0, 5), match='vidya'>\n"
     ]
    }
   ],
   "source": [
    "import re\n",
    "\n",
    "pattern1=\"Vidya\"\n",
    "mystring1=\"Vidyanidhi\"\n",
    "print(re.match(pattern1, mystring1))\n",
    "mystring2=\"vidyanidhi\"\n",
    "print(re.match(pattern1,mystring2))\n",
    "print(re.match(pattern1, mystring2,re.IGNORECASE))"
   ]
  },
  {
   "cell_type": "markdown",
   "id": "3eeb8409-b3e1-4030-a728-19a5d2b67521",
   "metadata": {},
   "source": [
    "### RegEX\n",
    "r'^[\\w\\.-]+@[a-zA-Z0-9-]+\\.[a-zA-Z]{2,}$'\n",
    "\n",
    "^: Start of the string.\n",
    "\\w - Word characters (letters, digits, and underscores)\n",
    "  .(dot) symbol\n",
    "\n",
    "@: Matches the @ symbol.\n",
    "\n",
    "[a-zA-Z0-9-]+: Matches one or more alphanumeric characters or hyphens after the @ symbol (in the domain name).\n",
    "\n",
    "\\.: Matches the dot (.) before the top-level domain.\n",
    "\n",
    "[a-zA-Z]{2,}: Matches two or more alphabetic characters for the top-level domain (e.g., com, net, org).\n",
    "\n",
    "$: End of the string."
   ]
  },
  {
   "cell_type": "code",
   "execution_count": 24,
   "id": "df090978-ebfe-4637-ae44-fa810c3f63fb",
   "metadata": {},
   "outputs": [
    {
     "name": "stdout",
     "output_type": "stream",
     "text": [
      "True\n",
      "False\n",
      "True\n",
      "False\n"
     ]
    }
   ],
   "source": [
    "import re\n",
    "email_pattern = r'^[\\w\\.-]+@[a-zA-Z0-9-]+\\.[a-zA-Z]{2,}$'\n",
    "\n",
    "\n",
    "emails = ['nitin.javastudent@gmail.com', 'Guido.russom@example.co.uk', '123@python.com', 'python.masters']\n",
    "\n",
    "for email in emails:\n",
    "    print(re.match(email_pattern,email) is not None)"
   ]
  },
  {
   "cell_type": "code",
   "execution_count": 33,
   "id": "a5be6dc1-30c4-4085-a519-7f78a48231fd",
   "metadata": {},
   "outputs": [
    {
     "name": "stdout",
     "output_type": "stream",
     "text": [
      "False\n",
      "True\n",
      "False\n",
      "True\n"
     ]
    }
   ],
   "source": [
    "import re\n",
    "\n",
    "pattern1=r\"\\d\"     # int\n",
    "str1=\"abcd\"\n",
    "str2=\"1abcd\"\n",
    "str3=\"ab5cd\"\n",
    "\n",
    "print(re.match(pattern1,str1) is not None)\n",
    "print(re.match(pattern1,str2) is not None)\n",
    "print(re.match(pattern1,str3) is not None)\n",
    "print(re.search(pattern1,str3) is not None)"
   ]
  },
  {
   "cell_type": "code",
   "execution_count": 35,
   "id": "c3b30847-97a7-4de5-a73b-09851dfdd167",
   "metadata": {},
   "outputs": [
    {
     "name": "stdout",
     "output_type": "stream",
     "text": [
      "['Welcome', 'to', 'RE', 'World']\n",
      "<class 'list'>\n"
     ]
    }
   ],
   "source": [
    "import re\n",
    "\n",
    "pattern1=r\"\\s\"\t\t #  \\s  means whitespace characters\n",
    "str1=\"Welcome to RE World\"\n",
    "\n",
    "mylist1=re.split(pattern1,str1)\n",
    "print(mylist1)\n",
    "print(type(mylist1))"
   ]
  },
  {
   "cell_type": "code",
   "execution_count": 39,
   "id": "bc93d233-a781-4440-903b-d1dee804c1ef",
   "metadata": {},
   "outputs": [
    {
     "name": "stdout",
     "output_type": "stream",
     "text": [
      "['Python', 'easy', 'python', 'Python', 'easy']\n"
     ]
    }
   ],
   "source": [
    "# find out how many \"python\" or \"easy\" words are there in a text\n",
    "import re\n",
    "\n",
    "pattern1=\"python|easy\"\n",
    "str1=\"There is a fun in learning Python. It is easy to code python program. Python makes programmer's life easy\"\n",
    "\n",
    "result=re.findall(pattern1,str1,re.IGNORECASE)\n",
    "\n",
    "print(result)"
   ]
  },
  {
   "cell_type": "code",
   "execution_count": 41,
   "id": "09165cca-d04d-4b1c-b394-9569e99de5a9",
   "metadata": {},
   "outputs": [
    {
     "name": "stdout",
     "output_type": "stream",
     "text": [
      "<re.Match object; span=(27, 33), match='Python'>\n",
      "(27, 33)\n",
      "<re.Match object; span=(54, 60), match='python'>\n",
      "(54, 60)\n",
      "<re.Match object; span=(70, 76), match='Python'>\n",
      "(70, 76)\n"
     ]
    }
   ],
   "source": [
    "# find out index of \"python\"  in a text\n",
    "import re\n",
    "\n",
    "pattern1=\"python\"\n",
    "str1=\"There is a fun in learning Python. It is easy to code python program. Python makes programmer's life easy\"\n",
    "\n",
    "for result in re.finditer(pattern1,str1,re.IGNORECASE):\n",
    "    print(result)\n",
    "    mytuple=result.span()\n",
    "    print(mytuple)"
   ]
  },
  {
   "cell_type": "code",
   "execution_count": 43,
   "id": "01c84f4f-94f1-4a23-a655-e497d909f7ae",
   "metadata": {},
   "outputs": [
    {
     "name": "stdout",
     "output_type": "stream",
     "text": [
      "There is a fun in learning Python. It is easy to code Python program. Python makes programmer's life easy\n"
     ]
    }
   ],
   "source": [
    "# replace \"Java\"  with \"Python\"\n",
    "import re\n",
    "\n",
    "str1=\"There is a fun in learning Java. It is easy to code java program. Java makes programmer's life easy\"\n",
    "\n",
    "\n",
    "regex=re.compile(\"Java\",re.IGNORECASE)\n",
    "result=regex.sub(\"Python\",str1)\n",
    "\n",
    "print(result)"
   ]
  },
  {
   "cell_type": "code",
   "execution_count": 51,
   "id": "ec5cd8d3-d4d8-4fd0-8814-d8c8c41407c5",
   "metadata": {},
   "outputs": [
    {
     "name": "stdout",
     "output_type": "stream",
     "text": [
      "Welcome to Python Programming World\n",
      "Welcome\n",
      "to\n",
      "Python\n",
      "Programming\n",
      "World\n",
      "<class 're.Pattern'>\n"
     ]
    }
   ],
   "source": [
    "# replace space  with newline\n",
    "import re\n",
    "\n",
    "str1=\"Welcome to Python Programming World\"\n",
    "\n",
    "print(str1)\n",
    "regex=re.compile(\" \",re.IGNORECASE)\n",
    "result=regex.sub(\"\\n\",str1)\n",
    "\n",
    "print(result)\n",
    "print(type(regex))"
   ]
  },
  {
   "cell_type": "code",
   "execution_count": 55,
   "id": "2666f954-3141-475d-93ba-a949abbb6c8d",
   "metadata": {},
   "outputs": [
    {
     "name": "stdout",
     "output_type": "stream",
     "text": [
      "No of digits inside the string are \t 4\n",
      "No of characters inside the string are \t 14\n",
      "No of white spaces inside the string are \t 1\n"
     ]
    },
    {
     "name": "stderr",
     "output_type": "stream",
     "text": [
      "<>:6: SyntaxWarning: invalid escape sequence '\\d'\n",
      "<>:7: SyntaxWarning: invalid escape sequence '\\D'\n",
      "<>:6: SyntaxWarning: invalid escape sequence '\\d'\n",
      "<>:7: SyntaxWarning: invalid escape sequence '\\D'\n",
      "C:\\Users\\priya\\AppData\\Local\\Temp\\ipykernel_1100\\950547723.py:6: SyntaxWarning: invalid escape sequence '\\d'\n",
      "  print(\"No of digits inside the string are \\t\",len(re.findall('\\d',str1)))\n",
      "C:\\Users\\priya\\AppData\\Local\\Temp\\ipykernel_1100\\950547723.py:7: SyntaxWarning: invalid escape sequence '\\D'\n",
      "  print(\"No of characters inside the string are \\t\",len(re.findall('\\D',str1)))\n"
     ]
    }
   ],
   "source": [
    "# count how many digits ,characters and spaces are there inside string\n",
    "import re\n",
    "\n",
    "str1=\"abc4xy6z p8qrst1py\"\n",
    "\n",
    "print(\"No of digits inside the string are \\t\",len(re.findall('\\d',str1)))\n",
    "print(\"No of characters inside the string are \\t\",len(re.findall('\\D',str1)))\n",
    "print(\"No of white spaces inside the string are \\t\",len(re.findall(' ',str1)))"
   ]
  },
  {
   "cell_type": "code",
   "execution_count": 61,
   "id": "3b981f47-bbc0-4d94-8c0e-893c09771778",
   "metadata": {},
   "outputs": [
    {
     "name": "stdout",
     "output_type": "stream",
     "text": [
      "it's valid phone no.\n",
      "it's a valid fullname\n",
      "it's not a valid fullname\n"
     ]
    },
    {
     "name": "stderr",
     "output_type": "stream",
     "text": [
      "<>:3: SyntaxWarning: invalid escape sequence '\\d'\n",
      "<>:11: SyntaxWarning: invalid escape sequence '\\w'\n",
      "<>:16: SyntaxWarning: invalid escape sequence '\\w'\n",
      "<>:3: SyntaxWarning: invalid escape sequence '\\d'\n",
      "<>:11: SyntaxWarning: invalid escape sequence '\\w'\n",
      "<>:16: SyntaxWarning: invalid escape sequence '\\w'\n",
      "C:\\Users\\priya\\AppData\\Local\\Temp\\ipykernel_1100\\1499924333.py:3: SyntaxWarning: invalid escape sequence '\\d'\n",
      "  if(re.search(\"\\d{3}-\\d{3}-\\d{4}\", phone_no)):\n",
      "C:\\Users\\priya\\AppData\\Local\\Temp\\ipykernel_1100\\1499924333.py:11: SyntaxWarning: invalid escape sequence '\\w'\n",
      "  if(re.search(\"\\w{2,20}\\s\\w{2,20}\", fullname)):\n",
      "C:\\Users\\priya\\AppData\\Local\\Temp\\ipykernel_1100\\1499924333.py:16: SyntaxWarning: invalid escape sequence '\\w'\n",
      "  if(re.search(\"\\w{2,20}\\s\\w{2,20}\", fullname2)):\n"
     ]
    }
   ],
   "source": [
    "phone_no=\"445-889-1478\"\n",
    "#phone_no=\"44r-7p9-2345\"\n",
    "if(re.search(\"\\d{3}-\\d{3}-\\d{4}\", phone_no)):\n",
    "    print(\"it's valid phone no.\")\n",
    "else:\n",
    "    print(\"it's not a valid phone no\")\n",
    "\n",
    "fullname=\"Sachin Tendulkar\"\n",
    "fullname2=\"RahulDravid\"\n",
    "\n",
    "if(re.search(\"\\w{2,20}\\s\\w{2,20}\", fullname)):\n",
    "    print(\"it's a valid fullname\")\n",
    "else:\n",
    "    print(\"it's not a valid fullname\")\n",
    "\n",
    "if(re.search(\"\\w{2,20}\\s\\w{2,20}\", fullname2)):\n",
    "    print(\"it's a valid fullname\")\n",
    "else:\n",
    "    print(\"it's not a valid fullname\")"
   ]
  },
  {
   "cell_type": "code",
   "execution_count": 63,
   "id": "9d3088ea-6780-41dc-a35c-f8a6f9210ea9",
   "metadata": {},
   "outputs": [
    {
     "name": "stdout",
     "output_type": "stream",
     "text": [
      "['Java', 'Python', 'Oracle']\n"
     ]
    }
   ],
   "source": [
    "# find out all the modules in the given string\n",
    "#  * is for zero or more occurrences\n",
    "\n",
    "import re\n",
    "\n",
    "message=\"Java is the first platform independent language whereas Python is the preferred choice for machine learning. Oracle is the best database technology.\"\n",
    "\n",
    "pattern=r\"[A-Z][a-z]*\"\n",
    "modules=re.findall(pattern, message)\n",
    "print(modules)"
   ]
  },
  {
   "cell_type": "code",
   "execution_count": 65,
   "id": "2d54817c-61ee-46d0-9cab-2ebb4259650b",
   "metadata": {},
   "outputs": [
    {
     "name": "stdout",
     "output_type": "stream",
     "text": [
      "['Java', 'Python', 'Mysql']\n",
      "['20', '15', '12']\n",
      "{'Java': '20', 'Python': '15', 'Mysql': '12'}\n"
     ]
    }
   ],
   "source": [
    "# find out all the modules and their no. of days in the given string\n",
    "#  * is for zero or more occurences\n",
    "\n",
    "import re\n",
    "\n",
    "message=\"Java is the first platform independent language which takes 20 days whereas Python is the prefered choice for machine learning which takes 15 days.Mysql which takes 12 days is the best database technology.\"\n",
    "\n",
    "pattern=r\"[A-Z][a-z]*\"\n",
    "modules=re.findall(pattern, message)\n",
    "print(modules)\n",
    "no_of_days=re.findall(r\"\\d{2}\",message)\n",
    "print(no_of_days)\n",
    "\n",
    "module_wise_no_of_days={}\n",
    "\n",
    "module_wise_no_of_days={key:value for (key,value) in zip(modules,no_of_days)}\n",
    "\n",
    "print(module_wise_no_of_days)"
   ]
  },
  {
   "cell_type": "code",
   "execution_count": 67,
   "id": "ef7aee88-48c1-4b7c-8023-dd47d6f5f6ba",
   "metadata": {},
   "outputs": [
    {
     "name": "stdout",
     "output_type": "stream",
     "text": [
      "['Vishal']\n",
      "['Pandit']\n"
     ]
    }
   ],
   "source": [
    "# names start with s or r or v\n",
    "#  names start with character starts from p to t\n",
    "#  \\w means word character\n",
    "\n",
    "\n",
    "import re\n",
    "\n",
    "#name=\"sachin\"\n",
    "#name=\"rahul\"\n",
    "#name=\"chetan\"\n",
    "name=\"Vishal\"\n",
    "name1=\"Pandit\"\n",
    "\n",
    "list1=re.findall(r\"^[srv]\\w*\", name,re.IGNORECASE)\n",
    "list2=re.findall(r\"^[p-t]\\w*\", name1,re.IGNORECASE)\n",
    "\n",
    "print(list1)\n",
    "print(list2)"
   ]
  },
  {
   "cell_type": "markdown",
   "id": "ea2b64b4-f7ea-4b86-9afa-5478a716d2e8",
   "metadata": {},
   "source": [
    "## Map function\n",
    "Python map() function applies another function on a given iterable (List/String/Dictionary, etc.) and returns map object. In simple words, it traverses the list, calls the function for each element, and returns the results.\r\n",
    "Python map object is also iterable holding the list of each iteration. We can also convert it to List or Dictionary or other types using their constructor functions.\r\n",
    "\r\n",
    "The map() function takes at least two parameters. The first argument is a user-defined function, and then one or more iterable types.\r\n",
    "If you pass only one iterable, then map() calls the function for each of its elements and returns map object with results.\r\n",
    "However, if you provide multiple iterables, then the function will be called with each of their elements as arguments.\r\n",
    "\r\n"
   ]
  },
  {
   "cell_type": "code",
   "execution_count": 73,
   "id": "1e5d391f-96db-4318-914d-b11cc9a5025b",
   "metadata": {},
   "outputs": [
    {
     "name": "stdout",
     "output_type": "stream",
     "text": [
      "(10, 20, 30, 40)\n",
      "[20, 40, 60, 80]\n"
     ]
    }
   ],
   "source": [
    "# using map() function with tuple\n",
    "\n",
    "def addition(n):\n",
    "    return n+n\n",
    "\n",
    "mytuple = (10,20,30,40)\n",
    "print(mytuple)\n",
    "\n",
    "result = map(addition,mytuple)\n",
    "print(list(result))"
   ]
  },
  {
   "cell_type": "code",
   "execution_count": 75,
   "id": "e4f7105f-697b-4f6e-bff5-c1c169ac3c7a",
   "metadata": {},
   "outputs": [
    {
     "name": "stdout",
     "output_type": "stream",
     "text": [
      "(10, 20, 30, 40)\n",
      "<class 'tuple'>\n",
      "[12, 22, 32, 42]\n"
     ]
    }
   ],
   "source": [
    "# using map() function with tuple by passing lambda\n",
    "\n",
    "mytuple = (10,20,30,40)\n",
    "print(mytuple)\n",
    "print(type(mytuple))\n",
    "\n",
    "result = map(lambda x:x+2,mytuple)\n",
    "print(list(result))"
   ]
  },
  {
   "cell_type": "code",
   "execution_count": 77,
   "id": "5ca7dc60-e5a0-432f-88e2-9ffb1c14266c",
   "metadata": {},
   "outputs": [
    {
     "name": "stdout",
     "output_type": "stream",
     "text": [
      "[10, 20, 30, 40]\n",
      "[100, 200, 300, 400]\n",
      "<map object at 0x00000249D7E9C910>\n",
      "[110, 220, 330, 440]\n"
     ]
    }
   ],
   "source": [
    "# Add two lists using map and lambda\n",
    "\n",
    "mylist1 = [10,20,30,40]\n",
    "mylist2 = [100,200,300,400]\n",
    "\n",
    "print(mylist1)\n",
    "print(mylist2)\n",
    "\n",
    "result = map(lambda x,y:x+y,mylist1,mylist2)\n",
    "print(result)\n",
    "print(list(result))"
   ]
  },
  {
   "cell_type": "code",
   "execution_count": 81,
   "id": "0766f242-fe62-43fa-9f41-a6bea0fb2601",
   "metadata": {},
   "outputs": [
    {
     "name": "stdout",
     "output_type": "stream",
     "text": [
      "[['s', 'a', 't'], ['b', 'a', 't'], ['c', 'a', 't'], ['m', 'a', 't']]\n"
     ]
    }
   ],
   "source": [
    "# List of strings\n",
    "l = ['sat', 'bat', 'cat', 'mat']\n",
    "\n",
    "# map() can listify the list of strings individually\n",
    "test = list(map(list, l))\n",
    "print(test)\n",
    "\n",
    "# what does map(list,l) do ?\n",
    "    # map(list,l) returns  [['s','a','t'],['b','a','t'],['c','a','t'],['m','a','t']]\n"
   ]
  },
  {
   "cell_type": "markdown",
   "id": "6fa98ca9-6f19-4e4c-a2ee-51fff8907a96",
   "metadata": {},
   "source": [
    "### Map vs Filter\n",
    "Map takes all objects in a list and allows you to apply a function to it whereas Filter takes all objects in a list and runs that through a function to create a new list with all objects that return True in that function"
   ]
  },
  {
   "cell_type": "code",
   "execution_count": 91,
   "id": "584dcf8f-06e4-45cd-b33c-72e03480d24b",
   "metadata": {},
   "outputs": [
    {
     "name": "stdout",
     "output_type": "stream",
     "text": [
      "[1, 2, 3, 4, 6, 7, 8]\n",
      "[2, 4, 6, 8]\n"
     ]
    }
   ],
   "source": [
    "def is_even(num):\n",
    "    return num % 2 == 0\n",
    "\n",
    "def add(num):\n",
    " \treturn num+num\n",
    "\n",
    "\n",
    "nums = [1, 2, 3, 4, 6, 7, 8]\n",
    "#filtered = filter(is_even, nums)\n",
    "\n",
    "# the function which is passed to filter function\n",
    "# must return true or false\n",
    "filtered = filter(is_even, nums)  # no effect\n",
    "\n",
    "print(nums)\n",
    "print(list(filtered))"
   ]
  },
  {
   "cell_type": "code",
   "execution_count": 109,
   "id": "3c5f942c-7b86-4939-a04c-a25e5e21a747",
   "metadata": {},
   "outputs": [
    {
     "name": "stdin",
     "output_type": "stream",
     "text": [
      " 1 2 3 4 5 6 7 8\n"
     ]
    },
    {
     "data": {
      "text/plain": [
       "20"
      ]
     },
     "execution_count": 109,
     "metadata": {},
     "output_type": "execute_result"
    }
   ],
   "source": [
    "sum(list(filter(lambda x:x%2==0,[int(x) for x in input().split()])))"
   ]
  },
  {
   "cell_type": "code",
   "execution_count": 115,
   "id": "e894c4ab-ec2b-4290-be4c-6dc40211d4d0",
   "metadata": {},
   "outputs": [
    {
     "name": "stdout",
     "output_type": "stream",
     "text": [
      "1 2 3 4 5 6\n"
     ]
    }
   ],
   "source": [
    "print(*[1, 2, 3, 4, 5, 6])  #* to unpack an iterable"
   ]
  },
  {
   "cell_type": "markdown",
   "id": "5068f285-4af3-4781-8cab-0b136c2feb8a",
   "metadata": {},
   "source": [
    "## Iterator"
   ]
  },
  {
   "cell_type": "code",
   "execution_count": 134,
   "id": "5be9d87c-cd03-4947-989c-dbb870d1aae6",
   "metadata": {},
   "outputs": [
    {
     "name": "stdout",
     "output_type": "stream",
     "text": [
      "apple\n",
      "banana\n",
      "cherry\n",
      "10\n",
      "20\n",
      "30\n",
      "40\n",
      "V i d y a n i d h i "
     ]
    }
   ],
   "source": [
    "mytuple = (\"apple\", \"banana\", \"cherry\")\n",
    "for myit in mytuple:\n",
    "    print(myit)\n",
    "\n",
    "mylist=[10,20,30,40]\n",
    "for myit1 in mylist:\n",
    "    print(myit1)\n",
    "\n",
    "mystring=\"Vidyanidhi\"\n",
    "for i in mystring:\n",
    "    print(i,end=' ')"
   ]
  },
  {
   "cell_type": "code",
   "execution_count": 136,
   "id": "432d0d73-7d73-4388-b621-5270f8d12a24",
   "metadata": {},
   "outputs": [
    {
     "name": "stdout",
     "output_type": "stream",
     "text": [
      "<list_iterator object at 0x00000249D8326050>\n",
      "<class 'list_iterator'>\n",
      "10\n",
      "20\n",
      "30\n"
     ]
    },
    {
     "ename": "StopIteration",
     "evalue": "",
     "output_type": "error",
     "traceback": [
      "\u001b[1;31m---------------------------------------------------------------------------\u001b[0m",
      "\u001b[1;31mStopIteration\u001b[0m                             Traceback (most recent call last)",
      "Cell \u001b[1;32mIn[136], line 7\u001b[0m\n\u001b[0;32m      5\u001b[0m \u001b[38;5;28mprint\u001b[39m(myiter\u001b[38;5;241m.\u001b[39m\u001b[38;5;21m__next__\u001b[39m())\n\u001b[0;32m      6\u001b[0m \u001b[38;5;28mprint\u001b[39m(myiter\u001b[38;5;241m.\u001b[39m\u001b[38;5;21m__next__\u001b[39m())\n\u001b[1;32m----> 7\u001b[0m \u001b[38;5;28mprint\u001b[39m(myiter\u001b[38;5;241m.\u001b[39m\u001b[38;5;21m__next__\u001b[39m())\n",
      "\u001b[1;31mStopIteration\u001b[0m: "
     ]
    }
   ],
   "source": [
    "myiter=iter([10,20,30])\n",
    "print(myiter)\n",
    "print(type(myiter))\n",
    "print(myiter.__next__())\n",
    "print(myiter.__next__())\n",
    "print(myiter.__next__())\n",
    "print(myiter.__next__())        #   StopIteration"
   ]
  },
  {
   "cell_type": "markdown",
   "id": "2bc1a72c-e787-4d4f-affd-1ab7e6ce0c71",
   "metadata": {},
   "source": [
    "# Thank you For Loop"
   ]
  },
  {
   "cell_type": "code",
   "execution_count": 141,
   "id": "acefa074-b06a-40b2-989e-a9dd161fc855",
   "metadata": {},
   "outputs": [
    {
     "name": "stdout",
     "output_type": "stream",
     "text": [
      "10\n",
      "20\n",
      "30\n"
     ]
    }
   ],
   "source": [
    "myiter=[10,20,30]\n",
    "for i in myiter:    #  for loop internally handles \"Stopiteration\"\n",
    "    print(i)"
   ]
  },
  {
   "cell_type": "markdown",
   "id": "23744aa0-b94d-4711-b206-8093b28f6eb1",
   "metadata": {},
   "source": [
    "### Your own Iterator"
   ]
  },
  {
   "cell_type": "code",
   "execution_count": 150,
   "id": "1bd6c1ac-bf68-4741-93c7-25f29bf9e8b8",
   "metadata": {},
   "outputs": [
    {
     "name": "stdout",
     "output_type": "stream",
     "text": [
      "iter\n",
      "n 1\n",
      "n 2\n",
      "n 3\n",
      "n 4\n",
      "n 5\n",
      "n 6\n",
      "n 7\n",
      "n 8\n",
      "n 9\n",
      "n 10\n",
      "n done\n"
     ]
    }
   ],
   "source": [
    "class MyNumber:\n",
    "    def __iter__(self):\n",
    "        print('iter')\n",
    "        self.num=1\n",
    "        return self\n",
    "    def __next__(self):\n",
    "        print('n',end=' ')\n",
    "        if self.num<=10:\n",
    "            temp=self.num\n",
    "            self.num+=1\n",
    "            return temp\n",
    "        else:\n",
    "            raise StopIteration\n",
    "\n",
    "ref1=MyNumber()\n",
    "for i in ref1:\n",
    "   print(i)\n",
    "print(\"done\")"
   ]
  },
  {
   "cell_type": "markdown",
   "id": "b62693c1-345c-4090-9026-77965571c95e",
   "metadata": {},
   "source": [
    "how does \"for i in ref1:\" work here?\n",
    "\n",
    "it first invokes \"__iter__()\" method of MyNumber class.\n",
    "\n",
    "\t__iter__() method returns for loop the object of \"MyNumber\"\n",
    "\n",
    "now for loop invokes \"__next__()\" method of MyNumber class which returns a number every time.\n",
    "This number for loop stores inside \"i\" variable and then prints.\n",
    "when the value goes beyond 10, for loop stops as it gets \"Stop Iteration\" from the \"next\" function. "
   ]
  },
  {
   "cell_type": "code",
   "execution_count": 155,
   "id": "7310e21c-ae8e-49c8-81f0-20cd85d6acf6",
   "metadata": {},
   "outputs": [
    {
     "name": "stdout",
     "output_type": "stream",
     "text": [
      "iter\n",
      "n 1\n",
      "n 2\n",
      "n 3\n",
      "n 4\n",
      "n 5\n",
      "n 6\n",
      "n 7\n",
      "n 8\n",
      "n 9\n",
      "n 10\n",
      "n done with next\n",
      "done\n"
     ]
    }
   ],
   "source": [
    "class MyNumber:\n",
    "    def __iter__(self):\n",
    "        print(\"inside iter\")\n",
    "        self.num=1\n",
    "        return self \n",
    "    def __next__(self):\n",
    "        print(\"inside next\")\n",
    "        if self.num<=10:\n",
    "            temp=self.num\n",
    "            self.num+=1\n",
    "            return temp\n",
    "        else:\n",
    "            raise StopIteration\n",
    "\n",
    "try:\n",
    "    ref1.__iter__()\n",
    "    while 1:\n",
    "        print(ref1.__next__())\n",
    "except StopIteration as s:\n",
    "    print(\"done with next\")\n",
    "    \n",
    "print(\"done\")"
   ]
  },
  {
   "cell_type": "code",
   "execution_count": null,
   "id": "81dce66f-6826-4ae8-be85-4d720a8f6ba1",
   "metadata": {},
   "outputs": [],
   "source": []
  }
 ],
 "metadata": {
  "kernelspec": {
   "display_name": "Python 3 (ipykernel)",
   "language": "python",
   "name": "python3"
  },
  "language_info": {
   "codemirror_mode": {
    "name": "ipython",
    "version": 3
   },
   "file_extension": ".py",
   "mimetype": "text/x-python",
   "name": "python",
   "nbconvert_exporter": "python",
   "pygments_lexer": "ipython3",
   "version": "3.12.4"
  }
 },
 "nbformat": 4,
 "nbformat_minor": 5
}
