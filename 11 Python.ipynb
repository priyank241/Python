{
 "cells": [
  {
   "cell_type": "markdown",
   "id": "af540b2e-fc5e-4a99-91d9-3841ee077ee2",
   "metadata": {},
   "source": [
    "# Multithreading"
   ]
  },
  {
   "cell_type": "code",
   "execution_count": 2,
   "id": "3b62bdcf-96f2-4850-8374-a1ce9ef53e97",
   "metadata": {},
   "outputs": [
    {
     "name": "stdout",
     "output_type": "stream",
     "text": [
      "First_Thread - 0\n",
      "First_Thread - 1\n",
      "First_Thread - 2\n",
      "First_Thread - 3\n",
      "First_Thread - 4\n",
      "Second_Thread - 0\n",
      "Second_Thread - 1\n",
      "Second_Thread - 2\n",
      "Second_Thread - 3\n",
      "Second_Thread - 4\n",
      "All threads finished.\n"
     ]
    }
   ],
   "source": [
    "import threading\n",
    "\n",
    "import time\n",
    "\n",
    "def disp(thread_name):\n",
    "    for i in range(5):\n",
    "        #time.sleep(1)\n",
    "        print(f\"{thread_name} - {i}\")\n",
    "\n",
    "# Creating threads\n",
    "thread1 = threading.Thread(target=disp, args=(\"First_Thread\",))\n",
    "thread2 = threading.Thread(target=disp, args=(\"Second_Thread\",))\n",
    "\n",
    "# Starting threads\n",
    "thread1.start()\n",
    "thread2.start()\n",
    "\n",
    "# Wait for both threads to finish\n",
    "#thread1.join()\n",
    "#thread2.join()\n",
    "\n",
    "print(\"All threads finished.\")"
   ]
  },
  {
   "cell_type": "code",
   "execution_count": 14,
   "id": "85bdb0a4-3a69-4a9a-bb29-34f0e0ae13f0",
   "metadata": {},
   "outputs": [
    {
     "name": "stdout",
     "output_type": "stream",
     "text": [
      "Thread Name: Thread-17 (disp)\n",
      "First_Thread - 0\n",
      "Thread Name: Thread-17 (disp)\n",
      "First_Thread - 1\n",
      "Thread Name: Thread-17 (disp)\n",
      "First_Thread - 2\n",
      "Thread Name: Thread-17 (disp)\n",
      "First_Thread - 3\n",
      "Thread Name: Thread-17 (disp)\n",
      "First_Thread - 4\n",
      "Thread Name: Thread-18 (disp)\n",
      "Second_Thread - 0\n",
      "Thread Name: Thread-18 (disp)\n",
      "Second_Thread - 1\n",
      "Thread Name: Thread-18 (disp)\n",
      "Second_Thread - 2\n",
      "Thread Name: Thread-18 (disp)\n",
      "Second_Thread - 3\n",
      "Thread Name: Thread-18 (disp)\n",
      "Second_Thread - 4\n",
      "guess who is running main\n",
      "Thread Name: MainThread\n",
      "All threads finished.\n"
     ]
    }
   ],
   "source": [
    "import threading\n",
    "import time\n",
    "\n",
    "def disp(thread_name):\n",
    "    for i in range(5):\n",
    "        #time.sleep(1)\n",
    "        current_thread = threading.current_thread()\n",
    "        print(f\"Thread Name: {current_thread.name}\")\n",
    "        print(f\"{thread_name} - {i}\")\n",
    "\n",
    "# Creating threads\n",
    "thread1 = threading.Thread(target=disp, args=(\"First_Thread\",))\n",
    "thread2 = threading.Thread(target=disp, args=(\"Second_Thread\",))\n",
    "\n",
    "# Starting threads\n",
    "thread1.start()\n",
    "thread2.start()\n",
    "\n",
    "# Wait for both threads to finish\n",
    "thread1.join()\n",
    "thread2.join()\n",
    "\n",
    "print(\"guess who is running main\")\n",
    "current_thread = threading.current_thread()\n",
    "print(f\"Thread Name: {current_thread.name}\")\n",
    "print(\"All threads finished.\")"
   ]
  },
  {
   "cell_type": "code",
   "execution_count": 18,
   "id": "83da09f2-c591-41a4-a3e9-5994c7d5e819",
   "metadata": {},
   "outputs": [
    {
     "name": "stdout",
     "output_type": "stream",
     "text": [
      "First - 0\n",
      "First - 1\n",
      "First - 2\n",
      "First - 3\n",
      "First - 4\n",
      "Second - 0\n",
      "Second - 1\n",
      "Second - 2\n",
      "Second - 3\n",
      "Second - 4\n",
      "guess who is running main\n",
      "Thread Name: MainThread\n",
      "All threads finished.\n"
     ]
    }
   ],
   "source": [
    "import threading\n",
    "import time\n",
    "\n",
    "def disp():\n",
    "    for i in range(5):\n",
    "        #time.sleep(1)\n",
    "        current_thread = threading.current_thread()\n",
    "        print(f\"{current_thread.name} - {i}\")\n",
    "\n",
    "# Creating threads\n",
    "thread1 = threading.Thread(target=disp)\n",
    "thread1.name=\"First\"\n",
    "thread2 = threading.Thread(target=disp)\n",
    "thread2.name=\"Second\"\n",
    "\n",
    "# Starting threads\n",
    "thread1.start()\n",
    "thread2.start()\n",
    "\n",
    "# Wait for both threads to finish\n",
    "thread1.join()\n",
    "thread2.join()\n",
    "\n",
    "print(\"guess who is running main\")\n",
    "current_thread = threading.current_thread()\n",
    "print(f\"Thread Name: {current_thread.name}\")\n",
    "print(\"All threads finished.\")"
   ]
  },
  {
   "cell_type": "markdown",
   "id": "4f3f0aab-b52f-4cc6-9066-8828232368b4",
   "metadata": {},
   "source": [
    "### Lock\n",
    "\n",
    "__Shared Resource:__ counter is a global variable\n",
    "that is shared between threads.\n",
    "\n",
    "__Lock Creation:__ counter_lock is a lock object\n",
    "( Lock class) that will be used to synchronize\n",
    "access to the counter.\n",
    "\n",
    "So in this example,the lock is created on the instance of Lock class from the threading module. This lock is used to synchronize access to the shared resource, \"counter\".\n",
    "\n",
    "Whenever a thread wants to modify the \"counter\", it must first acquire the lock using a context manager (with counter_lock:). This ensures that only one thread can modify counter at a time, preventing race conditions. When one thread holds the lock, the other thread must wait until the lock is released before it can proceed with its own modifications to \"counter\"."
   ]
  },
  {
   "cell_type": "code",
   "execution_count": 38,
   "id": "74355bd8-0bc3-4a93-be43-5a0e58274d3e",
   "metadata": {},
   "outputs": [
    {
     "name": "stdout",
     "output_type": "stream",
     "text": [
      "Counter incrementing\t 1\n",
      "Counter incrementing\t 2\n",
      "Counter incrementing\t 3\n",
      "Counter incrementing\t 4\n",
      "Counter incrementing\t 5\n",
      "Counter incrementing\t 6\n",
      "Counter incrementing\t 7\n",
      "Counter incrementing\t 8\n",
      "Counter incrementing\t 9\n",
      "Counter incrementing\t 10\n",
      "Counter decrementing\t 9\n",
      "Counter decrementing\t 8\n",
      "Counter decrementing\t 7\n",
      "Counter decrementing\t 6\n",
      "Counter decrementing\t 5\n",
      "Counter decrementing\t 4\n",
      "Counter decrementing\t 3\n",
      "Counter decrementing\t 2\n",
      "Counter decrementing\t 1\n",
      "\n",
      "\n",
      "\n",
      "Final counter value: 1\n"
     ]
    }
   ],
   "source": [
    "import threading\n",
    "import time\n",
    "\n",
    "# Shared resource\n",
    "counter = 0\n",
    "\n",
    "# Create a lock\n",
    "counter_lock = threading.Lock()\n",
    "\n",
    "def increment_counter():\n",
    "    global counter\n",
    "    for _ in range(10):\n",
    "        # Acquire the lock before accessing the shared resource\n",
    "        with counter_lock:\n",
    "            counter += 1\n",
    "        print(\"Counter incrementing\\t\",counter)\n",
    "\n",
    "def decrement_counter():\n",
    "    global counter\n",
    "    for _ in range(9):\n",
    "        # Acquire the lock before accessing the shared resource\n",
    "        with counter_lock:\n",
    "            counter -= 1\n",
    "        print(\"Counter decrementing\\t\",counter)\n",
    "\n",
    "# Create threads\n",
    "thread1 = threading.Thread(target=increment_counter)\n",
    "thread2 = threading.Thread(target=decrement_counter)\n",
    "\n",
    "# Start threads\n",
    "thread1.start()\n",
    "thread2.start()\n",
    "\n",
    "# Wait for both threads to finish\n",
    "thread1.join()  # try commenting this\n",
    "thread2.join()  # try commenting this\n",
    "\n",
    "# there is no guarantee of main thread will\n",
    "# complete at the end if you don't use \"join\"\n",
    "\n",
    "# Final counter value\n",
    "print(\"\\n\\n\")\n",
    "print(f\"Final counter value: {counter}\")"
   ]
  },
  {
   "cell_type": "code",
   "execution_count": 42,
   "id": "2a6a0270-c87b-4ce6-8b4c-b295358d6e3f",
   "metadata": {},
   "outputs": [
    {
     "name": "stdout",
     "output_type": "stream",
     "text": [
      "Hello\t0\n",
      "Hello\t1\n",
      "Hello\t2\n",
      "Hello\t3\n",
      "Hello\t4\n",
      "Hello\t5\n",
      "Hello\t6\n",
      "Hello\t7\n",
      "Hello\t8\n",
      "Hello\t9\n",
      "Hello\t0\n",
      "Hello\t1\n",
      "Hello\t2\n",
      "Hello\t3\n",
      "Hello\t4\n",
      "Hello\t5\n",
      "Hello\t6\n",
      "Hello\t7\n",
      "Hello\t8\n",
      "Hello\t9\n"
     ]
    }
   ],
   "source": [
    "import threading\n",
    "import time\n",
    "class MyClass:\n",
    "    def disp(self):\n",
    "        # Synchronize access to this method using a lock\n",
    "        with self.lock:\n",
    "            for i in range(10):\n",
    "                print(f\"Hello\\t{i}\")\n",
    "                #time.sleep(1)\n",
    "\n",
    "    def __init__(self):\n",
    "        self.lock = threading.Lock()  # Create a lock for synchronization\n",
    "\n",
    "\n",
    "def main():\n",
    "    m1 = MyClass()  # Shared instance of MyClass\n",
    "    m2 = MyClass() # try this\n",
    "    thread1 = threading.Thread(target=m1.disp)\n",
    "    thread2 = threading.Thread(target=m1.disp)\n",
    "    #thread2 = threading.Thread(target=m2.disp)  # try this\n",
    "    thread1.start()\n",
    "    thread2.start()\n",
    "\n",
    "\n",
    "if __name__ == \"__main__\":\n",
    "    main()"
   ]
  },
  {
   "cell_type": "code",
   "execution_count": 44,
   "id": "65b13ef5-e386-444e-ba0e-c8ce003e4972",
   "metadata": {},
   "outputs": [
    {
     "name": "stdout",
     "output_type": "stream",
     "text": [
      "Hello\t0\n",
      "Hello\t1\n",
      "Hello\t2\n",
      "Hello\t3\n",
      "Hello\t4\n",
      "Hello\t5\n",
      "Hello\t6\n",
      "Hello\t7\n",
      "Hello\t8\n",
      "Hello\t9\n",
      "Hello\t10\n",
      "Hello\t9\n",
      "Hello\t8\n",
      "Hello\t7\n",
      "Hello\t6\n",
      "Hello\t5\n",
      "Hello\t4\n",
      "Hello\t3\n",
      "Hello\t2\n",
      "Hello\t1\n"
     ]
    }
   ],
   "source": [
    "import threading\n",
    "\n",
    "class MyClass:\n",
    "    def ascending(self):\n",
    "        # Synchronize access to this method using a lock\n",
    "        with self.lock:\n",
    "            for i in range(10):\n",
    "                print(f\"Hello\\t{i}\")\n",
    "    def descending(self):\n",
    "        # Synchronize access to this method using a lock\n",
    "        with self.lock:\n",
    "            for i in range(10,0,-1):\n",
    "                print(f\"Hello\\t{i}\")\n",
    "\n",
    "    def __init__(self):\n",
    "        self.lock = threading.Lock()  # Create a lock for synchronization\n",
    "\n",
    "\n",
    "def main():\n",
    "    m1 = MyClass()  # Shared instance of MyClass\n",
    "    thread1 = threading.Thread(target=m1.ascending)\n",
    "    thread2 = threading.Thread(target=m1.descending)\n",
    "\n",
    "    thread1.start()\n",
    "    thread2.start()\n",
    "\n",
    " \n",
    "if __name__ == \"__main__\":\n",
    "    main()"
   ]
  },
  {
   "cell_type": "code",
   "execution_count": 46,
   "id": "0448fda6-dd4c-46ea-b60e-2eb63ff32dbe",
   "metadata": {},
   "outputs": [
    {
     "name": "stdout",
     "output_type": "stream",
     "text": [
      "Ascending: 0\tFirst_Thread\n",
      "Ascending: 1\tFirst_Thread\n",
      "Ascending: 2\tFirst_Thread\n",
      "Ascending: 3\tFirst_Thread\n",
      "Ascending: 4\tFirst_Thread\n",
      "Ascending: 5\tFirst_Thread\n",
      "Ascending: 0\tSecond_Thread\n",
      "Ascending: 1\tSecond_Thread\n",
      "Ascending: 2\tSecond_Thread\n",
      "Ascending: 3\tSecond_Thread\n",
      "Ascending: 4\tSecond_Thread\n",
      "Ascending: 5\tSecond_Thread\n",
      "Ascending: 6\tFirst_Thread\n",
      "Ascending: 7\tFirst_Thread\n",
      "Ascending: 8\tFirst_Thread\n",
      "Ascending: 9\tFirst_Thread\n",
      "Ascending: 6\tSecond_Thread\n",
      "Ascending: 7\tSecond_Thread\n",
      "Ascending: 8\tSecond_Thread\n",
      "Ascending: 9\tSecond_Thread\n"
     ]
    }
   ],
   "source": [
    "import threading\n",
    "\n",
    "class MyClass:\n",
    "    def __init__(self):\n",
    "        self.lock = threading.Lock()  # Create a lock for synchronization\n",
    "        self.condition = threading.Condition(self.lock)  # Create a condition variable\n",
    "        self.current_thread = \"ascending\"  # Track the current thread\n",
    "\n",
    "    def disp(self):\n",
    "        with self.lock:\n",
    "                for i in range(10):\n",
    "                    print(f\"Ascending: {i}\\t{threading.current_thread().name}\")\n",
    "                    if i == 5:\n",
    "                        self.condition.notify()  # Notify the descending\n",
    "                        self.condition.wait()  # Wait for the descending thread to finish\n",
    "                self.condition.notify()\n",
    "\n",
    "\n",
    "def main():\n",
    "    m1 = MyClass()  # Shared instance of MyClass\n",
    "    thread1 = threading.Thread(target=m1.disp, name=\"First_Thread\")\n",
    "    thread2 = threading.Thread(target=m1.disp, name=\"Second_Thread\")\n",
    "\n",
    "    thread1.start()\n",
    "    thread2.start()\n",
    "\n",
    "    thread1.join()\n",
    "    thread2.join()\n",
    "\n",
    "if __name__ == \"__main__\":\n",
    "    main()"
   ]
  },
  {
   "cell_type": "markdown",
   "id": "d421e2d7-988c-4520-bcb6-e0c726236b20",
   "metadata": {},
   "source": [
    "# Logging"
   ]
  },
  {
   "cell_type": "markdown",
   "id": "92559939-7b38-4efa-b3ac-e956996ae846",
   "metadata": {},
   "source": [
    "Logging is a means of tracking events that happen when some software runs. Logging is important for software developing, debugging, and running. If you don’t have any logging record and your program crashes, there are very few chances that you detect the cause of the problem.\n",
    "The simplest way of logging is to write print statements in the program to check what has gone wrong where. But the main drawback here is at the time of sending the program to the client, you have to either comment or remove those print statements. Moreover print statements appear on console only whereas logging allows you to print the log messages on the console, file as well as database.\n",
    "\n",
    "Python Logging Levels\n",
    "There are five built-in levels of the log message.  \n",
    " - \tDebug: These are used to give Detailed information, typically of interest only when diagnosing problems.\n",
    " - \tInfo: These are used to confirm that things are working as expected\n",
    " - \tWarning: These are used as an indication that something unexpected happened, or is indicative of some problem in the near future\n",
    " - \tError: This tells that due to a more serious problem, the software has not been able to perform some function\n",
    " - \tCritical: This tells serious error, indicating that the program itself may be unable to continue running\n",
    "\n",
    "Each built-in level has been assigned its numeric value.\n",
    "\n",
    "\n",
    "\n",
    "Key Components of Python Logging\n",
    " - \tLoggers: Used to log messages. You can create custom loggers with different names and configurations.\n",
    " - \tHandlers: Used to configure where log messages go (e.g., console, file).\n",
    " - \tFormatters: Used to specify the format of log messages.\n",
    "\n"
   ]
  },
  {
   "attachments": {
    "ed85d8bf-057b-416b-8567-6f1dc129ff91.png": {
     "image/png": "[encoded data removed]"
    }
   },
   "cell_type": "markdown",
   "id": "25467805-2e43-46c3-987f-efd5b3b7f4b2",
   "metadata": {},
   "source": [
    "![image.png](attachment:ed85d8bf-057b-416b-8567-6f1dc129ff91.png)"
   ]
  },
  {
   "cell_type": "code",
   "execution_count": 1,
   "id": "9eef2bcb-7dcd-422a-986f-27fe5b315df9",
   "metadata": {},
   "outputs": [
    {
     "name": "stderr",
     "output_type": "stream",
     "text": [
      "DEBUG:root:This is a debug message\n",
      "INFO:root:This is an info message\n",
      "WARNING:root:This is a warning message\n",
      "ERROR:root:This is an error message\n",
      "CRITICAL:root:This is a critical message\n"
     ]
    }
   ],
   "source": [
    "import logging\n",
    "\n",
    "# Set up logging level\n",
    "\n",
    "logging.basicConfig(level=logging.DEBUG)\n",
    "#logging.basicConfig(level=logging.WARNING)\n",
    "\n",
    "# Logging messages with different severity levels\n",
    "logging.debug('This is a debug message')\n",
    "logging.info('This is an info message')\n",
    "logging.warning('This is a warning message')\n",
    "logging.error('This is an error message')\n",
    "logging.critical('This is a critical message')"
   ]
  },
  {
   "cell_type": "code",
   "execution_count": 1,
   "id": "7b8aabb5-b759-4032-b734-6d5c28fe0715",
   "metadata": {},
   "outputs": [],
   "source": [
    "import logging\n",
    "\n",
    "# Set up logging to a file\n",
    "logging.basicConfig(filename='first.log', level=logging.DEBUG)\n",
    "\n",
    "logging.debug('Debug message written to file')\n",
    "logging.info('Info message written to file')"
   ]
  },
  {
   "cell_type": "markdown",
   "id": "b28cf729-cdb5-40d0-85cd-750bf91e3cc6",
   "metadata": {},
   "source": [
    "##### asctime is \"ASCII time.\" It refers to a string\n",
    "representation of the date and time in a human-readable\n",
    "format, typically including the year, month, day, hour,\n",
    "minute, and second. This format is used in logging\n",
    "to easily convey when a particular log entry was created."
   ]
  },
  {
   "cell_type": "code",
   "execution_count": 3,
   "id": "64396d89-7a4c-404a-be57-77b2c712e33c",
   "metadata": {},
   "outputs": [],
   "source": [
    "# Set up logging to a file\n",
    "import logging\n",
    "logging.basicConfig(filename='second.log',format='%(asctime)s - %(levelname)s - %(message)s', level=logging.DEBUG)\n",
    "\n",
    "logging.debug('Debug message written to file')\n",
    "logging.warning('Warning message written to file')\n",
    "logging.error('Error message written to file')"
   ]
  },
  {
   "cell_type": "markdown",
   "id": "aebfcdcc-5fa6-4538-953e-45ce0b24bf63",
   "metadata": {},
   "source": [
    "#### Exception handling Logging"
   ]
  },
  {
   "cell_type": "code",
   "execution_count": 1,
   "id": "022ee9f8-78dc-4a6d-ac8a-571b5d75e00d",
   "metadata": {},
   "outputs": [],
   "source": [
    "import logging\n",
    "\n",
    "logging.basicConfig(filename=\"exception.log\",level=logging.DEBUG, format='%(asctime)s - %(levelname)s - %(message)s')\n",
    "\n",
    "try:\n",
    "    f=open(\"special.txt\",\"r\")  #  this file does not exist\n",
    "except Exception as e:\n",
    "    logging.exception(e)"
   ]
  },
  {
   "cell_type": "code",
   "execution_count": null,
   "id": "bc692835-35d2-49ef-8de8-ce7f19c898f0",
   "metadata": {},
   "outputs": [],
   "source": [
    "import logging\n",
    "\n",
    "# Create a custom logger, it can have any name\n",
    "logger = logging.getLogger('dbda_logger')\n",
    "logger.setLevel(logging.DEBUG)\n",
    "\n",
    "# Create handlers\n",
    "console_handler = logging.StreamHandler()\n",
    "file_handler = logging.FileHandler('main.log')\n",
    "\n",
    "# Set level for handlers\n",
    "console_handler.setLevel(logging.WARNING)\n",
    "file_handler.setLevel(logging.DEBUG)\n",
    "\n",
    "# Create a formatter and set it for the handlers\n",
    "formatter = logging.Formatter('%(asctime)s - %(name)s - %(levelname)s - %(message)s')\n",
    "console_handler.setFormatter(formatter)\n",
    "file_handler.setFormatter(formatter)\n",
    "\n",
    "# Add handlers to the logger\n",
    "logger.addHandler(console_handler)\n",
    "logger.addHandler(file_handler)\n",
    "\n",
    "# Log messages\n",
    "logger.debug('This is a debug message')\n",
    "logger.info('This is an info message')\n",
    "logger.warning('This is a warning message')\n",
    "logger.error('This is an error message')\n",
    "logger.critical('This is a critical message')"
   ]
  }
 ],
 "metadata": {
  "kernelspec": {
   "display_name": "Python 3 (ipykernel)",
   "language": "python",
   "name": "python3"
  },
  "language_info": {
   "codemirror_mode": {
    "name": "ipython",
    "version": 3
   },
   "file_extension": ".py",
   "mimetype": "text/x-python",
   "name": "python",
   "nbconvert_exporter": "python",
   "pygments_lexer": "ipython3",
   "version": "3.12.4"
  }
 },
 "nbformat": 4,
 "nbformat_minor": 5
}
