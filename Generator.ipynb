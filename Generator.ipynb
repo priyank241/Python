{
 "cells": [
  {
   "cell_type": "code",
   "execution_count": 1,
   "id": "1d50de29-b178-4cf2-a5a0-1bd0535b65ca",
   "metadata": {},
   "outputs": [],
   "source": [
    "mygenerator = (x*x for x in range(3))"
   ]
  },
  {
   "cell_type": "code",
   "execution_count": 3,
   "id": "954612b8-0162-4602-9bd1-47def4039ad3",
   "metadata": {},
   "outputs": [
    {
     "name": "stdout",
     "output_type": "stream",
     "text": [
      "0\n",
      "1\n",
      "4\n"
     ]
    }
   ],
   "source": [
    "for i in mygenerator:\n",
    "    print(i)\n"
   ]
  },
  {
   "cell_type": "code",
   "execution_count": 5,
   "id": "79ae3191-4ee8-4777-b75f-dbae5b715d01",
   "metadata": {},
   "outputs": [],
   "source": [
    "for i in mygenerator:\n",
    "    print(i)\n"
   ]
  },
  {
   "cell_type": "code",
   "execution_count": 11,
   "id": "e62d0430-c34a-42be-8a20-af00916660ee",
   "metadata": {},
   "outputs": [
    {
     "name": "stdout",
     "output_type": "stream",
     "text": [
      "<class 'generator'>\n",
      "inside generator function\n",
      "1\n",
      "3\n",
      "5\n",
      "7\n",
      "9\n",
      "11\n",
      "13\n",
      "15\n",
      "17\n",
      "19\n"
     ]
    }
   ],
   "source": [
    "def returnOdds(val):    # generator function\n",
    "    print(\"inside generator function\")\n",
    "    for i in range(1,val+1):\n",
    "        if(i%2!=0):\n",
    "            yield i            # yield allows you to return generator \n",
    "\n",
    "\n",
    "mysequence=returnOdds(20)\n",
    "print(type(mysequence))\n",
    "for i in mysequence:\n",
    "    print(i)"
   ]
  },
  {
   "cell_type": "code",
   "execution_count": 13,
   "id": "f9e1bb74-45ea-4f5a-993f-77d6461ffe67",
   "metadata": {},
   "outputs": [
    {
     "name": "stdout",
     "output_type": "stream",
     "text": [
      "<class 'generator'>\n",
      "id of mysequence is\t 2096514162624\n",
      "id of returnOdds is\t 2096514312256\n",
      "inside generator function\n",
      "before yield\n",
      "before print\n",
      "1\n",
      "after print\n",
      "after yield\n",
      "before yield\n",
      "before print\n",
      "3\n",
      "after print\n",
      "after yield\n",
      "before yield\n",
      "before print\n",
      "5\n",
      "after print\n",
      "after yield\n",
      "before yield\n",
      "before print\n",
      "7\n",
      "after print\n",
      "after yield\n",
      "before yield\n",
      "before print\n",
      "9\n",
      "after print\n",
      "after yield\n",
      "before yield\n",
      "before print\n",
      "11\n",
      "after print\n",
      "after yield\n",
      "before yield\n",
      "before print\n",
      "13\n",
      "after print\n",
      "after yield\n",
      "before yield\n",
      "before print\n",
      "15\n",
      "after print\n",
      "after yield\n",
      "before yield\n",
      "before print\n",
      "17\n",
      "after print\n",
      "after yield\n",
      "before yield\n",
      "before print\n",
      "19\n",
      "after print\n",
      "after yield\n",
      "after for loop of returnOdds\n",
      "after for loop of caller\n"
     ]
    }
   ],
   "source": [
    "def returnOdds(val):    # generator function\n",
    "    print(\"inside generator function\")\n",
    "    for i in range(1,val+1):\n",
    "        if(i%2!=0):\n",
    "            print(\"before yield\")\n",
    "            yield i            # yield allows you to return generator \n",
    "            print(\"after yield\")\n",
    "    print(\"after for loop of returnOdds\")\n",
    "\n",
    "\n",
    "mysequence=returnOdds(20)\n",
    "print(type(mysequence))\n",
    "print(\"id of mysequence is\\t\",id(mysequence))\n",
    "print(\"id of returnOdds is\\t\",id(returnOdds))\n",
    "for x in mysequence:\n",
    "    print(\"before print\")\n",
    "    print(x)\n",
    "    print(\"after print\")\n",
    "print(\"after for loop of caller\")"
   ]
  },
  {
   "cell_type": "code",
   "execution_count": null,
   "id": "ce06053e-4a27-4ecf-bdf2-2c41a176c668",
   "metadata": {},
   "outputs": [],
   "source": []
  }
 ],
 "metadata": {
  "kernelspec": {
   "display_name": "Python 3 (ipykernel)",
   "language": "python",
   "name": "python3"
  },
  "language_info": {
   "codemirror_mode": {
    "name": "ipython",
    "version": 3
   },
   "file_extension": ".py",
   "mimetype": "text/x-python",
   "name": "python",
   "nbconvert_exporter": "python",
   "pygments_lexer": "ipython3",
   "version": "3.12.4"
  }
 },
 "nbformat": 4,
 "nbformat_minor": 5
}
