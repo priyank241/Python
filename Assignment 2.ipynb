{
 "cells": [
  {
   "cell_type": "markdown",
   "id": "08fd8690-6aed-4435-8b21-669c73e71b1d",
   "metadata": {},
   "source": [
    "## String"
   ]
  },
  {
   "cell_type": "markdown",
   "id": "c6d876e3-47f8-4cd0-96a4-add8a607ffaf",
   "metadata": {},
   "source": [
    "#### 1) accept a string and display whether it is palindrom or not."
   ]
  },
  {
   "cell_type": "code",
   "execution_count": 3,
   "id": "d3d2ec6a-29fd-4bfc-a410-a9cab1ef3bfe",
   "metadata": {},
   "outputs": [],
   "source": [
    "def palidrome(str):\n",
    "    return str==str[::-1]"
   ]
  },
  {
   "cell_type": "code",
   "execution_count": 7,
   "id": "4973c59f-1226-469b-9b6a-2085552f5f6a",
   "metadata": {},
   "outputs": [
    {
     "name": "stdin",
     "output_type": "stream",
     "text": [
      "Enter a string:  madam\n"
     ]
    },
    {
     "name": "stdout",
     "output_type": "stream",
     "text": [
      "madam  is a palidrome\n"
     ]
    }
   ],
   "source": [
    "str = input('Enter a string: ')\n",
    "if palidrome(str):\n",
    "    print(str,' is a palidrome')\n",
    "else:\n",
    "    print(str,' is not a palidrome')"
   ]
  },
  {
   "cell_type": "markdown",
   "id": "051a2949-795f-4dc1-b6b3-8e992b724476",
   "metadata": {},
   "source": [
    "### 2) accept a string and display it. now accept slicing positions from and to , slice the string and display it."
   ]
  },
  {
   "cell_type": "code",
   "execution_count": 10,
   "id": "9ceaa1af-76c6-45a4-b56a-e25379e8905d",
   "metadata": {},
   "outputs": [
    {
     "name": "stdin",
     "output_type": "stream",
     "text": [
      "Enter a string:  abcdef\n",
      "Enter start, end and step:  1 3 1\n"
     ]
    },
    {
     "name": "stdout",
     "output_type": "stream",
     "text": [
      "bc\n"
     ]
    }
   ],
   "source": [
    "str = input('Enter a string: ')\n",
    "lst = [int(x) for x in input('Enter start, end and step: ').split()]\n",
    "start = lst[0]\n",
    "end = lst[1]\n",
    "step = lst[2]\n",
    "print(str[start:end:step])"
   ]
  },
  {
   "cell_type": "markdown",
   "id": "32c792cd-720b-466e-97c7-2f0f06f69cbe",
   "metadata": {},
   "source": [
    "#### 3) accept a string and display how many vowel characters are there inside it."
   ]
  },
  {
   "cell_type": "code",
   "execution_count": 139,
   "id": "280cfa9d-2ccb-4078-a9a0-ca2cdf82f0c2",
   "metadata": {},
   "outputs": [
    {
     "name": "stdin",
     "output_type": "stream",
     "text": [
      "Enter a string aeuisadpaw\n"
     ]
    },
    {
     "name": "stdout",
     "output_type": "stream",
     "text": [
      "Number of vowels:  6\n"
     ]
    }
   ],
   "source": [
    "lst = list(input('Enter a string'))\n",
    "vowels = ['a','e','i','o','u']\n",
    "count = 0\n",
    "for i in lst:\n",
    "    if i.lower() in vowels:\n",
    "        count+=1\n",
    "print('Number of vowels: ', count)\n",
    "    "
   ]
  },
  {
   "cell_type": "markdown",
   "id": "19b8bdfd-ca49-4de5-aa94-7a0274a04d1b",
   "metadata": {},
   "source": [
    "#### 4) accept a string and display the characters which are repeated in the string"
   ]
  },
  {
   "cell_type": "code",
   "execution_count": 38,
   "id": "b00fa920-1eac-458c-8c92-7b62227919b6",
   "metadata": {},
   "outputs": [
    {
     "name": "stdin",
     "output_type": "stream",
     "text": [
      "Enter a string:  abcdeab\n"
     ]
    }
   ],
   "source": [
    "lst = list(input('Enter a string: '))\n",
    "dct = dict()\n",
    "for i in lst:\n",
    "    if i in dct.keys():\n",
    "        dct[i]+=1\n",
    "    else:\n",
    "        dct[i]=1"
   ]
  },
  {
   "cell_type": "code",
   "execution_count": 44,
   "id": "46875937-478d-4e62-8f6b-cb01d9a7db3e",
   "metadata": {},
   "outputs": [
    {
     "name": "stdout",
     "output_type": "stream",
     "text": [
      "a b "
     ]
    }
   ],
   "source": [
    "for i,j in dct.items():\n",
    "    if j>1:\n",
    "        print(i,end=' ')"
   ]
  },
  {
   "cell_type": "markdown",
   "id": "339f2c4e-73de-41ad-a34b-dd7d71feed46",
   "metadata": {},
   "source": [
    "#### 5) accept a string and find out how many words are there in it."
   ]
  },
  {
   "cell_type": "code",
   "execution_count": 59,
   "id": "2ee4a30f-2804-41a2-87b0-5cef4b189a28",
   "metadata": {},
   "outputs": [
    {
     "name": "stdin",
     "output_type": "stream",
     "text": [
      "Enter a string hello how are you\n"
     ]
    },
    {
     "name": "stdout",
     "output_type": "stream",
     "text": [
      "Number of words in a sentence:  4\n"
     ]
    }
   ],
   "source": [
    "str = (input('Enter a string'))\n",
    "lst = str.split()\n",
    "print('Number of words in a sentence: ',len(lst))"
   ]
  },
  {
   "cell_type": "markdown",
   "id": "469eb222-7c1f-42c7-ad8f-1bed04787dbc",
   "metadata": {},
   "source": [
    "#### 6) accept a sentence and reverse it.`"
   ]
  },
  {
   "cell_type": "code",
   "execution_count": 166,
   "id": "52b20968-d7b1-440a-a61e-ce6f3ff01b2c",
   "metadata": {},
   "outputs": [
    {
     "name": "stdin",
     "output_type": "stream",
     "text": [
      "Enter a string hello how are you\n"
     ]
    },
    {
     "name": "stdout",
     "output_type": "stream",
     "text": [
      "Reversed sentence:  you are how hello\n"
     ]
    }
   ],
   "source": [
    "str = (input('Enter a string'))\n",
    "lst = str.split()\n",
    "lst2 = lst[::-1]\n",
    "str = ' '.join(lst2)\n",
    "print('Reversed sentence: ',str)"
   ]
  },
  {
   "cell_type": "markdown",
   "id": "1b06deba-cdda-4598-9e6f-deeb7619ccd2",
   "metadata": {},
   "source": [
    "#### 7) A pangram is a sentence that contains all the alphabets."
   ]
  },
  {
   "cell_type": "code",
   "execution_count": 196,
   "id": "46aac1d6-fbc3-48b0-a8fd-4007edfe320e",
   "metadata": {},
   "outputs": [
    {
     "name": "stdin",
     "output_type": "stream",
     "text": [
      "Enter a string:  The quick brown fox jumps over the lazy dog\n"
     ]
    },
    {
     "name": "stdout",
     "output_type": "stream",
     "text": [
      "Pangram\n"
     ]
    }
   ],
   "source": [
    "lst = list(input('Enter a string: '))\n",
    "dct = dict()\n",
    "dct = {x:0 for x in range(26)}\n",
    "for i in lst:\n",
    "    if ord(i)>=97 and ord(i)<=122:\n",
    "        dct[ord(i.lower())-97]+=1\n",
    "flag = True\n",
    "for i in range(26):\n",
    "    if dct[i]==0:\n",
    "        print('Not pangram')\n",
    "        break\n",
    "else:\n",
    "    print('Pangram')"
   ]
  },
  {
   "cell_type": "markdown",
   "id": "38244212-47dc-46da-84ec-92da002a4f77",
   "metadata": {},
   "source": [
    "## List"
   ]
  },
  {
   "cell_type": "markdown",
   "id": "03ddba34-8f1f-4ae1-bf24-4da04e870ed7",
   "metadata": {},
   "source": [
    "### 1) create a list , accept a number,name and a float value from user and store it inside the list.\n",
    "  \n",
    "now accept one more name from user and insert it at 2nd position.\n",
    "\n",
    "accept a number and append it at the end of the list.\n",
    "print the entire list."
   ]
  },
  {
   "cell_type": "code",
   "execution_count": 32,
   "id": "b0258753-7372-4b40-95bd-e557e6ae54b8",
   "metadata": {},
   "outputs": [
    {
     "name": "stdin",
     "output_type": "stream",
     "text": [
      "Enter a number 1\n",
      "Enter a name Priyank\n",
      "Enter a number 2 \n",
      "Enter a name Pratik\n",
      "Enter a number 2\n"
     ]
    },
    {
     "name": "stdout",
     "output_type": "stream",
     "text": [
      "[1, 'Pratik', 'Priyank', 2.0, 2]\n"
     ]
    }
   ],
   "source": [
    "lst = list()\n",
    "lst.append(int(input('Enter a number')))\n",
    "lst.append(input('Enter a name'))\n",
    "lst.append(float(input('Enter a number')))\n",
    "lst.insert(1,input('Enter a name'))\n",
    "lst.append(int(input('Enter a number')))\n",
    "print(lst)"
   ]
  },
  {
   "cell_type": "markdown",
   "id": "082fa2ea-2372-4741-a8b9-196069e02e3a",
   "metadata": {},
   "source": [
    "#### 2) first create list empty. accept numbers till user enters 0 and store them inside the list. Print the list and its length."
   ]
  },
  {
   "cell_type": "code",
   "execution_count": 12,
   "id": "8090dee6-3a22-41e2-918e-c70fce6f203d",
   "metadata": {},
   "outputs": [
    {
     "name": "stdin",
     "output_type": "stream",
     "text": [
      "Enter a number 1\n",
      "Enter a number 2\n",
      "Enter a number 3\n",
      "Enter a number 4\n",
      "Enter a number 5\n",
      "Enter a number 00\n"
     ]
    },
    {
     "name": "stdout",
     "output_type": "stream",
     "text": [
      "[1, 2, 3, 4, 5]\n"
     ]
    }
   ],
   "source": [
    "lst = list()\n",
    "while(True):\n",
    "    n = int(input('Enter a number'))\n",
    "    if n==0:\n",
    "        break\n",
    "    lst.append(n)\n",
    "print(lst)"
   ]
  },
  {
   "cell_type": "markdown",
   "id": "103b19d7-6d86-4de5-94ac-133ff197f11a",
   "metadata": {},
   "source": [
    "#### 3) accept 5 numbers, store them inside the list and display it. Now add 3 more numbers [hardcoded] at the end of the list using \"extend\" method."
   ]
  },
  {
   "cell_type": "code",
   "execution_count": 15,
   "id": "d4e19808-b6ad-4fe9-b581-26ac719f483c",
   "metadata": {},
   "outputs": [
    {
     "name": "stdin",
     "output_type": "stream",
     "text": [
      "Enter a number 1\n",
      "Enter a number 2\n",
      "Enter a number 3\n",
      "Enter a number 4\n",
      "Enter a number 5\n"
     ]
    },
    {
     "name": "stdout",
     "output_type": "stream",
     "text": [
      "[1, 2, 3, 4, 5]\n",
      "[1, 2, 3, 4, 5, 6, 7, 8]\n"
     ]
    }
   ],
   "source": [
    "lst = list()\n",
    "for i in range(5):\n",
    "    n = int(input('Enter a number'))\n",
    "    lst.append(n)\n",
    "print(lst)\n",
    "lst.extend([6,7,8])\n",
    "print(lst)"
   ]
  },
  {
   "cell_type": "markdown",
   "id": "1cd5d5fa-0a20-46f6-a1cb-159cae44b2a0",
   "metadata": {},
   "source": [
    "#### 4) accept a number,string,decimal,boolean value and a character from the user and store it inside the list. First print the list from the beginning and then from the end."
   ]
  },
  {
   "cell_type": "code",
   "execution_count": 20,
   "id": "c1aaddda-1216-4c52-a8cb-078d0a377df4",
   "metadata": {},
   "outputs": [
    {
     "name": "stdin",
     "output_type": "stream",
     "text": [
      "Enter a number 1\n",
      "Enter a string hello\n",
      "Enter a decimal 4.2\n",
      "Enter a Boolean True\n"
     ]
    },
    {
     "name": "stdout",
     "output_type": "stream",
     "text": [
      "[1, 'hello', 4.2, True]\n",
      "[True, 4.2, 'hello', 1]\n"
     ]
    }
   ],
   "source": [
    "lst = list()\n",
    "lst.append(int(input('Enter a number')))\n",
    "lst.append(input('Enter a string'))\n",
    "lst.append(float(input('Enter a decimal')))\n",
    "lst.append(bool(input('Enter a Boolean')))\n",
    "print(lst)\n",
    "print(lst[::-1])"
   ]
  },
  {
   "cell_type": "markdown",
   "id": "97a2cdb0-b740-4c43-a7e8-283cee62f0ab",
   "metadata": {},
   "source": [
    "#### 5) accept 5 numbers, store them inside the list. now accept a number from user which he would like to remove from the list and  after removing it, display the list.\n"
   ]
  },
  {
   "cell_type": "code",
   "execution_count": 23,
   "id": "0f1ffbaa-8375-4b68-8eb9-07d268ca41df",
   "metadata": {},
   "outputs": [
    {
     "name": "stdin",
     "output_type": "stream",
     "text": [
      "Enter 5 numbers:  1 2 3 4 5\n",
      "Enter a number to removed 3\n"
     ]
    },
    {
     "name": "stdout",
     "output_type": "stream",
     "text": [
      "[1, 2, 4, 5]\n"
     ]
    }
   ],
   "source": [
    "lst = list(int(x) for x in input('Enter 5 numbers: ').split())\n",
    "n = int(input(\"Enter a number to removed\"))\n",
    "lst.remove(n)\n",
    "print(lst)"
   ]
  },
  {
   "cell_type": "markdown",
   "id": "59f0f5ce-f72f-43e6-9f3e-8505cef82f4d",
   "metadata": {},
   "source": [
    "#### 6) accept 5 numbers, store them inside the list. now accept a position from user ,remove the element from that position and  after removing it, display the list."
   ]
  },
  {
   "cell_type": "code",
   "execution_count": 26,
   "id": "f814e1c1-b775-4bd3-b92a-55a88eecb4f5",
   "metadata": {},
   "outputs": [
    {
     "name": "stdin",
     "output_type": "stream",
     "text": [
      "Enter 5 numbers:  1 2 3 4 5\n",
      "Enter a position to removed 2\n"
     ]
    },
    {
     "name": "stdout",
     "output_type": "stream",
     "text": [
      "[1, 2, 4, 5]\n"
     ]
    }
   ],
   "source": [
    "lst = list(int(x) for x in input('Enter 5 numbers: ').split())\n",
    "n = int(input(\"Enter a position to removed\"))\n",
    "lst.pop(n)\n",
    "print(lst)"
   ]
  },
  {
   "cell_type": "markdown",
   "id": "128fed63-b5c0-44f0-b50a-7b5ebe6929c5",
   "metadata": {},
   "source": [
    "#### 7) create a list and store string,number,character,boolean,decimal values respectively inside it.\n",
    "Now slice it in following ways:\n",
    "-  display it in reverse order\n",
    "- list all the elements from 2nd position\n",
    "- list the elements from 1st to 3rd position\n",
    "- slice it from 1st to 3rd elements from the end"
   ]
  },
  {
   "cell_type": "code",
   "execution_count": null,
   "id": "ed607a3b-2f3a-4f1a-aa21-86ae95662476",
   "metadata": {},
   "outputs": [],
   "source": [
    "lst = list()\n",
    "lst.append(int(input('Enter a number')))\n",
    "lst.append(input('Enter a string'))\n",
    "lst.append(float(input('Enter a decimal')))\n",
    "lst.append(bool(input('Enter a Boolean')))\n",
    "print(lst)"
   ]
  },
  {
   "cell_type": "code",
   "execution_count": 36,
   "id": "a1545d7b-a66c-406e-b525-c27e79ebdacb",
   "metadata": {},
   "outputs": [
    {
     "name": "stdout",
     "output_type": "stream",
     "text": [
      "[2, 2.0, 'Priyank', 'Pratik', 1]\n",
      "['Pratik', 'Priyank', 2.0, 2]\n",
      "[1, 'Pratik', 'Priyank', 2.0]\n",
      "[2, 2.0]\n"
     ]
    }
   ],
   "source": [
    "print(lst[::-1])\n",
    "print(lst[1:])\n",
    "print(lst[:4])\n",
    "print(lst[-1:-3:-1])"
   ]
  },
  {
   "cell_type": "markdown",
   "id": "9896a518-b54d-4aea-89a0-c1c106133324",
   "metadata": {},
   "source": [
    "#### 8) Note: use List comprehension\n",
    " create a list with the numbers from 1 to 20\n",
    " create one more list which should contain only odd numbers from the first list.\n"
   ]
  },
  {
   "cell_type": "code",
   "execution_count": 47,
   "id": "d93b4a2d-4a44-4cad-b3d2-f7193547e7a1",
   "metadata": {},
   "outputs": [
    {
     "name": "stdout",
     "output_type": "stream",
     "text": [
      "[1, 2, 3, 4, 5, 6, 7, 8, 9, 10, 11, 12, 13, 14, 15, 16, 17, 18, 19, 20]\n",
      "[1, 3, 5, 7, 9, 11, 13, 15, 17, 19]\n"
     ]
    }
   ],
   "source": [
    "lst = [x for x in range(1,21)]\n",
    "lst2 = [x for x in lst if x%2!=0]\n",
    "print(lst)\n",
    "print(lst2)"
   ]
  },
  {
   "cell_type": "markdown",
   "id": "28a8045e-5c91-42cb-9ca1-466083ca325b",
   "metadata": {},
   "source": [
    "#### 9) accept 5 names and store them in list. Now sort the list in ascending order display and then in descending order."
   ]
  },
  {
   "cell_type": "code",
   "execution_count": 68,
   "id": "86ae0c85-f100-4dfc-a466-37fe455e53fd",
   "metadata": {},
   "outputs": [
    {
     "name": "stdin",
     "output_type": "stream",
     "text": [
      "Enter 5 namess a e b d c\n"
     ]
    },
    {
     "name": "stdout",
     "output_type": "stream",
     "text": [
      "['a', 'b', 'c', 'd', 'e']\n",
      "['e', 'd', 'c', 'b', 'a']\n"
     ]
    }
   ],
   "source": [
    "lst = list([(x) for x in input('Enter 5 namess').split()])\n",
    "lst.sort()\n",
    "print(lst)\n",
    "lst.sort(reverse=True)\n",
    "print(lst)"
   ]
  },
  {
   "cell_type": "markdown",
   "id": "76fcd6c3-d888-40dd-801c-b871ed56646d",
   "metadata": {},
   "source": [
    "#### 10) create a class \"Car\" with two instance members i.e. \"model(string)\" and \"isautomatic(boolean)\"\n",
    "have getter methods also.\n",
    "create 5 to 6 objects by passing model name and True or False for \"isautomatic\".\n",
    "\n",
    "create a list and store all the objects inside it.\n",
    "\n",
    "now create one more list and in that list store all the objects from first list where \"isautomatic\" is True.\n",
    "Print both the lists."
   ]
  },
  {
   "cell_type": "code",
   "execution_count": 78,
   "id": "a281b17c-aae9-4a6b-ae7d-e53849d5d6c3",
   "metadata": {},
   "outputs": [
    {
     "name": "stdout",
     "output_type": "stream",
     "text": [
      "Audi Toyota BMW Honda Porcshe \n",
      "Audi BMW Porcshe "
     ]
    }
   ],
   "source": [
    "class car:\n",
    "    def __init__(self,model,isautomatic):\n",
    "        self.model = model\n",
    "        self.isautomatic = isautomatic\n",
    "    def getModel(self):\n",
    "        return self.model\n",
    "    def isAutomatic(self):\n",
    "        return self.isautomatic\n",
    "    def __str__(self):\n",
    "        return self.model\n",
    "\n",
    "c1 = car('Audi',True)\n",
    "c2 = car('Toyota',False)\n",
    "c3 = car('BMW',True)\n",
    "c4 = car('Honda',False)\n",
    "c5 = car('Porcshe',True)\n",
    "\n",
    "lst = [c1,c2,c3,c4,c5]\n",
    "for i in lst:\n",
    "    print(i,end=' ')\n",
    "print()\n",
    "lst2 = [c for c in lst if c.isAutomatic()]\n",
    "for i in lst2:\n",
    "    print(i,end=' ')"
   ]
  },
  {
   "cell_type": "markdown",
   "id": "5160564f-d5a2-4c80-95e7-d251a38e2935",
   "metadata": {},
   "source": [
    "## Tuple"
   ]
  },
  {
   "cell_type": "markdown",
   "id": "fbd18bd7-31d3-48b2-b93f-83c85bb4ca4a",
   "metadata": {},
   "source": [
    "#### 1) Write a Python program to count the elements in a list until an element is a tuple.\n",
    "\n",
    "Sample input : list = [10, 20, 30, (40,50), 60]\n",
    "Sample output = 3\n"
   ]
  },
  {
   "cell_type": "code",
   "execution_count": 82,
   "id": "f4a36d8b-4eb3-49af-b9c3-9ef2ebb4e02a",
   "metadata": {},
   "outputs": [
    {
     "name": "stdout",
     "output_type": "stream",
     "text": [
      "3\n"
     ]
    }
   ],
   "source": [
    "lst = [10, 20, 30, (40,50), 60]\n",
    "count = 0\n",
    "for i in lst:\n",
    "    if isinstance(i,tuple):\n",
    "        break\n",
    "    count+=1\n",
    "print(count)"
   ]
  },
  {
   "cell_type": "markdown",
   "id": "45e80bdf-cfbd-45f0-b28d-98a64a50fc25",
   "metadata": {},
   "source": [
    "#### 2) create a tuple to store 5 numbers and then sort it in ascending and descending order."
   ]
  },
  {
   "cell_type": "code",
   "execution_count": 103,
   "id": "74c7b205-64b7-4541-9c44-2bf6629bddc4",
   "metadata": {},
   "outputs": [
    {
     "name": "stdout",
     "output_type": "stream",
     "text": [
      "(1, 2, 3, 4, 5)\n",
      "(5, 4, 3, 2, 1)\n"
     ]
    }
   ],
   "source": [
    "myt = (1,5,2,4,3)\n",
    "lst = list(myt)\n",
    "lst.sort()\n",
    "myt = tuple(lst)\n",
    "print(myt)\n",
    "lst.sort(reverse=True)\n",
    "myt = tuple(lst)\n",
    "print(myt)"
   ]
  },
  {
   "cell_type": "markdown",
   "id": "401862b8-37f8-4a05-96b9-65ee342513c4",
   "metadata": {},
   "source": [
    "#### 3) Write a Python program to find the repeated items of a tuple."
   ]
  },
  {
   "cell_type": "code",
   "execution_count": 106,
   "id": "130a5362-0467-4b73-ac91-8b3b186802cb",
   "metadata": {},
   "outputs": [
    {
     "name": "stdout",
     "output_type": "stream",
     "text": [
      "1\n",
      "3\n",
      "5\n"
     ]
    }
   ],
   "source": [
    "myt = (1,1,1,2,3,3,3,4,5,5,5)\n",
    "lst = list(myt)\n",
    "dct = dict()\n",
    "for k in lst:\n",
    "    if k in dct.keys():\n",
    "        dct[k]+=1\n",
    "    else:\n",
    "        dct[k]=1\n",
    "for k,v in dct.items():\n",
    "    if v>1:\n",
    "        print(k)"
   ]
  },
  {
   "cell_type": "markdown",
   "id": "91d4e69c-ec42-4f89-878d-d6803a55a516",
   "metadata": {},
   "source": [
    "## Set"
   ]
  },
  {
   "cell_type": "markdown",
   "id": "03323ac9-0440-4c64-9254-6055c10852ff",
   "metadata": {},
   "source": [
    "#### 1) accept 10 values from user and add them inside the set. now accept one more value from user and if it is present in the set, remove it. Make sure program doesn't give any error if number is not there inside the set.\n",
    "\n",
    "\n"
   ]
  },
  {
   "cell_type": "code",
   "execution_count": 110,
   "id": "7e83714e-4711-4974-a68f-2a2c25da33dd",
   "metadata": {},
   "outputs": [
    {
     "name": "stdin",
     "output_type": "stream",
     "text": [
      "Enter 10 numbers: 1 2 3 4 5 6 7 8 9 10 \n",
      "Enter a number:  11\n"
     ]
    },
    {
     "name": "stdout",
     "output_type": "stream",
     "text": [
      "{1, 2, 3, 4, 5, 6, 7, 8, 9, 10}\n"
     ]
    }
   ],
   "source": [
    "set1 = set([int(x) for x in input('Enter 10 numbers:').split()])\n",
    "n = int(input('Enter a number: '))\n",
    "print(set1)\n",
    "set1.discard(n)\n"
   ]
  },
  {
   "cell_type": "markdown",
   "id": "07421278-8ed4-4e78-9e08-35ddf7fc1140",
   "metadata": {},
   "source": [
    "## Dictionary"
   ]
  },
  {
   "cell_type": "markdown",
   "id": "bcf47db3-5573-4489-a196-09292bb4721f",
   "metadata": {},
   "source": [
    "#### 1) accept 5 students name and store them in the dictionary by providing keys from 1 to 5 respectively."
   ]
  },
  {
   "cell_type": "code",
   "execution_count": 117,
   "id": "8b08c2f3-4fda-4dc2-a151-0dfebae0eb98",
   "metadata": {},
   "outputs": [
    {
     "name": "stdin",
     "output_type": "stream",
     "text": [
      "Enter name Priyank\n",
      "Enter name Pratik\n",
      "Enter name Ram\n",
      "Enter name Pritam\n",
      "Enter name Saurabh\n"
     ]
    },
    {
     "name": "stdout",
     "output_type": "stream",
     "text": [
      "{1: 'Priyank', 2: 'Pratik', 3: 'Ram', 4: 'Pritam', 5: 'Saurabh'}\n"
     ]
    }
   ],
   "source": [
    "dct = dict()\n",
    "for i in range(1,6):\n",
    "    name = input('Enter name')\n",
    "    dct[i] = name\n",
    "print(dct)"
   ]
  },
  {
   "cell_type": "markdown",
   "id": "0006aa71-49ee-42f3-9a2f-be9038eb38ab",
   "metadata": {},
   "source": [
    "#### 2) create a dictionary with pairs\n",
    "\tsoap:100\n",
    "\tdeo:300\n",
    "\tperfume:400\n",
    "\n",
    "now accept a product name from user (in any case, so you have to handle \"ignore case\") and display its price. Also , if the product is not present in the dictionary display the error message \" product not available \"\n",
    "\tNote:  you should not get \"KeyError:\" in the program."
   ]
  },
  {
   "cell_type": "code",
   "execution_count": 134,
   "id": "cc5d5ebb-86ce-45a4-84f6-68387ac8b7dc",
   "metadata": {},
   "outputs": [
    {
     "name": "stdin",
     "output_type": "stream",
     "text": [
      "Enter product soap\n"
     ]
    },
    {
     "name": "stdout",
     "output_type": "stream",
     "text": [
      "Price: $ 100\n"
     ]
    }
   ],
   "source": [
    "dct = {'soap':100,'deo':300,'perfume':400}\n",
    "key = input('Enter product')\n",
    "if key in dct.keys():\n",
    "    print('Price: $',dct[key.casefold()])\n",
    "else:\n",
    "    print('Product not available')"
   ]
  },
  {
   "cell_type": "markdown",
   "id": "5a3d1b93-9f80-49e8-b3c2-e6e660320f83",
   "metadata": {},
   "source": [
    "#### 3) define a class \"Student\" with members\n",
    "\tname,age,address and qualification\n",
    "\t\n",
    "   define parameterized constructor and \"str\" member function which returns all the members\n",
    "\n",
    "   create 4 objects of Student by passing values.\n",
    "\n",
    "now create a dictionary with rollno ( start from 1 ) as a key and student object as a value.\n",
    "\n",
    "accept a rollno from user and display all its details i.e. name,age,address and qualification.\n",
    "also display message \"student not found\" in case if rollno entered by user is not available as a key inside the dictionary.\n"
   ]
  },
  {
   "cell_type": "code",
   "execution_count": 1,
   "id": "11b53eac-82a1-48ff-b4f5-f467eb96f51a",
   "metadata": {},
   "outputs": [
    {
     "name": "stdin",
     "output_type": "stream",
     "text": [
      "Enter rollno 1\n"
     ]
    },
    {
     "name": "stdout",
     "output_type": "stream",
     "text": [
      "22 Dadar MSC\n"
     ]
    }
   ],
   "source": [
    "class Student:\n",
    "    def __init__(self,age,address,qualification):\n",
    "        self.age = age\n",
    "        self.address = address\n",
    "        self.qualification = qualification\n",
    "\n",
    "    def __str__(self):\n",
    "        return (str(self.age)+' '+self.address+' '+self.qualification)\n",
    "\n",
    "\n",
    "s1 = Student(22,'Dadar','MSC')\n",
    "s2 = Student(22,'Prabhadevi','MSC')\n",
    "s3 = Student(27,'lalbaug','Btech')\n",
    "s4 = Student(25,'Borivali','Btech')\n",
    "s5 = Student(22,'Dadar','MSC')\n",
    "\n",
    "dct = {1:s1,2:s2,3:s3,4:s4,5:s5}\n",
    "rn = int(input('Enter rollno'))\n",
    "print(dct[rn])"
   ]
  },
  {
   "cell_type": "markdown",
   "id": "1409f3c0-c3a2-4636-aef6-58f25bc32670",
   "metadata": {},
   "source": [
    "#### 4)  Given a dictionary of students and their favourite colours: \n",
    "people={'Arham':'Blue','Lisa':'Yellow',''Vinod:'Purple','Jenny':'Pink'} \n",
    "1. Find out how many students are in the list \n",
    "2. Change Lisa’s favourite colour \n",
    "3. Remove 'Jenny' and her favourite color\n",
    "4. Sort and print students and their favourite colours alphabetically by name"
   ]
  },
  {
   "cell_type": "code",
   "execution_count": 1,
   "id": "4573a636-650c-41c2-afd9-c6bca12f9d24",
   "metadata": {},
   "outputs": [
    {
     "name": "stdout",
     "output_type": "stream",
     "text": [
      "Number of students:  4\n",
      "{'Arham': 'Blue', 'Lisa': 'White', 'Vinod': 'Purple'}\n"
     ]
    }
   ],
   "source": [
    "people={'Arham':'Blue','Lisa':'Yellow','Vinod':'Purple','Jenny':'Pink'}\n",
    "print('Number of students: ',len(people.keys()))\n",
    "people['Lisa'] = 'White'\n",
    "people.pop('Jenny')\n",
    "\n",
    "keys = list(people.keys())\n",
    "keys.sort()\n",
    "\n",
    "newd = {i:people[i] for i in keys}\n",
    "print(newd)"
   ]
  },
  {
   "cell_type": "markdown",
   "id": "73bc2d5e-ab1a-48af-8120-3767c8d50f06",
   "metadata": {},
   "source": [
    "#### 1) Write a Python program to create a dictionary of keys x, y, and z \n",
    " - where each key has as value a list from 11-20, 21-30, and 31-40 respectively. \n",
    " - Access the fifth value of each key from the dictionary. "
   ]
  },
  {
   "cell_type": "code",
   "execution_count": 51,
   "id": "9b32da56-4039-4a63-861c-cf314dccb081",
   "metadata": {},
   "outputs": [],
   "source": [
    "lst = ['x','y','z']\n",
    "dct = {lst[i]:[j for j in range(((i+1)*10+1),((i+2)*10))] for i in range(len(lst))}"
   ]
  },
  {
   "cell_type": "code",
   "execution_count": 53,
   "id": "8813dfaf-01f0-41d2-89c9-a107d95a2d17",
   "metadata": {},
   "outputs": [
    {
     "data": {
      "text/plain": [
       "{'x': [11, 12, 13, 14, 15, 16, 17, 18, 19],\n",
       " 'y': [21, 22, 23, 24, 25, 26, 27, 28, 29],\n",
       " 'z': [31, 32, 33, 34, 35, 36, 37, 38, 39]}"
      ]
     },
     "execution_count": 53,
     "metadata": {},
     "output_type": "execute_result"
    }
   ],
   "source": [
    "dct"
   ]
  },
  {
   "cell_type": "code",
   "execution_count": 55,
   "id": "2267c57f-bdba-4d02-a2d7-d04041880bb2",
   "metadata": {},
   "outputs": [
    {
     "name": "stdout",
     "output_type": "stream",
     "text": [
      "15\n",
      "25\n",
      "35\n"
     ]
    }
   ],
   "source": [
    "for i in range(len(lst)):\n",
    "    print(dct[lst[i]][4])"
   ]
  },
  {
   "cell_type": "markdown",
   "id": "e3a7951d-d16c-412d-be3e-5056ccd1f7cb",
   "metadata": {},
   "source": [
    "#### 2) Write a Python script to add a key to a dictionary. \n",
    "Sample Dictionary : {0: 10, 1: 20}\n",
    "Expected Result : {0: 10, 1: 20, 2: 30}"
   ]
  },
  {
   "cell_type": "code",
   "execution_count": 60,
   "id": "e7f773f1-fd4b-46cc-8925-1410d05b7ff4",
   "metadata": {},
   "outputs": [
    {
     "data": {
      "text/plain": [
       "{0: 10, 1: 20, 2: 30}"
      ]
     },
     "execution_count": 60,
     "metadata": {},
     "output_type": "execute_result"
    }
   ],
   "source": [
    "dct = {x:(x+1)*10 for x in range(0,3)}\n",
    "dct"
   ]
  },
  {
   "cell_type": "markdown",
   "id": "e4d51898-88ca-4757-967d-e03ba2997528",
   "metadata": {},
   "source": [
    "#### 3) Write a Python script to check whether a given key already exists in a dictionary. "
   ]
  },
  {
   "cell_type": "code",
   "execution_count": 67,
   "id": "833b7fef-ed22-47e0-9ec2-8d6ea80ea903",
   "metadata": {},
   "outputs": [
    {
     "data": {
      "text/plain": [
       "{'0': 10, '1': 20, '2': 30}"
      ]
     },
     "execution_count": 67,
     "metadata": {},
     "output_type": "execute_result"
    }
   ],
   "source": [
    "dct = {str(x):(x+1)*10 for x in range(0,3)}\n",
    "dct"
   ]
  },
  {
   "cell_type": "code",
   "execution_count": 71,
   "id": "fd413036-1fe4-48a7-b40f-080e321b739f",
   "metadata": {},
   "outputs": [
    {
     "name": "stdin",
     "output_type": "stream",
     "text": [
      "Enter key:  5\n"
     ]
    },
    {
     "name": "stdout",
     "output_type": "stream",
     "text": [
      "Key not found\n"
     ]
    }
   ],
   "source": [
    "key = input('Enter key: ')\n",
    "if key in dct.keys():\n",
    "    print('Key is present ',key,': ',dct[key])\n",
    "else:\n",
    "    print('Key not found')"
   ]
  },
  {
   "cell_type": "markdown",
   "id": "50651fe0-0313-4c2e-81c7-de3994ae15b5",
   "metadata": {},
   "source": [
    "#### 4) Write a Python program to count the values associated with key in a dictionary. \n",
    "Expected result: Count of how many dictionaries have success as True"
   ]
  },
  {
   "cell_type": "code",
   "execution_count": 86,
   "id": "7c2c230a-b339-4b46-a01f-4eb052eb42f8",
   "metadata": {},
   "outputs": [
    {
     "name": "stdout",
     "output_type": "stream",
     "text": [
      "2\n"
     ]
    }
   ],
   "source": [
    "data = [\n",
    "    {'id': 1, 'success': True, 'name': 'Lary'},\n",
    "    {'id': 2, 'success': False, 'name': 'Rabi'},\n",
    "    {'id': 3, 'success': True, 'name': 'Alex'}\n",
    "]\n",
    "\n",
    "count = 0\n",
    "for i in data:\n",
    "    if i['success']:\n",
    "        count+=1\n",
    "print(count)"
   ]
  },
  {
   "cell_type": "markdown",
   "id": "9be55d34-ec75-406d-963b-1b85b0c1302b",
   "metadata": {},
   "source": [
    "#### 5) Write a Python program to create a dictionary from two lists without losing duplicate values. \n",
    "Sample lists: ['Class-V', 'Class-VI', 'Class-VII', 'Class-VIII'], [1, 2, 2, 3]\n",
    "Expected Output: {'Class-VII': {2}, 'Class-VI': {2}, 'Class-VIII': {3}, 'Class-V': {1}}) "
   ]
  },
  {
   "cell_type": "code",
   "execution_count": 91,
   "id": "0f4d7ad1-70c5-4224-b567-f0567a44abce",
   "metadata": {},
   "outputs": [],
   "source": [
    "lst1 = ['Class-V', 'Class-VI', 'Class-VII', 'Class-VIII']\n",
    "lst2 = [1, 2, 2, 3]"
   ]
  },
  {
   "cell_type": "code",
   "execution_count": 93,
   "id": "e0218259-92b1-48c4-b8a3-07420e7015b8",
   "metadata": {},
   "outputs": [
    {
     "data": {
      "text/plain": [
       "{'Class-V': 1, 'Class-VI': 2, 'Class-VII': 2, 'Class-VIII': 3}"
      ]
     },
     "execution_count": 93,
     "metadata": {},
     "output_type": "execute_result"
    }
   ],
   "source": [
    "dct = dict()\n",
    "for i in range(len(lst1)):\n",
    "    dct[lst1[i]] = lst2[i]\n",
    "\n",
    "dct"
   ]
  },
  {
   "cell_type": "markdown",
   "id": "8f9f7d3d-ae8a-4938-8503-0611b178e8ec",
   "metadata": {},
   "source": [
    "#### 6) Write a Python program to check a dictionary is empty or not."
   ]
  },
  {
   "cell_type": "code",
   "execution_count": 98,
   "id": "8483f580-79d4-48d6-aed7-3fb8607b2e3b",
   "metadata": {},
   "outputs": [
    {
     "name": "stdout",
     "output_type": "stream",
     "text": [
      "dictionary is empty\n"
     ]
    }
   ],
   "source": [
    "dct = dict()\n",
    "\n",
    "if len(list(dct.keys()))==0:\n",
    "    print('dictionary is empty')\n",
    "else:\n",
    "    print('dictionary is not empty')"
   ]
  },
  {
   "cell_type": "markdown",
   "id": "9d01dad2-5ca6-42d1-94e6-5d7998b75b01",
   "metadata": {},
   "source": [
    "#### 7) Write a Python program to combine two dictionary adding values for common keys. "
   ]
  },
  {
   "cell_type": "code",
   "execution_count": 1,
   "id": "22888ae2-60d1-4911-aed4-9dfb732f5d03",
   "metadata": {},
   "outputs": [
    {
     "data": {
      "text/plain": [
       "{'a': 400, 'b': 400, 'c': 300, 'd': 400}"
      ]
     },
     "execution_count": 1,
     "metadata": {},
     "output_type": "execute_result"
    }
   ],
   "source": [
    "dct1 = {'a':100,'b':200,'c':300}\n",
    "dct2 = {'a':300,'b':200,'d':400}\n",
    "\n",
    "k1 = list(dct1.keys())\n",
    "k2 = list(dct2.keys())\n",
    "mydct = dct1\n",
    "for i in range(len(k2)):\n",
    "    if k2[i] in k1:\n",
    "        mydct[k2[i]]+=dct2[k2[i]]\n",
    "    else:\n",
    "        mydct[k2[i]] = dct2[k2[i]]\n",
    "\n",
    "mydct"
   ]
  },
  {
   "cell_type": "markdown",
   "id": "3632eedc-3292-4e34-98e0-6ff21752e231",
   "metadata": {},
   "source": [
    "#### 8) Write a Python program to count number of items in a dictionary value that is a list"
   ]
  },
  {
   "cell_type": "code",
   "execution_count": 120,
   "id": "7300ee2c-f575-467b-84fd-277d482d431c",
   "metadata": {},
   "outputs": [],
   "source": [
    "dct1={'Names':['Rohit','Ganesh','SRK','Akshay'],'age':40,'addresses':['Mumbai','Delhi','Kolkara','Banglore'],'emails':['actor.gmail.com','movie.gmail.com']}"
   ]
  },
  {
   "cell_type": "code",
   "execution_count": 122,
   "id": "05b5858a-2378-4ad6-b3ae-d221e2d56828",
   "metadata": {},
   "outputs": [
    {
     "data": {
      "text/plain": [
       "10"
      ]
     },
     "execution_count": 122,
     "metadata": {},
     "output_type": "execute_result"
    }
   ],
   "source": [
    "k1 = list(dct1.keys())\n",
    "sum = 0\n",
    "for i in range(len(k1)):\n",
    "    if isinstance(dct1[k1[i]],list):\n",
    "        sum+=len(dct1[k1[i]])\n",
    "\n",
    "sum"
   ]
  },
  {
   "cell_type": "markdown",
   "id": "2c5fcc67-7fe8-4465-8c74-609b185e27be",
   "metadata": {},
   "source": [
    "#### 9) Write a Python program to create a dictionary from a string. \n",
    "Note: Track the count of the letters from the string.\n",
    "Sample string : 'w3resource'\n",
    "Expected output: {'3': 1, 's': 1, 'r': 2, 'u': 1, 'w': 1, 'c': 1, 'e': 2, 'o': 1}"
   ]
  },
  {
   "cell_type": "code",
   "execution_count": 6,
   "id": "69fb4828-1b3a-4d3d-9a42-388843077a5d",
   "metadata": {},
   "outputs": [
    {
     "data": {
      "text/plain": [
       "{'w': 1, '3': 1, 'r': 2, 'e': 2, 's': 1, 'o': 1, 'u': 1, 'c': 1}"
      ]
     },
     "execution_count": 6,
     "metadata": {},
     "output_type": "execute_result"
    }
   ],
   "source": [
    "str = 'w3resource'\n",
    "lst = list(str)\n",
    "dct = dict()\n",
    "for k in lst:\n",
    "    if k in dct.keys():\n",
    "        dct[k]+=1\n",
    "    else:\n",
    "        dct[k]=1\n",
    "\n",
    "dct"
   ]
  },
  {
   "cell_type": "markdown",
   "id": "91563eab-cb9a-4d0b-8687-bb7bb59833f7",
   "metadata": {},
   "source": [
    "#### 10) Write a Python program to get the key, value and item in a dictionary"
   ]
  },
  {
   "cell_type": "code",
   "execution_count": 15,
   "id": "88c7b9eb-b9e6-4b6c-9f45-1a22271135a7",
   "metadata": {},
   "outputs": [
    {
     "name": "stdout",
     "output_type": "stream",
     "text": [
      "key: 1 Value: xyz\n",
      "key: 3 Value: abc\n",
      "key: 5 Value: pqr\n",
      "key: 2 Value: xzz\n",
      "total items are 4\n"
     ]
    }
   ],
   "source": [
    "mydictionary={1:'xyz',3:'abc',5:'pqr',2:'xzz'}\n",
    "for k,v in mydictionary.items():\n",
    "    print('key:',k,'Value:',v)\n",
    "\n",
    "print('total items are',len(mydictionary.keys()))"
   ]
  },
  {
   "cell_type": "markdown",
   "id": "4ea52181-e3ae-4d4c-93d1-b766c431dc22",
   "metadata": {},
   "source": [
    "#### 11) Write a Python program to get the maximum and minimum value in a dictionary."
   ]
  },
  {
   "cell_type": "code",
   "execution_count": 28,
   "id": "50cce421-4eeb-46a2-b947-cf4b5dff41f7",
   "metadata": {},
   "outputs": [
    {
     "data": {
      "text/plain": [
       "{1: 45, 2: 23, 3: -12, 4: 87, 5: 63, 6: 78, 7: 19, 8: 90}"
      ]
     },
     "execution_count": 28,
     "metadata": {},
     "output_type": "execute_result"
    }
   ],
   "source": [
    "dct = {1:45,2:23,3:-12,4:87,5:63,6:78,7:19,8:90}\n",
    "dct"
   ]
  },
  {
   "cell_type": "code",
   "execution_count": 29,
   "id": "d26087ca-be64-4283-8d98-3291a4bb9c50",
   "metadata": {},
   "outputs": [
    {
     "name": "stdout",
     "output_type": "stream",
     "text": [
      "Max: 90 Min: -12\n"
     ]
    }
   ],
   "source": [
    "lst= list(dct.values())\n",
    "for i in range(len(lst)):\n",
    "    if i==0:\n",
    "        max = min = lst[i]\n",
    "        continue\n",
    "    if lst[i]>max:\n",
    "        max = lst[i]\n",
    "        continue\n",
    "    if lst[i]<min:\n",
    "        min = lst[i]\n",
    "\n",
    "print('Max:',max,'Min:',min)\n",
    "    "
   ]
  },
  {
   "cell_type": "markdown",
   "id": "3c4d62f8-e53a-4f18-834c-93e23a39f26c",
   "metadata": {},
   "source": [
    "#### 12) Write a Python program to map two lists into a dictionary. "
   ]
  },
  {
   "cell_type": "code",
   "execution_count": 34,
   "id": "6d213453-c56a-4ad7-8ff8-55f6db4dc7a9",
   "metadata": {},
   "outputs": [],
   "source": [
    "prnnos=[1,2,3,4,5,6]\n",
    "names=['abc','def','pqr','lmn','xyz','uvw']"
   ]
  },
  {
   "cell_type": "code",
   "execution_count": 40,
   "id": "afca85dd-2b03-41cf-99a8-6bf8961e2c79",
   "metadata": {},
   "outputs": [
    {
     "data": {
      "text/plain": [
       "{1: 'abc', 2: 'def', 3: 'pqr', 4: 'lmn', 5: 'xyz', 6: 'uvw'}"
      ]
     },
     "execution_count": 40,
     "metadata": {},
     "output_type": "execute_result"
    }
   ],
   "source": [
    "dct = dict()\n",
    "for i in range(len(prnnos)):\n",
    "    dct[prnnos[i]] = names[i]\n",
    "\n",
    "dct"
   ]
  },
  {
   "cell_type": "markdown",
   "id": "56ecfa26-b6c2-4914-b9ac-92deb87cc6ad",
   "metadata": {},
   "source": [
    "#### 13) Write a Python program to match key values in two dictionaries. \n",
    "Sample dictionary: {'key1': 1, 'key2': 3, 'key3': 2}, {'key1': 1, 'key2': 2}\n",
    "Expected output: key1: 1 is present in both x and y\n"
   ]
  },
  {
   "cell_type": "code",
   "execution_count": 49,
   "id": "2c0ae2df-d61e-4643-878a-2bedb10d3e92",
   "metadata": {},
   "outputs": [
    {
     "name": "stdout",
     "output_type": "stream",
     "text": [
      "Following keys are present in both dictionaries: ['key1', 'key2']\n"
     ]
    }
   ],
   "source": [
    "dct1 = {'key1': 1, 'key2': 3, 'key3': 2}\n",
    "dct2 = {'key1': 1, 'key2': 2}\n",
    "lst = list()\n",
    "for k in dct1.keys():\n",
    "    for k2 in dct2.keys():\n",
    "        if k==k2:\n",
    "            lst.append(k)\n",
    "\n",
    "print('Following keys are present in both dictionaries:',lst)"
   ]
  },
  {
   "cell_type": "markdown",
   "id": "9bcf679d-a8c4-43ad-a2b7-53246c27246e",
   "metadata": {},
   "source": [
    "#### 14)  Write a Python program to print a dictionary line by line. \n"
   ]
  },
  {
   "cell_type": "code",
   "execution_count": 58,
   "id": "b76f0272-fc67-4c8b-b221-b7b5ce6cce3e",
   "metadata": {},
   "outputs": [
    {
     "name": "stdout",
     "output_type": "stream",
     "text": [
      "Rohit\n",
      "runs : 10000\n",
      "centuries : 15\n",
      "Virat\n",
      "runs : 12000\n",
      "centuries : 18\n"
     ]
    }
   ],
   "source": [
    "Players={'Rohit':{'runs':10000,'centuries':15},'Virat':{'runs':12000,'centuries':18}}\n",
    "for k,v in Players.items():\n",
    "    print(k)\n",
    "    for ke,va in v.items():\n",
    "        print(ke,':',va)"
   ]
  },
  {
   "cell_type": "markdown",
   "id": "4a5f2b04-00f6-4a85-9cba-ef09f3809671",
   "metadata": {},
   "source": [
    "#### 15) Write a Python program to remove a key from a dictionary."
   ]
  },
  {
   "cell_type": "code",
   "execution_count": 65,
   "id": "4ee23402-4ed7-4246-b531-2e2ef4c545c8",
   "metadata": {},
   "outputs": [
    {
     "name": "stdin",
     "output_type": "stream",
     "text": [
      "Enter key key3\n"
     ]
    },
    {
     "data": {
      "text/plain": [
       "{'key1': 1, 'key2': 3}"
      ]
     },
     "execution_count": 65,
     "metadata": {},
     "output_type": "execute_result"
    }
   ],
   "source": [
    "dct1 = {'key1': 1, 'key2': 3, 'key3': 2}\n",
    "key = input('Enter key')\n",
    "dct1.pop(key)\n",
    "dct1"
   ]
  },
  {
   "cell_type": "markdown",
   "id": "23b366dd-a8d5-4d6f-a967-5db164636f87",
   "metadata": {},
   "source": [
    "#### 16) Write a Python program to remove spaces from dictionary keys. "
   ]
  },
  {
   "cell_type": "code",
   "execution_count": 82,
   "id": "204dae52-c75b-4685-91ec-25cb77aedae6",
   "metadata": {},
   "outputs": [
    {
     "data": {
      "text/plain": [
       "{'d01': 'Abc', 'd02': 'Xyz', 'd03': 'Pqr'}"
      ]
     },
     "execution_count": 82,
     "metadata": {},
     "output_type": "execute_result"
    }
   ],
   "source": [
    "Students={'d 01':'Abc','d 0 2':'Xyz','d0 3':'Pqr'}\n",
    "lst = list(Students.keys())\n",
    "dct = dict()\n",
    "for k in Students.keys():\n",
    "    dct[k] = k.replace(' ','')\n",
    "\n",
    "ans = dict()\n",
    "for k,v in Students.items():\n",
    "    ans[dct[k]] = v\n",
    "\n",
    "ans"
   ]
  },
  {
   "cell_type": "markdown",
   "id": "4f8fc7ae-2989-4f57-9f92-2e95cbf89886",
   "metadata": {},
   "source": [
    "#### 17) Write a Python program to sum all the items in a dictionary. "
   ]
  },
  {
   "cell_type": "code",
   "execution_count": 85,
   "id": "09516eab-f3dd-4cdf-9917-7342388ab53c",
   "metadata": {},
   "outputs": [
    {
     "data": {
      "text/plain": [
       "393"
      ]
     },
     "execution_count": 85,
     "metadata": {},
     "output_type": "execute_result"
    }
   ],
   "source": [
    "dct = {1:45,2:23,3:-12,4:87,5:63,6:78,7:19,8:90}\n",
    "sum = 0\n",
    "for v in dct.values():\n",
    "    sum+=v\n",
    "\n",
    "sum"
   ]
  },
  {
   "cell_type": "markdown",
   "id": "2d485e1b-328f-4b1c-9ff3-8732b432473e",
   "metadata": {},
   "source": [
    "#### 18) Write a Python script to merge two Python dictionaries. "
   ]
  },
  {
   "cell_type": "code",
   "execution_count": 88,
   "id": "a48be521-9394-465c-af20-c4438b07a404",
   "metadata": {},
   "outputs": [
    {
     "data": {
      "text/plain": [
       "{1: 1,\n",
       " 2: 4,\n",
       " 3: 9,\n",
       " 4: 16,\n",
       " 5: 25,\n",
       " 6: 36,\n",
       " 7: 49,\n",
       " 8: 64,\n",
       " 9: 81,\n",
       " 10: 100,\n",
       " 11: 121,\n",
       " 12: 144}"
      ]
     },
     "execution_count": 88,
     "metadata": {},
     "output_type": "execute_result"
    }
   ],
   "source": [
    "mydictionary1={1: 1, 2: 4, 3: 9, 4: 16, 5: 25, 6: 36}\n",
    "mydictionary2={7: 49, 8: 64, 9: 81, 10: 100, 11: 121, 12: 144}\n",
    "\n",
    "dct = dict()\n",
    "\n",
    "for k,v in mydictionary1.items():\n",
    "    dct[k] = v\n",
    "\n",
    "for k,v in mydictionary2.items():\n",
    "    dct[k] = v\n",
    "\n",
    "dct"
   ]
  },
  {
   "cell_type": "markdown",
   "id": "8ec51c0a-85fc-4c09-af37-59ae929f01b5",
   "metadata": {},
   "source": [
    "#### 19) Write a Python script to concatenate following dictionaries to create a new one. \n"
   ]
  },
  {
   "cell_type": "code",
   "execution_count": 93,
   "id": "fb3f3f28-7e81-4c3b-8f9b-580cb0b7eb7d",
   "metadata": {},
   "outputs": [
    {
     "data": {
      "text/plain": [
       "{1: 10, 2: 20, 3: 30, 4: 40, 5: 50, 6: 60}"
      ]
     },
     "execution_count": 93,
     "metadata": {},
     "output_type": "execute_result"
    }
   ],
   "source": [
    "dic1={1:10, 2:20}\n",
    "dic2={3:30, 4:40}\n",
    "dic3={5:50,6:60}\n",
    "\n",
    "dic1.update(dic2)\n",
    "dic1.update(dic3)\n",
    "dic1"
   ]
  },
  {
   "cell_type": "markdown",
   "id": "64db030a-0d7f-4b75-9334-7e541009097a",
   "metadata": {},
   "source": [
    "## List"
   ]
  },
  {
   "cell_type": "markdown",
   "id": "cc2e5ae6-e279-4351-bdf5-0ccc2513db45",
   "metadata": {},
   "source": [
    "#### 1)Write a Python program to find all the values in a list are greater than a specified number.\n"
   ]
  },
  {
   "cell_type": "code",
   "execution_count": 97,
   "id": "27ddf09b-2c45-4d65-868e-0cead1ece60d",
   "metadata": {},
   "outputs": [
    {
     "name": "stdin",
     "output_type": "stream",
     "text": [
      "Enter a number:  5\n"
     ]
    },
    {
     "data": {
      "text/plain": [
       "[6, 7, 8, 9, 10]"
      ]
     },
     "execution_count": 97,
     "metadata": {},
     "output_type": "execute_result"
    }
   ],
   "source": [
    "lst = [1,2,3,4,5,6,7,8,9,10]\n",
    "v = int((input('Enter a number: ')))\n",
    "ans = list()\n",
    "for i in lst:\n",
    "    if i > v:\n",
    "        ans.append(i)\n",
    "\n",
    "ans"
   ]
  },
  {
   "cell_type": "markdown",
   "id": "b5965a83-db83-476a-bee5-4040fc719fe5",
   "metadata": {},
   "source": [
    "#### 2) Write a Python program to find the list of words that are longer than n from a given list of words."
   ]
  },
  {
   "cell_type": "code",
   "execution_count": 105,
   "id": "217915cf-2632-4680-9035-6c7942dde23f",
   "metadata": {},
   "outputs": [
    {
     "data": {
      "text/plain": [
       "['banana', 'grapefruit', 'pineapple']"
      ]
     },
     "execution_count": 105,
     "metadata": {},
     "output_type": "execute_result"
    }
   ],
   "source": [
    "word_list = ['apple', 'banana', 'kiwi', 'grapefruit', 'mango', 'pineapple']\n",
    "n = 5\n",
    "ans = [i for i in word_list if len(i)>n]\n",
    "\n",
    "ans"
   ]
  },
  {
   "cell_type": "markdown",
   "id": "abe06bbb-ef08-4c6d-bb7b-b6108fa44771",
   "metadata": {},
   "source": [
    "#### 3) Write a Python program to get the largest number from a list.\n"
   ]
  },
  {
   "cell_type": "code",
   "execution_count": 111,
   "id": "8a927b9c-a920-4cb4-b28a-eb5597ca7196",
   "metadata": {},
   "outputs": [
    {
     "data": {
      "text/plain": [
       "10"
      ]
     },
     "execution_count": 111,
     "metadata": {},
     "output_type": "execute_result"
    }
   ],
   "source": [
    "lst = [1,2,3,4,5,6,7,8,9,10]\n",
    "for i in range(len(lst)):\n",
    "    if i==0:\n",
    "        max = lst[i]\n",
    "        continue\n",
    "    if lst[i]>max:\n",
    "        max = lst[i]\n",
    "\n",
    "max"
   ]
  },
  {
   "cell_type": "markdown",
   "id": "1dc25bf8-e5ad-4a6c-b300-622382f81fc4",
   "metadata": {},
   "source": [
    "#### 4) Write a Python program to count the number of strings where the string length is 2 or more and the first and last character are same from a given list of strings. "
   ]
  },
  {
   "cell_type": "code",
   "execution_count": 114,
   "id": "f39b9cb7-cd9f-45ac-b773-26513ed652af",
   "metadata": {},
   "outputs": [
    {
     "data": {
      "text/plain": [
       "['aba', '1221']"
      ]
     },
     "execution_count": 114,
     "metadata": {},
     "output_type": "execute_result"
    }
   ],
   "source": [
    "lst = ['abc', 'xyz', 'aba', '1221']\n",
    "ans = [i for i in lst if len(i)>=2 and i[0]==i[-1]]\n",
    "ans"
   ]
  },
  {
   "cell_type": "markdown",
   "id": "e83287a2-4837-4a16-9333-dad6632463c8",
   "metadata": {},
   "source": [
    "#### 5) Write a Python program to multiply all the items in a list."
   ]
  },
  {
   "cell_type": "code",
   "execution_count": 119,
   "id": "1e33d203-0ffe-4e13-91c0-d2ea5f3bbdaa",
   "metadata": {},
   "outputs": [
    {
     "data": {
      "text/plain": [
       "[2, 4, 6, 8, 10, 12, 14, 16, 18, 20]"
      ]
     },
     "execution_count": 119,
     "metadata": {},
     "output_type": "execute_result"
    }
   ],
   "source": [
    "lst = [1,2,3,4,5,6,7,8,9,10]\n",
    "lst = [i*2 for i in lst]\n",
    "lst"
   ]
  },
  {
   "cell_type": "markdown",
   "id": "09af6b99-c1da-4e48-acbb-23516d22de54",
   "metadata": {},
   "source": [
    "#### 6) Write a Python program to print a specified list after removing the 0th, 4th and 5th elements. "
   ]
  },
  {
   "cell_type": "code",
   "execution_count": 122,
   "id": "8368f038-62e3-4868-8e6a-54ce1e604b75",
   "metadata": {},
   "outputs": [
    {
     "data": {
      "text/plain": [
       "['Green', 'White', 'Black']"
      ]
     },
     "execution_count": 122,
     "metadata": {},
     "output_type": "execute_result"
    }
   ],
   "source": [
    "lst = ['Red', 'Green', 'White', 'Black', 'Pink', 'Yellow']\n",
    "ans = [lst[i] for i in range(len(lst)) if i not in [0,4,5]]\n",
    "ans"
   ]
  },
  {
   "cell_type": "markdown",
   "id": "646c400f-1cc0-48c6-92ff-7bc650b5abfc",
   "metadata": {},
   "source": [
    "#### 7) Write a Python program to print the numbers of a specified list after removing even numbers from it."
   ]
  },
  {
   "cell_type": "code",
   "execution_count": 125,
   "id": "feba159c-99e8-47ab-8370-9ba4b63ac44a",
   "metadata": {},
   "outputs": [
    {
     "data": {
      "text/plain": [
       "[1, 3, 5, 7, 9]"
      ]
     },
     "execution_count": 125,
     "metadata": {},
     "output_type": "execute_result"
    }
   ],
   "source": [
    "lst = [1,2,3,4,5,6,7,8,9,10]\n",
    "ans = [i for i in lst if i%2!=0]\n",
    "ans"
   ]
  },
  {
   "cell_type": "markdown",
   "id": "2768efc0-e750-4f68-b921-27323e715c3a",
   "metadata": {},
   "source": [
    "#### 8) Write a Python program access the index of a list.\n"
   ]
  },
  {
   "cell_type": "code",
   "execution_count": 144,
   "id": "bb49e3eb-356f-47e2-97a2-cf68c27f472c",
   "metadata": {},
   "outputs": [
    {
     "name": "stdout",
     "output_type": "stream",
     "text": [
      "0 : 10\t 1 : 20\t 2 : 30\t 3 : 40\t 4 : 50\t "
     ]
    }
   ],
   "source": [
    "lst = [10,20,30,40,50] \n",
    "for i in range(len(lst)):\n",
    "    print(i,':',lst[i],end='\\t ')"
   ]
  },
  {
   "cell_type": "markdown",
   "id": "db747ddd-0bca-4158-8d65-408e2032de23",
   "metadata": {},
   "source": [
    "#### 9) Write a Python program to check a list is empty or not\n"
   ]
  },
  {
   "cell_type": "code",
   "execution_count": 147,
   "id": "c974f78c-647e-47bc-815b-e0abc7084243",
   "metadata": {},
   "outputs": [
    {
     "name": "stdout",
     "output_type": "stream",
     "text": [
      "List is empty\n"
     ]
    }
   ],
   "source": [
    "lst = []\n",
    "if len(lst)==0:\n",
    "    print('List is empty')\n",
    "else:\n",
    "    print('List is not empty')"
   ]
  },
  {
   "cell_type": "markdown",
   "id": "fb594c24-3feb-48b1-acc5-ff1d01191d02",
   "metadata": {},
   "source": [
    "#### 10) Write a Python program to check whether the n-th element exists in a given list.\n"
   ]
  },
  {
   "cell_type": "code",
   "execution_count": 3,
   "id": "8470a637-6139-4423-9f48-cb4527b3c4d5",
   "metadata": {},
   "outputs": [
    {
     "name": "stdin",
     "output_type": "stream",
     "text": [
      "Enter a index 11\n"
     ]
    },
    {
     "name": "stdout",
     "output_type": "stream",
     "text": [
      "Doesnt exist\n"
     ]
    }
   ],
   "source": [
    "lst = [1,2,3,4,5,6,7,8,9,10]\n",
    "n = int(input('Enter a index'))\n",
    "if n>0 and n<len(lst):\n",
    "    print('Exists')\n",
    "else:\n",
    "    print('Doesnt exist')\n"
   ]
  },
  {
   "cell_type": "markdown",
   "id": "4ad45646-2431-4391-b9c3-97d953e9d39c",
   "metadata": {},
   "source": [
    "#### 11) Write a Python program to clone or copy a list\n"
   ]
  },
  {
   "cell_type": "code",
   "execution_count": 8,
   "id": "847ba0b2-438d-42e7-8c8c-ef5f9d74580f",
   "metadata": {},
   "outputs": [
    {
     "name": "stdout",
     "output_type": "stream",
     "text": [
      "[1, 2, 3, 4, 5, 6, 7, 8, 9, 10]\n"
     ]
    },
    {
     "data": {
      "text/plain": [
       "[1, 2, 3, 4, 5, 6, 7, 8, 9, 10]"
      ]
     },
     "execution_count": 8,
     "metadata": {},
     "output_type": "execute_result"
    }
   ],
   "source": [
    "lst = [1,2,3,4,5,6,7,8,9,10]\n",
    "lst2 = lst\n",
    "print(lst2)\n",
    "#or\n",
    "lst2 = [i for i in lst]\n",
    "lst2"
   ]
  },
  {
   "cell_type": "markdown",
   "id": "9d46434a-8c8f-49e6-ac8c-17927d431b44",
   "metadata": {},
   "source": [
    "#### 12) Write a Python program to convert list to list of dictionaries. \n"
   ]
  },
  {
   "cell_type": "code",
   "execution_count": 11,
   "id": "aaec7a77-26d4-47c6-99d5-2fc9f31d078a",
   "metadata": {},
   "outputs": [
    {
     "data": {
      "text/plain": [
       "[{'color_name': 'Black', 'color_code': '#000000'},\n",
       " {'color_name': 'Red', 'color_code': '#FF0000'},\n",
       " {'color_name': 'Maroon', 'color_code': '#800000'},\n",
       " {'color_name': 'Yellow', 'color_code': '#FFFF00'}]"
      ]
     },
     "execution_count": 11,
     "metadata": {},
     "output_type": "execute_result"
    }
   ],
   "source": [
    "lst1 = [\"Black\", \"Red\", \"Maroon\", \"Yellow\"]\n",
    "lst2 = [\"#000000\", \"#FF0000\", \"#800000\", \"#FFFF00\"]\n",
    "lst = list()\n",
    "for i in range(len(lst1)):\n",
    "    dct = {'color_name':lst1[i],'color_code':lst2[i]}\n",
    "    lst.append(dct)\n",
    "\n",
    "lst"
   ]
  },
  {
   "cell_type": "markdown",
   "id": "b5abe8a3-171d-45f4-b23f-3471ef34c46f",
   "metadata": {},
   "source": [
    "#### 13) Write a Python program to find the index of an item in a specified list."
   ]
  },
  {
   "cell_type": "code",
   "execution_count": 32,
   "id": "82a73776-1432-4980-8173-65d93c1393a5",
   "metadata": {},
   "outputs": [
    {
     "name": "stdin",
     "output_type": "stream",
     "text": [
      "Enter number to be searched 1\n"
     ]
    },
    {
     "name": "stdout",
     "output_type": "stream",
     "text": [
      "Number found at index 0\n"
     ]
    }
   ],
   "source": [
    "lst = [1,2,3,4,5,6,7,8,9,10]\n",
    "num = int(input('Enter number to be searched'))\n",
    "for i in range(len(lst)):\n",
    "    if lst[i] ==num:\n",
    "        print('Number found at index',i)\n",
    "        break\n",
    "else:\n",
    "    print('Not found')"
   ]
  },
  {
   "cell_type": "markdown",
   "id": "83a46072-aa46-40be-ae0a-34d59c6d7af9",
   "metadata": {},
   "source": [
    "#### 14) Write a Python program to insert a given string at the beginning of all items in a list. \n"
   ]
  },
  {
   "cell_type": "markdown",
   "id": "8a90973e-ca19-4518-a490-11900a6bb0dc",
   "metadata": {},
   "source": [
    "Sample list : [1,2,3,4], string : emp\n",
    "Expected output : ['emp1', 'emp2', 'emp3', 'emp4']"
   ]
  },
  {
   "cell_type": "code",
   "execution_count": 42,
   "id": "e789830a-4b82-41de-a5b9-d55a754f621a",
   "metadata": {},
   "outputs": [
    {
     "data": {
      "text/plain": [
       "['emp1', 'emp2', 'emp3', 'emp4']"
      ]
     },
     "execution_count": 42,
     "metadata": {},
     "output_type": "execute_result"
    }
   ],
   "source": [
    "lst =  [1,2,3,4]\n",
    "string = 'emp'\n",
    "lst = [string+str(i) for i in lst]\n",
    "lst"
   ]
  },
  {
   "cell_type": "markdown",
   "id": "31cd5ccc-3bf2-4ec6-8cc1-3799e02336e9",
   "metadata": {},
   "source": [
    "#### 15) Write a Python program to iterate over two lists simultaneously. "
   ]
  },
  {
   "cell_type": "code",
   "execution_count": 53,
   "id": "97b3c48b-dd6d-469b-815d-a7900eede9f0",
   "metadata": {},
   "outputs": [
    {
     "name": "stdout",
     "output_type": "stream",
     "text": [
      "0 9\n",
      "1 8\n",
      "2 7\n",
      "3 6\n",
      "4 5\n",
      "5 4\n",
      "6 3\n",
      "7 2\n",
      "8 1\n",
      "9 0\n"
     ]
    }
   ],
   "source": [
    "lst1 = [0, 1, 2, 3, 4, 5, 6, 7, 8, 9]\n",
    "lst2 = [9, 8, 7, 6, 5, 4, 3, 2, 1, 0]\n",
    "for i,j in zip(lst1,lst2):\n",
    "    print(i,j)"
   ]
  },
  {
   "cell_type": "markdown",
   "id": "22f386bb-2d9e-4a3a-98b3-e191e0e03245",
   "metadata": {},
   "source": [
    "#### 16) Write a Python program to print a nested lists (each list on a new line) using the print() function.\n"
   ]
  },
  {
   "cell_type": "code",
   "execution_count": 56,
   "id": "1dd3f51e-3569-41c8-aa3d-c43112f52234",
   "metadata": {},
   "outputs": [
    {
     "name": "stdout",
     "output_type": "stream",
     "text": [
      "[1, 2, 3]\n",
      "[4, 5, 6]\n",
      "[7, 8, 9]\n"
     ]
    }
   ],
   "source": [
    "nested_list = [[1, 2, 3], [4, 5, 6], [7, 8, 9]]\n",
    "for i in nested_list:\n",
    "    print(i)"
   ]
  },
  {
   "cell_type": "markdown",
   "id": "cb8df7a9-9063-45cb-840d-a5f2bde64904",
   "metadata": {},
   "source": [
    "#### 17) Write a Python program to remove duplicates from a list.\n"
   ]
  },
  {
   "cell_type": "code",
   "execution_count": 63,
   "id": "3faa8cb8-b398-4b8f-a7a9-ce17188a64a5",
   "metadata": {},
   "outputs": [
    {
     "data": {
      "text/plain": [
       "[1, 2, 4, 3]"
      ]
     },
     "execution_count": 63,
     "metadata": {},
     "output_type": "execute_result"
    }
   ],
   "source": [
    "lst = [1,1,1,2,2,2,2,4,4,4,4,3,3,3,3]\n",
    "lst2 = list()\n",
    "for i in lst:\n",
    "    if i not in lst2:\n",
    "        lst2.append(i)\n",
    "\n",
    "lst2"
   ]
  },
  {
   "cell_type": "code",
   "execution_count": 1,
   "id": "8c7a7541-47d7-41a7-8177-35771868e52e",
   "metadata": {},
   "outputs": [
    {
     "data": {
      "text/plain": [
       "[1, 2, 3, 4]"
      ]
     },
     "execution_count": 1,
     "metadata": {},
     "output_type": "execute_result"
    }
   ],
   "source": [
    "lst = [1,1,1,2,2,2,2,4,4,4,4,3,3,3,3]\n",
    "lst2 = list(set(lst))\n",
    "lst2"
   ]
  },
  {
   "cell_type": "markdown",
   "id": "69eae422-5da0-40e7-aabf-d9f7e26cb3d9",
   "metadata": {},
   "source": [
    "#### 18) Write a Python program to replace the last element in a list with another list. \n"
   ]
  },
  {
   "cell_type": "code",
   "execution_count": 66,
   "id": "db8bcb93-2611-4f37-8b35-6c3f47dc177b",
   "metadata": {},
   "outputs": [
    {
     "data": {
      "text/plain": [
       "[1, 3, 5, 7, 9, 10, 2, 4, 6, 8]"
      ]
     },
     "execution_count": 66,
     "metadata": {},
     "output_type": "execute_result"
    }
   ],
   "source": [
    "lst = [1, 3, 5, 7, 9, 10]\n",
    "lst2 = [2, 4, 6, 8]\n",
    "lst.extend(lst2)\n",
    "lst"
   ]
  },
  {
   "cell_type": "markdown",
   "id": "9ecfa1f4-c220-43a0-a0c1-419c65a7105c",
   "metadata": {},
   "source": [
    "#### 19) Write a Python function that takes two lists and returns True if they have at least one common member. \n"
   ]
  },
  {
   "cell_type": "code",
   "execution_count": 69,
   "id": "94ce0b70-e1ee-492b-b707-dfb099d9b488",
   "metadata": {},
   "outputs": [
    {
     "data": {
      "text/plain": [
       "True"
      ]
     },
     "execution_count": 69,
     "metadata": {},
     "output_type": "execute_result"
    }
   ],
   "source": [
    "lst1 = [1, 3, 5, 7, 8, 10]\n",
    "lst2 = [2, 4, 6, 8, 12,11]\n",
    "def func(lst1,lst2):\n",
    "    for i in lst1:\n",
    "        if i in lst2:\n",
    "            return True\n",
    "    else:\n",
    "        return False\n",
    "\n",
    "func(lst1,lst2)"
   ]
  },
  {
   "cell_type": "code",
   "execution_count": 1,
   "id": "b69383e8-8566-4f48-b523-44cfd298763e",
   "metadata": {},
   "outputs": [],
   "source": [
    "lst = ['x','y','z']\n",
    "dct = {lst[i]:[j for j in range(((i+1)*10+1),((i+2)*10))] for i in range(len(lst))}"
   ]
  },
  {
   "cell_type": "markdown",
   "id": "9ae1bc55-e99b-4938-a6f4-1929f0fbe09e",
   "metadata": {},
   "source": []
  },
  {
   "cell_type": "code",
   "execution_count": null,
   "id": "19872f77-97b3-42ca-ad2e-5e456d5eb725",
   "metadata": {},
   "outputs": [],
   "source": []
  }
 ],
 "metadata": {
  "kernelspec": {
   "display_name": "Python 3 (ipykernel)",
   "language": "python",
   "name": "python3"
  },
  "language_info": {
   "codemirror_mode": {
    "name": "ipython",
    "version": 3
   },
   "file_extension": ".py",
   "mimetype": "text/x-python",
   "name": "python",
   "nbconvert_exporter": "python",
   "pygments_lexer": "ipython3",
   "version": "3.12.4"
  }
 },
 "nbformat": 4,
 "nbformat_minor": 5
}
