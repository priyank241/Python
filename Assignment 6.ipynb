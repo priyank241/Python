{
 "cells": [
  {
   "cell_type": "markdown",
   "id": "0fc3abdf-6378-43c5-b794-8738e7cb19a2",
   "metadata": {},
   "source": [
    "#### 1) create a list, accept 5 numbers , store them in the list and finally convert that list to numpy array.\n"
   ]
  },
  {
   "cell_type": "code",
   "execution_count": 2,
   "id": "f3dfea1b-486f-49fb-a3a7-db6bcc0258fd",
   "metadata": {},
   "outputs": [
    {
     "name": "stdin",
     "output_type": "stream",
     "text": [
      "Enter 5 numbers 1 2 3 4 5\n"
     ]
    },
    {
     "name": "stdout",
     "output_type": "stream",
     "text": [
      "[1 2 3 4 5]\n",
      "<class 'numpy.ndarray'>\n"
     ]
    }
   ],
   "source": [
    "import numpy as np\n",
    "lst = [int(x) for x in input('Enter 5 numbers').split()]\n",
    "arr = np.array(lst)\n",
    "print(arr)\n",
    "print(type(arr))"
   ]
  },
  {
   "cell_type": "markdown",
   "id": "d89eebd3-2576-46f8-8255-e9ee8ff1b62f",
   "metadata": {},
   "source": [
    "#### 2) create numpy array of 5 numbers and print their sum"
   ]
  },
  {
   "cell_type": "code",
   "execution_count": 9,
   "id": "803371d5-0b67-4fb9-b137-059f8d3f33b4",
   "metadata": {},
   "outputs": [
    {
     "data": {
      "text/plain": [
       "15"
      ]
     },
     "execution_count": 9,
     "metadata": {},
     "output_type": "execute_result"
    }
   ],
   "source": [
    "arr = np.arange(1,6)\n",
    "np.sum(arr)"
   ]
  },
  {
   "cell_type": "markdown",
   "id": "8391c1d8-2f86-4b16-99df-fe739f887780",
   "metadata": {},
   "source": [
    "#### 3) create numpy double dimension array of 3*3 to store your initial and display them in a tabular form."
   ]
  },
  {
   "cell_type": "code",
   "execution_count": 16,
   "id": "8187299d-4443-4fdb-ac8f-dd3134c5656a",
   "metadata": {},
   "outputs": [
    {
     "name": "stdout",
     "output_type": "stream",
     "text": [
      "1 2 3 \n",
      "4 5 6 \n",
      "7 8 9 \n"
     ]
    }
   ],
   "source": [
    "arr = np.arange(1,10).reshape(3,3)\n",
    "for i in arr:\n",
    "    for j in i:\n",
    "        print(j,end=' ')\n",
    "    print()"
   ]
  },
  {
   "cell_type": "markdown",
   "id": "b14b719b-a3fa-4de8-bbe6-96f6192d5ec6",
   "metadata": {},
   "source": [
    "#### 4) create one-d numpy array of 12 elements , accept 12 numbers and display them. Now convert this one-d array into (4*3) two-d array and display it in a tabular form."
   ]
  },
  {
   "cell_type": "code",
   "execution_count": 19,
   "id": "d6676e45-7cd2-4ff3-b564-28b6d4e109c4",
   "metadata": {},
   "outputs": [
    {
     "name": "stdin",
     "output_type": "stream",
     "text": [
      "Enter 12 numbers 1 2 3 4 5 6 7 8 9 10 11 12\n"
     ]
    },
    {
     "name": "stdout",
     "output_type": "stream",
     "text": [
      "[ 1  2  3  4  5  6  7  8  9 10 11 12]\n",
      "1 2 3 \n",
      "4 5 6 \n",
      "7 8 9 \n",
      "10 11 12 \n"
     ]
    }
   ],
   "source": [
    "import numpy as np\n",
    "lst = [int(x) for x in input('Enter 12 numbers').split()]\n",
    "arr = np.array(lst)\n",
    "print(arr)\n",
    "arr.shape = (4,3)\n",
    "for i in arr:\n",
    "    for j in i:\n",
    "        print(j,end=' ')\n",
    "    print()"
   ]
  },
  {
   "cell_type": "markdown",
   "id": "ecff4b98-696d-46fa-b460-28fb3ae2cebf",
   "metadata": {},
   "source": [
    "#### 5) create two double dimension array and arrange (stack) them using \"axis=0\" \"axis=1\" and  \"axis=2\"."
   ]
  },
  {
   "cell_type": "code",
   "execution_count": null,
   "id": "e9d02e03-4d96-4b06-b210-ad694161af10",
   "metadata": {},
   "outputs": [],
   "source": []
  },
  {
   "cell_type": "markdown",
   "id": "c91e32aa-6842-426d-9e97-0d43de51ee06",
   "metadata": {},
   "source": [
    "#### 6) create two one-d arrays and then find out:\n",
    "\ta) common elements of both the array\n",
    "\tb) unique elements of first array\n",
    "\tc) unique elements of second array"
   ]
  },
  {
   "cell_type": "code",
   "execution_count": 3,
   "id": "6365f0ba-4ed8-4cd6-9221-624804ae1017",
   "metadata": {},
   "outputs": [
    {
     "name": "stdout",
     "output_type": "stream",
     "text": [
      "[[1 2 3]\n",
      " [4 5 6]] \n",
      "\n",
      " [[4 5 6]\n",
      " [7 8 9]]\n",
      "\n",
      "Intersection [4 5 6]\n",
      "\n",
      "Unique arr1 elemenets [1 2 3]\n",
      "\n",
      "Unique arr2 elemenets [7 8 9]\n"
     ]
    }
   ],
   "source": [
    "arr1 = np.arange(1,7).reshape(2,3)\n",
    "arr2 = np.arange(4,10).reshape(2,3)\n",
    "print(arr1,'\\n\\n',arr2)\n",
    "print('\\nIntersection',np.intersect1d(arr1,arr2))\n",
    "print('\\nUnique arr1 elemenets',np.setdiff1d(arr1,arr2))\n",
    "print('\\nUnique arr2 elemenets',np.setdiff1d(arr2,arr1))"
   ]
  },
  {
   "cell_type": "markdown",
   "id": "9be5276f-44bd-4a88-98d3-8782673b764c",
   "metadata": {},
   "source": [
    "#### 7) accept no.of rows and no. of cols from the user , create two-d array accordingly. Now calculate the sum as per \"axis=0\" and \"axis=1\"\n"
   ]
  },
  {
   "cell_type": "code",
   "execution_count": 10,
   "id": "aa8f90a4-782a-46f2-8d50-310bbeb18b72",
   "metadata": {},
   "outputs": [
    {
     "name": "stdin",
     "output_type": "stream",
     "text": [
      "Enter no of rows:  3\n",
      "Enter no of columns:  4\n"
     ]
    },
    {
     "name": "stdout",
     "output_type": "stream",
     "text": [
      "[[ 0  1  2  3]\n",
      " [ 4  5  6  7]\n",
      " [ 8  9 10 11]] \n",
      "\n",
      "Sum axis 0 [12 15 18 21]\n",
      "Sum axis 1 [ 6 22 38]\n"
     ]
    }
   ],
   "source": [
    "row = int(input('Enter no of rows: '))\n",
    "col = int(input('Enter no of columns: '))\n",
    "arr = np.arange(row*col).reshape(row,col)\n",
    "print(arr,'\\n')\n",
    "print('Sum axis 0',np.sum(arr,axis=0))\n",
    "print('Sum axis 1',np.sum(arr,axis=1))"
   ]
  },
  {
   "cell_type": "markdown",
   "id": "29da4f31-9bc0-4cab-89f3-507fb700b714",
   "metadata": {},
   "source": [
    "#### 8) declare two 2d arrays and calculate the sum as per \"axis=0\" \"axis=1\" and \"axis=2\""
   ]
  },
  {
   "cell_type": "code",
   "execution_count": 29,
   "id": "42b2f5f4-a15b-474e-9518-1209b3908dc2",
   "metadata": {},
   "outputs": [
    {
     "name": "stdout",
     "output_type": "stream",
     "text": [
      "[[[ 1  2  3]\n",
      "  [ 4  5  6]\n",
      "  [ 7  8  9]]\n",
      "\n",
      " [[10 11 12]\n",
      "  [13 14 15]\n",
      "  [16 17 18]]] \n",
      "\n",
      "Sum axis 0\n",
      " [[11 13 15]\n",
      " [17 19 21]\n",
      " [23 25 27]] \n",
      "\n",
      "Sum axis 1\n",
      " [[12 15 18]\n",
      " [39 42 45]] \n",
      "\n",
      "Sum axis 2\n",
      " [[ 6 15 24]\n",
      " [33 42 51]]\n"
     ]
    }
   ],
   "source": [
    "arr = np.arange(1,19).reshape(2,3,3)\n",
    "print(arr,'\\n')\n",
    "print('Sum axis 0\\n',np.sum(arr,axis=0),'\\n')\n",
    "print('Sum axis 1\\n',np.sum(arr,axis=1),'\\n')\n",
    "print('Sum axis 2\\n',np.sum(arr,axis=2))"
   ]
  },
  {
   "cell_type": "markdown",
   "id": "d8a63825-06cb-4292-b5a0-630cc1f7585f",
   "metadata": {},
   "source": [
    "#### 9) create two-d array ,display it. Now accept a number from user and perform all arithmetic operations on each and every element of the array using that number."
   ]
  },
  {
   "cell_type": "code",
   "execution_count": 34,
   "id": "1453d71b-b054-4edd-9145-e959ec17abbb",
   "metadata": {},
   "outputs": [
    {
     "name": "stdout",
     "output_type": "stream",
     "text": [
      "[[10 20 30]\n",
      " [40 50 60]\n",
      " [70 80 90]]\n"
     ]
    }
   ],
   "source": [
    "arr = np.arange(10,91,10).reshape(3,3)\n",
    "print(arr)"
   ]
  },
  {
   "cell_type": "code",
   "execution_count": 44,
   "id": "b8cc400e-d9c4-4d1a-acd6-6091dc48133f",
   "metadata": {},
   "outputs": [
    {
     "name": "stdin",
     "output_type": "stream",
     "text": [
      "Enter a number 2\n"
     ]
    },
    {
     "name": "stdout",
     "output_type": "stream",
     "text": [
      "\n",
      "Arr + 2 \n",
      " [[12 22 32]\n",
      " [42 52 62]\n",
      " [72 82 92]]\n",
      "\n",
      "Arr - 2 \n",
      " [[ 8 18 28]\n",
      " [38 48 58]\n",
      " [68 78 88]]\n",
      "\n",
      "Arr x 2 \n",
      " [[ 20  40  60]\n",
      " [ 80 100 120]\n",
      " [140 160 180]]\n",
      "\n",
      "Arr / 2 \n",
      " [[ 5. 10. 15.]\n",
      " [20. 25. 30.]\n",
      " [35. 40. 45.]]\n"
     ]
    }
   ],
   "source": [
    "n = int(input('Enter a number'))\n",
    "print('\\nArr +',n,'\\n',arr+n)\n",
    "print('\\nArr -',n,'\\n',arr-n)\n",
    "print('\\nArr x',n,'\\n',arr*n)\n",
    "print('\\nArr /',n,'\\n',arr/n)"
   ]
  },
  {
   "cell_type": "markdown",
   "id": "67bcbd22-0f16-4576-9d7b-80e0600a9cb7",
   "metadata": {},
   "source": [
    "#### 10) accept start, end and how many numbers to be generated and then using \"linspace\" create numpy array.\n"
   ]
  },
  {
   "cell_type": "code",
   "execution_count": 59,
   "id": "fd80c6f6-bc3e-4017-946b-e2c9d5d5d334",
   "metadata": {},
   "outputs": [
    {
     "name": "stdin",
     "output_type": "stream",
     "text": [
      "Enter start 1\n",
      "Enter end 100\n",
      "Enter numbers to be generated 10\n"
     ]
    },
    {
     "name": "stdout",
     "output_type": "stream",
     "text": [
      "[  1.  12.  23.  34.  45.  56.  67.  78.  89. 100.]\n"
     ]
    }
   ],
   "source": [
    "s = int(input('Enter start'))\n",
    "e = int(input('Enter end'))\n",
    "n = int(input('Enter numbers to be generated'))\n",
    "arr = np.linspace(s,e,n)\n",
    "print(arr)"
   ]
  },
  {
   "cell_type": "markdown",
   "id": "79d30310-1dc3-496f-b937-7cfa75f07e9f",
   "metadata": {},
   "source": [
    "#### 11) Create one-d array of 8 numbers and then using \"slicing\" concept,\n",
    "\ta) print numbers from 1 to 4\n",
    "\tb) print all the numbers from 3rd position\n",
    "\tc) print last 3 numbers"
   ]
  },
  {
   "cell_type": "code",
   "execution_count": 73,
   "id": "1085c595-61a4-49bf-bcb8-497a2cae33ca",
   "metadata": {},
   "outputs": [
    {
     "name": "stdout",
     "output_type": "stream",
     "text": [
      "[1 2 3 4 5 6 7 8]\n",
      "[1 2 3 4]\n",
      "[3 4 5 6 7 8]\n",
      "[6 7 8]\n"
     ]
    }
   ],
   "source": [
    "arr = np.arange(1,9)\n",
    "print(arr)\n",
    "print(arr[0:4])\n",
    "print(arr[2:])\n",
    "print(arr[-3:])"
   ]
  },
  {
   "cell_type": "markdown",
   "id": "44221f2d-5f50-4235-977c-657e3330461f",
   "metadata": {},
   "source": [
    "#### 12) create 2 d array (3x4) with following values: [[10,20,30,40],[50,60,70,80],[90,100,110,120]].now using array slicing concept display following values\n",
    "\ta) display   50  60  70  80\n",
    "\tb) display 100 and 110\n",
    "\tc) display 30 70 and 110\n",
    "\td) display 50  60  90 and 100"
   ]
  },
  {
   "cell_type": "code",
   "execution_count": 80,
   "id": "5207868a-8b20-4b2a-9289-354a145c4c77",
   "metadata": {},
   "outputs": [
    {
     "data": {
      "text/plain": [
       "array([[ 10,  20,  30,  40],\n",
       "       [ 50,  60,  70,  80],\n",
       "       [ 90, 100, 110, 120]])"
      ]
     },
     "execution_count": 80,
     "metadata": {},
     "output_type": "execute_result"
    }
   ],
   "source": [
    "arr = np.arange(10,121,10).reshape(3,4)\n",
    "arr"
   ]
  },
  {
   "cell_type": "code",
   "execution_count": 82,
   "id": "b85fffb7-6c61-4076-85dd-08aa13294849",
   "metadata": {},
   "outputs": [
    {
     "data": {
      "text/plain": [
       "array([50, 60, 70, 80])"
      ]
     },
     "execution_count": 82,
     "metadata": {},
     "output_type": "execute_result"
    }
   ],
   "source": [
    "arr[1]"
   ]
  },
  {
   "cell_type": "code",
   "execution_count": 84,
   "id": "5fa24ed2-8257-4bb1-ba1b-1fcb94705105",
   "metadata": {},
   "outputs": [
    {
     "data": {
      "text/plain": [
       "array([100, 110])"
      ]
     },
     "execution_count": 84,
     "metadata": {},
     "output_type": "execute_result"
    }
   ],
   "source": [
    "arr[2,[1,2]]"
   ]
  },
  {
   "cell_type": "code",
   "execution_count": 86,
   "id": "0b8a67c6-7b62-4fa8-bbd8-406dd8683cfe",
   "metadata": {},
   "outputs": [
    {
     "data": {
      "text/plain": [
       "array([ 30,  70, 110])"
      ]
     },
     "execution_count": 86,
     "metadata": {},
     "output_type": "execute_result"
    }
   ],
   "source": [
    "arr[:,2]"
   ]
  },
  {
   "cell_type": "code",
   "execution_count": 88,
   "id": "6e40b832-cacb-489c-90e3-4af0531f3cd4",
   "metadata": {},
   "outputs": [
    {
     "data": {
      "text/plain": [
       "array([[ 50,  60],\n",
       "       [ 90, 100]])"
      ]
     },
     "execution_count": 88,
     "metadata": {},
     "output_type": "execute_result"
    }
   ],
   "source": [
    "arr[1:,:2]"
   ]
  },
  {
   "cell_type": "code",
   "execution_count": null,
   "id": "ee9503ec-45b2-4e70-ab5f-7d780fcd4fef",
   "metadata": {},
   "outputs": [],
   "source": []
  }
 ],
 "metadata": {
  "kernelspec": {
   "display_name": "Python 3 (ipykernel)",
   "language": "python",
   "name": "python3"
  },
  "language_info": {
   "codemirror_mode": {
    "name": "ipython",
    "version": 3
   },
   "file_extension": ".py",
   "mimetype": "text/x-python",
   "name": "python",
   "nbconvert_exporter": "python",
   "pygments_lexer": "ipython3",
   "version": "3.12.4"
  }
 },
 "nbformat": 4,
 "nbformat_minor": 5
}
