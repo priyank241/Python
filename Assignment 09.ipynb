{
 "cells": [
  {
   "cell_type": "markdown",
   "id": "6e65943a-c5d8-4291-aeed-090d79bd0795",
   "metadata": {},
   "source": [
    "#### 1) define a class Sample with\n",
    "\tdata as instance member\n",
    "\tinit which takes one parameter in order to initialize \"data\""
   ]
  },
  {
   "cell_type": "code",
   "execution_count": 4,
   "id": "8d7db9fa-b692-45be-94b6-123b216b6ab9",
   "metadata": {},
   "outputs": [
    {
     "name": "stdout",
     "output_type": "stream",
     "text": [
      "45\n"
     ]
    }
   ],
   "source": [
    "class Sample:\n",
    "    def __init__(self,data):\n",
    "        self.data = data\n",
    "\n",
    "    def __add__(self,other):\n",
    "        return self.data+other.data\n",
    "\n",
    "    def __sub__(self, other):\n",
    "        return self.data - other.data\n",
    "\n",
    "    def __mul__(self, other):\n",
    "        return self.data * other.data\n",
    "\n",
    "    def __str__(self):\n",
    "        return f'{self.data}'\n",
    "\n",
    "s1=Sample(7)\n",
    "s2=Sample(5)\n",
    "s3=Sample(8)\n",
    "s4=Sample(12)\n",
    "\n",
    "s5=s4-s1+s3*s2\n",
    "print(s5)"
   ]
  },
  {
   "cell_type": "markdown",
   "id": "58556399-4e4a-4e6e-b14f-46a39a1368e3",
   "metadata": {},
   "source": [
    "#### 2) define a class MyClass with\n",
    "\tx as instance member\n",
    "\tinit which takes one parameter in order to initialize \"x\"\n",
    "\n",
    "create two instances by passing numbers.\n",
    "\n",
    "now check :\n",
    "\n",
    "> , < , == on these instances"
   ]
  },
  {
   "cell_type": "code",
   "execution_count": 13,
   "id": "afcc1b5f-2a16-4571-af0c-a3df18ceecda",
   "metadata": {},
   "outputs": [
    {
     "name": "stdout",
     "output_type": "stream",
     "text": [
      "True\n",
      "True\n",
      "True\n"
     ]
    }
   ],
   "source": [
    "class MyClass:\n",
    "    def __init__(self,data):\n",
    "        self.data = data\n",
    "\n",
    "    def __eq__(self, other):\n",
    "        return self.data == other.data\n",
    "\n",
    "    def __gt__(self, other):\n",
    "        return self.data > other.data\n",
    "\n",
    "    def __lt__(self, other):\n",
    "        return self.data < other.data\n",
    "    \n",
    "    def __str__(self):\n",
    "        return f'{self.data}'\n",
    "\n",
    "s1=MyClass(7)\n",
    "s2=MyClass(7)\n",
    "s3=MyClass(8)\n",
    "s4=MyClass(1)\n",
    "\n",
    "print(s1==s2)\n",
    "print(s1<s3)\n",
    "print(s1>s4)"
   ]
  },
  {
   "cell_type": "code",
   "execution_count": null,
   "id": "d66b4eea-2750-4f2f-9b05-069dd6dfd210",
   "metadata": {},
   "outputs": [],
   "source": []
  }
 ],
 "metadata": {
  "kernelspec": {
   "display_name": "Python 3 (ipykernel)",
   "language": "python",
   "name": "python3"
  },
  "language_info": {
   "codemirror_mode": {
    "name": "ipython",
    "version": 3
   },
   "file_extension": ".py",
   "mimetype": "text/x-python",
   "name": "python",
   "nbconvert_exporter": "python",
   "pygments_lexer": "ipython3",
   "version": "3.12.4"
  }
 },
 "nbformat": 4,
 "nbformat_minor": 5
}
