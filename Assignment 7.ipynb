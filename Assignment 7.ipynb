{
 "cells": [
  {
   "cell_type": "markdown",
   "id": "c6e57f56-b3d5-4d4c-a8e4-31a874803c97",
   "metadata": {},
   "source": [
    "#### 1) Store marks of 5 subjects\n",
    "\there use marks as actual data and subject names as indexes.\n",
    "    accept both marks and subjects from the user."
   ]
  },
  {
   "cell_type": "code",
   "execution_count": 6,
   "id": "da93a05d-1865-4dfe-b53f-14b285587e4d",
   "metadata": {},
   "outputs": [
    {
     "data": {
      "text/html": [
       "<div>\n",
       "<style scoped>\n",
       "    .dataframe tbody tr th:only-of-type {\n",
       "        vertical-align: middle;\n",
       "    }\n",
       "\n",
       "    .dataframe tbody tr th {\n",
       "        vertical-align: top;\n",
       "    }\n",
       "\n",
       "    .dataframe thead th {\n",
       "        text-align: right;\n",
       "    }\n",
       "</style>\n",
       "<table border=\"1\" class=\"dataframe\">\n",
       "  <thead>\n",
       "    <tr style=\"text-align: right;\">\n",
       "      <th></th>\n",
       "      <th>Makrs</th>\n",
       "    </tr>\n",
       "  </thead>\n",
       "  <tbody>\n",
       "    <tr>\n",
       "      <th>Maths</th>\n",
       "      <td>97</td>\n",
       "    </tr>\n",
       "    <tr>\n",
       "      <th>Science</th>\n",
       "      <td>94</td>\n",
       "    </tr>\n",
       "    <tr>\n",
       "      <th>English</th>\n",
       "      <td>89</td>\n",
       "    </tr>\n",
       "    <tr>\n",
       "      <th>Geography</th>\n",
       "      <td>96</td>\n",
       "    </tr>\n",
       "    <tr>\n",
       "      <th>History</th>\n",
       "      <td>76</td>\n",
       "    </tr>\n",
       "  </tbody>\n",
       "</table>\n",
       "</div>"
      ],
      "text/plain": [
       "           Makrs\n",
       "Maths         97\n",
       "Science       94\n",
       "English       89\n",
       "Geography     96\n",
       "History       76"
      ]
     },
     "execution_count": 6,
     "metadata": {},
     "output_type": "execute_result"
    }
   ],
   "source": [
    "import pandas as pd\n",
    "dct = {'Makrs':[97,94,89,96,76]}\n",
    "subjects = ['Maths','Science','English','Geography','History']\n",
    "df = pd.DataFrame(dct,index=subjects)\n",
    "df"
   ]
  },
  {
   "cell_type": "markdown",
   "id": "be5ee9c0-23c9-4ab3-af21-ebc104fcad73",
   "metadata": {},
   "source": [
    "#### 2) Create dictionary to store player name and runs scored of at least 5 players. Display it. Now convert this dictionary ‌into Series object and print it."
   ]
  },
  {
   "cell_type": "code",
   "execution_count": 18,
   "id": "b8aca09e-6297-4503-9d77-3af12bc4665e",
   "metadata": {},
   "outputs": [
    {
     "name": "stdout",
     "output_type": "stream",
     "text": [
      "Players    [Rohit, Virat, Sky, Pant, Hardik]\n",
      "Runs               [257, 151, 199, 171, 144]\n",
      "dtype: object\n"
     ]
    }
   ],
   "source": [
    "dct = {'Players':['Rohit','Virat','Sky','Pant','Hardik'],'Runs':[257,151,199,171,144]}\n",
    "ser = pd.Series(dct)\n",
    "print(ser)"
   ]
  },
  {
   "cell_type": "markdown",
   "id": "ccba6cff-a8ca-4d02-a0fe-1fe512d360ad",
   "metadata": {},
   "source": [
    "#### 3) accept 10 values and store them in the Series. Now perform following operations:\n",
    "    a) display the entire Series\n",
    "    b) extract 3rd element\n",
    "    c) extract elements from 4 to 7\n",
    "    d) extract elements from fourth last till the last element\n",
    "    e) extract first 3 elements\n",
    "    f) extract elements from the 5th position"
   ]
  },
  {
   "cell_type": "code",
   "execution_count": 31,
   "id": "47b83eaf-1cec-483b-9da7-0d6f95eb2cde",
   "metadata": {},
   "outputs": [
    {
     "name": "stdin",
     "output_type": "stream",
     "text": [
      "Enter 10 numbers 1 2 3 4 5 6 7 8 9 10\n"
     ]
    },
    {
     "name": "stdout",
     "output_type": "stream",
     "text": [
      "[ 1  2  3  4  5  6  7  8  9 10]\n"
     ]
    }
   ],
   "source": [
    "ser = pd.Series([int(x) for x in input('Enter 10 numbers').split()])\n",
    "print(ser.values)"
   ]
  },
  {
   "cell_type": "code",
   "execution_count": 33,
   "id": "8ac2a2ab-daaf-43c2-bc1c-3ef1001830ff",
   "metadata": {},
   "outputs": [
    {
     "data": {
      "text/plain": [
       "3"
      ]
     },
     "execution_count": 33,
     "metadata": {},
     "output_type": "execute_result"
    }
   ],
   "source": [
    "ser[2]"
   ]
  },
  {
   "cell_type": "code",
   "execution_count": 35,
   "id": "a5942568-61bf-441c-9f00-9a022d4cf0ae",
   "metadata": {},
   "outputs": [
    {
     "name": "stdout",
     "output_type": "stream",
     "text": [
      "[4 5 6 7]\n"
     ]
    }
   ],
   "source": [
    "print(ser[3:7].values)"
   ]
  },
  {
   "cell_type": "code",
   "execution_count": 37,
   "id": "c4c08a34-dc25-47fb-9abd-64e9a766997b",
   "metadata": {},
   "outputs": [
    {
     "name": "stdout",
     "output_type": "stream",
     "text": [
      "[ 7  8  9 10]\n"
     ]
    }
   ],
   "source": [
    "print(ser[-4:].values)"
   ]
  },
  {
   "cell_type": "code",
   "execution_count": 39,
   "id": "973ed62e-7e32-4ac6-9185-fb467ec63ff5",
   "metadata": {},
   "outputs": [
    {
     "name": "stdout",
     "output_type": "stream",
     "text": [
      "[1 2 3]\n"
     ]
    }
   ],
   "source": [
    "print(ser[:3].values)"
   ]
  },
  {
   "cell_type": "code",
   "execution_count": 41,
   "id": "03cb57cd-b1c0-4499-b330-d4cd3a2c1be7",
   "metadata": {},
   "outputs": [
    {
     "name": "stdout",
     "output_type": "stream",
     "text": [
      "[1 2 3 4 5]\n"
     ]
    }
   ],
   "source": [
    "print(ser[:5].values)"
   ]
  },
  {
   "cell_type": "markdown",
   "id": "58cbaa78-500f-4333-a55d-3f9766da84e7",
   "metadata": {},
   "source": [
    "#### 4) Accept 5 values in a Series and perform the following operations:\n",
    "\ta) display their sum\n",
    "\tb) add the value accepted from the user\n",
    "\tc) subtract the value accepted from the user\n",
    "\td) multiply the value accepted from the user\n",
    "\te) divide the value accepted from the user"
   ]
  },
  {
   "cell_type": "code",
   "execution_count": 54,
   "id": "b73f2df2-852f-43a4-b851-b7ccc5cad3c1",
   "metadata": {},
   "outputs": [
    {
     "name": "stdin",
     "output_type": "stream",
     "text": [
      "Enter 5 numbers 10 20 30 40 50\n"
     ]
    },
    {
     "name": "stdout",
     "output_type": "stream",
     "text": [
      "Sum: 150\n"
     ]
    }
   ],
   "source": [
    "ser = pd.Series([int(x) for x in input('Enter 5 numbers').split()])\n",
    "print('Sum:',ser.sum())"
   ]
  },
  {
   "cell_type": "code",
   "execution_count": 56,
   "id": "e7baaf23-c180-4fb9-9209-e3d8d26d2934",
   "metadata": {},
   "outputs": [
    {
     "name": "stdin",
     "output_type": "stream",
     "text": [
      "Enter a number 2\n"
     ]
    },
    {
     "name": "stdout",
     "output_type": "stream",
     "text": [
      "Add: [12 22 32 42 52]\n",
      "Sub: [ 8 18 28 38 48]\n",
      "Multiply: [ 20  40  60  80 100]\n",
      "Divide: [ 5. 10. 15. 20. 25.]\n"
     ]
    }
   ],
   "source": [
    "n = int(input('Enter a number'))\n",
    "print('Add:',(ser+n).values)\n",
    "print('Sub:',(ser-n).values)\n",
    "print('Multiply:',(ser*n).values)\n",
    "print('Divide:',(ser/n).values)"
   ]
  },
  {
   "cell_type": "markdown",
   "id": "353fd058-0a22-4515-ab5a-f57f52d2672c",
   "metadata": {},
   "source": [
    "#### 5) accept 5 names,designations and salaries and display them with DataFrame."
   ]
  },
  {
   "cell_type": "code",
   "execution_count": 65,
   "id": "aa02a5c4-08d4-4ed5-9610-b11a1b6bb4cd",
   "metadata": {},
   "outputs": [
    {
     "name": "stdin",
     "output_type": "stream",
     "text": [
      "Enter names,designations and salaries  Michael Manager 5000\n",
      "Enter names,designations and salaries  Jim Sales 4000\n",
      "Enter names,designations and salaries  Dwight Assistant_to_the_Regional_Manager 3500\n",
      "Enter names,designations and salaries  Pam Receptionist 2500\n",
      "Enter names,designations and salaries  Kevin Accountant 3000\n"
     ]
    },
    {
     "data": {
      "text/html": [
       "<div>\n",
       "<style scoped>\n",
       "    .dataframe tbody tr th:only-of-type {\n",
       "        vertical-align: middle;\n",
       "    }\n",
       "\n",
       "    .dataframe tbody tr th {\n",
       "        vertical-align: top;\n",
       "    }\n",
       "\n",
       "    .dataframe thead th {\n",
       "        text-align: right;\n",
       "    }\n",
       "</style>\n",
       "<table border=\"1\" class=\"dataframe\">\n",
       "  <thead>\n",
       "    <tr style=\"text-align: right;\">\n",
       "      <th></th>\n",
       "      <th>Name</th>\n",
       "      <th>Designations</th>\n",
       "      <th>Salaries</th>\n",
       "    </tr>\n",
       "  </thead>\n",
       "  <tbody>\n",
       "    <tr>\n",
       "      <th>0</th>\n",
       "      <td>Michael</td>\n",
       "      <td>Manager</td>\n",
       "      <td>5000</td>\n",
       "    </tr>\n",
       "    <tr>\n",
       "      <th>1</th>\n",
       "      <td>Jim</td>\n",
       "      <td>Sales</td>\n",
       "      <td>4000</td>\n",
       "    </tr>\n",
       "    <tr>\n",
       "      <th>2</th>\n",
       "      <td>Dwight</td>\n",
       "      <td>Assistant_to_the_Regional_Manager</td>\n",
       "      <td>3500</td>\n",
       "    </tr>\n",
       "    <tr>\n",
       "      <th>3</th>\n",
       "      <td>Pam</td>\n",
       "      <td>Receptionist</td>\n",
       "      <td>2500</td>\n",
       "    </tr>\n",
       "    <tr>\n",
       "      <th>4</th>\n",
       "      <td>Kevin</td>\n",
       "      <td>Accountant</td>\n",
       "      <td>3000</td>\n",
       "    </tr>\n",
       "  </tbody>\n",
       "</table>\n",
       "</div>"
      ],
      "text/plain": [
       "      Name                       Designations Salaries\n",
       "0  Michael                            Manager     5000\n",
       "1      Jim                              Sales     4000\n",
       "2   Dwight  Assistant_to_the_Regional_Manager     3500\n",
       "3      Pam                       Receptionist     2500\n",
       "4    Kevin                         Accountant     3000"
      ]
     },
     "execution_count": 65,
     "metadata": {},
     "output_type": "execute_result"
    }
   ],
   "source": [
    "dct = {'Name':[],'Designations':[],'Salaries':[]}\n",
    "for i in range(5):\n",
    "    name,desig,salary = input('Enter names,designations and salaries ').split()\n",
    "    dct['Name'].append(name)\n",
    "    dct['Designations'].append(desig)\n",
    "    dct['Salaries'].append(salary)\n",
    "\n",
    "df = pd.DataFrame(dct)\n",
    "df"
   ]
  },
  {
   "cell_type": "markdown",
   "id": "e10a45a1-d932-477e-8a12-4ab668f1f743",
   "metadata": {},
   "source": [
    "#### 6) create a csv file (with whatever columns and rows you want) manually and then read using pandas.\n"
   ]
  },
  {
   "cell_type": "code",
   "execution_count": 5,
   "id": "dbd326c8-bd2c-479b-a0e7-efed060d6796",
   "metadata": {},
   "outputs": [
    {
     "data": {
      "text/html": [
       "<div>\n",
       "<style scoped>\n",
       "    .dataframe tbody tr th:only-of-type {\n",
       "        vertical-align: middle;\n",
       "    }\n",
       "\n",
       "    .dataframe tbody tr th {\n",
       "        vertical-align: top;\n",
       "    }\n",
       "\n",
       "    .dataframe thead th {\n",
       "        text-align: right;\n",
       "    }\n",
       "</style>\n",
       "<table border=\"1\" class=\"dataframe\">\n",
       "  <thead>\n",
       "    <tr style=\"text-align: right;\">\n",
       "      <th></th>\n",
       "      <th>EmpID</th>\n",
       "      <th>Name</th>\n",
       "      <th>DeptID</th>\n",
       "      <th>Salary</th>\n",
       "    </tr>\n",
       "  </thead>\n",
       "  <tbody>\n",
       "    <tr>\n",
       "      <th>0</th>\n",
       "      <td>1</td>\n",
       "      <td>Alice</td>\n",
       "      <td>1</td>\n",
       "      <td>5000</td>\n",
       "    </tr>\n",
       "    <tr>\n",
       "      <th>1</th>\n",
       "      <td>2</td>\n",
       "      <td>Bob</td>\n",
       "      <td>1</td>\n",
       "      <td>7000</td>\n",
       "    </tr>\n",
       "    <tr>\n",
       "      <th>2</th>\n",
       "      <td>3</td>\n",
       "      <td>Charlie</td>\n",
       "      <td>1</td>\n",
       "      <td>6000</td>\n",
       "    </tr>\n",
       "    <tr>\n",
       "      <th>3</th>\n",
       "      <td>4</td>\n",
       "      <td>David</td>\n",
       "      <td>2</td>\n",
       "      <td>4000</td>\n",
       "    </tr>\n",
       "    <tr>\n",
       "      <th>4</th>\n",
       "      <td>5</td>\n",
       "      <td>Eve</td>\n",
       "      <td>2</td>\n",
       "      <td>3000</td>\n",
       "    </tr>\n",
       "    <tr>\n",
       "      <th>5</th>\n",
       "      <td>6</td>\n",
       "      <td>Frank</td>\n",
       "      <td>3</td>\n",
       "      <td>4500</td>\n",
       "    </tr>\n",
       "    <tr>\n",
       "      <th>6</th>\n",
       "      <td>7</td>\n",
       "      <td>Grace</td>\n",
       "      <td>3</td>\n",
       "      <td>4700</td>\n",
       "    </tr>\n",
       "    <tr>\n",
       "      <th>7</th>\n",
       "      <td>8</td>\n",
       "      <td>Heidi</td>\n",
       "      <td>4</td>\n",
       "      <td>5500</td>\n",
       "    </tr>\n",
       "    <tr>\n",
       "      <th>8</th>\n",
       "      <td>9</td>\n",
       "      <td>Ivan</td>\n",
       "      <td>4</td>\n",
       "      <td>5200</td>\n",
       "    </tr>\n",
       "  </tbody>\n",
       "</table>\n",
       "</div>"
      ],
      "text/plain": [
       "   EmpID     Name  DeptID  Salary\n",
       "0      1    Alice       1    5000\n",
       "1      2      Bob       1    7000\n",
       "2      3  Charlie       1    6000\n",
       "3      4    David       2    4000\n",
       "4      5      Eve       2    3000\n",
       "5      6    Frank       3    4500\n",
       "6      7    Grace       3    4700\n",
       "7      8    Heidi       4    5500\n",
       "8      9     Ivan       4    5200"
      ]
     },
     "execution_count": 5,
     "metadata": {},
     "output_type": "execute_result"
    }
   ],
   "source": [
    "import pandas as pd\n",
    "df = pd.read_csv('myexcel.csv')\n",
    "df"
   ]
  },
  {
   "cell_type": "markdown",
   "id": "8d570bda-a598-4872-b8fe-78d0553f6133",
   "metadata": {},
   "source": [
    "#### 7) create \"Vita.xlsx\" using pandas. In this Excel file you have to create 2 sheets \"DBDA\", and \"DAC\". \n",
    "in each sheet you have to write name,address and age of all the team leaders.\n",
    "make sure Excel file gets created successfully."
   ]
  },
  {
   "cell_type": "code",
   "execution_count": null,
   "id": "3aa1af0e-08d2-43ce-a010-3f38bd049ff7",
   "metadata": {},
   "outputs": [],
   "source": []
  },
  {
   "cell_type": "code",
   "execution_count": 63,
   "id": "ede95aa6-f9f4-4315-a115-4fe02c691313",
   "metadata": {},
   "outputs": [
    {
     "name": "stdin",
     "output_type": "stream",
     "text": [
      " the quick brown fox jumps over the lazy dog.\n"
     ]
    },
    {
     "name": "stdout",
     "output_type": "stream",
     "text": [
      "Pangram\n"
     ]
    }
   ],
   "source": [
    "strr = input().lower()\n",
    "lst = list(strr)\n",
    "dct = {i:0 for i in range(1,27)}\n",
    "for i in lst:\n",
    "    ascii = ord(i) - 96\n",
    "    dct[ascii] = 1\n",
    "\n",
    "for i in range(1,27):\n",
    "    if dct[i] == 0:\n",
    "        print('Not Pangram')\n",
    "        break\n",
    "else:\n",
    "    print('Pangram')"
   ]
  },
  {
   "cell_type": "code",
   "execution_count": 45,
   "id": "fa366219-38b2-4f40-bfbf-617b10a62265",
   "metadata": {},
   "outputs": [
    {
     "name": "stdin",
     "output_type": "stream",
     "text": [
      "enter sentence: A, B, C, D, E, F, G, H, I, J, K, L, M, N, O, P, Q, R, S, T, U, V, W, X, Y, Z \n"
     ]
    },
    {
     "name": "stdout",
     "output_type": "stream",
     "text": [
      "is pangram\n"
     ]
    }
   ],
   "source": [
    "def is_pangram(sentence):\n",
    "    alphabet=set('abcdefghijklmnopqrstuvwxyz')\n",
    "    sen_set=set(sentence.lower())\n",
    "    return alphabet.issubset(sen_set)\n",
    "sentence=input(\"enter sentence:\")\n",
    "if is_pangram(sentence):\n",
    "    print(\"is pangram\")\n",
    "else:\n",
    "    print(\"not pamgram\")"
   ]
  },
  {
   "cell_type": "code",
   "execution_count": 47,
   "id": "a9c964c7-8aa9-4900-b7da-9e3b9387f896",
   "metadata": {},
   "outputs": [
    {
     "name": "stdin",
     "output_type": "stream",
     "text": [
      " the quick brown fox jumps over the lazy dog\n"
     ]
    },
    {
     "name": "stdout",
     "output_type": "stream",
     "text": [
      "Pangram\n"
     ]
    }
   ],
   "source": [
    "alpha = 'abcdefghijklmnopqrstuvwxyz'\n",
    "strr=input(\"\").lower()\n",
    "for c in alpha:\n",
    "    if c not in strr:\n",
    "        print('Not Pangram')\n",
    "        break\n",
    "else:\n",
    "    print(\"Pangram\")"
   ]
  },
  {
   "cell_type": "code",
   "execution_count": 57,
   "id": "bdff2749-7775-4106-85e6-7ce32ebf7981",
   "metadata": {},
   "outputs": [
    {
     "name": "stdin",
     "output_type": "stream",
     "text": [
      " the quick brown fox jumps over the lazy dog\n"
     ]
    },
    {
     "name": "stdout",
     "output_type": "stream",
     "text": [
      "Pangram\n"
     ]
    }
   ],
   "source": [
    "set1 = set([chr(x) for x in range(97,123)])\n",
    "set2 = set([i for i in input(\"\").lower() if i.isalpha()])\n",
    "print(\"Pangram\") if (set1==set2) else print('Not')"
   ]
  },
  {
   "cell_type": "code",
   "execution_count": null,
   "id": "99ffd69a-6b37-4749-977a-bd1258a0f308",
   "metadata": {},
   "outputs": [],
   "source": []
  }
 ],
 "metadata": {
  "kernelspec": {
   "display_name": "Python 3 (ipykernel)",
   "language": "python",
   "name": "python3"
  },
  "language_info": {
   "codemirror_mode": {
    "name": "ipython",
    "version": 3
   },
   "file_extension": ".py",
   "mimetype": "text/x-python",
   "name": "python",
   "nbconvert_exporter": "python",
   "pygments_lexer": "ipython3",
   "version": "3.12.4"
  }
 },
 "nbformat": 4,
 "nbformat_minor": 5
}
