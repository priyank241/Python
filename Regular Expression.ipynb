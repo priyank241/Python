{
 "cells": [
  {
   "cell_type": "markdown",
   "id": "fc50a520-e475-40cf-9ed9-69c055030d66",
   "metadata": {},
   "source": [
    "# Regular Expression"
   ]
  },
  {
   "cell_type": "markdown",
   "id": "321b29d6-fe88-48ae-84f7-e0fcc6b4fe25",
   "metadata": {},
   "source": [
    "Python provides the re module for working with regular expressions. You can use it to find, match, and manipulate string patterns."
   ]
  },
  {
   "cell_type": "code",
   "execution_count": 3,
   "id": "aded49c4-4391-4bef-b96a-6b2f1357a0e6",
   "metadata": {},
   "outputs": [],
   "source": [
    "import re"
   ]
  },
  {
   "cell_type": "markdown",
   "id": "cb77bd03-f402-46a8-b386-aa1e289d4b03",
   "metadata": {},
   "source": [
    "### Basic Metacharacters and Their Meanings"
   ]
  },
  {
   "cell_type": "markdown",
   "id": "9581f092-0140-4ea8-b91a-fcdaf2f72732",
   "metadata": {},
   "source": [
    "#### 2. . (Dot):\n",
    "The dot . is a special character that matches any character except a newline (\\n)."
   ]
  },
  {
   "cell_type": "code",
   "execution_count": 11,
   "id": "6f07ba5d-e7bc-42f9-8285-fb1a51b3c3bc",
   "metadata": {},
   "outputs": [
    {
     "data": {
      "text/plain": [
       "['h', 'e', 'l', 'l', 'o', 'w', 'o', 'r', 'l', 'd']"
      ]
     },
     "execution_count": 11,
     "metadata": {},
     "output_type": "execute_result"
    }
   ],
   "source": [
    "string = 'hello\\nworld'\n",
    "pattern = r'.'\n",
    "res = re.findall(pattern,string)\n",
    "res"
   ]
  },
  {
   "cell_type": "code",
   "execution_count": 13,
   "id": "0d0743fc-d6ae-4f28-9784-2765219a2a5b",
   "metadata": {},
   "outputs": [
    {
     "data": {
      "text/plain": [
       "list"
      ]
     },
     "execution_count": 13,
     "metadata": {},
     "output_type": "execute_result"
    }
   ],
   "source": [
    "type(res)"
   ]
  },
  {
   "cell_type": "markdown",
   "id": "f4299cfa-efdb-4bc3-a8a1-05c6cea68f92",
   "metadata": {},
   "source": [
    "#### 3. ^ (Caret):\n",
    "The ^ symbol is used to match a string that starts with a specific pattern. It matches the __beginning__ of a string"
   ]
  },
  {
   "cell_type": "code",
   "execution_count": 19,
   "id": "68f2a3e2-c241-4305-adbb-62d2fe5c4be3",
   "metadata": {},
   "outputs": [
    {
     "data": {
      "text/plain": [
       "<re.Match object; span=(0, 5), match='Hello'>"
      ]
     },
     "execution_count": 19,
     "metadata": {},
     "output_type": "execute_result"
    }
   ],
   "source": [
    "pattern = r\"^Hello\"\n",
    "string1 = \"Hello, World!\"\n",
    "string2 = \"World, Hello!\"\n",
    "\n",
    "res1 = re.match(pattern,string1)\n",
    "res1"
   ]
  },
  {
   "cell_type": "code",
   "execution_count": 25,
   "id": "65f5953a-3c33-4519-be99-f6997c773c14",
   "metadata": {},
   "outputs": [],
   "source": [
    "res2 = re.match(pattern,string2)\n",
    "res2#no ouput as no hello at start of string2"
   ]
  },
  {
   "cell_type": "markdown",
   "id": "c2f18ae2-895f-43f1-8b6c-05f23b52ed45",
   "metadata": {},
   "source": [
    "#### 4. \\\\$ (Dollar Sign):\n",
    "The \\\\$ symbol matches the end of a string. It ensures the string ends with the pattern specified before $"
   ]
  },
  {
   "cell_type": "code",
   "execution_count": 40,
   "id": "87e82d7d-ba26-4a6f-8a6b-d23ac404e0e2",
   "metadata": {},
   "outputs": [
    {
     "data": {
      "text/plain": [
       "<re.Match object; span=(7, 12), match='World'>"
      ]
     },
     "execution_count": 40,
     "metadata": {},
     "output_type": "execute_result"
    }
   ],
   "source": [
    "pattern = r'World$'\n",
    "string1 = \"Hello, World\"\n",
    "string2 = \"Hello World!\"\n",
    "re.search(pattern,string1)"
   ]
  },
  {
   "cell_type": "code",
   "execution_count": 42,
   "id": "ac1da01f-7035-4b97-bc58-e9dd1481d14a",
   "metadata": {},
   "outputs": [],
   "source": [
    "re.search(pattern,string2)"
   ]
  },
  {
   "cell_type": "markdown",
   "id": "9d8441d6-7ed0-41b4-8d8b-840496cf2f95",
   "metadata": {},
   "source": [
    "#### 5. * (Asterisk):\n",
    "The * symbol matches 0 or more occurrences of the preceding element."
   ]
  },
  {
   "cell_type": "code",
   "execution_count": 45,
   "id": "958cac45-4ac9-4f44-8c20-fb1a73f4758c",
   "metadata": {},
   "outputs": [
    {
     "name": "stdout",
     "output_type": "stream",
     "text": [
      "['aaa', '', '', '', '']\n"
     ]
    }
   ],
   "source": [
    "pattern = r\"a*\"\n",
    "string = \"aaabbb\"\n",
    "\n",
    "# Match 0 or more 'a's\n",
    "result = re.findall(pattern, string)\n",
    "print(result)  # Output: ['aaa', '', '', '', '']\n"
   ]
  },
  {
   "cell_type": "markdown",
   "id": "11964d5b-f6f8-46f4-b8c8-919b7b3ed38c",
   "metadata": {},
   "source": [
    "Here, a* matches 0 or more occurrences of \"a\". It matches \"aaa\" at the start and then matches empty strings wherever \"a\" is absent."
   ]
  },
  {
   "cell_type": "code",
   "execution_count": 52,
   "id": "bb717174-1582-47a0-8d18-0f77dd9b5741",
   "metadata": {},
   "outputs": [
    {
     "name": "stdout",
     "output_type": "stream",
     "text": [
      "['aaa', '', '', '', 'aa', '', 'a', '']\n"
     ]
    }
   ],
   "source": [
    "pattern = r\"a*\"\n",
    "string = \"aaabbbaaca\"\n",
    "\n",
    "# Match 0 or more 'a's\n",
    "result = re.findall(pattern, string)\n",
    "print(result)  "
   ]
  },
  {
   "cell_type": "markdown",
   "id": "285badc0-3c9f-49b0-8bd1-21608790c649",
   "metadata": {},
   "source": [
    "#### 6. + (Plus Sign):\n",
    "The + symbol matches 1 or more occurrences of the preceding element."
   ]
  },
  {
   "cell_type": "code",
   "execution_count": 57,
   "id": "765309d0-8508-4e68-8cef-b09d4ad19372",
   "metadata": {},
   "outputs": [
    {
     "name": "stdout",
     "output_type": "stream",
     "text": [
      "['aaa', 'aa', 'a']\n"
     ]
    }
   ],
   "source": [
    "pattern = r\"a+\"\n",
    "string = \"aaabbbaaca,''\"\n",
    "\n",
    "# Match 1 or more 'a's\n",
    "result = re.findall(pattern, string)\n",
    "print(result)  # Output: ['aaa']"
   ]
  },
  {
   "cell_type": "markdown",
   "id": "5c808f58-41e8-43bb-a725-e84967236a2e",
   "metadata": {},
   "source": [
    "#### 7. ? (Question Mark):\n",
    "The ? symbol matches 0 or 1 occurrence of the preceding element."
   ]
  },
  {
   "cell_type": "code",
   "execution_count": 62,
   "id": "29a59d33-cddb-4bea-b0c7-7f9c92d9b0a0",
   "metadata": {},
   "outputs": [
    {
     "name": "stdout",
     "output_type": "stream",
     "text": [
      "['cat', 'ct']\n"
     ]
    }
   ],
   "source": [
    "pattern = r\"ca?t\"\n",
    "string = \"cat and ct\"\n",
    "\n",
    "# Match 'c' followed by 'a' 0 or 1 time, followed by 't'\n",
    "result = re.findall(pattern, string)\n",
    "print(result)  # Output: ['cat', 'ct']"
   ]
  },
  {
   "cell_type": "markdown",
   "id": "88ae57c0-5c3a-4a9d-9564-7404129e34a9",
   "metadata": {},
   "source": [
    "Here, ca?t matches both \"cat\" and \"ct\" because the ? allows \"a\" to appear either 0 or 1 time."
   ]
  },
  {
   "cell_type": "markdown",
   "id": "22014ed0-d561-4485-b600-99706d099ff5",
   "metadata": {},
   "source": [
    "#### 8. [] (Square Brackets):\n",
    "Square brackets are used to match a set of characters. Inside square brackets, you can specify a range or a list of characters."
   ]
  },
  {
   "cell_type": "code",
   "execution_count": 66,
   "id": "d44c5c44-9494-49f6-af21-ca8a8caed7bd",
   "metadata": {},
   "outputs": [
    {
     "name": "stdout",
     "output_type": "stream",
     "text": [
      "['a', 'b', 'c', 'a', 'c']\n"
     ]
    }
   ],
   "source": [
    "pattern = r\"[abc]\"\n",
    "string = \"a test b for c matching\"\n",
    "\n",
    "# Match 'a', 'b', or 'c'\n",
    "result = re.findall(pattern, string)\n",
    "print(result)  # Output: ['a', 'b', 'c']"
   ]
  },
  {
   "cell_type": "markdown",
   "id": "961f1c6d-3dc4-4b1b-9a3c-08331d45a295",
   "metadata": {},
   "source": [
    "In this case, [abc] matches either \"a\", \"b\", or \"c\" in the string. You can also specify ranges, like [a-z] to match lowercase letters."
   ]
  },
  {
   "cell_type": "code",
   "execution_count": 71,
   "id": "b4d7cc79-d808-423b-92ea-5f46572edc75",
   "metadata": {},
   "outputs": [
    {
     "name": "stdout",
     "output_type": "stream",
     "text": [
      "['a', 'p', 'd', 'a']\n"
     ]
    }
   ],
   "source": [
    "pattern = r\"[a-z]\"\n",
    "string = \"ABCDapda\"\n",
    "\n",
    "# Match 'a', 'b', or 'c'\n",
    "result = re.findall(pattern, string)\n",
    "print(result)  # Output: ['a', 'b', 'c']"
   ]
  },
  {
   "cell_type": "code",
   "execution_count": 106,
   "id": "b85a3a6a-b79e-47bd-b8b6-845f78d7c69c",
   "metadata": {},
   "outputs": [
    {
     "name": "stdout",
     "output_type": "stream",
     "text": [
      "['A', 'B', 'C', 'D']\n"
     ]
    }
   ],
   "source": [
    "pattern = r\"[A-Z]\"\n",
    "string = \"ABCDapda\"\n",
    "\n",
    "# Match 'a', 'b', or 'c'\n",
    "result = re.findall(pattern, string)\n",
    "print(result)  # Output: ['a', 'b', 'c']"
   ]
  },
  {
   "cell_type": "markdown",
   "id": "845d9a64-db70-4d3a-9b53-fdff95d2792d",
   "metadata": {},
   "source": [
    "#### 9. {} (Braces):\n",
    "Curly braces {} are used to specify exactly how many times a character or group should occur.\n",
    "\n",
    " - {n}: Exactly n times.\n",
    " - {n,}: At least n times.\n",
    " - {n,m}: Between n and m times."
   ]
  },
  {
   "cell_type": "code",
   "execution_count": 76,
   "id": "2efefd3a-6bd6-4690-83dc-4d00a5a9f8bc",
   "metadata": {},
   "outputs": [
    {
     "name": "stdout",
     "output_type": "stream",
     "text": [
      "['aa', 'aa']\n"
     ]
    }
   ],
   "source": [
    "pattern = r\"a{2}\"\n",
    "string = \"aaaabc\"\n",
    "\n",
    "# Match exactly 2 'a's in a row\n",
    "result = re.findall(pattern, string)\n",
    "print(result)  # Output: ['aa']"
   ]
  },
  {
   "cell_type": "code",
   "execution_count": 78,
   "id": "cedc1699-e3e5-48b1-b5e0-cc61201295b5",
   "metadata": {},
   "outputs": [
    {
     "name": "stdout",
     "output_type": "stream",
     "text": [
      "['aaaa']\n"
     ]
    }
   ],
   "source": [
    "pattern = r\"a{2,}\"\n",
    "string = \"aaaabc\"\n",
    "\n",
    "# Match exactly 2 'a's in a row\n",
    "result = re.findall(pattern, string)\n",
    "print(result)  # Output: ['aa']"
   ]
  },
  {
   "cell_type": "code",
   "execution_count": 80,
   "id": "bba1492b-7e98-4e29-a510-cb604d08b8b7",
   "metadata": {},
   "outputs": [
    {
     "name": "stdout",
     "output_type": "stream",
     "text": [
      "['aaaa']\n"
     ]
    }
   ],
   "source": [
    "pattern = r\"a{2,4}\"\n",
    "string = \"aaaabc\"\n",
    "\n",
    "# Match exactly 2 'a's in a row\n",
    "result = re.findall(pattern, string)\n",
    "print(result)  # Output: ['aa']"
   ]
  },
  {
   "cell_type": "markdown",
   "id": "b93f982d-168b-4b29-9636-52e631c98711",
   "metadata": {},
   "source": [
    "#### 10. \\ (Backslash):\n",
    "The backslash \\ is used to escape special characters in regex or to define special sequences like \\d, \\w, \\s, etc.\n",
    "\n",
    "Special Sequences:\n",
    " - \\d: Matches any digit (equivalent to [0-9]).\n",
    " - \\w: Matches any alphanumeric character (equivalent to [a-zA-Z0-9_]).\n",
    " - \\s: Matches any whitespace character."
   ]
  },
  {
   "cell_type": "code",
   "execution_count": 86,
   "id": "7ceae78c-3229-4c31-b457-3b65f74c4bf9",
   "metadata": {},
   "outputs": [
    {
     "name": "stdout",
     "output_type": "stream",
     "text": [
      "['123', '45']\n"
     ]
    }
   ],
   "source": [
    "pattern = r\"\\d+\"\n",
    "string = \"There are 123 apples and 45 bananas.\"\n",
    "\n",
    "# Match all digits\n",
    "result = re.findall(pattern, string)\n",
    "print(result)  # Output: ['123', '45']"
   ]
  },
  {
   "cell_type": "markdown",
   "id": "a984951c-2c63-4b2a-88ae-c0bbf7e97374",
   "metadata": {},
   "source": [
    "Here, \\d+ matches 1 or more digits in the string. It finds \"123\" and \"45\"."
   ]
  },
  {
   "cell_type": "markdown",
   "id": "cfe252ab-108f-488f-ab74-3f1d1939394b",
   "metadata": {},
   "source": [
    "## Basic Regex Functions in Python:"
   ]
  },
  {
   "cell_type": "markdown",
   "id": "90af1453-a6e4-4615-a452-ed39c719c87f",
   "metadata": {},
   "source": [
    "#### 11. re.match():\n",
    "This function checks if the pattern matches at the start of the string. It only looks for a match at the beginning."
   ]
  },
  {
   "cell_type": "code",
   "execution_count": 93,
   "id": "19daffef-d35d-465a-be58-fd756c74d937",
   "metadata": {},
   "outputs": [
    {
     "name": "stdout",
     "output_type": "stream",
     "text": [
      "Matched at the start!\n"
     ]
    }
   ],
   "source": [
    "pattern = r\"Hello\"\n",
    "string = \"Hello, World!\"\n",
    "\n",
    "result = re.match(pattern, string)\n",
    "if result:\n",
    "    print(\"Matched at the start!\")"
   ]
  },
  {
   "cell_type": "markdown",
   "id": "8424c62c-65f6-4cc1-ae3c-31abc14514b3",
   "metadata": {},
   "source": [
    "#### 12. re.search():\n",
    "This function searches the entire string for the first occurrence of the pattern."
   ]
  },
  {
   "cell_type": "code",
   "execution_count": 98,
   "id": "eaf40251-0eb1-47db-9704-8bb8cfc7d30c",
   "metadata": {},
   "outputs": [
    {
     "name": "stdout",
     "output_type": "stream",
     "text": [
      "Found 'World' in the string!\n"
     ]
    }
   ],
   "source": [
    "pattern = r\"World\"\n",
    "string = \"Hello, World!\"\n",
    "\n",
    "result = re.search(pattern, string)\n",
    "if result:\n",
    "    print(\"Found 'World' in the string!\")"
   ]
  },
  {
   "cell_type": "markdown",
   "id": "ec00f435-535b-4f67-b98c-9d1bbe7a3d19",
   "metadata": {},
   "source": [
    "#### 13. re.findall():\n",
    "This function finds all occurrences of a pattern in a string and returns them as a list.\n",
    "\n",
    "Example:"
   ]
  },
  {
   "cell_type": "code",
   "execution_count": 101,
   "id": "a3c8ae99-e428-4a0c-b99c-de34b5487c4b",
   "metadata": {},
   "outputs": [
    {
     "name": "stdout",
     "output_type": "stream",
     "text": [
      "['12345', '67890']\n"
     ]
    }
   ],
   "source": [
    "pattern = r\"\\d+\"\n",
    "string = \"My phone number is 12345 and my ID is 67890.\"\n",
    "\n",
    "matches = re.findall(pattern, string)\n",
    "print(matches)  # Output: ['12345', '67890']\n"
   ]
  },
  {
   "cell_type": "markdown",
   "id": "95312064-2d62-459c-b716-9d0be9392e91",
   "metadata": {},
   "source": [
    "#### 14. re.sub():\n",
    "This function is used to replace matches of a pattern with a given string."
   ]
  },
  {
   "cell_type": "code",
   "execution_count": 104,
   "id": "f3c5a912-bbd8-49bb-9313-b57ef12312b7",
   "metadata": {},
   "outputs": [
    {
     "name": "stdout",
     "output_type": "stream",
     "text": [
      "I have a dog and another dog.\n"
     ]
    }
   ],
   "source": [
    "pattern = r\"cat\"\n",
    "string = \"I have a cat and another cat.\"\n",
    "\n",
    "# Replace 'cat' with 'dog'\n",
    "new_string = re.sub(pattern, \"dog\", string)\n",
    "print(new_string)  # Output: \"I have a dog and another dog.\""
   ]
  },
  {
   "cell_type": "code",
   "execution_count": null,
   "id": "8ac3f3f5-e7cb-488c-88e6-155a5b1e5327",
   "metadata": {},
   "outputs": [],
   "source": []
  }
 ],
 "metadata": {
  "kernelspec": {
   "display_name": "Python 3 (ipykernel)",
   "language": "python",
   "name": "python3"
  },
  "language_info": {
   "codemirror_mode": {
    "name": "ipython",
    "version": 3
   },
   "file_extension": ".py",
   "mimetype": "text/x-python",
   "name": "python",
   "nbconvert_exporter": "python",
   "pygments_lexer": "ipython3",
   "version": "3.12.4"
  }
 },
 "nbformat": 4,
 "nbformat_minor": 5
}
