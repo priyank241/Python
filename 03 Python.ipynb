{
 "cells": [
  {
   "cell_type": "markdown",
   "id": "529cff16-775c-420f-bc53-50625d3ea537",
   "metadata": {},
   "source": [
    "# Functions"
   ]
  },
  {
   "cell_type": "code",
   "execution_count": 4,
   "id": "1e81aa1b-b118-48ab-ba15-44f0b3d1920d",
   "metadata": {},
   "outputs": [
    {
     "name": "stdout",
     "output_type": "stream",
     "text": [
      "Hello\n"
     ]
    }
   ],
   "source": [
    "def fun():   #memory allocation of function \n",
    "    print(\"Hello\")\n",
    "\n",
    "fun() #function call"
   ]
  },
  {
   "cell_type": "markdown",
   "id": "4af1b0d5-3941-4579-892c-441c9b4ce381",
   "metadata": {},
   "source": [
    " - No need to mention function return type\n",
    " - Class function object is created for each function\n",
    " - Interpreter comes in action only when function call is enocountered"
   ]
  },
  {
   "cell_type": "code",
   "execution_count": 9,
   "id": "c2c3286f-b529-45c2-b601-6ce169d205d5",
   "metadata": {},
   "outputs": [
    {
     "name": "stdout",
     "output_type": "stream",
     "text": [
      "<class 'function'>\n"
     ]
    }
   ],
   "source": [
    "print(type(fun))"
   ]
  },
  {
   "cell_type": "code",
   "execution_count": 11,
   "id": "3565ad42-73b2-4ae8-a03b-cb1d0c643a93",
   "metadata": {},
   "outputs": [
    {
     "name": "stdout",
     "output_type": "stream",
     "text": [
      "1492030040928\n"
     ]
    }
   ],
   "source": [
    "print(id(fun))"
   ]
  },
  {
   "cell_type": "markdown",
   "id": "bdc893ce-047b-42c1-823c-c5660be13bf0",
   "metadata": {},
   "source": [
    "### Global Variables"
   ]
  },
  {
   "cell_type": "markdown",
   "id": "28bc2e2c-ec3e-4974-b02c-4c54c6ce68a6",
   "metadata": {},
   "source": [
    "- Global variables can be accessed by any function\n",
    "- Local variable can be only accessed by that function itself"
   ]
  },
  {
   "cell_type": "code",
   "execution_count": 29,
   "id": "aabf36ba-be75-41b0-97d3-a127e4d3a7b6",
   "metadata": {},
   "outputs": [
    {
     "name": "stdout",
     "output_type": "stream",
     "text": [
      "100\n",
      "500\n"
     ]
    }
   ],
   "source": [
    "var = 500   #global\n",
    "def myfun():\n",
    "    var = 100   #local\n",
    "    print(var)\n",
    "\n",
    "myfun()\n",
    "print(var)"
   ]
  },
  {
   "cell_type": "code",
   "execution_count": 31,
   "id": "2b8e5e22-2e20-4315-b842-d618d4dc5892",
   "metadata": {},
   "outputs": [
    {
     "name": "stdout",
     "output_type": "stream",
     "text": [
      "value of var is\t 100\n",
      "value of var is\t 500\n"
     ]
    }
   ],
   "source": [
    "var=500\n",
    "def disp():\n",
    "    print(\"value of var is\\t\",var)\n",
    "    \n",
    "def myfun():\n",
    "    var=100\n",
    "    print(\"value of var is\\t\",var)#local var accessed\n",
    "    disp()#global var accessed \n",
    "myfun()"
   ]
  },
  {
   "cell_type": "code",
   "execution_count": 33,
   "id": "11c71d2b-8854-43b6-b30c-14503aa8c5fb",
   "metadata": {},
   "outputs": [
    {
     "name": "stdout",
     "output_type": "stream",
     "text": [
      "var inside main\t 100\n",
      "global var is\t 500\n"
     ]
    }
   ],
   "source": [
    "# Global Variable and Local variable\n",
    "var=500  # global variable\n",
    "\n",
    "def disp():\n",
    "   return var  # global var\n",
    "\n",
    "def myfun():\n",
    "    var=100  # local variable\n",
    "    print(\"var inside main\\t\",var) # by default local is given precedence\n",
    "    print(\"global var is\\t\",disp())\n",
    "myfun()"
   ]
  },
  {
   "cell_type": "code",
   "execution_count": 35,
   "id": "ed90f37d-4926-4173-8716-d9a2a637028f",
   "metadata": {},
   "outputs": [
    {
     "name": "stdout",
     "output_type": "stream",
     "text": [
      "300\n",
      "300\n"
     ]
    }
   ],
   "source": [
    "var = 500\n",
    "def fun():\n",
    "    global var\n",
    "    var = 300\n",
    "    print(var)\n",
    "\n",
    "fun()\n",
    "print(var)"
   ]
  },
  {
   "cell_type": "code",
   "execution_count": 37,
   "id": "0f8c2471-6f5e-4562-b0f7-1943db2389cf",
   "metadata": {},
   "outputs": [
    {
     "name": "stdout",
     "output_type": "stream",
     "text": [
      "500\n",
      "500\n"
     ]
    }
   ],
   "source": [
    "var = 500\n",
    "def fun():\n",
    "    global var\n",
    "    print(var)\n",
    "\n",
    "fun()\n",
    "print(var)"
   ]
  },
  {
   "cell_type": "code",
   "execution_count": 39,
   "id": "fbc655d1-d2cd-4519-ab3b-f167d76705a9",
   "metadata": {},
   "outputs": [
    {
     "name": "stdout",
     "output_type": "stream",
     "text": [
      "300\n",
      "500\n"
     ]
    }
   ],
   "source": [
    "var = 500\n",
    "def fun():\n",
    "    var = 300\n",
    "    print(var)\n",
    "\n",
    "fun()\n",
    "print(var)"
   ]
  },
  {
   "cell_type": "markdown",
   "id": "9f026133-eeae-4ccd-af4c-3edcb9d35198",
   "metadata": {},
   "source": [
    "#### Returning Multiple values from a function"
   ]
  },
  {
   "cell_type": "code",
   "execution_count": 46,
   "id": "392396d4-50fa-474c-a527-2f1661bbd872",
   "metadata": {},
   "outputs": [
    {
     "name": "stdout",
     "output_type": "stream",
     "text": [
      "30   10\n"
     ]
    }
   ],
   "source": [
    "def calc(a,b):\n",
    "    return a+b,a-b  #returns a tuple\n",
    "\n",
    "a=20\n",
    "b=10\n",
    "\n",
    "sum,diff = calc(a,b)  #tuple unpacks into multiple variables\n",
    "\n",
    "print(sum,' ',diff)"
   ]
  },
  {
   "cell_type": "markdown",
   "id": "20847aed-d938-43b1-9544-a3cd4668aeca",
   "metadata": {},
   "source": [
    "## Call by value concept"
   ]
  },
  {
   "cell_type": "code",
   "execution_count": 53,
   "id": "1cc67e7c-47ce-4a2e-bc8c-57a1d0d24068",
   "metadata": {},
   "outputs": [
    {
     "name": "stdout",
     "output_type": "stream",
     "text": [
      "id of num is  140731928427224\n",
      "before\t 10\n",
      "id of var before changing var is  140731928427224\n",
      "Value of var is\t 11\n",
      "id of var after changing var is  140731928427256\n",
      "after\t 10\n"
     ]
    }
   ],
   "source": [
    "def change(var):\n",
    "    print(\"id of var before changing var is \",id(var))\n",
    "    var+=1\n",
    "    print(\"Value of var is\\t\",var)\n",
    "    print(\"id of var after changing var is \",id(var))\n",
    "num=10\n",
    "print(\"id of num is \",id(num))\n",
    "print(\"before\\t\",num)\n",
    "change(num)\n",
    "print(\"after\\t\",num)\n"
   ]
  },
  {
   "cell_type": "markdown",
   "id": "76fd9cbf-dcda-478e-bd5d-77e177694346",
   "metadata": {},
   "source": [
    "## Call by reference concept"
   ]
  },
  {
   "cell_type": "code",
   "execution_count": 56,
   "id": "da18ca03-f391-482e-8c9f-0ec79675171c",
   "metadata": {},
   "outputs": [
    {
     "name": "stdout",
     "output_type": "stream",
     "text": [
      "Mainlist before calling function\t [1, 2, 3, 4]\n",
      "id of mainlist is\t 1492044382720\n",
      "id of mylist before changing var is\t 1492044382720\n",
      "id of mylist after changing var is\t 1492044382720\n",
      "Mainlist after calling function\t [1, 2, 3, 4, 5]\n"
     ]
    }
   ],
   "source": [
    "def change(mylist):\n",
    "    print(\"id of mylist before changing var is\\t\",id(mylist))\n",
    "    mylist.append(5)\n",
    "    print(\"id of mylist after changing var is\\t\",id(mylist))\n",
    "\n",
    "mainlist=[1,2,3,4]\n",
    "print(\"Mainlist before calling function\\t\",mainlist)\n",
    "print(\"id of mainlist is\\t\",id(mainlist))\n",
    "\n",
    "change(mainlist)\n",
    "print(\"Mainlist after calling function\\t\",mainlist)\n",
    "\n"
   ]
  },
  {
   "cell_type": "markdown",
   "id": "dcbea94c-e3dc-4ca7-bf31-72afef30cc55",
   "metadata": {},
   "source": [
    "## Default argument"
   ]
  },
  {
   "cell_type": "code",
   "execution_count": 60,
   "id": "c455210c-c4ff-4b59-ac34-1d5817687a5a",
   "metadata": {},
   "outputs": [
    {
     "name": "stdout",
     "output_type": "stream",
     "text": [
      "10 \t 20\n",
      "100 \t 200\n"
     ]
    }
   ],
   "source": [
    "def disp(var1,var2=20):\n",
    "\tprint(var1,\"\\t\",var2)\n",
    "\t\n",
    "def fun():\n",
    "\tdisp(10)\n",
    "\tdisp(100,200)\n",
    "fun()"
   ]
  },
  {
   "cell_type": "code",
   "execution_count": 62,
   "id": "22d53233-ca6f-4603-84b6-773fe4f3fbea",
   "metadata": {},
   "outputs": [
    {
     "ename": "SyntaxError",
     "evalue": "parameter without a default follows parameter with a default (507450615.py, line 3)",
     "output_type": "error",
     "traceback": [
      "\u001b[1;36m  Cell \u001b[1;32mIn[62], line 3\u001b[1;36m\u001b[0m\n\u001b[1;33m    def disp(var1=10,var2):\u001b[0m\n\u001b[1;37m                     ^\u001b[0m\n\u001b[1;31mSyntaxError\u001b[0m\u001b[1;31m:\u001b[0m parameter without a default follows parameter with a default\n"
     ]
    }
   ],
   "source": [
    "# Error :  SyntaxError: non-default argument follows default argument\n",
    "\n",
    "def disp(var1=10,var2):\n",
    "\tprint(var1,\"\\t\",var2)\n",
    "\n",
    "def fun():\n",
    "\n",
    "fun()\n"
   ]
  },
  {
   "cell_type": "markdown",
   "id": "6e310eef-e61a-479c-8598-04efd59bf8bd",
   "metadata": {},
   "source": [
    "### variable number of arguments to a function"
   ]
  },
  {
   "cell_type": "code",
   "execution_count": 76,
   "id": "c1372b43-0c37-476b-a0bc-ff1beee07c91",
   "metadata": {},
   "outputs": [
    {
     "name": "stdout",
     "output_type": "stream",
     "text": [
      "Type of vars is\t <class 'tuple'>\n",
      "no argument passed\n",
      "\n",
      "Type of vars is\t <class 'tuple'>\n",
      "10 20 30 \n",
      "\n",
      "Type of vars is\t <class 'tuple'>\n",
      "abc 200 True 3.4 "
     ]
    }
   ],
   "source": [
    "def disp(*vars):\n",
    "\tprint(\"Type of vars is\\t\",type(vars))\n",
    "\tif(len(vars)==0):\n",
    "\t\tprint(\"no argument passed\")\n",
    "\telse:\n",
    "\t\tfor k in vars:\n",
    "\t\t\tprint(k,end= ' ')\n",
    "            \n",
    "disp()\n",
    "print()\n",
    "disp(10,20,30)\n",
    "print()\n",
    "print()\n",
    "disp(\"abc\",200,True,3.4)"
   ]
  },
  {
   "cell_type": "markdown",
   "id": "96a7f0ca-86d4-4b04-b5d2-138754ca29db",
   "metadata": {},
   "source": [
    "## keyworded argument function"
   ]
  },
  {
   "cell_type": "code",
   "execution_count": 80,
   "id": "60233f6f-99a2-4d19-82f4-2c7d2cb889c6",
   "metadata": {},
   "outputs": [
    {
     "name": "stdout",
     "output_type": "stream",
     "text": [
      "<class 'tuple'>\n",
      "A\n",
      "hello\n",
      "5.6\n",
      "True\n",
      "500\n",
      "\n",
      "let's define keyworded argument function\n",
      "\n",
      "<class 'dict'>\n",
      "name \t Rohit\n",
      "age \t 30\n",
      "<class 'dict'>\n",
      "name \t Viraat\n",
      "age \t 34\n",
      "rollno \t 1\n",
      "address \t Mumbai\n"
     ]
    }
   ],
   "source": [
    "def myfun(*varg):\n",
    "    print(type(varg))\n",
    "    for i in varg:\n",
    "        print(i)\n",
    "\n",
    "myfun('A',\"hello\",5.6,True,500)\n",
    "\n",
    "#    myfun(name=\"Rohit\",age=30)     #    TypeError: myfun() got an unexpected keyword argument 'name'\n",
    "\n",
    "print(\"\\nlet's define keyworded argument function\\n\")\n",
    "def myfun1(**varg):         # keyworded argument function\n",
    "    print(type(varg))\n",
    "    for key,value in varg.items():\n",
    "        print(key,\"\\t\",value)\n",
    "\n",
    "myfun1(name=\"Rohit\",age=30)\n",
    "myfun1(name=\"Viraat\",age=34,rollno=1,address=\"Mumbai\")\n",
    "# myfun1('A',100,\"hello\",6,7)  # must be key-value pair"
   ]
  },
  {
   "cell_type": "markdown",
   "id": "13001491-15b8-4d86-a93a-deb4db849b4f",
   "metadata": {},
   "source": [
    "### Function accepts another function as an argument"
   ]
  },
  {
   "cell_type": "code",
   "execution_count": 84,
   "id": "6a20f2da-ba36-4cee-baf3-651339a5ed74",
   "metadata": {},
   "outputs": [
    {
     "name": "stdout",
     "output_type": "stream",
     "text": [
      "inside disp function\n",
      "inside caller function\n"
     ]
    }
   ],
   "source": [
    "def main(fun):\n",
    "    fun()\n",
    "    print(\"inside caller function\")\n",
    "\n",
    "def disp():\n",
    "    print(\"inside disp function\")\n",
    "\n",
    "main(disp)"
   ]
  },
  {
   "cell_type": "markdown",
   "id": "e2b5a565-9ab3-4cbd-8484-35ff47614fa3",
   "metadata": {},
   "source": [
    "- Python provides a built-in function, to determine which objects are callable. The function is callable(). \n",
    "- If the object passed as a parameter to the callable() prints TRUE then that object is callable. \n",
    "- If it displays FALSE then it is not callable in Python."
   ]
  },
  {
   "cell_type": "code",
   "execution_count": 89,
   "id": "ed3641c2-dd8c-49fd-ae17-c51ba1310790",
   "metadata": {},
   "outputs": [
    {
     "name": "stdout",
     "output_type": "stream",
     "text": [
      "inside disp function\n",
      "You passed non-callable argument to main function\n"
     ]
    }
   ],
   "source": [
    "def main(fun):\n",
    "    if callable(fun):\n",
    "        fun()\n",
    "    else:\n",
    "        print(\"You passed non-callable argument to main function\")\n",
    "\n",
    "def disp():\n",
    "    print(\"inside disp function\")\n",
    "\n",
    "main(disp)    # works\n",
    "temp=100\n",
    "main(temp)"
   ]
  },
  {
   "cell_type": "code",
   "execution_count": 91,
   "id": "4d7c618c-6f04-4baa-9a26-9d3b9aea34b2",
   "metadata": {},
   "outputs": [
    {
     "name": "stdout",
     "output_type": "stream",
     "text": [
      "inside disp function\n"
     ]
    }
   ],
   "source": [
    "a = disp\n",
    "a()"
   ]
  },
  {
   "cell_type": "markdown",
   "id": "4b37396a-315f-4b0e-8eb7-4e555c22307a",
   "metadata": {},
   "source": [
    "### Function returns another function"
   ]
  },
  {
   "cell_type": "code",
   "execution_count": 3,
   "id": "ddb438f2-50cc-4ffa-aeab-778b0bf8790d",
   "metadata": {},
   "outputs": [
    {
     "name": "stdout",
     "output_type": "stream",
     "text": [
      "inside disp1\n",
      "inside disp2\n"
     ]
    }
   ],
   "source": [
    "def disp1():\n",
    "    print(\"inside disp1\")\n",
    "    return disp2\n",
    "\n",
    "def disp2():\n",
    "    print(\"inside disp2\")\n",
    "\n",
    "var1=disp1()\n",
    "var1()  # here \"disp2()\" will be called"
   ]
  },
  {
   "cell_type": "code",
   "execution_count": 98,
   "id": "eecd64cc-016d-4922-8550-b9871ec2acd5",
   "metadata": {},
   "outputs": [
    {
     "name": "stdout",
     "output_type": "stream",
     "text": [
      "inside disp1\n",
      "inside disp2\n"
     ]
    }
   ],
   "source": [
    "def disp1():\n",
    "    print(\"inside disp1\")\n",
    "    return disp2\n",
    "\n",
    "def disp2():\n",
    "    print(\"inside disp2\")\n",
    "\n",
    "disp1()()    # no need to collect the returned function in any variable"
   ]
  },
  {
   "cell_type": "code",
   "execution_count": 100,
   "id": "f578277c-50a4-4c72-a5c8-7c3e41f857c3",
   "metadata": {},
   "outputs": [
    {
     "name": "stdout",
     "output_type": "stream",
     "text": [
      "inside disp1\n",
      "<function disp2 at 0x0000015B64114EA0>\n"
     ]
    }
   ],
   "source": [
    "print(disp1())"
   ]
  },
  {
   "cell_type": "markdown",
   "id": "434c167e-eabd-4efb-b418-7440361978b3",
   "metadata": {},
   "source": [
    "## Nested Functions"
   ]
  },
  {
   "cell_type": "code",
   "execution_count": 6,
   "id": "3aa9fe78-5cd6-4dbe-8fd4-968838e72032",
   "metadata": {},
   "outputs": [
    {
     "name": "stdout",
     "output_type": "stream",
     "text": [
      "inside outer function\n",
      "inside inner function\n"
     ]
    }
   ],
   "source": [
    "def outer():\n",
    "    def inner():\n",
    "        print(\"inside inner function\")\n",
    "    print(\"inside outer function\")\n",
    "    inner()\n",
    "\n",
    "outer()"
   ]
  },
  {
   "cell_type": "markdown",
   "id": "f2006682-3840-4f97-8601-1471c74c2370",
   "metadata": {},
   "source": [
    "Closure in Python is an inner function object, a function that behaves like an object, that remembers and has access to variables in the local scope in which it was created even after the outer function has finished executing."
   ]
  },
  {
   "cell_type": "code",
   "execution_count": 11,
   "id": "002d9acd-a27b-4134-8705-0e2bc4c37c1a",
   "metadata": {},
   "outputs": [
    {
     "name": "stdout",
     "output_type": "stream",
     "text": [
      "5\n",
      "inside inner function\n"
     ]
    }
   ],
   "source": [
    "def outer():\n",
    "    a = 5\n",
    "    def inner():     # it's a closure\n",
    "        print(a)\n",
    "        print(\"inside inner function\")\n",
    "    return inner\n",
    "\n",
    "var1=outer()\n",
    "var1()"
   ]
  },
  {
   "cell_type": "markdown",
   "id": "0262f6a6-68e0-47f5-9324-e1c1afd96df7",
   "metadata": {},
   "source": [
    "### LEGB"
   ]
  },
  {
   "cell_type": "markdown",
   "id": "de590e94-4004-4ec7-a37b-d38c8abbaea8",
   "metadata": {},
   "source": [
    "The LEGB rule is a name lookup procedure in Python that determines the order in which Python searches for names:\n",
    " - L: Local or function scope\n",
    " - E: Enclosing or nonlocal scope\n",
    " - G: Global or module\n",
    " - B: Built-in "
   ]
  },
  {
   "attachments": {
    "68fdbfc0-7349-493d-8f0f-980d8970082a.png": {
     "image/png": "[encoded data removed]"
    }
   },
   "cell_type": "markdown",
   "id": "daa9da8f-d294-46eb-95b4-9ba9b00c1cf6",
   "metadata": {},
   "source": [
    "![image.png](attachment:68fdbfc0-7349-493d-8f0f-980d8970082a.png)"
   ]
  },
  {
   "cell_type": "markdown",
   "id": "72e22bce-1fb3-4450-84a6-63f0904a3d8a",
   "metadata": {},
   "source": [
    "The closure mechanism keeps the environment of \"outer\" function alive in memory as long as there's a reference to the \"inner\" function"
   ]
  },
  {
   "cell_type": "code",
   "execution_count": 21,
   "id": "d0023374-44f2-41e6-93cd-0d88f9513176",
   "metadata": {},
   "outputs": [
    {
     "name": "stdout",
     "output_type": "stream",
     "text": [
      "inside outer function\n",
      "inside inner function\t 400\n"
     ]
    }
   ],
   "source": [
    "def outer():\n",
    "    num=100\n",
    "    def inner():     # it's a closure\n",
    "        print(\"inside inner function\\t\",num)\n",
    "    num=400\n",
    "    print(\"inside outer function\")\n",
    "    return inner\n",
    "\n",
    "var1=outer()\n",
    "var1()"
   ]
  },
  {
   "cell_type": "markdown",
   "id": "4ef8cf1e-120c-4873-b6ba-037e8409840b",
   "metadata": {},
   "source": [
    "### Lexical scope **\n",
    "lexical scope=local scope+lexical environment of parent function [ outer function ]\n",
    "\n",
    "inner function is lexically sitting inside outer function. That means inner function will have access to the lexical environment of outer function.\n",
    "outer function is lexically sitting inside the global scope.\n"
   ]
  },
  {
   "cell_type": "code",
   "execution_count": 28,
   "id": "545459c3-0249-4c2b-ba46-295ccaa09bfd",
   "metadata": {},
   "outputs": [
    {
     "name": "stdout",
     "output_type": "stream",
     "text": [
      "100 \t 200 \t 300\n"
     ]
    }
   ],
   "source": [
    "num1=100\n",
    "def first():\n",
    "\tnum2=200\n",
    "\tdef second():\n",
    "\t\tnum3=300\n",
    "\t\tprint(num1,\"\\t\",num2,\"\\t\",num3)\n",
    "\t\t#print(num4)  # NameError\n",
    "\treturn second\n",
    "\n",
    "first()()"
   ]
  },
  {
   "cell_type": "markdown",
   "id": "d15ddd86-85f0-4db0-ad57-f6a2a4c54675",
   "metadata": {},
   "source": [
    "### Decorator\n",
    "decorator is a function which accepts another function as an argument , modifies it and returns.\r\n",
    "\r\n",
    "In Python, a decorator is a design pattern that allows you to modify the functionality of a function by wrapping it in another function. The outer function is called the decorator, which takes the original function as an argument and returns a modified version of it."
   ]
  },
  {
   "cell_type": "code",
   "execution_count": 62,
   "id": "25707545-fcae-4410-bfdf-1e4fa165e7a2",
   "metadata": {
    "scrolled": true
   },
   "outputs": [
    {
     "name": "stdout",
     "output_type": "stream",
     "text": [
      "Initialising Resources\n",
      "Important task1\n",
      "Releasing Resources\n",
      "\n",
      "\n",
      "\n",
      "Initialising Resources\n",
      "Important task2\n",
      "Releasing Resources\n",
      "\n",
      "\n",
      "\n",
      "Initialising Resources\n",
      "Important task3\n",
      "Releasing Resources\n",
      "\n",
      "\n",
      "Initialising Resources\n",
      "Important task4\n",
      "Releasing Resources\n"
     ]
    }
   ],
   "source": [
    "def decor_function(myfun):  # decorator function\n",
    "    def with_init_release():  # closure\n",
    "        print(\"Initialising Resources\")\n",
    "        myfun()\n",
    "        print(\"Releasing Resources\")\n",
    "    return with_init_release\n",
    "\n",
    "\n",
    "def fun1():\n",
    "    print(\"Important task1\")\n",
    "\n",
    "def fun2():\n",
    "    print(\"Important task2\")\n",
    "\n",
    "def fun3():\n",
    "    print(\"Important task3\")\n",
    "\n",
    "def fun4():\n",
    "    print(\"Important task4\") \n",
    "    \n",
    "var1=decor_function(fun1)\n",
    "var1()\n",
    "print('\\n\\n')\n",
    "\n",
    "var2=decor_function(fun2)\n",
    "var2()\n",
    "print('\\n\\n')\n",
    "\n",
    "var3=decor_function(fun3)\n",
    "var3() \n",
    "print('\\n')\n",
    "\n",
    "decor_function(fun4)()   # no need to collect function in any variable"
   ]
  },
  {
   "cell_type": "code",
   "execution_count": 58,
   "id": "d57a929a-9106-4255-afc3-c48eb8ff5c52",
   "metadata": {},
   "outputs": [
    {
     "name": "stdout",
     "output_type": "stream",
     "text": [
      "Starting.......\n",
      "..In display..\n",
      "........Ending\n"
     ]
    }
   ],
   "source": [
    "def out(func):\n",
    "    def inn():\n",
    "        print('Starting.......')\n",
    "        func()\n",
    "        print('........Ending')\n",
    "    return inn\n",
    "\n",
    "def disp():\n",
    "    print('..In display..')\n",
    "\n",
    "out(disp)()"
   ]
  },
  {
   "cell_type": "code",
   "execution_count": 68,
   "id": "3db95a35-c049-4288-bc8e-748f3cd08f88",
   "metadata": {},
   "outputs": [
    {
     "name": "stdout",
     "output_type": "stream",
     "text": [
      "2\n"
     ]
    }
   ],
   "source": [
    "#following function is not accessible to user to change and what if user gives arguments such that 1st number is smaller hence following decorator\n",
    "def div(a,b):\n",
    "    print(a//b)\n",
    "\n",
    "def my_div(fun):        # this is the decorator function which takes another function as an argument, invoke it and return it\n",
    "    def actual_logic(a,b):  # closure\n",
    "        if a<b:\n",
    "            a,b=b,a\n",
    "        fun(a,b)\n",
    "    return actual_logic\n",
    "\n",
    "div1=my_div(div) \n",
    "div1(4,8) "
   ]
  },
  {
   "cell_type": "code",
   "execution_count": 76,
   "id": "9ddc44f1-cd84-48f6-a4eb-fc348f3576d0",
   "metadata": {},
   "outputs": [
    {
     "name": "stdout",
     "output_type": "stream",
     "text": [
      "Initialising Resources\n",
      "Important task1\n",
      "Releasing Resources\n",
      "\n",
      "\n",
      "Initialising Resources\n",
      "Important task2\n",
      "Releasing Resources\n",
      "\n",
      "\n",
      "Initialising Resources\n",
      "Important task3\n",
      "Releasing Resources\n",
      "\n",
      "\n",
      "Initialising Resources\n",
      "Important task4\n",
      "Releasing Resources\n",
      "\n",
      "\n"
     ]
    }
   ],
   "source": [
    "# we have a solution for this. We can go for \"Decorator\" function.\n",
    "# let's write initialization and release \n",
    "\n",
    "def decor_function(myfun):\n",
    "    def with_init_release():\n",
    "        print(\"Initialising Resources\")\n",
    "        myfun()\n",
    "        print(\"Releasing Resources\")\n",
    "        print('\\n')\n",
    "    return with_init_release\n",
    "\n",
    "@decor_function                  #  when you don't want to initialize or release remove the annotation\n",
    "def fun1():\n",
    "    print(\"Important task1\")\n",
    "\n",
    "@decor_function\n",
    "def fun2():\n",
    "    print(\"Important task2\")\n",
    "\n",
    "@decor_function\n",
    "def fun3():\n",
    "    print(\"Important task3\")\n",
    "\n",
    "@decor_function\n",
    "def fun4():\n",
    "    print(\"Important task4\") \n",
    "    \n",
    "fun1()  # The moment \"fun1\" statement is encountered, \"decor_function\" gets called [by passing fun1 as an argument] which returns \"with_init_release\" function.\n",
    "# here we invoke it using (), hence \"with_init_release\" function gets called [which calls \"fun1\"] and we get the output. Same for all the \n",
    "# following statements.\n",
    "\n",
    "fun2()\n",
    "fun3()\n",
    "fun4()"
   ]
  },
  {
   "cell_type": "markdown",
   "id": "fe6cbddc-58fd-4ec4-84c3-8a20ed12a2a1",
   "metadata": {},
   "source": [
    "## Function Overloading"
   ]
  },
  {
   "cell_type": "code",
   "execution_count": 81,
   "id": "d2c56090-772a-4ec0-9e2f-bef6cbe15356",
   "metadata": {},
   "outputs": [
    {
     "name": "stdout",
     "output_type": "stream",
     "text": [
      "fun1 with 2 args\n"
     ]
    }
   ],
   "source": [
    "# The problem with method overloading in Python is that we may # overload the methods \n",
    "# but can only use the latest defined method.\n",
    "\n",
    "def fun1():\n",
    "    print(\"fun1 with 0 arg\")\n",
    "def fun1(num1):\n",
    "    print(\"fun1 with 1 arg\")\n",
    "def fun1(num1,num2):\n",
    "    print(\"fun1 with 2 args\")\n",
    "\n",
    "# fun1()   #  TypeError: fun1() missing 2 required positional arguments: 'num1' and 'num2'\n",
    "\n",
    "# fun1(10) #  TypeError: fun1() missing 2 required positional arguments: 'num1' and 'num2'\n",
    "\n",
    "fun1(30,40) # No problem"
   ]
  },
  {
   "cell_type": "markdown",
   "id": "55cb0a67-fc29-4e16-8fbf-a250798ebf94",
   "metadata": {},
   "source": [
    "##### 1 way of overloading"
   ]
  },
  {
   "cell_type": "code",
   "execution_count": 94,
   "id": "774a4dd5-4b7b-4567-a04f-2d600a6a5e19",
   "metadata": {},
   "outputs": [
    {
     "name": "stdout",
     "output_type": "stream",
     "text": [
      "No of Arguments passed are \t 2\n",
      "10 20 \n",
      "\n",
      "No of Arguments passed are \t 3\n",
      "30 40 50 \n",
      "\n",
      "No of Arguments passed are \t 4\n",
      "hello 100 4.5 True \n",
      "\n",
      "No of Arguments passed are \t 0\n",
      "\n",
      "\n"
     ]
    }
   ],
   "source": [
    "def disp(*args):\n",
    "    print(\"No of Arguments passed are \\t\",args.__len__())\n",
    "    for i in args:\n",
    "        print(i,end=\" \")\n",
    "    print(\"\\n\")\n",
    "    \n",
    "disp(10,20)\n",
    "disp(30,40,50)\n",
    "disp(\"hello\",100,4.5,True)\n",
    "disp()"
   ]
  },
  {
   "cell_type": "code",
   "execution_count": 7,
   "id": "f4e85077-97f9-4eb4-9db8-39e3baccd819",
   "metadata": {},
   "outputs": [],
   "source": [
    "from multipledispatch import dispatch"
   ]
  },
  {
   "cell_type": "code",
   "execution_count": 11,
   "id": "da2a928b-24f6-48ee-a786-7c09699e8105",
   "metadata": {},
   "outputs": [
    {
     "name": "stdout",
     "output_type": "stream",
     "text": [
      "80\n",
      "12\n",
      "15.625\n"
     ]
    }
   ],
   "source": [
    "#passing two parameters\n",
    "@dispatch(int,int)\n",
    "def product(first,second):\n",
    "    result = first*second\n",
    "    print(result)\n",
    "  \n",
    "#passing three parameters\n",
    "@dispatch(int,int,int)\n",
    "def product(first,second,third):\n",
    "    result  = first * second * third\n",
    "    print(result)\n",
    "  \n",
    "#you can also pass data type of any value as per requirement\n",
    "@dispatch(float,float,float)\n",
    "def product(first,second,third):\n",
    "    result  = first * second * third\n",
    "    print(result)\n",
    "  \n",
    "  \n",
    "#calling product method with 2 arguments\n",
    "product(20,4)\n",
    "product(2,3,2) \n",
    "product(2.5,2.5,2.5) \n"
   ]
  },
  {
   "cell_type": "code",
   "execution_count": 112,
   "id": "605d1675-7b74-4990-9bc2-ec3a62b098e5",
   "metadata": {},
   "outputs": [],
   "source": [
    "@dispatch(int,int)\n",
    "def add(n1,n2):\n",
    "    print(n1+n2)\n",
    "\n",
    "@dispatch(int,int,int)\n",
    "def add(n1,n2,n3):\n",
    "    print(n1+n2+n3)"
   ]
  },
  {
   "cell_type": "code",
   "execution_count": 114,
   "id": "c45361c8-49c6-42a8-9720-7bb4b2097e24",
   "metadata": {},
   "outputs": [
    {
     "name": "stdout",
     "output_type": "stream",
     "text": [
      "8\n",
      "8\n"
     ]
    }
   ],
   "source": [
    "add(4,4)\n",
    "add(1,2,5)"
   ]
  },
  {
   "cell_type": "code",
   "execution_count": 116,
   "id": "004ae6b5-8315-4c7c-bf7e-800380b8539a",
   "metadata": {},
   "outputs": [
    {
     "name": "stdout",
     "output_type": "stream",
     "text": [
      "Inside str method\t hello \t world\n",
      "Inside int method\t 100 \t 200\n"
     ]
    }
   ],
   "source": [
    "from multipledispatch import dispatch\n",
    "\n",
    "@dispatch(int,int)\n",
    "def disp(val1,val2):\n",
    "    print(\"Inside int method\\t\",val1,\"\\t\",val2)\n",
    "\n",
    "@dispatch(str,str)\n",
    "def disp(val1,val2):\n",
    "    print(\"Inside str method\\t\",val1,\"\\t\",val2)\n",
    "\n",
    "disp(\"hello\",\"world\")\n",
    "disp(100,200)"
   ]
  },
  {
   "cell_type": "code",
   "execution_count": 3,
   "id": "f1c888a9-f058-4085-a0c2-76cb4160dc6a",
   "metadata": {},
   "outputs": [
    {
     "name": "stdout",
     "output_type": "stream",
     "text": [
      "17.204\n",
      "Sample\n"
     ]
    }
   ],
   "source": [
    "# When a function decorated with @dispatch is called,\n",
    "# the library inspects the arguments passed to the function\n",
    "# and dispatches the call to the appropriate implementation\n",
    "# based on the type and number of arguments.\n",
    "\n",
    "from multipledispatch import dispatch\n",
    "\n",
    "class Sample:\n",
    "    def __str__(self):\n",
    "        return 'Sample'\n",
    "\n",
    "@dispatch(Sample)\n",
    "def product(first):\n",
    "    print(first)\n",
    "\n",
    "\n",
    "# you can also pass data type of any value as per requirement\n",
    "@dispatch(float, float, float)\n",
    "def product(first, second, third):\n",
    "    result = first * second * third\n",
    "    print(result)\n",
    "\n",
    "\n",
    "# calling product method with 2 arguments\n",
    "product(2.2, 3.4, 2.3)\n",
    "s1=Sample()\n",
    "product(s1)"
   ]
  },
  {
   "cell_type": "code",
   "execution_count": 122,
   "id": "ed9e4086-8f25-4917-b12e-4e959ada9fd4",
   "metadata": {},
   "outputs": [
    {
     "data": {
      "text/plain": [
       "function"
      ]
     },
     "execution_count": 122,
     "metadata": {},
     "output_type": "execute_result"
    }
   ],
   "source": [
    "type(dispatch)"
   ]
  },
  {
   "cell_type": "markdown",
   "id": "3385aa27-c0df-4d47-91c8-1d63c0eb070e",
   "metadata": {},
   "source": [
    "dispatch is a decorator function "
   ]
  },
  {
   "cell_type": "code",
   "execution_count": 3,
   "id": "cdb7c98f-b414-4139-9c51-3ed375d368bb",
   "metadata": {},
   "outputs": [
    {
     "name": "stdout",
     "output_type": "stream",
     "text": [
      "<class 'str'>\n"
     ]
    }
   ],
   "source": [
    "print(type('ab'))"
   ]
  },
  {
   "cell_type": "code",
   "execution_count": null,
   "id": "143c22ef-2b22-49d0-962f-8782dd9510b7",
   "metadata": {},
   "outputs": [],
   "source": []
  }
 ],
 "metadata": {
  "kernelspec": {
   "display_name": "Python 3 (ipykernel)",
   "language": "python",
   "name": "python3"
  },
  "language_info": {
   "codemirror_mode": {
    "name": "ipython",
    "version": 3
   },
   "file_extension": ".py",
   "mimetype": "text/x-python",
   "name": "python",
   "nbconvert_exporter": "python",
   "pygments_lexer": "ipython3",
   "version": "3.12.4"
  }
 },
 "nbformat": 4,
 "nbformat_minor": 5
}
