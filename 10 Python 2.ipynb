{
 "cells": [
  {
   "cell_type": "code",
   "execution_count": 1,
   "id": "5bf991aa-ed6b-4517-b42f-6dc0af7ef887",
   "metadata": {},
   "outputs": [
    {
     "name": "stdin",
     "output_type": "stream",
     "text": [
      "Enter your name Priyank\n"
     ]
    },
    {
     "name": "stdout",
     "output_type": "stream",
     "text": [
      "Priyank welcome to the server side\n"
     ]
    }
   ],
   "source": [
    "import socket\n",
    "\n",
    "with socket.socket() as c:\n",
    "    c.connect((\"localhost\",5000))\n",
    "    name=input(\"Enter your name\")\n",
    "\n",
    "    # convert the input string into bytes.\n",
    "    c.send(bytes(name,'utf-8'))\n",
    "\n",
    "    # decodes the response which comes as byte string\n",
    "    # into a standard string format\n",
    "    print(c.recv(1024).decode())"
   ]
  },
  {
   "cell_type": "code",
   "execution_count": null,
   "id": "9315d034-8ad4-4fe2-abb0-0d16d4c0c2f8",
   "metadata": {},
   "outputs": [],
   "source": [
    "import socket\n",
    "\n",
    "with socket.socket() as c:\n",
    "    c.connect((\"192.168.0.240\",5000))\n",
    "    name=input(\"Enter your name\")\n",
    "    c.send(bytes(name,'utf-8'))\n",
    "    print(c.recv(1024).decode())\n",
    "    print(\"let's have a chat with server\")\n",
    "    while True:\n",
    "        message=input(\"enter message to be sent to the server\")\n",
    "        c.send(bytes(message,'utf-8'))\n",
    "        message1=c.recv(1024).decode()\n",
    "        print(\"message from server is\\t\",message1)"
   ]
  },
  {
   "cell_type": "code",
   "execution_count": null,
   "id": "6abae11e-ec44-4b52-b8ca-581c98bab88c",
   "metadata": {},
   "outputs": [],
   "source": []
  },
  {
   "cell_type": "code",
   "execution_count": null,
   "id": "cc8f4f39-fe68-4cce-b335-412b598e96a9",
   "metadata": {},
   "outputs": [],
   "source": [
    "# how to create database using Python\n",
    "\n",
    "import mysql.connector as m\n",
    " \n",
    "mydatabase=m.connect(host=\"localhost\",user=\"root\",password=\"root1234\")\n",
    "cursor=mydatabase.cursor()\n",
    "cursor.execute(\"create database pythondb1\")   # go and check inside MySQL whether database has been created or not\n"
   ]
  },
  {
   "cell_type": "code",
   "execution_count": null,
   "id": "9163add0-6853-4061-b2ec-73b86921633e",
   "metadata": {},
   "outputs": [],
   "source": []
  }
 ],
 "metadata": {
  "kernelspec": {
   "display_name": "Python 3 (ipykernel)",
   "language": "python",
   "name": "python3"
  },
  "language_info": {
   "codemirror_mode": {
    "name": "ipython",
    "version": 3
   },
   "file_extension": ".py",
   "mimetype": "text/x-python",
   "name": "python",
   "nbconvert_exporter": "python",
   "pygments_lexer": "ipython3",
   "version": "3.12.4"
  }
 },
 "nbformat": 4,
 "nbformat_minor": 5
}
