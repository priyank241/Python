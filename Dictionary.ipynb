{
 "cells": [
  {
   "cell_type": "markdown",
   "id": "1534109e-d4f4-4f58-ad42-9b10ec67d0fa",
   "metadata": {},
   "source": [
    "#### 1. Write a Python script to sort (ascending and descending) a dictionary by value. "
   ]
  },
  {
   "cell_type": "code",
   "execution_count": 42,
   "id": "fc002b85-36df-4af9-9de7-518156bafda3",
   "metadata": {},
   "outputs": [
    {
     "data": {
      "text/plain": [
       "{5: 100, 1: 200, 4: 300, 3: 400, 2: 500, 6: 900}"
      ]
     },
     "execution_count": 42,
     "metadata": {},
     "output_type": "execute_result"
    }
   ],
   "source": [
    "dct = {6:900,1:200,2:500,3:400,4:300,5:100}\n",
    "dct1 = dict(sorted(dct.items(),key=lambda item:item[1]))\n",
    "dct1"
   ]
  },
  {
   "cell_type": "code",
   "execution_count": 44,
   "id": "67e15177-aa25-4209-b6e6-b5354e648bfb",
   "metadata": {},
   "outputs": [
    {
     "data": {
      "text/plain": [
       "{6: 900, 2: 500, 3: 400, 4: 300, 1: 200, 5: 100}"
      ]
     },
     "execution_count": 44,
     "metadata": {},
     "output_type": "execute_result"
    }
   ],
   "source": [
    "dct = {6:900,1:200,2:500,3:400,4:300,5:100}\n",
    "dct1 = dict(sorted(dct.items(),key=lambda item:item[1],reverse=True))\n",
    "dct1"
   ]
  },
  {
   "cell_type": "code",
   "execution_count": null,
   "id": "d495d24a-94c4-489b-b8ef-f215eda1e81f",
   "metadata": {},
   "outputs": [],
   "source": []
  }
 ],
 "metadata": {
  "kernelspec": {
   "display_name": "Python 3 (ipykernel)",
   "language": "python",
   "name": "python3"
  },
  "language_info": {
   "codemirror_mode": {
    "name": "ipython",
    "version": 3
   },
   "file_extension": ".py",
   "mimetype": "text/x-python",
   "name": "python",
   "nbconvert_exporter": "python",
   "pygments_lexer": "ipython3",
   "version": "3.12.4"
  }
 },
 "nbformat": 4,
 "nbformat_minor": 5
}
