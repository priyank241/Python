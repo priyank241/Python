{
 "cells": [
  {
   "cell_type": "markdown",
   "id": "fa6bd757-3e83-4d98-91d6-ecd8d0cf6130",
   "metadata": {},
   "source": [
    "# OOPS"
   ]
  },
  {
   "cell_type": "markdown",
   "id": "ea2d049a-6d0c-4d5f-8afb-8f65999357f9",
   "metadata": {},
   "source": [
    "Object Oriented Programming is a fundamental concept in Python, empowering developers to build modular, maintainable, and scalable applications. By understanding the core OOP principles—classes, objects, inheritance, encapsulation, polymorphism, and abstraction—programmers can leverage the full potential of Python’s OOP capabilities to design elegant and efficient solutions to complex problems.\n",
    "\n",
    "What is Object-Oriented Programming in Python?\n",
    "In Python object-oriented Programming (OOPs) is a programming paradigm that uses objects and classes in programming. It aims to implement real-world entities like inheritance, polymorphisms, encapsulation, etc. in the programming. The main concept of object-oriented Programming (OOPs) or oops concepts in Python is to bind the data and the functions that work together as a single unit so that no other part of the code can access this data. "
   ]
  },
  {
   "cell_type": "code",
   "execution_count": 1,
   "id": "a6646769-28f2-485c-a426-9f51f7184b74",
   "metadata": {},
   "outputs": [
    {
     "name": "stdout",
     "output_type": "stream",
     "text": [
      "Object initialized\n"
     ]
    },
    {
     "data": {
      "text/plain": [
       "1"
      ]
     },
     "execution_count": 1,
     "metadata": {},
     "output_type": "execute_result"
    }
   ],
   "source": [
    "class Sample:\n",
    "    def __init__(self,num):\n",
    "        print('Object initialized')\n",
    "        self.num = num\n",
    "\n",
    "s = Sample(1)\n",
    "s.num"
   ]
  },
  {
   "cell_type": "markdown",
   "id": "91dfa9b0-c751-4883-a0eb-b3fce61b4e6a",
   "metadata": {},
   "source": [
    "How can we create private and protected members in Python?\n",
    "\n",
    "ans:-\n",
    "\n",
    "You create private members by prefixing the member name with two leading underscores (__).\n",
    "\n",
    "You create protected members by prefixing the member name with a single leading underscore (_)."
   ]
  },
  {
   "cell_type": "code",
   "execution_count": 3,
   "id": "d850fa0f-7181-488a-8297-efb4379c042f",
   "metadata": {},
   "outputs": [
    {
     "name": "stdout",
     "output_type": "stream",
     "text": [
      "10\n",
      "20\n",
      "30\n"
     ]
    }
   ],
   "source": [
    "class A:\n",
    "    def __init__(self,a,b,c):\n",
    "        self.a=a    # public\n",
    "        self.__b=b  # private\n",
    "        self._c=c   # protected\n",
    "\n",
    "ref1=A(10,20,30)\n",
    "print(ref1.a)\n",
    "# print(ref1.b) # AttributeError: 'A' object has no attribute 'b'\n",
    "# print(ref1.c) # AttributeError: 'A' object has no attribute 'c'\n",
    "print(ref1._A__b)  # now it's possible\n",
    "print(ref1._c)"
   ]
  },
  {
   "cell_type": "markdown",
   "id": "a0060e79-39cb-4b50-ad0d-c1eb15623409",
   "metadata": {},
   "source": [
    "## Self"
   ]
  },
  {
   "cell_type": "code",
   "execution_count": 23,
   "id": "eb20fca6-3bc4-4302-ae6f-c4c3d8873453",
   "metadata": {},
   "outputs": [
    {
     "name": "stdout",
     "output_type": "stream",
     "text": [
      "address of f1 is\t 2031803021120\n",
      "address of self is\t 2031803021120\n",
      "type of self is\t <class '__main__.First'>\n",
      "\n",
      "\n",
      "\n",
      "address of f2 is\t 2031806015072\n",
      "address of self is\t 2031806015072\n",
      "type of self is\t <class '__main__.First'>\n"
     ]
    }
   ],
   "source": [
    "class First:\n",
    "    def mainfunction(self):\n",
    "        print(\"address of self is\\t\",id(self))\n",
    "        print(\"type of self is\\t\",type(self))\n",
    "        \n",
    "f1=First()\n",
    "print(\"address of f1 is\\t\",id(f1))\n",
    "f1.mainfunction()\n",
    "print('\\n\\n')\n",
    "f2=First()\n",
    "print(\"address of f2 is\\t\",id(f2))\n",
    "f2.mainfunction()"
   ]
  },
  {
   "cell_type": "markdown",
   "id": "1a79ad2d-e209-4226-8c20-a743008c2bfa",
   "metadata": {},
   "source": [
    "## Garbage collection \n",
    "It is simply the process of freeing memory when it is not used/reached by any reference/pointer anymore. Python performs garbage collection via a technique called reference counting. Using reference counting, GC collects the objects as soon as they become unreachable which happens when the number of references to the object is 0. "
   ]
  },
  {
   "cell_type": "code",
   "execution_count": 30,
   "id": "8f9f40b1-53b6-4c32-b727-9b87105dc5c6",
   "metadata": {},
   "outputs": [
    {
     "name": "stdout",
     "output_type": "stream",
     "text": [
      "100\n"
     ]
    }
   ],
   "source": [
    "var=100\n",
    "print(var)\n",
    "del var\n",
    "#print(var)    #  NameError: name 'var' is not defined. Did you mean: 'vars'?"
   ]
  },
  {
   "cell_type": "code",
   "execution_count": 5,
   "id": "b2dc1cbd-3500-4a69-8847-7a8edea9de3b",
   "metadata": {},
   "outputs": [
    {
     "name": "stdout",
     "output_type": "stream",
     "text": [
      "0x2874e9af260\n",
      "10\n",
      "-------------------------------------------------------------------\n",
      "No Reference is left for <__main__.MyClass object at 0x000002874E9AF260>\n",
      "0x2874e9aef60\n",
      "10\n"
     ]
    }
   ],
   "source": [
    "class MyClass:\n",
    "    var=0\n",
    "    def __init__(self,var):\n",
    "        self.var=var\n",
    "    def getvar(self):\n",
    "        return self.var\n",
    "    def __del__(self):  #called before garbage collection of object\n",
    "        print(\"No Reference is left for {}\".format(self))\n",
    "\n",
    "m1 = MyClass(10)\n",
    "print(hex(id(m1)))\n",
    "print(m1.getvar())\n",
    "print('-------------------------------------------------------------------')\n",
    "m1 = MyClass(10)\n",
    "print(hex(id(m1)))\n",
    "print(m1.getvar())"
   ]
  },
  {
   "cell_type": "code",
   "execution_count": 46,
   "id": "94b31a4b-9ea8-4a74-a7b9-152484c5db5b",
   "metadata": {},
   "outputs": [
    {
     "name": "stdout",
     "output_type": "stream",
     "text": [
      "No Reference is left for <__main__.MyClass object at 0x000001D911137BC0>\n"
     ]
    }
   ],
   "source": [
    "class MyClass:\n",
    "    var=0\n",
    "    def __init__(self,var):\n",
    "        self.var=var\n",
    "    def getvar(self):\n",
    "        return self.var\n",
    "    def __del__(self):  #called before garbage collection of object\n",
    "        print(\"No Reference is left for {}\".format(self))\n",
    "\n",
    "m1 = MyClass(10)\n",
    "del m1"
   ]
  },
  {
   "cell_type": "code",
   "execution_count": 1,
   "id": "fce84ff7-1a1b-434e-b7dc-8a1f58833d1e",
   "metadata": {},
   "outputs": [],
   "source": [
    "class MyClass:\n",
    "    var=0\n",
    "    def __init__(self,var):\n",
    "        self.var=var\n",
    "    def getvar(self):\n",
    "        return self.var\n",
    "    def __del__(self):  #called before garbage collection of object same as finalize of java to release resources\n",
    "        print(\"No Reference is left for {}\".format(self))\n",
    "\n",
    "m1 = MyClass(10)\n",
    "m2 = m1\n",
    "del m1 #__del__ will not be called as object is still refered by m2"
   ]
  },
  {
   "cell_type": "markdown",
   "id": "7c5a223f-c033-4f25-9ce5-52ee3312751a",
   "metadata": {},
   "source": [
    "A destructor method is called when all references to an object have been destroyed. In Python, the __del__() method is referred to as a destructor method. "
   ]
  },
  {
   "cell_type": "markdown",
   "id": "1fe6411e-1d03-4095-960b-c5729f1c531b",
   "metadata": {},
   "source": [
    "## The __init__ method \n",
    "It is the Python equivalent of the C++ constructor in an object-oriented approach. The __init__  function is called every time an object is created from a class. The __init__ method lets the class initialize the object’s attributes and serves no other purpose. It is only used within classes. \n",
    "\n",
    "If a Python class has no __init__ method, then creating a new instance of the class will just create an empty instance of the class. That may be completely OK. However, if the need all new instances of a class to have some values, then an __init__ method should be created.\n",
    "\n",
    "What happens when your class does not explicitly define an __init__ method?\n",
    "\n",
    "Short answer; nothing happens.\n",
    "\n",
    "Long answer;\n",
    "\n",
    " if you have a class B, which inherits from a class A, and if B has no __init__ method defined, then the parent's (in this case, A) __init__ is invoked.\n",
    "\n",
    "\n",
    "It means that the __init__ method is inherited\n",
    "\n",
    "If you actually specified a parent class, then the __init__ of this parent class will be called\n",
    "\n",
    "If you didn't, it will use the object __init__ method, which doesn't do anything significant for you\n",
    "\n",
    "This behavior is the same as non-special methods."
   ]
  },
  {
   "cell_type": "code",
   "execution_count": 9,
   "id": "6e5b04e0-0345-48c1-ae90-7257ba31f71b",
   "metadata": {},
   "outputs": [
    {
     "name": "stdout",
     "output_type": "stream",
     "text": [
      "<__main__.Base object at 0x000002025966F350>\n",
      "<class 'method'>\n",
      "<class 'method'>\n"
     ]
    }
   ],
   "source": [
    "class Base:\n",
    "    def __init__(self,num):\n",
    "       self.num=num\n",
    "    def disp(self):\n",
    "        print(self.num)\n",
    "s1=Base(10)\n",
    "print(s1)\n",
    "print(type(s1.__init__))  #function inside class is a method2\n",
    "print(type(s1.disp))\n"
   ]
  },
  {
   "cell_type": "code",
   "execution_count": 23,
   "id": "d8ea22fb-fdd7-4fce-801d-b79282574bc7",
   "metadata": {},
   "outputs": [
    {
     "name": "stdout",
     "output_type": "stream",
     "text": [
      "<__main__.Base object at 0x0000020257EC7830>\n",
      "True\n",
      "True\n"
     ]
    }
   ],
   "source": [
    "class Base:\n",
    "    def __init__(self,num):\n",
    "       self.num=num\n",
    "    def disp(self):\n",
    "        print(self.num)\n",
    "s1=Base(10)\n",
    "print(s1)\n",
    "print(hasattr(s1,'disp'))\n",
    "print(hasattr(s1,'__init__'))"
   ]
  },
  {
   "cell_type": "code",
   "execution_count": 25,
   "id": "b0c72546-019e-4b1c-944b-d0de2f425697",
   "metadata": {},
   "outputs": [
    {
     "name": "stdout",
     "output_type": "stream",
     "text": [
      "in disp\n",
      "True\n",
      "True\n"
     ]
    }
   ],
   "source": [
    "class Base:\n",
    "    def disp(self):\n",
    "        print(\"in disp\")\n",
    "s1=Base()\n",
    "s1.disp()\n",
    "print(hasattr(s1,'disp'))\n",
    "print(hasattr(s1,'__init__'))\n",
    "\n",
    "# This example proves that if you don't define \"__init__\" inside the class, it is always inherited from the parent class, \n",
    "# i.e. \"object\" class here. Also in the absense of \"__init__\" method , object is created here but it is empty."
   ]
  },
  {
   "cell_type": "code",
   "execution_count": 5,
   "id": "ff964a4d-f1e6-4183-99b5-b0aca5c5be1f",
   "metadata": {},
   "outputs": [
    {
     "name": "stdout",
     "output_type": "stream",
     "text": [
      "in disp\n",
      "True\n",
      "True\n"
     ]
    }
   ],
   "source": [
    "class Base:\n",
    "    def __init__(self,num):\n",
    "        self.num = num\n",
    "    def disp(self):\n",
    "        print(\"in disp\")\n",
    "s1=Base(1)\n",
    "s1.disp()\n",
    "print(hasattr(s1,'disp'))\n",
    "print(hasattr(s1,'__init__'))\n",
    "\n",
    "# This example proves that if you don't define \"__init__\" inside the class, it is always inherited from the parent class, \n",
    "# i.e. \"object\" class here. Also in the absense of \"__init__\" method , object is created here but it is empty."
   ]
  },
  {
   "cell_type": "code",
   "execution_count": 31,
   "id": "88256326-159a-403a-9463-096877de8224",
   "metadata": {},
   "outputs": [
    {
     "name": "stdout",
     "output_type": "stream",
     "text": [
      "inside init method of Base\n",
      "60\n",
      "True\n",
      "True\n"
     ]
    }
   ],
   "source": [
    "class Base:\n",
    "    def __init__(self,num):\n",
    "        print(\"inside init method of Base\")\n",
    "        super().__init__()\n",
    "        self.num=num\n",
    "    def disp(self):\n",
    "        print(self.num)\n",
    "s1=Base(60)\n",
    "s1.disp()\n",
    "print(hasattr(s1,'disp'))\n",
    "print(hasattr(s1,'__init__'))\n",
    "\n",
    "# In this example, \"super().__init__()\" doesn't give any error which proves that the parent class i.e. \"object\" class has \n",
    "# \"__init__()\" method which does not take any parameter."
   ]
  },
  {
   "cell_type": "markdown",
   "id": "da2fb008-bc20-47a3-89e4-326e05817288",
   "metadata": {},
   "source": [
    "## Overloading\n"
   ]
  },
  {
   "cell_type": "code",
   "execution_count": 2,
   "id": "fd864c95-fa95-41b8-9a8b-fb62786e0daf",
   "metadata": {},
   "outputs": [
    {
     "name": "stdout",
     "output_type": "stream",
     "text": [
      "hello\n",
      "100\n"
     ]
    }
   ],
   "source": [
    "from multipledispatch import dispatch\n",
    "\n",
    "class First:\n",
    "    @dispatch(int)\n",
    "    def disp(self,val):\n",
    "        print(val)\n",
    "    @dispatch(str)\n",
    "    def disp(self,val):\n",
    "        print(val)\n",
    "\n",
    "f1=First()\n",
    "f1.disp(\"hello\")\n",
    "f1.disp(100)"
   ]
  },
  {
   "cell_type": "code",
   "execution_count": 4,
   "id": "f4e1b0b9-888b-43c1-b417-44fcf209421b",
   "metadata": {},
   "outputs": [
    {
     "name": "stdout",
     "output_type": "stream",
     "text": [
      "10\n",
      "Kunal\n"
     ]
    }
   ],
   "source": [
    "from multipledispatch import dispatch\n",
    "\n",
    "class Sample:\n",
    "    @dispatch(int)\n",
    "    def __init__(self,num):\n",
    "        self.num=num\n",
    "    @dispatch(str)\n",
    "    def __init__(self,name):\n",
    "        self.name=name\n",
    "    \n",
    "\n",
    "a1=Sample(10)\n",
    "a2=Sample(\"Kunal\")\n",
    "print(a1.num)\n",
    "print(a2.name)"
   ]
  },
  {
   "cell_type": "markdown",
   "id": "11efc3fb-659b-4ac7-a03d-7ba02fb61a8c",
   "metadata": {},
   "source": [
    "### sys.getrefcount(object)\n",
    "\n",
    "Returns the reference count of the object. The count returned is generally one higher than you might expect, because it includes the (temporary) reference as an argument to getrefcount().\n",
    "\n",
    "When you call getrefcount(), the reference is copied by value into the function's argument, temporarily bumping up the object's reference count. This is where the second reference comes from."
   ]
  },
  {
   "cell_type": "code",
   "execution_count": 10,
   "id": "f8063abd-60c2-42f2-a7d6-fe79a9940195",
   "metadata": {},
   "outputs": [
    {
     "name": "stdout",
     "output_type": "stream",
     "text": [
      "100\n",
      "2\n"
     ]
    }
   ],
   "source": [
    "import sys\n",
    "class First:\n",
    "    def __init__(self,num):\n",
    "        self.num=num\n",
    "\n",
    "f1=First(100)\n",
    "print(f1.num)\n",
    "print(sys.getrefcount(f1))"
   ]
  },
  {
   "cell_type": "code",
   "execution_count": 15,
   "id": "aa13b32a-b0cd-46d9-ba6b-c9d0b80c6dbc",
   "metadata": {},
   "outputs": [
    {
     "name": "stdout",
     "output_type": "stream",
     "text": [
      "100\n",
      "4\n",
      "3\n"
     ]
    }
   ],
   "source": [
    "import sys\n",
    "class First:\n",
    "    def __init__(self,num):\n",
    "        self.num=num\n",
    "\n",
    "f1=First(100)\n",
    "f2=f1\n",
    "f3=f2\n",
    "print(f1.num)\n",
    "print(sys.getrefcount(f1))    #  4\n",
    "del f2\n",
    "print(sys.getrefcount(f3))    #  3"
   ]
  },
  {
   "cell_type": "markdown",
   "id": "7ff22a45-f4bb-4ef6-9436-cb1ae0c62d2f",
   "metadata": {},
   "source": [
    "## Static or Class Variable in Python\n",
    "you create static variable in python just by defining or declaring it outside \"__init__\" i.e. a constructor."
   ]
  },
  {
   "cell_type": "code",
   "execution_count": 2,
   "id": "1ad05a58-7a2e-4d7f-9cd5-ad2cf41d558b",
   "metadata": {},
   "outputs": [
    {
     "name": "stdout",
     "output_type": "stream",
     "text": [
      "20\n",
      "20\n",
      "20\n",
      "140711500856344\n",
      "140711500856344\n",
      "140711500856344\n"
     ]
    }
   ],
   "source": [
    "class First:\n",
    "    var=20  # class variable\n",
    "\n",
    "f1=First()\n",
    "f2=First()\n",
    "\n",
    "print(First.var)        # highly recommended\n",
    "print(f1.var)           # not recommended\n",
    "print(f2.var)           # not recommended\n",
    "\n",
    "# proves that class variable has got only one copy in the memory\n",
    "print(id(First.var))\n",
    "print(id(f1.var))\n",
    "print(id(f2.var))"
   ]
  },
  {
   "cell_type": "markdown",
   "id": "20ba964a-de2c-4b2b-ade7-c8060d5cb2f6",
   "metadata": {},
   "source": [
    "##### instance variable/s are stored in the instance namespace which is different for different objects\n",
    "#####  class variable/s (also called as \"static variables\") are stored in class namespace which is same (shared by all the objects) for all the objects"
   ]
  },
  {
   "cell_type": "code",
   "execution_count": 8,
   "id": "6a05f9a2-4772-4733-8bc1-cabf0bbb8353",
   "metadata": {},
   "outputs": [
    {
     "name": "stdout",
     "output_type": "stream",
     "text": [
      "1 \t Abc \t 40000\n",
      "2 \t Xyz \t 70000\n",
      "1 \t Abc \t 43000\n",
      "2 \t Xyz \t 78000\n",
      "9 \t 9 \t 9\n",
      "12 \t 12 \t 12\n",
      "1621007197088 \t 1621007197184\n",
      "140711500856088 \t 140711500856088 \t 140711500856088\n"
     ]
    }
   ],
   "source": [
    "class Account:\n",
    "    rate=9                  # class variable\n",
    "    def __init__(self,accid,name,balance):\n",
    "        self.accid=accid                    # instance variable\n",
    "        self.name=name                      # instance variable\n",
    "        self.balance=balance                # instance variable\n",
    "\n",
    "c1=Account(1,\"Abc\",40000)\n",
    "c2=Account(2,\"Xyz\",70000)\n",
    "print(c1.accid,\"\\t\",c1.name,\"\\t\",c1.balance)\n",
    "print(c2.accid,\"\\t\",c2.name,\"\\t\",c2.balance)\n",
    "\n",
    "c1.balance=43000\n",
    "c2.balance=78000\n",
    "print(c1.accid,\"\\t\",c1.name,\"\\t\",c1.balance)\n",
    "print(c2.accid,\"\\t\",c2.name,\"\\t\",c2.balance)\n",
    "\n",
    "print(Account.rate,\"\\t\",c1.rate,\"\\t\",c2.rate)\n",
    "Account.rate=12\n",
    "print(Account.rate,\"\\t\",c1.rate,\"\\t\",c2.rate)\n",
    "\n",
    "print(id(c1.name),\"\\t\",id(c2.name))\n",
    "print(id(Account.rate),\"\\t\",id(c1.rate),\"\\t\",id(c2.rate))      # proves that rate has only one copy in the memory"
   ]
  },
  {
   "cell_type": "code",
   "execution_count": 12,
   "id": "17caca10-7e65-4415-9cfe-bda44f75e4e9",
   "metadata": {},
   "outputs": [
    {
     "name": "stdout",
     "output_type": "stream",
     "text": [
      "['__class__', '__delattr__', '__dict__', '__dir__', '__doc__', '__eq__', '__format__', '__ge__', '__getattribute__', '__getstate__', '__gt__', '__hash__', '__init__', '__init_subclass__', '__le__', '__lt__', '__module__', '__ne__', '__new__', '__reduce__', '__reduce_ex__', '__repr__', '__setattr__', '__sizeof__', '__str__', '__subclasshook__', '__weakref__', 'x']\n",
      "\n",
      "\n",
      "True\n",
      "\n",
      "\n",
      "['__class__', '__delattr__', '__dict__', '__dir__', '__doc__', '__eq__', '__format__', '__ge__', '__getattribute__', '__getstate__', '__gt__', '__hash__', '__init__', '__init_subclass__', '__le__', '__lt__', '__module__', '__ne__', '__new__', '__reduce__', '__reduce_ex__', '__repr__', '__setattr__', '__sizeof__', '__str__', '__subclasshook__', '__weakref__', 'a', 'b', 'x']\n",
      "\n",
      "\n",
      "False\n"
     ]
    }
   ],
   "source": [
    "class Test:\n",
    "    x=10\n",
    "    def __init__(self,a,b):\n",
    "        self.a=a\n",
    "        self.b=b\n",
    "\n",
    "ref=Test   #  \"ref\"  refers to class object\n",
    "print(dir(ref))    #  observe that \"x\" is a member of class object because it's a static member\n",
    "ref1=Test  #  \"ref1\" refers to class object\n",
    "print(\"\\n\")\n",
    "print(id(ref)==id(ref1))   # true , as class object is one only and both \"ref\" and \"ref1\" refer to the same class object\n",
    "\n",
    "t1=Test(10,20)  # instance object\n",
    "t2=Test(30,40)  # instance object\n",
    "print(\"\\n\")\n",
    "print(dir(t1))   #  a and b also will be displayed\n",
    "print(\"\\n\")\n",
    "print(id(t1)==id(t2))   #  false"
   ]
  },
  {
   "cell_type": "code",
   "execution_count": 14,
   "id": "07faeeec-392e-4a5a-92d9-1f81fea42337",
   "metadata": {},
   "outputs": [
    {
     "data": {
      "text/plain": [
       "10"
      ]
     },
     "execution_count": 14,
     "metadata": {},
     "output_type": "execute_result"
    }
   ],
   "source": [
    "ref1.x"
   ]
  },
  {
   "cell_type": "code",
   "execution_count": 20,
   "id": "def528a3-bae3-4754-ace0-7de1e3d15620",
   "metadata": {},
   "outputs": [
    {
     "name": "stdout",
     "output_type": "stream",
     "text": [
      "<class 'type'>\n"
     ]
    }
   ],
   "source": [
    "print(type(ref1))  #type class object represents class like in java class 'Class' object was referring to class"
   ]
  },
  {
   "cell_type": "markdown",
   "id": "890fb4b9-bf4f-4e1c-b10a-44290c697a39",
   "metadata": {},
   "source": [
    "### Instance vs Class vs Static Methods\n",
    " -  instance method is the one which works on instance members\n",
    " -  class method is the one which works on the class members ( static members)\n",
    " - static method is the one which neither works on instance members nor on class members. It's a utility method which takes some input parameters and return the result."
   ]
  },
  {
   "cell_type": "code",
   "execution_count": 25,
   "id": "cd7a8d2f-a6f1-4493-8db9-ed7218987d3a",
   "metadata": {},
   "outputs": [
    {
     "name": "stdout",
     "output_type": "stream",
     "text": [
      "1 \t Abc \t 40000\n",
      "2 \t Xyz \t 70000\n",
      "9\n",
      "calculated EMI per month\n"
     ]
    }
   ],
   "source": [
    "class Account:\n",
    "    rate=9                  # class variable\n",
    "    def __init__(self,accid,name,balance):\n",
    "        self.accid=accid                   \n",
    "        self.name=name                      \n",
    "        self.balance=balance               \n",
    "    def getAccid(self):              # instance method\n",
    "        return self.accid\n",
    "    def getName(self):               # instance method\n",
    "        return self.name\n",
    "    def getBalance(self):            # instance method\n",
    "        return self.balance\n",
    "\n",
    "    @classmethod\n",
    "    def getRate(cls):\n",
    "        return cls.rate\n",
    "    \n",
    "    @staticmethod\n",
    "    def calculateEMI(no_of_years,loan_amt):\n",
    "        return \"calculated EMI per month\"\n",
    "\n",
    "c1=Account(1,\"Abc\",40000)\n",
    "c2=Account(2,\"Xyz\",70000)\n",
    "\n",
    "print(c1.getAccid(),\"\\t\",c1.getName(),\"\\t\",c1.getBalance())\n",
    "print(c2.getAccid(),\"\\t\",c2.getName(),\"\\t\",c2.getBalance())\n",
    "\n",
    "print(Account.getRate())  #Account class type object's variable implicitly goes to getRate() into cls\n",
    "\n",
    "print(Account.calculateEMI(10,200000))"
   ]
  },
  {
   "cell_type": "code",
   "execution_count": 27,
   "id": "b352b513-9f8d-43f5-b96a-8ef96b78afa6",
   "metadata": {},
   "outputs": [
    {
     "name": "stdout",
     "output_type": "stream",
     "text": [
      "1 \t Abc \t 40000\n",
      "2 \t Xyz \t 70000\n",
      "9\n",
      "calculated EMI per month\n",
      "{'accid': 1, 'name': 'Abc', 'balance': 40000}\n",
      "{'__module__': '__main__', 'rate': 9, '__init__': <function Account.__init__ at 0x000001796BAD4A40>, 'getAccid': <function Account.getAccid at 0x000001796BAD7240>, 'getName': <function Account.getName at 0x000001796BAD67A0>, 'getBalance': <function Account.getBalance at 0x000001796BAD7D80>, 'getRate': <classmethod(<function Account.getRate at 0x000001796BAD7E20>)>, 'calculateEMI': <staticmethod(<function Account.calculateEMI at 0x000001796BAD7C40>)>, '__dict__': <attribute '__dict__' of 'Account' objects>, '__weakref__': <attribute '__weakref__' of 'Account' objects>, '__doc__': None}\n"
     ]
    }
   ],
   "source": [
    "\n",
    "class Account:\n",
    "    rate=9                  # class variable\n",
    "    def __init__(self,accid,name,balance):\n",
    "        self.accid=accid                   \n",
    "        self.name=name                      \n",
    "        self.balance=balance               \n",
    "    def getAccid(self):              # instance method\n",
    "        return self.accid\n",
    "    def getName(self):               # instance method\n",
    "        return self.name\n",
    "    def getBalance(self):            # instance method\n",
    "        return self.balance\n",
    "\n",
    "    @classmethod\n",
    "    def getRate(cls):\n",
    "        return cls.rate\n",
    "    \n",
    "    @staticmethod\n",
    "    def calculateEMI(no_of_years,load_amt):\n",
    "        return \"calculated EMI per month\"\n",
    "\n",
    "c1=Account(1,\"Abc\",40000)       # instance object\n",
    "c2=Account(2,\"Xyz\",70000)       # instance object\n",
    "\n",
    "print(c1.getAccid(),\"\\t\",c1.getName(),\"\\t\",c1.getBalance())\n",
    "print(c2.getAccid(),\"\\t\",c2.getName(),\"\\t\",c2.getBalance())\n",
    "\n",
    "print(Account.getRate())\n",
    "\n",
    "print(Account.calculateEMI(10,200000))\n",
    "print(c1.__dict__)\n",
    "temp=Account        # class object\n",
    "print(temp.__dict__)"
   ]
  },
  {
   "cell_type": "code",
   "execution_count": 33,
   "id": "8976c653-e248-42f9-9a23-ee2241e9669a",
   "metadata": {},
   "outputs": [
    {
     "name": "stdout",
     "output_type": "stream",
     "text": [
      "1620961735392\n",
      "1620961735392\n",
      "<class 'type'>\n"
     ]
    }
   ],
   "source": [
    "class Test:\n",
    "    @classmethod\n",
    "    def getClass(cls):\n",
    "        print(id(cls))\n",
    "        print(type(cls))\n",
    "\n",
    "ref = Test\n",
    "print(id(ref))\n",
    "Test.getClass()"
   ]
  },
  {
   "cell_type": "markdown",
   "id": "4a3e2711-146b-47b8-aa52-7ffa7b3380e4",
   "metadata": {},
   "source": [
    "##### class variable and static variables are same but class methods and static methods are not same."
   ]
  },
  {
   "cell_type": "markdown",
   "id": "7abec15f-19c3-4232-b263-465f19878d53",
   "metadata": {},
   "source": [
    "### Duck Typing"
   ]
  },
  {
   "cell_type": "markdown",
   "id": "1a7d3e14-64ff-411e-8f60-c92488e535ff",
   "metadata": {},
   "source": [
    " - Python doesn't care about which class of object it is, if it is an object and required behavior (method) is present for that object then it will work. The type of object is distinguished only at runtime. This is called as \"Duck Typing\".\n",
    "\n",
    " - As python is dynamically typed language so compiler cant know at runtime which type of object it is at compile time so binding is done at runtime\n"
   ]
  },
  {
   "cell_type": "code",
   "execution_count": 40,
   "id": "b2720971-f6aa-4f21-957c-184d7361d44a",
   "metadata": {},
   "outputs": [
    {
     "name": "stdout",
     "output_type": "stream",
     "text": [
      "Type of obj is\t <class '__main__.Bird'>\n",
      "Bird is flying\n",
      "Type of obj is\t <class '__main__.SuperMan'>\n",
      "Superman is flying\n"
     ]
    }
   ],
   "source": [
    "class Bird:\n",
    "    def fly(self):\n",
    "        print(\"Bird is flying\")\n",
    "class SuperMan:\n",
    "    def fly(self):\n",
    "        print(\"Superman is flying\")\n",
    "class Person:\n",
    "    def talk(self):\n",
    "        print(\"Person is talking\")\n",
    "\n",
    "def perform(obj):\n",
    "    print(\"Type of obj is\\t\",type(obj))\n",
    "    obj.fly()\n",
    "\n",
    "b1=Bird()\n",
    "perform(b1)\n",
    "s1=SuperMan()\n",
    "perform(s1)\n"
   ]
  },
  {
   "cell_type": "code",
   "execution_count": 45,
   "id": "40bb8626-7099-4b14-870b-d2ce8e1cda21",
   "metadata": {},
   "outputs": [
    {
     "name": "stdout",
     "output_type": "stream",
     "text": [
      "Type of obj is\t <class '__main__.Bird'>\n",
      "Bird is flying\n",
      "Type of obj is\t <class '__main__.SuperMan'>\n",
      "Superman is flying\n",
      "Type of obj is\t <class '__main__.Person'>\n"
     ]
    },
    {
     "ename": "AttributeError",
     "evalue": "'Person' object has no attribute 'fly'",
     "output_type": "error",
     "traceback": [
      "\u001b[1;31m---------------------------------------------------------------------------\u001b[0m",
      "\u001b[1;31mAttributeError\u001b[0m                            Traceback (most recent call last)",
      "Cell \u001b[1;32mIn[45], line 20\u001b[0m\n\u001b[0;32m     18\u001b[0m perform(s1)\n\u001b[0;32m     19\u001b[0m p1\u001b[38;5;241m=\u001b[39mPerson()\n\u001b[1;32m---> 20\u001b[0m perform(p1)\n",
      "Cell \u001b[1;32mIn[45], line 13\u001b[0m, in \u001b[0;36mperform\u001b[1;34m(obj)\u001b[0m\n\u001b[0;32m     11\u001b[0m \u001b[38;5;28;01mdef\u001b[39;00m \u001b[38;5;21mperform\u001b[39m(obj):\n\u001b[0;32m     12\u001b[0m     \u001b[38;5;28mprint\u001b[39m(\u001b[38;5;124m\"\u001b[39m\u001b[38;5;124mType of obj is\u001b[39m\u001b[38;5;130;01m\\t\u001b[39;00m\u001b[38;5;124m\"\u001b[39m,\u001b[38;5;28mtype\u001b[39m(obj))\n\u001b[1;32m---> 13\u001b[0m     obj\u001b[38;5;241m.\u001b[39mfly()\n",
      "\u001b[1;31mAttributeError\u001b[0m: 'Person' object has no attribute 'fly'"
     ]
    }
   ],
   "source": [
    "class Bird:\n",
    "    def fly(self):\n",
    "        print(\"Bird is flying\")\n",
    "class SuperMan:\n",
    "    def fly(self):\n",
    "        print(\"Superman is flying\")\n",
    "class Person:\n",
    "    def talk(self):\n",
    "        print(\"Person is flying\")\n",
    "\n",
    "def perform(obj):\n",
    "    print(\"Type of obj is\\t\",type(obj))\n",
    "    obj.fly()\n",
    "\n",
    "b1=Bird()\n",
    "perform(b1)\n",
    "s1=SuperMan()\n",
    "perform(s1)\n",
    "p1=Person()\n",
    "perform(p1)   #  AttributeError: 'Person' object has no attribute 'fly'"
   ]
  },
  {
   "cell_type": "code",
   "execution_count": 47,
   "id": "e8b83d67-0282-4cc3-824d-dd6599f547c2",
   "metadata": {},
   "outputs": [
    {
     "name": "stdout",
     "output_type": "stream",
     "text": [
      "Type of obj is\t <class '__main__.Bird'>\n",
      "Bird is flying\n",
      "Type of obj is\t <class '__main__.SuperMan'>\n",
      "Superman is flying\n",
      "Type of obj is\t <class '__main__.Person'>\n",
      "can't fly\n"
     ]
    }
   ],
   "source": [
    "# Strong Typing\n",
    "\n",
    "class Bird:\n",
    "    def fly(self):\n",
    "        print(\"Bird is flying\")\n",
    "class SuperMan:\n",
    "    def fly(self):\n",
    "        print(\"Superman is flying\")\n",
    "class Person:\n",
    "    def talk(self):\n",
    "        print(\"Person is flying\")\n",
    "\n",
    "def perform(obj):\n",
    "    print(\"Type of obj is\\t\",type(obj))\n",
    "    if(hasattr(obj,\"fly\")):             # Strong Typing happens here\n",
    "        obj.fly()\n",
    "    else:\n",
    "        print(\"can't fly\")\n",
    "\n",
    "b1=Bird()\n",
    "perform(b1)\n",
    "s1=SuperMan()\n",
    "perform(s1)\n",
    "p1=Person()\n",
    "perform(p1) "
   ]
  },
  {
   "cell_type": "markdown",
   "id": "8f88124f-5446-45da-9aaa-f9e99ec5c04a",
   "metadata": {},
   "source": [
    "### Nested Class"
   ]
  },
  {
   "cell_type": "code",
   "execution_count": 54,
   "id": "ef1c43e8-6963-4a79-a361-198338d636f7",
   "metadata": {},
   "outputs": [
    {
     "name": "stdout",
     "output_type": "stream",
     "text": [
      "Rahul\n",
      "AK47\t30 Rounds\t34.3 in\n"
     ]
    }
   ],
   "source": [
    "class Army:\n",
    "    def __init__(self):\n",
    "        self.name=\"Rahul\"\n",
    "    def show(self):\n",
    "        print(self.name)\n",
    "    class Gun:\n",
    "        def __init__(self):\n",
    "            self.name=\"AK47\"\n",
    "            self.capacity=\"30 Rounds\"\n",
    "            self.length=\"34.3 in\"\n",
    "        def __str__(self):\n",
    "            return self.name+\"\\t\"+self.capacity+\"\\t\"+self.length\n",
    "\n",
    "a1=Army()\n",
    "a1.show()\n",
    "g1=Army.Gun()\n",
    "print(g1)"
   ]
  },
  {
   "cell_type": "code",
   "execution_count": 56,
   "id": "9b2e144d-5b6c-4749-b7f0-cc88f52c524c",
   "metadata": {},
   "outputs": [
    {
     "name": "stdout",
     "output_type": "stream",
     "text": [
      "Rahul\n",
      "\n",
      "\n",
      "Rahul\tAK47\t75 Rounds\t34.3 in\n"
     ]
    }
   ],
   "source": [
    "class Army:\n",
    "    def __init__(self):\n",
    "        self.name=\"Rahul\"\n",
    "    def show(self):\n",
    "        print(self.name)\n",
    "    class Gun:\n",
    "        def __init__(self,ref):\n",
    "            self.name=\"AK47\"\n",
    "            self.capacity=\"75 Rounds\"\n",
    "            self.length=\"34.3 in\"\n",
    "            self.ref=ref\n",
    "        def __str__(self):\n",
    "            return self.ref.name+\"\\t\"+self.name+\"\\t\"+self.capacity+\"\\t\"+self.length\n",
    "\n",
    "a1=Army()\n",
    "a1.show()\n",
    "g1=Army.Gun(a1)\n",
    "print(\"\\n\")\n",
    "print(g1)"
   ]
  },
  {
   "cell_type": "markdown",
   "id": "a6ec2b7f-783e-47a4-a9d8-01e270ea9693",
   "metadata": {},
   "source": [
    "## Magic or Dunder Methods. \n",
    "Magic methods in Python are the special methods that start and end with the double underscores. They are also called dunder methods. Magic methods are not meant to be invoked directly by you, but the invocation happens internally from the class on a certain action.\n",
    "For example, when you add two numbers using the + operator, internally, the \"\\_\\_add\\__()\" method will be called.\n",
    "\n",
    "Built-in classes in Python define many magic methods. Use the dir() function to see the number of magic methods inherited by a class. For example, in order to display all the attributes and methods defined in the \"int\" class, give following command and check\n",
    "\n",
    "dir(int)"
   ]
  },
  {
   "cell_type": "code",
   "execution_count": 61,
   "id": "1dc721f9-36e7-424a-aaaf-d65bb68c1647",
   "metadata": {},
   "outputs": [
    {
     "name": "stdout",
     "output_type": "stream",
     "text": [
      "['__abs__', '__add__', '__and__', '__bool__', '__ceil__', '__class__', '__delattr__', '__dir__', '__divmod__', '__doc__', '__eq__', '__float__', '__floor__', '__floordiv__', '__format__', '__ge__', '__getattribute__', '__getnewargs__', '__getstate__', '__gt__', '__hash__', '__index__', '__init__', '__init_subclass__', '__int__', '__invert__', '__le__', '__lshift__', '__lt__', '__mod__', '__mul__', '__ne__', '__neg__', '__new__', '__or__', '__pos__', '__pow__', '__radd__', '__rand__', '__rdivmod__', '__reduce__', '__reduce_ex__', '__repr__', '__rfloordiv__', '__rlshift__', '__rmod__', '__rmul__', '__ror__', '__round__', '__rpow__', '__rrshift__', '__rshift__', '__rsub__', '__rtruediv__', '__rxor__', '__setattr__', '__sizeof__', '__str__', '__sub__', '__subclasshook__', '__truediv__', '__trunc__', '__xor__', 'as_integer_ratio', 'bit_count', 'bit_length', 'conjugate', 'denominator', 'from_bytes', 'imag', 'is_integer', 'numerator', 'real', 'to_bytes']\n"
     ]
    }
   ],
   "source": [
    "print(dir(int))"
   ]
  },
  {
   "cell_type": "code",
   "execution_count": 73,
   "id": "2655b814-c91a-4366-86e1-5178893a2f39",
   "metadata": {},
   "outputs": [
    {
     "name": "stdout",
     "output_type": "stream",
     "text": [
      "inside __new__ dunder method\n",
      "id of instance is\t 1621024696480\n",
      "\n",
      "inside __init__ dunder method\n",
      "id of f1 is\t 1621024696480\n",
      "\n",
      "done\n"
     ]
    }
   ],
   "source": [
    "class First:\n",
    "    def __new__(cls):\n",
    "        print(\"inside __new__ dunder method\")\n",
    "        instance=object.__new__(cls)  #object has method __new__() which creates object of class of which class type ref is passed\n",
    "        print(\"id of instance is\\t\",id(instance))\n",
    "        return instance\n",
    "        \n",
    "    def __init__(self):\n",
    "        print(\"\\ninside __init__ dunder method\")\n",
    "\n",
    "f1=First()\n",
    "print(\"id of f1 is\\t\",id(f1))\n",
    "print(\"\\ndone\")"
   ]
  },
  {
   "cell_type": "code",
   "execution_count": 77,
   "id": "bfa11af6-481c-4e1d-8e28-2dd79ff78a49",
   "metadata": {},
   "outputs": [
    {
     "name": "stdout",
     "output_type": "stream",
     "text": [
      "I am the GOD\n"
     ]
    }
   ],
   "source": [
    "class Person:\n",
    "    def __init__(self,name,age):\n",
    "        self.name=name\n",
    "        self.age=age\n",
    "    def __str__(self):\n",
    "        return \"I am the GOD\"\n",
    "\n",
    "p1=Person(\"Sachin\",25)\n",
    "print(p1)    #  proves that internally __str__ magic or dunder function gets called"
   ]
  },
  {
   "cell_type": "code",
   "execution_count": 79,
   "id": "4721123e-bb39-4e8e-87f9-7578cd04921c",
   "metadata": {},
   "outputs": [
    {
     "name": "stdout",
     "output_type": "stream",
     "text": [
      "Sachin\t25\n"
     ]
    }
   ],
   "source": [
    "class Person:\n",
    "    def __init__(self,name,age):\n",
    "        self.name=name\n",
    "        self.age=age\n",
    "    def __str__(self):\n",
    "        return self.name+\"\\t\"+str(self.age)\n",
    "\n",
    "p1=Person(\"Sachin\",25)\n",
    "print(p1)    #  proves that internally __str__ magic or dunder function gets called"
   ]
  },
  {
   "cell_type": "markdown",
   "id": "99af2b74-b790-42f7-a135-bb1ac8543d3d",
   "metadata": {},
   "source": [
    "#### Without data classes module"
   ]
  },
  {
   "cell_type": "code",
   "execution_count": 82,
   "id": "035ab3c5-eadd-44b3-9a27-28e9a0698d93",
   "metadata": {},
   "outputs": [
    {
     "name": "stdout",
     "output_type": "stream",
     "text": [
      "Rohit\t35\t5.8\trohit@gmail.com\n"
     ]
    }
   ],
   "source": [
    "class Person:\n",
    "    def __init__(self,name,age,height,email):\n",
    "        self.name=name\n",
    "        self.age=age\n",
    "        self.height=height\n",
    "        self.email=email\n",
    "    \n",
    "    def __str__(self):\n",
    "        return self.name+\"\\t\"+str(self.age)+\"\\t\"+str(self.height)+\"\\t\"+self.email\n",
    "\n",
    "\n",
    "p=Person(\"Rohit\",35,5.8,\"rohit@gmail.com\") \n",
    "print(p) "
   ]
  },
  {
   "cell_type": "markdown",
   "id": "1c35591c-8cd6-4b80-965e-df4822f8ce78",
   "metadata": {},
   "source": [
    "##### with *dataclasses* module we no longer need to define *__init__* and *__str__* methods in our class, they are provided implicitly.\n",
    "\n",
    "\n"
   ]
  },
  {
   "cell_type": "code",
   "execution_count": 89,
   "id": "608b2b9c-007f-4aee-87d2-9b5cb0b1bd14",
   "metadata": {},
   "outputs": [
    {
     "name": "stdout",
     "output_type": "stream",
     "text": [
      "Person(name='Rohit', age=35, height=5.8, email='rohit@264gmail.com')\n"
     ]
    }
   ],
   "source": [
    "from dataclasses import dataclass\n",
    "\n",
    "@dataclass\n",
    "class Person:\n",
    "    name: str\n",
    "    age: int\n",
    "    height: float\n",
    "    email: str\n",
    "\n",
    "\n",
    "# p=Person() # TypeError: Person.__init__() missing 4 required positional arguments: 'name', 'age', 'height', and 'email'\n",
    "# it's because , inside Person class __init__() method is internally provided which needs 4 arguments while\n",
    "# creating an object\n",
    "\n",
    "p=Person(\"Rohit\",35,5.8,\"rohit@264gmail.com\")  # __init__ method which is internally provided gets invoked here\n",
    "print(p)  # also __str__() method is internally provided"
   ]
  },
  {
   "cell_type": "code",
   "execution_count": 93,
   "id": "a443ca87-d11e-4590-8c6f-18d591bedbfd",
   "metadata": {},
   "outputs": [
    {
     "name": "stdout",
     "output_type": "stream",
     "text": [
      "Person(name='Rohit', age=35, height=5.8, email='Rohit@gmail.com')\n",
      "Person(name='Sachin', age=50, height=5.1, email='sachin100@gmail.com')\n"
     ]
    }
   ],
   "source": [
    "from dataclasses import dataclass\n",
    "\n",
    "@dataclass\n",
    "class Person:\n",
    "    name: str =\"Rohit\"\n",
    "    age: int  = 35\n",
    "    height: float =5.8\n",
    "    email: str = \"Rohit@gmail.com\"\n",
    "\n",
    "\n",
    "p=Person() # now there is __init__() methods with default values which are provided in the class\n",
    "\n",
    "p1=Person(\"Sachin\",50,5.1,\"sachin100@gmail.com\")  # you can pass also explicitly\n",
    "print(p)  \n",
    "print(p1) "
   ]
  },
  {
   "cell_type": "code",
   "execution_count": 97,
   "id": "3e6630c6-fe66-4d1f-bf1d-42e7bda4db20",
   "metadata": {},
   "outputs": [
    {
     "name": "stdout",
     "output_type": "stream",
     "text": [
      "Person(name=22, age='Saurabh', height=6, email='sd@.com')\n"
     ]
    }
   ],
   "source": [
    "b = Person(22,'Saurabh',6,'sd@.com')\n",
    "print(b)"
   ]
  },
  {
   "cell_type": "code",
   "execution_count": 108,
   "id": "dd1c40f8-3615-40f3-af8c-90a5752ec882",
   "metadata": {},
   "outputs": [
    {
     "name": "stdout",
     "output_type": "stream",
     "text": [
      "Person(name='Saurabh', age=22, height=6, email='sd')\n"
     ]
    }
   ],
   "source": [
    "a = Person(age=22,name='Saurabh',height=6,email='sd')\n",
    "print(a)"
   ]
  },
  {
   "cell_type": "markdown",
   "id": "97060a2a-910e-459d-b1e8-f3d65b8dafca",
   "metadata": {},
   "source": [
    "@dataclass is to avoid boiler plate code i.e. init, str and gettermethods"
   ]
  },
  {
   "cell_type": "code",
   "execution_count": null,
   "id": "d84f6855-893f-4169-883a-60118ad2968e",
   "metadata": {},
   "outputs": [],
   "source": [
    "from dataclasses import dataclass\n",
    "\n",
    "@dataclass\n",
    "class Person:\n",
    "    name: str      \n",
    "    age: int = 35\n",
    "    height: float       # Error,  after default argument , you cannot have non-default argument\n",
    "    email: str = \"Rohit@gmail.com\"\n",
    "\n",
    "\n",
    "#p=Person(\"Rohit\",5.8) # other values would be the ones which are provided inside the class\n",
    "\n",
    "p1=Person(\"Sachin\",50,5.1,\"sachin@gmail.com\")  # you can pass also explicitly\n",
    "#print(p)  \n",
    "print(p1) "
   ]
  },
  {
   "cell_type": "code",
   "execution_count": 112,
   "id": "de8b222e-a08f-46d3-8574-ede5ffba9309",
   "metadata": {},
   "outputs": [
    {
     "name": "stdout",
     "output_type": "stream",
     "text": [
      "Person(name='Rohit', age=35, height=5.1, email='Rohit@gmail.com', counter=5)\n",
      "Person(name='Sachin', age=38, height=4.1, email='Sachin@gmail.com', counter=5)\n",
      "5\n",
      "address of counter\n",
      "140711500855864\n",
      "140711500855864\n",
      "140711500855864\n",
      "address of name\n",
      "1621024712304\n",
      "1621024710048\n"
     ]
    }
   ],
   "source": [
    "from dataclasses import dataclass,field\n",
    "\n",
    "@dataclass\n",
    "class Person:\n",
    "    name: str\n",
    "    age: int\n",
    "    height: float\n",
    "    email: str\n",
    "    counter:int=field(default=5)     # class variable\n",
    "\n",
    "p1=Person(\"Rohit\",35,5.1,\"Rohit@gmail.com\")\n",
    "p2=Person(\"Sachin\",38,4.1,\"Sachin@gmail.com\")\n",
    "print(p1)\n",
    "print(p2)\n",
    "print(Person.counter)\n",
    "print(\"address of counter\")\n",
    "print(id(Person.counter))\n",
    "print(id(p1.counter))\n",
    "print(id(p2.counter))\n",
    "print(\"address of name\")\n",
    "print(id(p1.name))\n",
    "print(id(p2.name))"
   ]
  },
  {
   "cell_type": "markdown",
   "id": "ddc2b29b-24c0-442b-948f-129b937d62e1",
   "metadata": {},
   "source": [
    "## Inheritance"
   ]
  },
  {
   "attachments": {
    "664d3939-e1b3-4cf2-bf95-7be873abfd5f.png": {
     "image/png": "[encoded data removed]"
    }
   },
   "cell_type": "markdown",
   "id": "2ec10d7f-9edc-4747-830c-2a9209f65f13",
   "metadata": {},
   "source": [
    "![image.png](attachment:664d3939-e1b3-4cf2-bf95-7be873abfd5f.png)"
   ]
  },
  {
   "attachments": {
    "5980673d-098f-491b-a413-2da97e7ce57a.png": {
     "image/png": "[encoded data removed]"
    }
   },
   "cell_type": "markdown",
   "id": "e7e700ca-30ec-4f5e-add7-a190420e7aed",
   "metadata": {},
   "source": [
    "![image.png](attachment:5980673d-098f-491b-a413-2da97e7ce57a.png)"
   ]
  },
  {
   "attachments": {
    "b576b7ec-7e4a-4409-af69-82a0c1466821.png": {
     "image/png": "[encoded data removed]"
    }
   },
   "cell_type": "markdown",
   "id": "7311b3e9-1dcd-4f51-acec-42aa3e69ad3c",
   "metadata": {},
   "source": [
    "![image.png](attachment:b576b7ec-7e4a-4409-af69-82a0c1466821.png)"
   ]
  },
  {
   "attachments": {
    "89bda79b-c4e3-4f91-b34d-2838914f8b3a.png": {
     "image/png": "[encoded data removed]"
    }
   },
   "cell_type": "markdown",
   "id": "59631cc2-1142-4131-93c2-0c795a1afc06",
   "metadata": {},
   "source": [
    "![image.png](attachment:89bda79b-c4e3-4f91-b34d-2838914f8b3a.png)"
   ]
  },
  {
   "attachments": {
    "c2dc5950-8545-4958-b2be-7303071fc10a.png": {
     "image/png": "[encoded data removed]"
    }
   },
   "cell_type": "markdown",
   "id": "494d9316-db81-44b0-adcf-da590a7e5118",
   "metadata": {},
   "source": [
    "![image.png](attachment:c2dc5950-8545-4958-b2be-7303071fc10a.png)"
   ]
  },
  {
   "cell_type": "code",
   "execution_count": 122,
   "id": "7f84a925-2b8e-4670-97c2-35c204912700",
   "metadata": {},
   "outputs": [
    {
     "name": "stdout",
     "output_type": "stream",
     "text": [
      "<class '__main__.MyClass'>\n",
      "{'num': 10}\n",
      "<class '__main__.MyClass'>\n",
      "<class 'object'>\n"
     ]
    }
   ],
   "source": [
    "# By default \"object\" is the parent class of all the classes\n",
    "class MyClass:\n",
    "    def __init__(self,num):\n",
    "        self.num=num\n",
    "\n",
    "\n",
    "m1 = MyClass(10)\n",
    "print(type(m1))\n",
    "print(m1.__dict__)\n",
    "print(m1.__class__)\n",
    "print(m1.__class__.__base__)"
   ]
  },
  {
   "cell_type": "code",
   "execution_count": 130,
   "id": "2c13058c-b464-4d8b-a073-398e1b6ee271",
   "metadata": {},
   "outputs": [
    {
     "name": "stdout",
     "output_type": "stream",
     "text": [
      "Sub class constructor\n",
      "1621037168448 \n",
      "\n",
      "<class '__main__.Base'>\n",
      "<class 'object'>\n"
     ]
    }
   ],
   "source": [
    "# constructor overriding in Python\n",
    "\n",
    "class Base:\n",
    "    def __init__(self):\n",
    "        print(\"Base class constructor\")\n",
    "\n",
    "\n",
    "class Sub(Base):\n",
    "    def __init__(self):       # since this is available , init of Base won't be invoked when we instantiate Sub\n",
    "        print(\"Sub class constructor\")\n",
    "       \n",
    "\n",
    "s1 = Sub()\n",
    "print(id(s1),'\\n')\n",
    "print(s1.__class__.__base__)\n",
    "print(s1.__class__.__base__.__base__)\n"
   ]
  },
  {
   "cell_type": "code",
   "execution_count": 136,
   "id": "ad5bd245-b4c0-4005-8abe-d31d868e9543",
   "metadata": {},
   "outputs": [
    {
     "name": "stdout",
     "output_type": "stream",
     "text": [
      "Sub class constructor\n",
      "1621042239184\n",
      "<class '__main__.Base'>\n",
      "<class 'object'>\n",
      "100\n",
      "\n",
      "\n",
      "in base disp\n"
     ]
    }
   ],
   "source": [
    "\n",
    "# constructor overriding\n",
    "\n",
    "class Base:\n",
    "    def __init__(self):\n",
    "        self.num1=20\n",
    "        print(\"Base class constructor\")\n",
    "    def disp(self):\n",
    "        print(\"in base disp\")\n",
    "\n",
    "\n",
    "class Sub(Base):\n",
    "    def __init__(self,num2):\n",
    "        self.num2=num2\n",
    "        print(\"Sub class constructor\")\n",
    "       \n",
    "\n",
    "s1 = Sub(100)\n",
    "print(id(s1))\n",
    "print(s1.__class__.__base__)\n",
    "print(s1.__class__.__base__.__base__)\n",
    "print(s1.num2)\n",
    "print(\"\\n\")\n",
    "# print(s1.num1)   # cannot access because \"Base\" class \"init\" is not called \n",
    "s1.disp()"
   ]
  },
  {
   "cell_type": "code",
   "execution_count": 138,
   "id": "6b772890-c3a4-4380-b916-f282e8f10feb",
   "metadata": {},
   "outputs": [
    {
     "name": "stdout",
     "output_type": "stream",
     "text": [
      "Base class constructor\n",
      "Sub class constructor\n",
      "1621042236592\n",
      "<class '__main__.Base'>\n",
      "<class 'object'>\n"
     ]
    }
   ],
   "source": [
    "class Base:\n",
    "    def __init__(self):\n",
    "        print(\"Base class constructor\")\n",
    "\n",
    "\n",
    "class Sub(Base):\n",
    "    def __init__(self):\n",
    "        super().__init__()    # invoking parent class constructor explicitly, can be on any line\n",
    "        print(\"Sub class constructor\")\n",
    "       \n",
    "\n",
    "s1 = Sub()\n",
    "print(id(s1))\n",
    "print(s1.__class__.__base__)\n",
    "print(s1.__class__.__base__.__base__)"
   ]
  },
  {
   "cell_type": "code",
   "execution_count": 142,
   "id": "fbfaeb83-702f-4adb-b31a-89251a3a082f",
   "metadata": {},
   "outputs": [
    {
     "name": "stdout",
     "output_type": "stream",
     "text": [
      "Base class constructor\n",
      "Sub class constructor\n",
      "1621042243648\n",
      "100\n",
      "\n",
      "\n",
      "110\n"
     ]
    }
   ],
   "source": [
    "# By default \"object\" is the parent class of all the classes\n",
    "\n",
    "class Base:\n",
    "    def __init__(self,num1):\n",
    "        self.num1=num1\n",
    "        print(\"Base class constructor\")\n",
    "\n",
    "\n",
    "class Sub(Base):\n",
    "    def __init__(self,num2):\n",
    "        super().__init__(num2+10)    # invoking parent class constructor explicitly\n",
    "        self.num2=num2\n",
    "        print(\"Sub class constructor\")\n",
    "       \n",
    "\n",
    "s1 = Sub(100)\n",
    "print(id(s1))\n",
    "print(s1.num2)\n",
    "print(\"\\n\")\n",
    "print(s1.num1)"
   ]
  },
  {
   "cell_type": "code",
   "execution_count": 144,
   "id": "031acac4-1cea-4087-934e-6c52ddaef1c4",
   "metadata": {},
   "outputs": [],
   "source": [
    "# By default \"object\" is the parent class of all the classes\n",
    "\n",
    "class Base:\n",
    "    def __init__(self,num1):\n",
    "        self.num1=num1\n",
    "        print(\"Base class constructor\")\n",
    "\n",
    "\n",
    "class Sub(Base):\n",
    "    def __init__(self,num2):\n",
    "        self.num2=num2\n",
    "        print(\"Sub class constructor\")\n",
    "        super().__init__(num2+10)    # super can be on any line\n",
    "       "
   ]
  },
  {
   "cell_type": "code",
   "execution_count": 148,
   "id": "099f553d-b38d-4dc8-bd28-7262e915f9de",
   "metadata": {},
   "outputs": [
    {
     "name": "stdout",
     "output_type": "stream",
     "text": [
      "100 \t 200\n"
     ]
    }
   ],
   "source": [
    "class Base:\n",
    "    def __init__(self,num1):\n",
    "        self.num1=num1\n",
    "class Sub(Base):\n",
    "    def __init__(self,num1,num2):\n",
    "        super().__init__(num1)\n",
    "        self.num2=num2\n",
    "    def show(self):\n",
    "        print(self.num1,\"\\t\",self.num2)\n",
    "\n",
    "s1=Sub(100,200)\n",
    "s1.show()"
   ]
  },
  {
   "cell_type": "code",
   "execution_count": 150,
   "id": "1e58b04e-817f-4792-bef7-9635c440f824",
   "metadata": {},
   "outputs": [
    {
     "name": "stdout",
     "output_type": "stream",
     "text": [
      "Base class constructor  100\n",
      "Sub class constructor\n",
      "1621042240192\n"
     ]
    },
    {
     "ename": "TypeError",
     "evalue": "Sub.disp1() missing 1 required positional argument: 'val1'",
     "output_type": "error",
     "traceback": [
      "\u001b[1;31m---------------------------------------------------------------------------\u001b[0m",
      "\u001b[1;31mTypeError\u001b[0m                                 Traceback (most recent call last)",
      "Cell \u001b[1;32mIn[150], line 22\u001b[0m\n\u001b[0;32m     19\u001b[0m s1 \u001b[38;5;241m=\u001b[39m Sub()\n\u001b[0;32m     20\u001b[0m \u001b[38;5;28mprint\u001b[39m(\u001b[38;5;28mid\u001b[39m(s1))\n\u001b[1;32m---> 22\u001b[0m s1\u001b[38;5;241m.\u001b[39mdisp1()\n",
      "\u001b[1;31mTypeError\u001b[0m: Sub.disp1() missing 1 required positional argument: 'val1'"
     ]
    }
   ],
   "source": [
    "# We do not have method overloading in Python\n",
    "\n",
    "class Base:\n",
    "    def __init__(self,num1):\n",
    "        self.num1=num1\n",
    "        print(\"Base class constructor \",self.num1)\n",
    "    def disp1(self):\n",
    "        print(\"Base class disp1 method\")\n",
    "\n",
    "\n",
    "class Sub(Base):\n",
    "    def __init__(self):\n",
    "        super().__init__(100)    # invoking Base class parameterized constructor explicitly\n",
    "        print(\"Sub class constructor\")\n",
    "    def disp1(self,val1):\n",
    "        print(\"Sub class disp1 method \",val1)\n",
    "\n",
    "\n",
    "s1 = Sub()\n",
    "print(id(s1))\n",
    "\n",
    "s1.disp1()    # TypeError: Sub.disp1() missing 1 required positional argument: 'val1'\n",
    "# i.e. now \"disp1()\" method is not available to Sub class as it has got its own \"disp1(val1)\" method"
   ]
  },
  {
   "cell_type": "markdown",
   "id": "426d4173-be3d-44ce-bf3b-eca3946697dd",
   "metadata": {},
   "source": [
    "### Method overriding"
   ]
  },
  {
   "cell_type": "code",
   "execution_count": 155,
   "id": "b274f05b-93f4-4501-824c-0037e7f1f20e",
   "metadata": {},
   "outputs": [
    {
     "name": "stdout",
     "output_type": "stream",
     "text": [
      "Base class constructor  100\n",
      "Sub class constructor\n",
      "1621035142464\n",
      "Sub class disp1 method\n",
      "Base class disp1 method\n"
     ]
    }
   ],
   "source": [
    "class Base:\n",
    "    def __init__(self,num1):\n",
    "        self.num1=num1\n",
    "        print(\"Base class constructor \",self.num1)\n",
    "    def disp1(self):       # overridden method\n",
    "        print(\"Base class disp1 method\")\n",
    "\n",
    "\n",
    "class Sub(Base):\n",
    "    def __init__(self):\n",
    "        super().__init__(100)    # invoking Base class parameterized constructor explicitly\n",
    "        print(\"Sub class constructor\")\n",
    "\n",
    "    def disp1(self):      #  overriding method\n",
    "        print(\"Sub class disp1 method\")\n",
    "        super().disp1()\n",
    "\n",
    "\n",
    "s1 = Sub()\n",
    "print(id(s1))\n",
    "\n",
    "s1.disp1()"
   ]
  },
  {
   "cell_type": "markdown",
   "id": "0dd587a8-60fb-42c7-8b68-83524f39d229",
   "metadata": {},
   "source": [
    "### Multilevel inheritance"
   ]
  },
  {
   "cell_type": "code",
   "execution_count": 163,
   "id": "de548071-4559-456c-8463-5a0e911f964e",
   "metadata": {},
   "outputs": [
    {
     "name": "stdout",
     "output_type": "stream",
     "text": [
      "Base class disp1\n",
      "Sub1 class disp2\n",
      "Sub2 class disp3\n"
     ]
    }
   ],
   "source": [
    "class Base:\n",
    "    def disp1(self):\n",
    "        print(\"Base class disp1\")\n",
    "\n",
    "\n",
    "class Sub1(Base):\n",
    "    def disp2(self):\n",
    "        print(\"Sub1 class disp2\")\n",
    "\n",
    "class Sub2(Sub1):\n",
    "    def disp3(self):\n",
    "        print(\"Sub2 class disp3\")\n",
    "\n",
    "s2 = Sub2()\n",
    "s2.disp1()\n",
    "s2.disp2()\n",
    "s2.disp3()"
   ]
  },
  {
   "cell_type": "markdown",
   "id": "3ab4f0e8-14b7-40c6-a761-1d2faffd2509",
   "metadata": {},
   "source": [
    "#### hierarchical inheritance"
   ]
  },
  {
   "cell_type": "code",
   "execution_count": 168,
   "id": "5b992f3f-a8db-4630-8763-ccb3f7ff9181",
   "metadata": {},
   "outputs": [
    {
     "name": "stdout",
     "output_type": "stream",
     "text": [
      "Base class disp1\n",
      "Sub1 class disp2\n",
      "Base class disp1\n",
      "Sub2 class disp3\n"
     ]
    }
   ],
   "source": [
    "class Base:\n",
    "    def disp1(self):\n",
    "        print(\"Base class disp1\")\n",
    "\n",
    "\n",
    "class Sub1(Base):\n",
    "    def disp2(self):\n",
    "        print(\"Sub1 class disp2\")\n",
    "\n",
    "class Sub2(Base):\n",
    "    def disp3(self):\n",
    "        print(\"Sub2 class disp3\")\n",
    "\n",
    "\n",
    "s1 = Sub1()\n",
    "s1.disp1()\n",
    "s1.disp2()\n",
    "s2 = Sub2()\n",
    "s2.disp1()\n",
    "s2.disp3()\n"
   ]
  },
  {
   "cell_type": "markdown",
   "id": "123380d3-e015-49b1-979f-4d12f5599730",
   "metadata": {},
   "source": [
    "### Multiple Inheritance"
   ]
  },
  {
   "cell_type": "code",
   "execution_count": 172,
   "id": "a0e75f82-ca4b-4c2f-ad2c-3f0646892fac",
   "metadata": {},
   "outputs": [
    {
     "name": "stdout",
     "output_type": "stream",
     "text": [
      "Sub class constructor\n",
      "Base1 disp1\n",
      "Base2 disp2\n",
      "Sub disp3\n"
     ]
    }
   ],
   "source": [
    "# multiple inheritance\n",
    "\n",
    "class Base1:\n",
    "    def __init__(self,num1):\n",
    "        self.num1=num1\n",
    "        print(\"Base1 class constructor  \",self.num1)\n",
    "    def disp1(self):\n",
    "        print(\"Base1 disp1\")\n",
    "\n",
    "class Base2:\n",
    "    def __init__(self,num2):\n",
    "        self.num2=num2\n",
    "        print(\"Base1 class constructor   \",self.num2)\n",
    "    def disp2(self):\n",
    "        print(\"Base2 disp2\")\n",
    "\n",
    "class Sub(Base1,Base2):\n",
    "    def __init__(self):\n",
    "        print(\"Sub class constructor\")\n",
    "    def disp3(self):\n",
    "        print(\"Sub disp3\")\n",
    "\n",
    "\n",
    "s1 = Sub()\n",
    "s1.disp1()\n",
    "s1.disp2()\n",
    "s1.disp3()\n"
   ]
  },
  {
   "cell_type": "code",
   "execution_count": 174,
   "id": "bd382d23-2b0d-4d55-8678-877a64f4e628",
   "metadata": {},
   "outputs": [
    {
     "name": "stdout",
     "output_type": "stream",
     "text": [
      "Base1 class constructor   100\n",
      "Sub class constructor\n",
      "Base1 disp1\n",
      "Base2 disp2\n",
      "Sub disp3\n"
     ]
    }
   ],
   "source": [
    "# multiple inheritance , constructor invocation\n",
    "\n",
    "class Base1:\n",
    "    def __init__(self,num1):\n",
    "        self.num1=num1\n",
    "        print(\"Base1 class constructor  \",self.num1)\n",
    "    def disp1(self):\n",
    "        print(\"Base1 disp1\")\n",
    "\n",
    "class Base2:\n",
    "    def __init__(self,num2):\n",
    "        self.num2=num2\n",
    "        print(\"Base1 class constructor   \",self.num2)\n",
    "    def disp2(self):\n",
    "        print(\"Base2 disp2\")\n",
    "\n",
    "class Sub(Base1,Base2):\n",
    "    def __init__(self):\n",
    "        super().__init__(100)   # By default Base1 constructor will be invoked\n",
    "        print(\"Sub class constructor\")\n",
    "    def disp3(self):\n",
    "        print(\"Sub disp3\")\n",
    "\n",
    "\n",
    "s1 = Sub()\n",
    "s1.disp1()\n",
    "s1.disp2()\n",
    "s1.disp3()\n"
   ]
  },
  {
   "cell_type": "code",
   "execution_count": 176,
   "id": "5d1a600b-bded-4b26-a268-79355e2847e8",
   "metadata": {},
   "outputs": [
    {
     "name": "stdout",
     "output_type": "stream",
     "text": [
      "Base1 init\n"
     ]
    }
   ],
   "source": [
    "class Base1:\n",
    "    def __init__(self):\n",
    "        print(\"Base1 init\")\n",
    "\n",
    "class Base2:\n",
    "    def __init__(self):\n",
    "        print(\"Base2 init\")\n",
    "\n",
    "class Sub(Base1,Base2):\n",
    "    pass\n",
    "\n",
    "s=Sub()    # only Base1 init gets inherited"
   ]
  },
  {
   "cell_type": "code",
   "execution_count": 178,
   "id": "ee4b793e-323f-41e0-a478-5700191c6cc1",
   "metadata": {},
   "outputs": [
    {
     "name": "stdout",
     "output_type": "stream",
     "text": [
      "Base1 init\n",
      "in disp\n"
     ]
    }
   ],
   "source": [
    "class Base1:\n",
    "    def __init__(self):\n",
    "        print(\"Base1 init\")\n",
    "\n",
    "class Base2:\n",
    "    def __init__(self):\n",
    "        print(\"Base2 init\")\n",
    "    def disp(self):\n",
    "        print(\"in disp\")\n",
    "\n",
    "class Sub(Base1,Base2):\n",
    "    pass\n",
    "\n",
    "s=Sub()    # only Base1 init gets inherited\n",
    "s.disp()  # no problem"
   ]
  },
  {
   "cell_type": "code",
   "execution_count": 182,
   "id": "bb9af0fe-5ce3-4d24-8324-0ae9368036ba",
   "metadata": {},
   "outputs": [
    {
     "name": "stdout",
     "output_type": "stream",
     "text": [
      "Base1 init\n"
     ]
    },
    {
     "ename": "AttributeError",
     "evalue": "'Sub' object has no attribute 'num'",
     "output_type": "error",
     "traceback": [
      "\u001b[1;31m---------------------------------------------------------------------------\u001b[0m",
      "\u001b[1;31mAttributeError\u001b[0m                            Traceback (most recent call last)",
      "Cell \u001b[1;32mIn[182], line 17\u001b[0m\n\u001b[0;32m     14\u001b[0m     \u001b[38;5;28;01mpass\u001b[39;00m\n\u001b[0;32m     16\u001b[0m s\u001b[38;5;241m=\u001b[39mSub()    \u001b[38;5;66;03m# only Base1 init gets inherited\u001b[39;00m\n\u001b[1;32m---> 17\u001b[0m s\u001b[38;5;241m.\u001b[39mdisp()\n",
      "Cell \u001b[1;32mIn[182], line 10\u001b[0m, in \u001b[0;36mBase2.disp\u001b[1;34m(self)\u001b[0m\n\u001b[0;32m      9\u001b[0m \u001b[38;5;28;01mdef\u001b[39;00m \u001b[38;5;21mdisp\u001b[39m(\u001b[38;5;28mself\u001b[39m):\n\u001b[1;32m---> 10\u001b[0m     \u001b[38;5;28mprint\u001b[39m(\u001b[38;5;124m\"\u001b[39m\u001b[38;5;124min disp\u001b[39m\u001b[38;5;130;01m\\t\u001b[39;00m\u001b[38;5;124m\"\u001b[39m,\u001b[38;5;28mself\u001b[39m\u001b[38;5;241m.\u001b[39mnum)\n",
      "\u001b[1;31mAttributeError\u001b[0m: 'Sub' object has no attribute 'num'"
     ]
    }
   ],
   "source": [
    "class Base1:\n",
    "    def __init__(self):\n",
    "        print(\"Base1 init\")\n",
    "\n",
    "class Base2:\n",
    "    def __init__(self,num=6):\n",
    "        self.num=num\n",
    "        print(\"Base2 init\")\n",
    "    def disp(self):\n",
    "        print(\"in disp\\t\",self.num)     #  AttributeError: 'Sub' object has no attribute 'num'\n",
    "        # it's because Base2 __init__ was not called\n",
    "\n",
    "class Sub(Base1,Base2):\n",
    "    pass\n",
    "\n",
    "s=Sub()    # only Base1 init gets inherited\n",
    "s.disp()"
   ]
  },
  {
   "cell_type": "code",
   "execution_count": 184,
   "id": "ca674de6-f482-49aa-9764-017ba36d92d2",
   "metadata": {},
   "outputs": [
    {
     "name": "stdout",
     "output_type": "stream",
     "text": [
      "Base1 class constructor   100\n",
      "Base1 class constructor   200\n",
      "Sub class constructor\n",
      "Base1 disp1\n",
      "Base2 disp2\n",
      "Sub disp3\n"
     ]
    }
   ],
   "source": [
    "# multiple inheritance , constructor invocation\n",
    "\n",
    "class Base1:\n",
    "    def __init__(self,num1):\n",
    "        self.num1=num1\n",
    "        print(\"Base1 class constructor  \",self.num1)\n",
    "    def disp1(self):\n",
    "        print(\"Base1 disp1\")\n",
    "\n",
    "class Base2:\n",
    "    def __init__(self,num2):\n",
    "        self.num2=num2\n",
    "        print(\"Base2 class constructor   \",self.num2)\n",
    "    def disp2(self):\n",
    "        print(\"Base2 disp2\")\n",
    "\n",
    "class Sub(Base1,Base2):\n",
    "    def __init__(self):\n",
    "        super().__init__(100)   # By default Base1 constructor will be invoked\n",
    "        super().__init__(200)    # it's of no use, it will again call Base1 constructor\n",
    "        print(\"Sub class constructor\")\n",
    "    def disp3(self):\n",
    "        print(\"Sub disp3\")\n",
    "\n",
    "\n",
    "s1 = Sub()\n",
    "s1.disp1()\n",
    "s1.disp2()\n",
    "s1.disp3()\n"
   ]
  },
  {
   "cell_type": "code",
   "execution_count": 190,
   "id": "0af04a95-9384-43eb-ab67-5b3063f3c94f",
   "metadata": {},
   "outputs": [
    {
     "name": "stdout",
     "output_type": "stream",
     "text": [
      "Base1 class constructor   100\n",
      "Base2 class constructor    300\n",
      "Sub class constructor\n",
      "Base1 disp1\n",
      "Base2 disp2\n",
      "Sub disp3\n"
     ]
    }
   ],
   "source": [
    "# multiple inheritance , explicitly invoking both the parent class constructors\n",
    "\n",
    "class Base1:\n",
    "    def __init__(self,num1):\n",
    "        self.num1=num1\n",
    "        print(\"Base1 class constructor  \",self.num1)\n",
    "    def disp1(self):\n",
    "        print(\"Base1 disp1\")\n",
    "\n",
    "class Base2:\n",
    "    def __init__(self,num2):\n",
    "        self.num2=num2\n",
    "        print(\"Base2 class constructor   \",self.num2)\n",
    "    def disp2(self):\n",
    "        print(\"Base2 disp2\")\n",
    "\n",
    "class Sub(Base1,Base2):\n",
    "    def __init__(self):\n",
    "       Base1.__init__(self,100)\n",
    "       Base2.__init__(self,300)\n",
    "       print(\"Sub class constructor\")\n",
    "    def disp3(self):\n",
    "        print(\"Sub disp3\")\n",
    "\n",
    "\n",
    "s1 = Sub()\n",
    "s1.disp1()\n",
    "s1.disp2()\n",
    "s1.disp3()\n"
   ]
  },
  {
   "cell_type": "code",
   "execution_count": 192,
   "id": "e84080d7-8ca2-43e9-9f72-49740855b0bb",
   "metadata": {},
   "outputs": [
    {
     "name": "stdout",
     "output_type": "stream",
     "text": [
      "Base1 class constructor   100\n",
      "Base2 class constructor    300\n",
      "Sub class constructor\n",
      "Base2 disp2\n",
      "Sub disp3\n"
     ]
    }
   ],
   "source": [
    "# multiple inheritance , multiple parents have same method name\n",
    "\n",
    "class Base1:\n",
    "    def __init__(self,num1):\n",
    "        self.num1=num1\n",
    "        print(\"Base1 class constructor  \",self.num1)\n",
    "    \n",
    "\n",
    "class Base2:\n",
    "    def __init__(self,num2):\n",
    "        self.num2=num2\n",
    "        print(\"Base2 class constructor   \",self.num2)\n",
    "    def disp2(self):\n",
    "        print(\"Base2 disp2\")\n",
    "\n",
    "class Sub(Base1,Base2):\n",
    "    def __init__(self):\n",
    "       Base1.__init__(self,100)\n",
    "       Base2.__init__(self,300)\n",
    "       print(\"Sub class constructor\")\n",
    "    def disp3(self):\n",
    "        print(\"Sub disp3\")\n",
    "\n",
    "\n",
    "s1 = Sub()\n",
    "s1.disp2()  \n",
    "s1.disp3()\n"
   ]
  },
  {
   "cell_type": "code",
   "execution_count": 194,
   "id": "aa8cdff3-8d99-4d23-8e9f-b2c717370b47",
   "metadata": {},
   "outputs": [
    {
     "name": "stdout",
     "output_type": "stream",
     "text": [
      "Base1 class constructor   100\n",
      "Base2 class constructor    300\n",
      "Sub class constructor\n",
      "Base1 disp2\n",
      "Base2 disp2\n",
      "Sub disp2\n",
      "Sub disp3\n"
     ]
    }
   ],
   "source": [
    "# multiple inheritance , multiple parents have same method name\n",
    "\n",
    "class Base1:\n",
    "    def __init__(self,num1):\n",
    "        self.num1=num1\n",
    "        print(\"Base1 class constructor  \",self.num1)\n",
    "    def disp2(self):\n",
    "        print(\"Base1 disp2\")\n",
    "\n",
    "class Base2:\n",
    "    def __init__(self,num2):\n",
    "        self.num2=num2\n",
    "        print(\"Base2 class constructor   \",self.num2)\n",
    "    def disp2(self):\n",
    "        print(\"Base2 disp2\")\n",
    "\n",
    "class Sub(Base1,Base2):\n",
    "    def __init__(self):\n",
    "       Base1.__init__(self,100)\n",
    "       Base2.__init__(self,300)\n",
    "       print(\"Sub class constructor\")\n",
    "    def disp3(self):\n",
    "        print(\"Sub disp3\")\n",
    "    def disp2(self):\n",
    "        Base1.disp2(self)\n",
    "        Base2.disp2(self)\n",
    "        print(\"Sub disp2\")\n",
    "\n",
    "\n",
    "s1 = Sub()\n",
    "s1.disp2()  \n",
    "s1.disp3()\n",
    "\n",
    "\n"
   ]
  },
  {
   "cell_type": "code",
   "execution_count": 198,
   "id": "381b9e6b-1608-4352-b0a2-760efd4bfe92",
   "metadata": {},
   "outputs": [
    {
     "name": "stdout",
     "output_type": "stream",
     "text": [
      "Base1 class constructor   100\n",
      "Base2 class constructor    300\n",
      "Sub class constructor\n",
      "Base1 class constructor   500\n",
      "Sub disp3\n",
      "500\n"
     ]
    }
   ],
   "source": [
    "# multiple inheritance , explicitly invoking both the parent class constructors\n",
    "\n",
    "class Base1:\n",
    "    def __init__(self,num1):\n",
    "        self.num1=num1\n",
    "        print(\"Base1 class constructor  \",self.num1)\n",
    "    def disp1(self):\n",
    "        print(\"Base1 disp1\")\n",
    "\n",
    "class Base2:\n",
    "    def __init__(self,num2):\n",
    "        self.num2=num2\n",
    "        print(\"Base2 class constructor   \",self.num2)\n",
    "    def disp2(self):\n",
    "        print(\"Base2 disp2\")\n",
    "\n",
    "class Sub:\n",
    "    def __init__(self):\n",
    "       Base1.__init__(self,100)  # even if Base1 and Base2 are not parent classes, we can invoke their constructors\n",
    "       Base2.__init__(self,300)\n",
    "       print(\"Sub class constructor\")\n",
    "    def disp3(self):\n",
    "        Base1.__init__(self,500)  # from here also it's possible\n",
    "        print(\"Sub disp3\")\n",
    "        print(self.num1)\n",
    "\n",
    "\n",
    "s1 = Sub()\n",
    "s1.disp3()\n",
    "\n"
   ]
  },
  {
   "cell_type": "markdown",
   "id": "a81220ee-e6b7-4685-af8a-2a4cb2460e1e",
   "metadata": {},
   "source": [
    "### Hybrid inheritance\n"
   ]
  },
  {
   "cell_type": "code",
   "execution_count": 2,
   "id": "b41667c6-4c37-43ad-af12-6f716538878d",
   "metadata": {},
   "outputs": [
    {
     "name": "stdout",
     "output_type": "stream",
     "text": [
      "GP disp1\n",
      "Parent1 disp2\n",
      "Parent2 disp3\n",
      "Child disp4\n"
     ]
    }
   ],
   "source": [
    "class GP:\n",
    "    def disp1(self):\n",
    "        print(\"GP disp1\")\n",
    "\n",
    "\n",
    "class Parent1(GP):\n",
    "    def disp2(self):\n",
    "        print(\"Parent1 disp2\")\n",
    "\n",
    "\n",
    "class Parent2(GP):\n",
    "    def disp3(self):\n",
    "        print(\"Parent2 disp3\")\n",
    "\n",
    "class Child(Parent1,Parent2):\n",
    "    def disp4(self):\n",
    "        print(\"Child disp4\")\n",
    "\n",
    "c = Child();\n",
    "c.disp1()  # no problem here\n",
    "c.disp2()\n",
    "c.disp3()\n",
    "c.disp4()"
   ]
  },
  {
   "cell_type": "markdown",
   "id": "088cbd71-074c-4f5f-95d2-4a8e77b7c297",
   "metadata": {},
   "source": [
    "In some languages, because of how inheritance is implemented, when you call \"c.disp1()\", \n",
    "it is ambiguous whether you actually want the overridden \"disp1()\" from Parent1, or the one from Parent2.\n",
    "\n",
    "Python doesn't have this problem because of the __Method Resolution Order (MRO)__. \n",
    "Briefly, when you inherit from multiple classes, if their method names conflict, the first one named takes precedence. \n",
    "Since we have specified Child(Parent1,Parent2), Parent1.disp1 is called before Parent2.disp1.\n"
   ]
  },
  {
   "cell_type": "markdown",
   "id": "44fcd998-1a18-4427-9c7e-4c0af118d961",
   "metadata": {},
   "source": [
    "## What is Polymorphism: \n",
    "The word polymorphism means having many forms. In programming, polymorphism means the same function name (but different signatures) being used for different types.\n",
    "\n",
    "In python polymorphism can be achieved using following ways:\n",
    "\n",
    " a) Duck Typing\n",
    " b) Operator overloading\n",
    "c) method overloading\n",
    "d) method overriding\n",
    "\n"
   ]
  },
  {
   "cell_type": "markdown",
   "id": "c7371c3b-cab6-4d2a-996a-9d7516604ac7",
   "metadata": {},
   "source": [
    "### Polymorphism with Inheritance: \n",
    "In Python, Polymorphism lets us define methods in the child class that have the same name as the methods in the parent class. In inheritance, the child class inherits the methods from the parent class. However, it is possible to modify a method in a child class that it has inherited from the parent class. This is particularly useful in cases where the method inherited from the parent class doesn’t quite fit the child class. In such cases, we re-implement the method in the child class. This process of re-implementing a method in the child class is known as Method Overriding. \n"
   ]
  },
  {
   "cell_type": "code",
   "execution_count": 15,
   "id": "afc0e5e8-d95e-4644-9c82-80d9d6e262e9",
   "metadata": {},
   "outputs": [
    {
     "name": "stdout",
     "output_type": "stream",
     "text": [
      "New Delhi is the capital of India\n",
      "Hindi is the most widely spoken language of India\n",
      "India is developing country\n",
      "\n",
      "Washington, D.C. is the capital of USA\n",
      "English is the primary language of USA\n",
      "USA is a developed country\n"
     ]
    }
   ],
   "source": [
    "# Polymorphism with member functions  # Duck Typing\n",
    "\n",
    "class India:\n",
    "    def capital(self):\n",
    "        print(\"New Delhi is the capital of India\")\n",
    "    def language(self):\n",
    "        print(\"Hindi is the most widely spoken language of India\")\n",
    "    def type(self):\n",
    "        print(\"India is developing country\")\n",
    "\n",
    "class USA:\n",
    "    def capital(self):\n",
    "        print(\"\\nWashington, D.C. is the capital of USA\")\n",
    "    def language(self):\n",
    "        print(\"English is the primary language of USA\")\n",
    "    def type(self):\n",
    "        print(\"USA is a developed country\")\n",
    "\n",
    "\n",
    "def perform(obj):\n",
    "    obj.capital()\n",
    "    obj.language()\n",
    "    obj.type()\n",
    "\n",
    "perform(India())\n",
    "perform(USA())"
   ]
  },
  {
   "cell_type": "code",
   "execution_count": 17,
   "id": "9b1b5325-01ec-4ecd-8e4a-59db3766e14c",
   "metadata": {},
   "outputs": [
    {
     "name": "stdout",
     "output_type": "stream",
     "text": [
      "Attack with Gun\n",
      "Attack with Bomb\n",
      "Attack with Sword\n"
     ]
    }
   ],
   "source": [
    "# Polymorphism with inheritance , i.e. using overriding\n",
    "\n",
    "class Weapon:\n",
    "    def attack(self):    # overridden method\n",
    "        pass\n",
    "\n",
    "class Gun(Weapon):\n",
    "    def attack(self):    # overriding method\n",
    "        print(\"Attack with Gun\")\n",
    "\n",
    "\n",
    "class Sword(Weapon):     # overriding method\n",
    "    def attack(self):\n",
    "        print(\"Attack with Sword\")\n",
    "\n",
    "\n",
    "class Bomb(Weapon):\n",
    "    def attack(self):    # overriding method\n",
    "        print(\"Attack with Bomb\")\n",
    "\n",
    "\n",
    "def perform(ref):\n",
    "    ref.attack()\n",
    "\n",
    "\n",
    "perform(Gun())\n",
    "perform(Bomb())\n",
    "perform(Sword())"
   ]
  },
  {
   "cell_type": "code",
   "execution_count": 35,
   "id": "e0c47194-03d6-4315-b40f-5487f7463e3b",
   "metadata": {},
   "outputs": [
    {
     "name": "stdout",
     "output_type": "stream",
     "text": [
      "Attack with Bomb\n",
      "\n",
      "Reloading\n",
      "Attack with Gun\n",
      "\n",
      "Attack with Sword\n"
     ]
    }
   ],
   "source": [
    "# Polymorphism with inheritance , i.e. using overriding\n",
    "# Check if \"ref\" contains \"Sword\" then only invoke \"attack()\"\n",
    "\n",
    "class Weapon:\n",
    "    def attack(self):    # overridden method\n",
    "        pass\n",
    "\n",
    "class Gun(Weapon):\n",
    "    def attack(self):    # overriding method\n",
    "        print(\"Attack with Gun\")\n",
    "    def fillBullets(self):\n",
    "        print(\"\\nReloading\")\n",
    "\n",
    "\n",
    "class Sword(Weapon):     # overriding method\n",
    "    def attack(self):\n",
    "        print(\"\\nAttack with Sword\")\n",
    "\n",
    "\n",
    "class Bomb(Weapon):\n",
    "    def attack(self):    # overriding method\n",
    "        print(\"Attack with Bomb\")\n",
    "\n",
    "\n",
    "def perform(ref):\n",
    "    if isinstance(ref,Gun):\n",
    "        ref.fillBullets()\n",
    "    ref.attack()\n",
    "\n",
    "perform(Bomb())\n",
    "perform(Gun())\n",
    "perform(Sword())"
   ]
  },
  {
   "cell_type": "code",
   "execution_count": null,
   "id": "e2e10697-8427-42fd-af6e-ad1c5d52dc38",
   "metadata": {},
   "outputs": [],
   "source": [
    "# Polymorphism with inheritance , i.e. using overriding\n",
    "\n",
    "class Weapon:\n",
    "    def attack(self):    # overridden method\n",
    "        pass\n",
    "\n",
    "class Gun(Weapon):\n",
    "    def attack(self):    # overriding method\n",
    "        print(\"Attack with Gun\")\n",
    "    def fillbullets(self):\n",
    "        print(\"Fill bullets in the Gun\")\n",
    "\n",
    "\n",
    "\n",
    "class Sword(Weapon):     # overriding method\n",
    "    def attack(self):\n",
    "        print(\"Attack with Sword\")\n",
    "\n",
    "\n",
    "class Bomb(Weapon):\n",
    "    def attack(self):    # overriding method\n",
    "        print(\"Attack with Bomb\")\n",
    "\n",
    "\n",
    "def perform(ref):\n",
    "    ref.fillbullets()   # it will not work when we pass \"Bomb\" or \"Sword\"\n",
    "    ref.attack()\n",
    "\n",
    "\n",
    "perform(Gun())\n",
    "perform(Bomb())  # AttributeError: 'Bomb' object has no attribute 'fillbullets'\n",
    "perform(Sword())  # AttributeError: 'Sword' object has no attribute 'fillbullets'"
   ]
  },
  {
   "cell_type": "markdown",
   "id": "175cc791-de2d-4753-a527-5cdca93f32bb",
   "metadata": {},
   "source": [
    "## When to use abstract class?\n",
    "\n",
    "\n",
    "while designing Parent class, if u realize that there is some functionality compulsorily required in child classes but Parent class is not able to define it. This functionality is a contract or abstract function. Since abstract function can not be declared inside non-abstract class, u have to make class as abstract.\n",
    "\n",
    "abstract class cannot be instantiated.\n",
    "\tbecause abstract class is incomplete i.e. it has at least one contract [abstract method]\n",
    "\n",
    "can abstract class have a constructor?\n",
    "\n",
    "\tyes, it will be invoked from sub class constructor when sub class gets instantiated.\n"
   ]
  },
  {
   "cell_type": "markdown",
   "id": "02d2aba8-5eca-441d-b462-296ee3d35f3e",
   "metadata": {},
   "source": [
    "### How Abstract Base classes work : \n",
    "By default, Python does not provide abstract classes. Python comes with a module (abc) that provides the base for defining Abstract Base classes(ABC). ABC class works by decorating methods of the base class as abstract and then registering concrete classes as implementations of the abstract base. A method becomes abstract when decorated with the keyword @abstractmethod. \n",
    "\n",
    "ABC class itself is not an abstract class. It’s helper class which allows you to create your class as an abstract class.\n",
    "\n",
    "What if your class has got abstract method but not derived from “ABC” ?\n",
    "\tThe class is not considered as an abstract class.\n",
    "\n",
    "What if your class is derived from “ABC” but  doesn’t have any abstract method?\n",
    "\tThe class is not considered as an abstract class.\n"
   ]
  },
  {
   "cell_type": "markdown",
   "id": "1019c046-162b-48d6-b216-af93f4a3a108",
   "metadata": {},
   "source": [
    "##### \"abc\"  is a module\n",
    "#####  \"ABC\" is a class inside \"abc\" module\n",
    "##### \"abstractmethod\" is a function inside \"abc\" module\n"
   ]
  },
  {
   "cell_type": "code",
   "execution_count": 44,
   "id": "d9413174-611f-4d31-9b89-ddd52beac7c0",
   "metadata": {},
   "outputs": [
    {
     "name": "stdout",
     "output_type": "stream",
     "text": [
      "\n",
      "I can walk\n",
      "I can talk\n",
      "I can eat\n",
      "I can sleep\n",
      "Perform teacher's duties\n",
      "\n",
      "I can walk\n",
      "I can talk\n",
      "I can eat\n",
      "I can sleep\n",
      "Perform Soldier's duties\n",
      "\n",
      "I can walk\n",
      "I can talk\n",
      "I can eat\n",
      "I can sleep\n",
      "Perform HouseWife's duties\n"
     ]
    }
   ],
   "source": [
    "from abc import ABC, abstractmethod\n",
    "\n",
    "class Person(ABC):\n",
    "    def walk(self):\n",
    "        print(\"\\nI can walk\")\n",
    "    def talk(self):\n",
    "        print(\"I can talk\")\n",
    "    def eat(self):\n",
    "        print(\"I can eat\")\n",
    "    def sleep(self):\n",
    "        print(\"I can sleep\")\n",
    "    @abstractmethod\n",
    "    def performduties(self):\n",
    "        pass\n",
    "\n",
    "class Teacher(Person):\n",
    "    def performduties(self):\n",
    "        print(\"Perform teacher's duties\")\n",
    "\n",
    "class HouseWife(Person):\n",
    "    def performduties(self):\n",
    "        print(\"Perform HouseWife's duties\")\n",
    "\n",
    "class Soldier(Person):\n",
    "    def performduties(self):\n",
    "        print(\"Perform Soldier's duties\")\n",
    "\n",
    "\n",
    "def perform(ref):\n",
    "    ref.walk()\n",
    "    ref.talk()\n",
    "    ref.eat()\n",
    "    ref.sleep()\n",
    "    ref.performduties()\n",
    "\n",
    "perform(Teacher())\n",
    "perform(Soldier())\n",
    "perform(HouseWife())\n",
    "\n",
    "#ob = Person()   #  TypeError: Can't instantiate abstract class Person with abstract method performduties"
   ]
  },
  {
   "cell_type": "code",
   "execution_count": 48,
   "id": "08414edf-181b-4935-9df5-476aa865da16",
   "metadata": {},
   "outputs": [
    {
     "name": "stdout",
     "output_type": "stream",
     "text": [
      "Perform teacher's duties for Maths\n"
     ]
    }
   ],
   "source": [
    "from abc import ABC, abstractmethod\n",
    "\n",
    "class Person(ABC):\n",
    "    def walk(self):\n",
    "        print(\"I can walk\")\n",
    "    def talk(self):\n",
    "        print(\"I can talk\")\n",
    "    def eat(self):\n",
    "        print(\"I can eat\")\n",
    "    def sleep(self):\n",
    "        print(\"I can sleep\")\n",
    "    @abstractmethod\n",
    "    def performduties(self):\n",
    "        pass\n",
    "\n",
    "class Teacher(Person):\n",
    "    def performduties(self,department): # it's ok if you change the parameter\n",
    "        self.department=department\n",
    "        print(\"Perform teacher's duties for\",self.department)\n",
    "\n",
    "\n",
    "t1=Teacher()\n",
    "t1.performduties(\"Maths\")"
   ]
  },
  {
   "cell_type": "code",
   "execution_count": 50,
   "id": "c6837a81-f74b-4544-99b5-a1acfe6c9910",
   "metadata": {},
   "outputs": [
    {
     "name": "stdout",
     "output_type": "stream",
     "text": [
      "in disp1\n",
      "in disp2\n"
     ]
    }
   ],
   "source": [
    "from abc import ABC,abstractmethod\n",
    "\n",
    "class Parent(ABC):\n",
    "    def disp1(self):\n",
    "        print(\"in disp1\")\n",
    "    def disp2(self):\n",
    "        print(\"in disp2\")\n",
    "\n",
    "p1=Parent()    # No error because the class is not yet an abstract class because there is not a single abstract method\n",
    "p1.disp1()\n",
    "p1.disp2()"
   ]
  },
  {
   "cell_type": "code",
   "execution_count": 52,
   "id": "76aa2799-563d-4551-8e01-7ee5da33e3e1",
   "metadata": {},
   "outputs": [
    {
     "name": "stdout",
     "output_type": "stream",
     "text": [
      "done\n"
     ]
    }
   ],
   "source": [
    "from abc import abstractmethod\n",
    "\n",
    "class Parent:\n",
    "    def disp1(self):\n",
    "        print(\"in disp1\")\n",
    "    def disp2(self):\n",
    "        print(\"in disp2\")\n",
    "    @abstractmethod\n",
    "    def disp3(self):\n",
    "        pass\n",
    "\n",
    "p1=Parent()    # No error , because though we have abstract method in the class, the class is not abstract\n",
    "print(\"done\")"
   ]
  },
  {
   "cell_type": "code",
   "execution_count": 54,
   "id": "4e6d3674-5cf2-4f41-8c67-6e9e96953ffe",
   "metadata": {},
   "outputs": [
    {
     "name": "stdout",
     "output_type": "stream",
     "text": [
      "done\n"
     ]
    }
   ],
   "source": [
    "from abc import abstractmethod\n",
    "\n",
    "class Parent:\n",
    "    def disp1(self):\n",
    "        print(\"in disp1\")\n",
    "    def disp2(self):\n",
    "        print(\"in disp2\")\n",
    "    @abstractmethod\n",
    "    def disp3(self):\n",
    "        pass\n",
    "class Child(Parent):\n",
    "    pass\n",
    "\n",
    "p1=Parent()    # No error , because though we have abstract method in the class, the class is not abstract\n",
    "c1=Child()     # No error \n",
    "print(\"done\")"
   ]
  },
  {
   "cell_type": "code",
   "execution_count": 64,
   "id": "a13f28d2-70de-41fc-a92a-feb2372703a3",
   "metadata": {},
   "outputs": [
    {
     "name": "stdout",
     "output_type": "stream",
     "text": [
      "done\n"
     ]
    }
   ],
   "source": [
    "from abc import ABC,abstractmethod\n",
    "\n",
    "class Parent(ABC):\n",
    "    def disp1(self):\n",
    "        print(\"in disp1\")\n",
    "    def disp2(self):\n",
    "        print(\"in disp2\")\n",
    "    @abstractmethod\n",
    "    def disp3(self):\n",
    "        pass\n",
    "class Child(Parent):\n",
    "    pass\n",
    "\n",
    "# p1=Parent()    # TypeError: Can't instantiate abstract class Parent with abstract method disp3\n",
    "# c1=Child()     # TypeError: Can't instantiate abstract class Child with abstract method disp3 so c1 becomes abstract\n",
    "\n",
    "print(\"done\")\n",
    "\n"
   ]
  },
  {
   "cell_type": "code",
   "execution_count": 60,
   "id": "2fb6eb29-fe39-4bc7-8bc5-b4a557a0165d",
   "metadata": {},
   "outputs": [
    {
     "name": "stdout",
     "output_type": "stream",
     "text": [
      "\n",
      "inside Person default constructor\n",
      "Teacher default constructor\n",
      "I can walk\n",
      "I can talk\n",
      "I can eat\n",
      "I can sleep\n",
      "Perform teacher's duties\n",
      "\n",
      "inside Person default constructor\n",
      "Soldier default constructor\n",
      "I can walk\n",
      "I can talk\n",
      "I can eat\n",
      "I can sleep\n",
      "Perform Soldier's duties\n",
      "\n",
      "inside Person default constructor\n",
      "HouseWife default constructor\n",
      "I can walk\n",
      "I can talk\n",
      "I can eat\n",
      "I can sleep\n",
      "Perform HouseWife's duties\n"
     ]
    }
   ],
   "source": [
    "from abc import ABC, abstractmethod\n",
    "\n",
    "class Person(ABC):\n",
    "    def __init__(self):\n",
    "        print(\"\\ninside Person default constructor\")\n",
    "    def walk(self):\n",
    "        print(\"I can walk\")\n",
    "    def talk(self):\n",
    "        print(\"I can talk\")\n",
    "    def eat(self):\n",
    "        print(\"I can eat\")\n",
    "    def sleep(self):\n",
    "        print(\"I can sleep\")\n",
    "    @abstractmethod\n",
    "    def performduties(self):\n",
    "        pass\n",
    "\n",
    "class Teacher(Person):\n",
    "    def __init__(self):\n",
    "        super().__init__()\n",
    "        print(\"Teacher default constructor\")\n",
    "    def performduties(self):\n",
    "        print(\"Perform teacher's duties\")\n",
    "\n",
    "\n",
    "class HouseWife(Person):\n",
    "    def __init__(self):\n",
    "        super().__init__()\n",
    "        print(\"HouseWife default constructor\")\n",
    "    def performduties(self):\n",
    "        print(\"Perform HouseWife's duties\")\n",
    "\n",
    "\n",
    "class Soldier(Person):\n",
    "    def __init__(self):\n",
    "        super().__init__()\n",
    "        print(\"Soldier default constructor\")\n",
    "    def performduties(self):\n",
    "        print(\"Perform Soldier's duties\")\n",
    "\n",
    "\n",
    "def perform(ref):\n",
    "    ref.walk()\n",
    "    ref.talk()\n",
    "    ref.eat()\n",
    "    ref.sleep()\n",
    "    ref.performduties()\n",
    "\n",
    "\n",
    "perform(Teacher())\n",
    "perform(Soldier())\n",
    "perform(HouseWife())"
   ]
  },
  {
   "cell_type": "code",
   "execution_count": 62,
   "id": "cd32b84c-7290-4a13-8c08-0fce460da9ec",
   "metadata": {},
   "outputs": [
    {
     "name": "stdout",
     "output_type": "stream",
     "text": [
      "in disp1 of Child\n",
      "in disp2 of Child\n"
     ]
    }
   ],
   "source": [
    "# interface in Python\n",
    "\n",
    "from abc import ABC,abstractmethod\n",
    "\n",
    "class MyInterface(ABC):                 #  interface in Python\n",
    "    @abstractmethod\n",
    "    def disp1(self):\n",
    "        pass\n",
    "    @abstractmethod\n",
    "    def disp2(self):\n",
    "        pass\n",
    "class Child(MyInterface):\n",
    "    def disp1(self):\n",
    "        print(\"in disp1 of Child\")\n",
    "    def disp2(self):\n",
    "        print(\"in disp2 of Child\")\n",
    "c1=Child()\n",
    "c1.disp1()\n",
    "c1.disp2()\n"
   ]
  },
  {
   "cell_type": "code",
   "execution_count": 11,
   "id": "0a10f8c5-7069-4915-8995-bc47c2487770",
   "metadata": {},
   "outputs": [
    {
     "name": "stdout",
     "output_type": "stream",
     "text": [
      "p1\n",
      "p2\n",
      "C\n"
     ]
    }
   ],
   "source": [
    "class P1:\n",
    "    def __init__(self):\n",
    "        print('p1')\n",
    "\n",
    "class P2:\n",
    "    def __init__(self):\n",
    "        print('p2')\n",
    "\n",
    "class C(P2,P1):\n",
    "    def __init__(self):\n",
    "        P1.__init__(self)\n",
    "        P2.__init__(self)\n",
    "        print('C')\n",
    "\n",
    "o1 = C()"
   ]
  },
  {
   "cell_type": "code",
   "execution_count": null,
   "id": "51dd53c4-f551-4ae8-b54f-c4cddb7eac82",
   "metadata": {},
   "outputs": [],
   "source": []
  }
 ],
 "metadata": {
  "kernelspec": {
   "display_name": "Python 3 (ipykernel)",
   "language": "python",
   "name": "python3"
  },
  "language_info": {
   "codemirror_mode": {
    "name": "ipython",
    "version": 3
   },
   "file_extension": ".py",
   "mimetype": "text/x-python",
   "name": "python",
   "nbconvert_exporter": "python",
   "pygments_lexer": "ipython3",
   "version": "3.12.4"
  }
 },
 "nbformat": 4,
 "nbformat_minor": 5
}
