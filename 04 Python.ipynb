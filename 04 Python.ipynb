{
 "cells": [
  {
   "cell_type": "markdown",
   "id": "1d485cdf-3355-446d-8b5d-4fb033edc84f",
   "metadata": {},
   "source": [
    "## Namespaces in Python"
   ]
  },
  {
   "cell_type": "markdown",
   "id": "0946a209-5588-40df-8011-6ac94198d34a",
   "metadata": {},
   "source": [
    "Virtually everything that a Python program uses or acts on is an object. Even a short program will create many different objects. In a more complex program, they’ll probably number in the thousands. Python has to keep track of all these objects and their names, and it does so with namespaces."
   ]
  },
  {
   "cell_type": "markdown",
   "id": "919c7a04-0de9-4558-a51a-fc67f1dfc98b",
   "metadata": {},
   "source": [
    "A namespace is a collection of currently defined symbolic names along with information about the object that each name references. You can think of a namespace as a dictionary in which the keys are the object names and the values are the objects themselves. Each key-value pair maps a name to its corresponding object."
   ]
  },
  {
   "cell_type": "markdown",
   "id": "1a059f24-4fe9-41f3-998d-04786b5fc769",
   "metadata": {},
   "source": [
    "In a Python program, there are four types of namespaces:\n",
    " - 1.\tBuilt-In\n",
    " - 2.\tGlobal\n",
    " - 3.\tEnclosing\n",
    " - 4.\tLocal\n"
   ]
  },
  {
   "cell_type": "markdown",
   "id": "f93f1578-61f3-4e27-83ab-b31f9df2d8bf",
   "metadata": {},
   "source": [
    "These have different lifetimes. As Python executes a program, it creates namespaces as necessary and deletes them when they’re no longer needed. Typically, many namespaces will exist at any given time."
   ]
  },
  {
   "cell_type": "markdown",
   "id": "1be3e12a-2892-4003-ab8e-23158164443f",
   "metadata": {},
   "source": [
    "#### The Built-In Namespace\n",
    "The built-in namespace contains the names of all of Python’s built-in objects. These are available at all times when Python is running. You can list the objects in the built-in namespace with the following command:\n"
   ]
  },
  {
   "cell_type": "code",
   "execution_count": null,
   "id": "da19b542-f326-4045-bd09-1f460d8470a3",
   "metadata": {},
   "outputs": [],
   "source": [
    "dir(__builtins__)"
   ]
  },
  {
   "cell_type": "markdown",
   "id": "cdf0b5a1-6350-4219-ba87-2817a62acb21",
   "metadata": {},
   "source": [
    "The Python interpreter creates the built-in namespace when it starts up. This namespace remains in existence until the interpreter terminates."
   ]
  },
  {
   "cell_type": "markdown",
   "id": "0b7909f3-57bd-48e2-9180-c113be12a851",
   "metadata": {},
   "source": [
    "#### The Global Namespace\n",
    "The global namespace contains any names defined at the level of the main program. Python creates the global namespace when the main program body starts, and it remains in existence until the interpreter terminates.\n",
    "\n",
    "\n",
    "Strictly speaking, this may not be the only global namespace that exists. The interpreter also creates a global namespace for any module that your program loads with the import statement.\n"
   ]
  },
  {
   "cell_type": "markdown",
   "id": "f7e6b1a1-17af-492d-a92f-ecc4eff4c32d",
   "metadata": {},
   "source": [
    "##### The globals() function\n",
    "The built-in function globals() returns a reference to the current global namespace dictionary. You can use it to access the objects in the global namespace.\n"
   ]
  },
  {
   "cell_type": "code",
   "execution_count": null,
   "id": "5b588e98-8955-4753-952a-c62967dc7729",
   "metadata": {},
   "outputs": [],
   "source": [
    "globals()"
   ]
  },
  {
   "cell_type": "markdown",
   "id": "89a689e8-38a4-493d-b3df-7d8bbb3baff1",
   "metadata": {},
   "source": [
    "##### The locals() function\n",
    "Python also provides a corresponding built-in function called locals(). It’s similar to globals() but accesses objects in the local namespace instead.\n"
   ]
  },
  {
   "cell_type": "markdown",
   "id": "a0c9424a-b9cd-46f2-92ea-61830719244f",
   "metadata": {},
   "source": [
    "e.g. if your code refers to the name x, then Python searches for x in the following namespaces in the order shown:\n",
    "1.  Local: If you refer to x inside a function, then the interpreter first searches for it in the innermost scope that’s local to that function.\n",
    "2.  Enclosing: If x isn’t in the local scope but appears in a function that resides inside another function, then the interpreter searches in the enclosing function’s scope.\n",
    "3.  Global: If neither of the above searches is fruitful, then the interpreter looks in the global scope next.\n",
    "4.  Built-in: If it can’t find x anywhere else, then the interpreter tries the built-in scope.\n",
    "\n",
    "\n",
    "This is called as the LEGB rule . The interpreter searches for a name from the inside out, looking in the local, enclosing, global, and finally the built-in scope.\n",
    "\n",
    "If the interpreter doesn’t find the name in any of these locations, then Python raises a NameError exception."
   ]
  },
  {
   "cell_type": "code",
   "execution_count": null,
   "id": "b0dfdb21-e6ed-4152-a480-ad2b46fd54c3",
   "metadata": {},
   "outputs": [],
   "source": [
    "print(dir(__builtins__))        #   built-in namespace\n",
    "print(\"\\n\\n\")\n",
    "print(\"Type of builtins namespace is\\t\",type(__builtins__))\n",
    "\n",
    "k=100\n",
    "def disp():\n",
    "    def inner():\n",
    "        print(\"inside inner\")\n",
    "    var=40\n",
    "    print(\"hello\")\n",
    "    print(locals())\n",
    "    print(\"\\n\")\n",
    "    print(\"Type of local namespace is\\t\",locals())\n",
    "\n",
    "num1=200\n",
    "print(\"\\n\\n\\n\")\n",
    "print(globals())\n",
    "print(\"\\n\\n\")\n",
    "print(\"Type of global namespace is\\t\",globals())\n",
    "print(\"\\n\\n\")\n",
    "disp()\n"
   ]
  },
  {
   "cell_type": "code",
   "execution_count": null,
   "id": "a42b4e5d-97ef-4b81-81cc-ab667c687bc6",
   "metadata": {},
   "outputs": [],
   "source": [
    "globals()"
   ]
  },
  {
   "cell_type": "code",
   "execution_count": 33,
   "id": "58a5e5c0-2287-4029-b5df-c6a2c8041175",
   "metadata": {},
   "outputs": [
    {
     "name": "stdout",
     "output_type": "stream",
     "text": [
      "100\n"
     ]
    }
   ],
   "source": [
    "k = 100\n",
    "def disp():\n",
    "    k = 30\n",
    "    def inner():\n",
    "        global k\n",
    "        print(k)\n",
    "    return inner\n",
    "\n",
    "disp()()"
   ]
  },
  {
   "cell_type": "code",
   "execution_count": 41,
   "id": "c7e96511-bb60-4fae-b21f-e2d4d4c2c69e",
   "metadata": {},
   "outputs": [
    {
     "name": "stdout",
     "output_type": "stream",
     "text": [
      "30\n"
     ]
    }
   ],
   "source": [
    "k = 100\n",
    "def disp():\n",
    "    k = 30\n",
    "    def inner():  #k is also inner for inner\n",
    "        print(k)\n",
    "    return inner\n",
    "\n",
    "disp()()"
   ]
  },
  {
   "cell_type": "markdown",
   "id": "969cbc6a-b207-4f7b-9908-595a65595b79",
   "metadata": {},
   "source": [
    "## Module, Package and Library"
   ]
  },
  {
   "cell_type": "markdown",
   "id": "df6f7810-2b3a-4c2d-b072-280eb17bbb63",
   "metadata": {},
   "source": [
    "- module .py file\n",
    "- package collection of .py files\n",
    "- library collection of package"
   ]
  },
  {
   "cell_type": "markdown",
   "id": "ed980a43-a747-4af6-9d58-1d18dd407349",
   "metadata": {},
   "source": [
    "script:  A script is a python file that is intended to be run directly. If you run it , it should do something. This means that scripts contain code which invokes the functions, create objects of classes and invoke their member functions.\n",
    "\n",
    "module: A module is a python file that is intended to be imported into other scripts. It consists of classes,functions and variables to be used in other files.\n",
    "\n",
    "package: It's a collection of related modules that work together to provide certain functionality. Actually package is a folder in which there are many python files exist. One of the files is \"___init___.py\" which proves that the folder is a package. \n",
    "\n",
    "library: It's a collection of Python packages. \n",
    "\n"
   ]
  },
  {
   "cell_type": "markdown",
   "id": "3cd65e18-689c-4854-804c-d96bab438f9d",
   "metadata": {},
   "source": [
    "when a module is imported it runs so if there are in statements they are executed"
   ]
  },
  {
   "cell_type": "markdown",
   "id": "cf117d77-b60c-4fea-98c1-cac32598bfb6",
   "metadata": {},
   "source": [
    "### __name__\n",
    "Every Python module has it’s _name_ defined and if this is ‘_main_’, it implies that the module is being run standalone by the user and we can do corresponding appropriate actions.\n",
    "If you import this script as a module in another script, the _name_ is set to the name of the script/module.\n",
    "Python files can act as either reusable modules, or as standalone programs.\n",
    "if _name_ == “main”: is used to execute some code only if the file was run directly, and not imported."
   ]
  },
  {
   "cell_type": "code",
   "execution_count": 55,
   "id": "98e68149-c4de-4afa-88a5-25cc7cbe2a1a",
   "metadata": {},
   "outputs": [
    {
     "name": "stdout",
     "output_type": "stream",
     "text": [
      "Windows-11-10.0.22631-SP0\n"
     ]
    }
   ],
   "source": [
    "\n",
    "# platform is an in built module in python\n",
    "\n",
    "#import platform\n",
    "\n",
    "#print(platform.platform())\n",
    "\n",
    "from platform import platform\n",
    "print(platform())\n",
    "\n"
   ]
  },
  {
   "cell_type": "code",
   "execution_count": 65,
   "id": "2f0dae99-79a3-4194-b7f6-b8e0240881e6",
   "metadata": {},
   "outputs": [
    {
     "name": "stdin",
     "output_type": "stream",
     "text": [
      "enter your name priyank\n",
      "enter your age 22\n"
     ]
    },
    {
     "name": "stdout",
     "output_type": "stream",
     "text": [
      "Name is priyank and Age is 22\n",
      "This program took\t -0.4404776096343994 \tseconds\n"
     ]
    }
   ],
   "source": [
    "import time\n",
    "i=0\n",
    "start=time.time()\n",
    "name=input(\"enter your name\")\n",
    "age=int(input(\"enter your age\"))\n",
    "message=\"Name is {} and Age is {}\"\n",
    "print(message.format(name,age))\n",
    "print(\"This program took\\t\",(time.time()-start)-3,\"\\tseconds\")"
   ]
  },
  {
   "cell_type": "markdown",
   "id": "bd6f2461-2325-4829-892f-06fa6a3a8c64",
   "metadata": {},
   "source": [
    "## String format\n",
    "Python string format() function has been introduced for handling complex string formatting more efficiently. Sometimes we want to make generalized print statements in that case instead of writing print statement every time we use the concept of formatting."
   ]
  },
  {
   "cell_type": "code",
   "execution_count": 68,
   "id": "b537b01a-a0f4-4308-b263-45b61e081919",
   "metadata": {},
   "outputs": [
    {
     "name": "stdin",
     "output_type": "stream",
     "text": [
      "what is your age? 22\n"
     ]
    },
    {
     "name": "stdout",
     "output_type": "stream",
     "text": [
      "Hello , I am 22 years old\n"
     ]
    },
    {
     "name": "stdin",
     "output_type": "stream",
     "text": [
      "Enter your name Priyank\n"
     ]
    },
    {
     "name": "stdout",
     "output_type": "stream",
     "text": [
      "My name is Priyank\n"
     ]
    }
   ],
   "source": [
    "age=int(input(\"what is your age?\"))\n",
    "print(\"Hello , I am {} years old\".format(age))\n",
    "\n",
    "message=\"My name is {}\"\n",
    "name=input(\"Enter your name\")\n",
    "print(message.format(name))"
   ]
  },
  {
   "cell_type": "code",
   "execution_count": 78,
   "id": "1b0df1fe-b04f-4846-8ee2-2360f6b36dd0",
   "metadata": {},
   "outputs": [
    {
     "data": {
      "text/plain": [
       "'My name is Priyank, I am 22 years old'"
      ]
     },
     "execution_count": 78,
     "metadata": {},
     "output_type": "execute_result"
    }
   ],
   "source": [
    "str = 'My name is {}, I am {} years old'.format('Priyank',22)\n",
    "str"
   ]
  },
  {
   "cell_type": "markdown",
   "id": "7fa5d073-6e11-465a-b1f3-4a71c811fe53",
   "metadata": {},
   "source": [
    "#### f-strings \n",
    "are string literals that have an f at the beginning and curly braces containing expressions that will be replaced with their values."
   ]
  },
  {
   "cell_type": "code",
   "execution_count": 99,
   "id": "4598704f-aac0-4cdf-afb5-ce31a04e295b",
   "metadata": {},
   "outputs": [
    {
     "data": {
      "text/plain": [
       "'My name is Priyank, I am 22 years old'"
      ]
     },
     "execution_count": 99,
     "metadata": {},
     "output_type": "execute_result"
    }
   ],
   "source": [
    "age=22\n",
    "name='Priyank' \n",
    "str = f'My name is {name}, I am {age} years old'\n",
    "str"
   ]
  },
  {
   "cell_type": "markdown",
   "id": "f3b9ef01-a1ed-469a-a21d-5b8abcd1cf1d",
   "metadata": {},
   "source": [
    "#### help() function \n",
    "It is used to display the documentation of modules,functions, classes, keywords etc.\n",
    "\n"
   ]
  },
  {
   "cell_type": "code",
   "execution_count": null,
   "id": "bcd4c060-4c21-4d83-bd37-6cc68a311fac",
   "metadata": {},
   "outputs": [],
   "source": [
    "print(\"hello\")\n",
    "help(print)\n",
    "help(int)\n",
    "help(object)"
   ]
  },
  {
   "cell_type": "markdown",
   "id": "09684ebc-f3cf-43ec-aa90-0aeec10118e5",
   "metadata": {},
   "source": [
    "#### Python Comments vs Docstrings\n",
    "Python Comments\n",
    "\n",
    "Comments are descriptions that help programmers better understand the intent and functionality of the program. They are completely ignored by the Python interpreter.\n",
    "\n",
    "\n",
    "Python docstrings\n",
    "\n",
    "Python docstrings are strings used right after the definition of a function, method, class, or module. They are used to document our code.\n",
    "\n",
    "Python __doc__ attribute\n",
    "\n",
    "Whenever string literals are present just after the definition of a function, module, class or method, they are associated with the object as their __doc__ attribute. We can later use this attribute to retrieve this docstring."
   ]
  },
  {
   "cell_type": "code",
   "execution_count": 124,
   "id": "d221e204-b818-4c8f-9956-0ef177c0d4d8",
   "metadata": {},
   "outputs": [
    {
     "name": "stdout",
     "output_type": "stream",
     "text": [
      "100\n",
      " this function accepts a number and return its square \n"
     ]
    }
   ],
   "source": [
    "# creating and accessing \"docstring\" for user defined functions\n",
    "\n",
    "def square(num):\n",
    "    ''' this function accepts a number and return its square '''\n",
    "    return num*num\n",
    "\n",
    "print(square(10))\n",
    "print(square.__doc__)"
   ]
  },
  {
   "cell_type": "code",
   "execution_count": 132,
   "id": "2e2ebedc-5118-4939-8cc2-1c34abbf28b0",
   "metadata": {},
   "outputs": [
    {
     "name": "stdout",
     "output_type": "stream",
     "text": [
      "Prints the values to a stream, or to sys.stdout by default.\n",
      "\n",
      "  sep\n",
      "    string inserted between values, default a space.\n",
      "  end\n",
      "    string appended after the last value, default a newline.\n",
      "  file\n",
      "    a file-like object (stream); defaults to the current sys.stdout.\n",
      "  flush\n",
      "    whether to forcibly flush the stream.\n",
      "int([x]) -> integer\n",
      "int(x, base=10) -> integer\n",
      "\n",
      "Convert a number or string to an integer, or return 0 if no arguments\n",
      "are given.  If x is a number, return x.__int__().  For floating point\n",
      "numbers, this truncates towards zero.\n",
      "\n",
      "If x is not a number or if base is given, then x must be a string,\n",
      "bytes, or bytearray instance representing an integer literal in the\n",
      "given base.  The literal can be preceded by '+' or '-' and be surrounded\n",
      "by whitespace.  The base defaults to 10.  Valid bases are 0 and 2-36.\n",
      "Base 0 means to interpret the base from the string as an integer literal.\n",
      ">>> int('0b100', base=0)\n",
      "4\n"
     ]
    }
   ],
   "source": [
    "# invoking \"docstring\"  of inbuilt functions\n",
    "\n",
    "print(print.__doc__)\n",
    "print(int.__doc__)"
   ]
  },
  {
   "cell_type": "code",
   "execution_count": 134,
   "id": "d65656e3-b28e-4fde-a840-a32c9488a8fd",
   "metadata": {},
   "outputs": [
    {
     "name": "stdout",
     "output_type": "stream",
     "text": [
      "Hello\n",
      " \n",
      "    this is myfun \n",
      "    it prints hello message\n",
      "    it is a special function\n",
      "    \n"
     ]
    }
   ],
   "source": [
    "# creating and accessing multiline docstring\n",
    "\n",
    "\n",
    "def myfun():\n",
    "    \"\"\" \n",
    "    this is myfun \n",
    "    it prints hello message\n",
    "    it is a special function\n",
    "    \"\"\"\n",
    "    print(\"Hello\")\n",
    "\n",
    "myfun()\n",
    "print(myfun.__doc__)"
   ]
  },
  {
   "cell_type": "code",
   "execution_count": 138,
   "id": "dd467ee4-e794-479e-9121-70ef987a4d07",
   "metadata": {},
   "outputs": [
    {
     "name": "stdout",
     "output_type": "stream",
     "text": [
      "Help on built-in function print in module builtins:\n",
      "\n",
      "print(*args, sep=' ', end='\\n', file=None, flush=False)\n",
      "    Prints the values to a stream, or to sys.stdout by default.\n",
      "\n",
      "    sep\n",
      "      string inserted between values, default a space.\n",
      "    end\n",
      "      string appended after the last value, default a newline.\n",
      "    file\n",
      "      a file-like object (stream); defaults to the current sys.stdout.\n",
      "    flush\n",
      "      whether to forcibly flush the stream.\n",
      "\n"
     ]
    }
   ],
   "source": [
    "help(print)"
   ]
  },
  {
   "cell_type": "code",
   "execution_count": 142,
   "id": "89ab2358-f064-4f2c-aa52-b254d6bba126",
   "metadata": {},
   "outputs": [
    {
     "name": "stdout",
     "output_type": "stream",
     "text": [
      "Prints the values to a stream, or to sys.stdout by default.\n",
      "\n",
      "  sep\n",
      "    string inserted between values, default a space.\n",
      "  end\n",
      "    string appended after the last value, default a newline.\n",
      "  file\n",
      "    a file-like object (stream); defaults to the current sys.stdout.\n",
      "  flush\n",
      "    whether to forcibly flush the stream.\n"
     ]
    }
   ],
   "source": [
    "print(print.__doc__)"
   ]
  },
  {
   "cell_type": "markdown",
   "id": "24a7673f-7612-43c7-87a9-7babb26bed64",
   "metadata": {},
   "source": [
    "## Lambda function\n",
    "Anonymous functions are also called lambda functions in Python because instead of declaring them with the standard def keyword, you use the lambda keyword.\n",
    "\n",
    "A lambda function is a small anonymous function.\n",
    "\n",
    "A lambda function can take any number of arguments, but can only have one expression.\n",
    "\n",
    "Syntax\n",
    "lambda arguments : expression\n",
    "\n",
    "The expression is executed and the result is returned:"
   ]
  },
  {
   "cell_type": "markdown",
   "id": "dd08c05a-3456-482d-9d42-6dae681d6c2a",
   "metadata": {},
   "source": [
    "The main role of the lambda function is better described in the scenarios when we use them anonymously inside another function. In Python, the lambda function can be used as an argument to the higher-order functions which accepts other functions as arguments.  "
   ]
  },
  {
   "cell_type": "code",
   "execution_count": 6,
   "id": "9acbec4f-2dce-4d96-99ed-1402356d9a89",
   "metadata": {},
   "outputs": [
    {
     "name": "stdout",
     "output_type": "stream",
     "text": [
      "add is the reference to the object of type\t <class 'function'>\n",
      "address of the object where add refers to is\t 1909836786048\n",
      "11\n"
     ]
    }
   ],
   "source": [
    "add=lambda x,y:x+y\n",
    "print(\"add is the reference to the object of type\\t\",type(add))\n",
    "print(\"address of the object where add refers to is\\t\", id(add))\n",
    "print(add(5,6))"
   ]
  },
  {
   "cell_type": "code",
   "execution_count": 14,
   "id": "5ae911d1-4b00-471e-83ea-78554ecba265",
   "metadata": {},
   "outputs": [
    {
     "name": "stdout",
     "output_type": "stream",
     "text": [
      "72\n"
     ]
    }
   ],
   "source": [
    "multiply=lambda x,y:x*y\n",
    "print(multiply(9,8))"
   ]
  },
  {
   "cell_type": "code",
   "execution_count": 16,
   "id": "3eb766b2-f7c7-48b6-95ae-7d57a5d6d2cc",
   "metadata": {},
   "outputs": [
    {
     "name": "stdout",
     "output_type": "stream",
     "text": [
      "welcome\n"
     ]
    }
   ],
   "source": [
    "disp=lambda:print(\"welcome\")\n",
    "disp()"
   ]
  },
  {
   "cell_type": "code",
   "execution_count": 20,
   "id": "ee597276-135a-49e2-8900-5ef16e0d808d",
   "metadata": {},
   "outputs": [
    {
     "name": "stdout",
     "output_type": "stream",
     "text": [
      "welcome\n",
      "hi\n",
      "Good Bye\n"
     ]
    },
    {
     "data": {
      "text/plain": [
       "[None, None, None]"
      ]
     },
     "execution_count": 20,
     "metadata": {},
     "output_type": "execute_result"
    }
   ],
   "source": [
    "disp=lambda:[print(\"welcome\"),print(\"hi\"),print(\"Good Bye\")]\n",
    "disp()"
   ]
  },
  {
   "cell_type": "code",
   "execution_count": 22,
   "id": "85a8de79-2b53-43ea-82c5-ec6bd6a6a5e1",
   "metadata": {},
   "outputs": [
    {
     "name": "stdout",
     "output_type": "stream",
     "text": [
      "Welcome to lambda world\n",
      "100\n"
     ]
    }
   ],
   "source": [
    "# no need to collect lambda in any variable\n",
    "\n",
    "(lambda:print(\"Welcome to lambda world\"))()\n",
    "\n",
    "\n",
    "print((lambda x: x*x)(10))"
   ]
  },
  {
   "cell_type": "code",
   "execution_count": 30,
   "id": "324ac9ab-456a-4008-b416-64d6592b73bd",
   "metadata": {},
   "outputs": [
    {
     "data": {
      "text/plain": [
       "15"
      ]
     },
     "execution_count": 30,
     "metadata": {},
     "output_type": "execute_result"
    }
   ],
   "source": [
    "(lambda x,y:x+y)(6,9)"
   ]
  },
  {
   "cell_type": "code",
   "execution_count": 32,
   "id": "dfc1f415-afdb-46a6-a70d-1484d80db3ea",
   "metadata": {},
   "outputs": [
    {
     "name": "stdout",
     "output_type": "stream",
     "text": [
      "welcome to lambda world\n",
      "this is another lambda\n"
     ]
    }
   ],
   "source": [
    "# passing lambda as an argument\n",
    "\n",
    "def myfun(fun):\n",
    "    fun()\n",
    "temp=lambda:print(\"welcome to lambda world\")\n",
    "myfun(temp)\n",
    "\n",
    "myfun(lambda:print(\"this is another lambda\"))"
   ]
  },
  {
   "cell_type": "code",
   "execution_count": 34,
   "id": "57d9923a-d2ae-4b1c-861f-af3e81289e3c",
   "metadata": {},
   "outputs": [
    {
     "name": "stdout",
     "output_type": "stream",
     "text": [
      "1\n",
      "2\n",
      "3\n",
      "4\n",
      "5\n",
      "6\n"
     ]
    }
   ],
   "source": [
    "def myfun(fun,num):\n",
    "    fun(num)\n",
    "disp=lambda x: [print(i) for i in range(1,x)]\n",
    "\n",
    "myfun(disp,7)"
   ]
  },
  {
   "cell_type": "code",
   "execution_count": 36,
   "id": "f119dc5c-ce28-4987-b3e5-11f16c4004d6",
   "metadata": {},
   "outputs": [
    {
     "name": "stdout",
     "output_type": "stream",
     "text": [
      "1\n",
      "2\n",
      "3\n",
      "4\n",
      "5\n"
     ]
    },
    {
     "data": {
      "text/plain": [
       "[None, None, None, None, None]"
      ]
     },
     "execution_count": 36,
     "metadata": {},
     "output_type": "execute_result"
    }
   ],
   "source": [
    "multiple=lambda *arg:[print(i) for i in arg]\n",
    "multiple(1,2,3,4,5)"
   ]
  },
  {
   "cell_type": "code",
   "execution_count": 38,
   "id": "42179d39-c115-4f6a-ac39-d407ec5c8e54",
   "metadata": {},
   "outputs": [
    {
     "name": "stdout",
     "output_type": "stream",
     "text": [
      "name Abc\n",
      "age 34\n",
      "rollno 1\n",
      "address Mumbai\n"
     ]
    },
    {
     "data": {
      "text/plain": [
       "[None, None, None, None]"
      ]
     },
     "execution_count": 38,
     "metadata": {},
     "output_type": "execute_result"
    }
   ],
   "source": [
    "multiple1=lambda **arg:[print(i,j) for i,j in arg.items()]\n",
    "\n",
    "multiple1(name=\"Abc\",age=34,rollno=1,address=\"Mumbai\")"
   ]
  },
  {
   "cell_type": "code",
   "execution_count": 40,
   "id": "d3337111-0fee-4824-8920-b852be04bd90",
   "metadata": {},
   "outputs": [
    {
     "name": "stdout",
     "output_type": "stream",
     "text": [
      "no arg passed to lambda\n",
      "300\n",
      "500\n",
      "600\n"
     ]
    },
    {
     "data": {
      "text/plain": [
       "[[None, None]]"
      ]
     },
     "execution_count": 40,
     "metadata": {},
     "output_type": "execute_result"
    }
   ],
   "source": [
    "temp1=lambda *x:[print(\"no arg passed to lambda\") if(len(x)==0)  else [print(i) for i in x ]]\n",
    "temp1()\n",
    "temp1(300)\n",
    "temp1(500,600)"
   ]
  },
  {
   "cell_type": "code",
   "execution_count": 42,
   "id": "c1e76f22-2973-469b-b247-f372162e5f25",
   "metadata": {},
   "outputs": [
    {
     "name": "stdout",
     "output_type": "stream",
     "text": [
      "20\n"
     ]
    }
   ],
   "source": [
    "min = lambda a, b : a if(a < b) else b\n",
    "print(min(100, 20))"
   ]
  },
  {
   "cell_type": "code",
   "execution_count": 44,
   "id": "0faaaa4b-1a4e-4936-94ac-3eb735c19345",
   "metadata": {},
   "outputs": [
    {
     "name": "stdout",
     "output_type": "stream",
     "text": [
      "10\n"
     ]
    }
   ],
   "source": [
    "min1 = (lambda a, b : a if(a < b) else b)(10,20)\n",
    "print(min1)"
   ]
  },
  {
   "cell_type": "code",
   "execution_count": 46,
   "id": "c792253a-45e2-4ff2-b6de-54568cea8378",
   "metadata": {},
   "outputs": [
    {
     "name": "stdout",
     "output_type": "stream",
     "text": [
      "{'name': 'Priyank', 'age': 22}\n"
     ]
    }
   ],
   "source": [
    "f = lambda **arg:print(arg)\n",
    "\n",
    "f(name='Priyank',age=22)"
   ]
  },
  {
   "cell_type": "code",
   "execution_count": 50,
   "id": "5c9a3c27-e697-42cb-a638-40a1cf7dd2a8",
   "metadata": {},
   "outputs": [
    {
     "name": "stdout",
     "output_type": "stream",
     "text": [
      "In Lambda\n",
      "3\n"
     ]
    },
    {
     "data": {
      "text/plain": [
       "[None, None]"
      ]
     },
     "execution_count": 50,
     "metadata": {},
     "output_type": "execute_result"
    }
   ],
   "source": [
    "#calling another function in a function using lambda\n",
    "\n",
    "def disp(num):\n",
    "    print(num)\n",
    "\n",
    "func = lambda f,num:[print('In Lambda'),f(num)]\n",
    "\n",
    "func(disp,3)"
   ]
  },
  {
   "cell_type": "code",
   "execution_count": 3,
   "id": "10fe9a25-945b-4879-be05-1430d51c1e9f",
   "metadata": {},
   "outputs": [
    {
     "ename": "TypeError",
     "evalue": "set.add() takes exactly one argument (3 given)",
     "output_type": "error",
     "traceback": [
      "\u001b[1;31m---------------------------------------------------------------------------\u001b[0m",
      "\u001b[1;31mTypeError\u001b[0m                                 Traceback (most recent call last)",
      "Cell \u001b[1;32mIn[3], line 2\u001b[0m\n\u001b[0;32m      1\u001b[0m s \u001b[38;5;241m=\u001b[39m \u001b[38;5;28mset\u001b[39m()\n\u001b[1;32m----> 2\u001b[0m s\u001b[38;5;241m.\u001b[39madd(\u001b[38;5;241m3\u001b[39m,\u001b[38;5;241m3\u001b[39m,\u001b[38;5;241m3\u001b[39m)\n\u001b[0;32m      3\u001b[0m s\n",
      "\u001b[1;31mTypeError\u001b[0m: set.add() takes exactly one argument (3 given)"
     ]
    }
   ],
   "source": [
    "s = set()\n",
    "s.add(3)\n",
    "s"
   ]
  },
  {
   "cell_type": "code",
   "execution_count": null,
   "id": "2d3b4588-1c8d-4d9e-ab4e-82947bf03af1",
   "metadata": {},
   "outputs": [],
   "source": []
  }
 ],
 "metadata": {
  "kernelspec": {
   "display_name": "Python 3 (ipykernel)",
   "language": "python",
   "name": "python3"
  },
  "language_info": {
   "codemirror_mode": {
    "name": "ipython",
    "version": 3
   },
   "file_extension": ".py",
   "mimetype": "text/x-python",
   "name": "python",
   "nbconvert_exporter": "python",
   "pygments_lexer": "ipython3",
   "version": "3.12.4"
  }
 },
 "nbformat": 4,
 "nbformat_minor": 5
}
